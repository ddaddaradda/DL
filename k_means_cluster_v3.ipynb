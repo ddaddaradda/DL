{
  "nbformat": 4,
  "nbformat_minor": 0,
  "metadata": {
    "colab": {
      "name": "k-means_cluster_v3.ipynb",
      "provenance": [],
      "collapsed_sections": [],
      "machine_shape": "hm",
      "toc_visible": true,
      "authorship_tag": "ABX9TyOQ5w2gXfAGx8qjM9/PEv3L",
      "include_colab_link": true
    },
    "kernelspec": {
      "name": "python3",
      "display_name": "Python 3"
    },
    "language_info": {
      "name": "python"
    },
    "accelerator": "GPU"
  },
  "cells": [
    {
      "cell_type": "markdown",
      "metadata": {
        "id": "view-in-github",
        "colab_type": "text"
      },
      "source": [
        "<a href=\"https://colab.research.google.com/github/ddaddaradda/DL/blob/main/k_means_cluster_v3.ipynb\" target=\"_parent\"><img src=\"https://colab.research.google.com/assets/colab-badge.svg\" alt=\"Open In Colab\"/></a>"
      ]
    },
    {
      "cell_type": "markdown",
      "source": [
        "# 데이터 로드"
      ],
      "metadata": {
        "id": "nQqm-Y33DkvO"
      }
    },
    {
      "cell_type": "code",
      "execution_count": null,
      "metadata": {
        "id": "bUfgoS5ICwwy"
      },
      "outputs": [],
      "source": [
        "import numpy as np\n",
        "import matplotlib.pyplot as plt\n",
        "import pandas as pd\n",
        "\n",
        "\n",
        "from yellowbrick.cluster import KElbowVisualizer\n",
        "from yellowbrick.cluster import silhouette_visualizer"
      ]
    },
    {
      "cell_type": "code",
      "source": [
        "from google.colab import drive\n",
        "drive.mount('/content/drive')"
      ],
      "metadata": {
        "colab": {
          "base_uri": "https://localhost:8080/"
        },
        "id": "45jfZlXTC8cL",
        "outputId": "189c6879-9bb1-498a-d680-e0d51e5d3fc5"
      },
      "execution_count": null,
      "outputs": [
        {
          "output_type": "stream",
          "name": "stdout",
          "text": [
            "Mounted at /content/drive\n"
          ]
        }
      ]
    },
    {
      "cell_type": "code",
      "source": [
        "import pickle\n",
        "with open('/content/drive/MyDrive/tmp/별떠라가자_공유폴더/AI파트/데이터/벡터/vector_dict_0421.pkl','rb') as f:\n",
        "  mydict = pickle.load(f)\n"
      ],
      "metadata": {
        "id": "6Zah-jUlRDeR"
      },
      "execution_count": null,
      "outputs": []
    },
    {
      "cell_type": "code",
      "source": [
        "id_list = list(mydict.keys())[:-4]\n",
        "id_list\n"
      ],
      "metadata": {
        "colab": {
          "base_uri": "https://localhost:8080/"
        },
        "id": "RK7__88rRcEY",
        "outputId": "1ac1519c-2514-4e9b-85d1-7f250950adc3"
      },
      "execution_count": null,
      "outputs": [
        {
          "output_type": "execute_result",
          "data": {
            "text/plain": [
              "['D788034C',\n",
              " '1DBEBE62',\n",
              " 'B95FBB89',\n",
              " '483AA738',\n",
              " 'A77E8CE3',\n",
              " '912BB33B',\n",
              " '88826FAB',\n",
              " 'F0A475A1',\n",
              " 'DB7B0571',\n",
              " '4E34891D',\n",
              " '570AA81D',\n",
              " '649508BF',\n",
              " '8C7E7A17',\n",
              " 'D30C299A',\n",
              " '8E640374',\n",
              " 'F0A475A1_2',\n",
              " '9EECBC9A',\n",
              " 'A50AF373',\n",
              " 'F257DB06']"
            ]
          },
          "metadata": {},
          "execution_count": 4
        }
      ]
    },
    {
      "cell_type": "code",
      "source": [
        "df = mydict['F257DB06']\n",
        "df.columns = ['DATE','0','1','2','3','4','5','6','7']\n",
        "df"
      ],
      "metadata": {
        "colab": {
          "base_uri": "https://localhost:8080/",
          "height": 423
        },
        "id": "pjVxmW7ARhDy",
        "outputId": "4484d923-6f7d-4c2f-929b-28cec567dc9a"
      },
      "execution_count": null,
      "outputs": [
        {
          "output_type": "execute_result",
          "data": {
            "text/plain": [
              "                    DATE         0         1         2         3         4  \\\n",
              "0    2021-11-17 17:33:42  0.000923  0.002963  0.002553  0.160005  0.000062   \n",
              "1    2021-11-17 17:33:43  0.016948  0.000878  0.000066  0.133410  0.005582   \n",
              "2    2021-11-17 17:33:44  0.044535  0.001213  0.000060  0.084237  0.009142   \n",
              "3    2021-11-17 17:33:45  0.140223  0.001650  0.000065  0.061606  0.023517   \n",
              "4    2021-11-17 17:33:46  0.036529  0.001395  0.000067  0.085345  0.007778   \n",
              "..                   ...       ...       ...       ...       ...       ...   \n",
              "718  2021-11-17 17:46:41  0.057448  0.001689  0.000070  0.079439  0.010539   \n",
              "719  2021-11-17 17:46:42  0.057815  0.001603  0.000069  0.079451  0.010530   \n",
              "720  2021-11-17 17:46:43  0.060785  0.001497  0.000066  0.077506  0.011072   \n",
              "721  2021-11-17 17:46:44  0.059896  0.001556  0.000068  0.078155  0.010878   \n",
              "722  2021-11-17 17:46:45  0.058858  0.001595  0.000069  0.078965  0.010701   \n",
              "\n",
              "            5         6         7  \n",
              "0    0.892718  0.565475  0.001348  \n",
              "1    0.031719  0.030771  0.002416  \n",
              "2    0.033362  0.030305  0.004298  \n",
              "3    0.037162  0.033183  0.007123  \n",
              "4    0.048439  0.036692  0.003410  \n",
              "..        ...       ...       ...  \n",
              "718  0.052714  0.039905  0.004037  \n",
              "719  0.048433  0.038144  0.004177  \n",
              "720  0.041750  0.034849  0.004532  \n",
              "721  0.045338  0.036629  0.004357  \n",
              "722  0.047617  0.037766  0.004242  \n",
              "\n",
              "[723 rows x 9 columns]"
            ],
            "text/html": [
              "\n",
              "  <div id=\"df-a2519efe-b73c-447c-9612-b870dd2d76ad\">\n",
              "    <div class=\"colab-df-container\">\n",
              "      <div>\n",
              "<style scoped>\n",
              "    .dataframe tbody tr th:only-of-type {\n",
              "        vertical-align: middle;\n",
              "    }\n",
              "\n",
              "    .dataframe tbody tr th {\n",
              "        vertical-align: top;\n",
              "    }\n",
              "\n",
              "    .dataframe thead th {\n",
              "        text-align: right;\n",
              "    }\n",
              "</style>\n",
              "<table border=\"1\" class=\"dataframe\">\n",
              "  <thead>\n",
              "    <tr style=\"text-align: right;\">\n",
              "      <th></th>\n",
              "      <th>DATE</th>\n",
              "      <th>0</th>\n",
              "      <th>1</th>\n",
              "      <th>2</th>\n",
              "      <th>3</th>\n",
              "      <th>4</th>\n",
              "      <th>5</th>\n",
              "      <th>6</th>\n",
              "      <th>7</th>\n",
              "    </tr>\n",
              "  </thead>\n",
              "  <tbody>\n",
              "    <tr>\n",
              "      <th>0</th>\n",
              "      <td>2021-11-17 17:33:42</td>\n",
              "      <td>0.000923</td>\n",
              "      <td>0.002963</td>\n",
              "      <td>0.002553</td>\n",
              "      <td>0.160005</td>\n",
              "      <td>0.000062</td>\n",
              "      <td>0.892718</td>\n",
              "      <td>0.565475</td>\n",
              "      <td>0.001348</td>\n",
              "    </tr>\n",
              "    <tr>\n",
              "      <th>1</th>\n",
              "      <td>2021-11-17 17:33:43</td>\n",
              "      <td>0.016948</td>\n",
              "      <td>0.000878</td>\n",
              "      <td>0.000066</td>\n",
              "      <td>0.133410</td>\n",
              "      <td>0.005582</td>\n",
              "      <td>0.031719</td>\n",
              "      <td>0.030771</td>\n",
              "      <td>0.002416</td>\n",
              "    </tr>\n",
              "    <tr>\n",
              "      <th>2</th>\n",
              "      <td>2021-11-17 17:33:44</td>\n",
              "      <td>0.044535</td>\n",
              "      <td>0.001213</td>\n",
              "      <td>0.000060</td>\n",
              "      <td>0.084237</td>\n",
              "      <td>0.009142</td>\n",
              "      <td>0.033362</td>\n",
              "      <td>0.030305</td>\n",
              "      <td>0.004298</td>\n",
              "    </tr>\n",
              "    <tr>\n",
              "      <th>3</th>\n",
              "      <td>2021-11-17 17:33:45</td>\n",
              "      <td>0.140223</td>\n",
              "      <td>0.001650</td>\n",
              "      <td>0.000065</td>\n",
              "      <td>0.061606</td>\n",
              "      <td>0.023517</td>\n",
              "      <td>0.037162</td>\n",
              "      <td>0.033183</td>\n",
              "      <td>0.007123</td>\n",
              "    </tr>\n",
              "    <tr>\n",
              "      <th>4</th>\n",
              "      <td>2021-11-17 17:33:46</td>\n",
              "      <td>0.036529</td>\n",
              "      <td>0.001395</td>\n",
              "      <td>0.000067</td>\n",
              "      <td>0.085345</td>\n",
              "      <td>0.007778</td>\n",
              "      <td>0.048439</td>\n",
              "      <td>0.036692</td>\n",
              "      <td>0.003410</td>\n",
              "    </tr>\n",
              "    <tr>\n",
              "      <th>...</th>\n",
              "      <td>...</td>\n",
              "      <td>...</td>\n",
              "      <td>...</td>\n",
              "      <td>...</td>\n",
              "      <td>...</td>\n",
              "      <td>...</td>\n",
              "      <td>...</td>\n",
              "      <td>...</td>\n",
              "      <td>...</td>\n",
              "    </tr>\n",
              "    <tr>\n",
              "      <th>718</th>\n",
              "      <td>2021-11-17 17:46:41</td>\n",
              "      <td>0.057448</td>\n",
              "      <td>0.001689</td>\n",
              "      <td>0.000070</td>\n",
              "      <td>0.079439</td>\n",
              "      <td>0.010539</td>\n",
              "      <td>0.052714</td>\n",
              "      <td>0.039905</td>\n",
              "      <td>0.004037</td>\n",
              "    </tr>\n",
              "    <tr>\n",
              "      <th>719</th>\n",
              "      <td>2021-11-17 17:46:42</td>\n",
              "      <td>0.057815</td>\n",
              "      <td>0.001603</td>\n",
              "      <td>0.000069</td>\n",
              "      <td>0.079451</td>\n",
              "      <td>0.010530</td>\n",
              "      <td>0.048433</td>\n",
              "      <td>0.038144</td>\n",
              "      <td>0.004177</td>\n",
              "    </tr>\n",
              "    <tr>\n",
              "      <th>720</th>\n",
              "      <td>2021-11-17 17:46:43</td>\n",
              "      <td>0.060785</td>\n",
              "      <td>0.001497</td>\n",
              "      <td>0.000066</td>\n",
              "      <td>0.077506</td>\n",
              "      <td>0.011072</td>\n",
              "      <td>0.041750</td>\n",
              "      <td>0.034849</td>\n",
              "      <td>0.004532</td>\n",
              "    </tr>\n",
              "    <tr>\n",
              "      <th>721</th>\n",
              "      <td>2021-11-17 17:46:44</td>\n",
              "      <td>0.059896</td>\n",
              "      <td>0.001556</td>\n",
              "      <td>0.000068</td>\n",
              "      <td>0.078155</td>\n",
              "      <td>0.010878</td>\n",
              "      <td>0.045338</td>\n",
              "      <td>0.036629</td>\n",
              "      <td>0.004357</td>\n",
              "    </tr>\n",
              "    <tr>\n",
              "      <th>722</th>\n",
              "      <td>2021-11-17 17:46:45</td>\n",
              "      <td>0.058858</td>\n",
              "      <td>0.001595</td>\n",
              "      <td>0.000069</td>\n",
              "      <td>0.078965</td>\n",
              "      <td>0.010701</td>\n",
              "      <td>0.047617</td>\n",
              "      <td>0.037766</td>\n",
              "      <td>0.004242</td>\n",
              "    </tr>\n",
              "  </tbody>\n",
              "</table>\n",
              "<p>723 rows × 9 columns</p>\n",
              "</div>\n",
              "      <button class=\"colab-df-convert\" onclick=\"convertToInteractive('df-a2519efe-b73c-447c-9612-b870dd2d76ad')\"\n",
              "              title=\"Convert this dataframe to an interactive table.\"\n",
              "              style=\"display:none;\">\n",
              "        \n",
              "  <svg xmlns=\"http://www.w3.org/2000/svg\" height=\"24px\"viewBox=\"0 0 24 24\"\n",
              "       width=\"24px\">\n",
              "    <path d=\"M0 0h24v24H0V0z\" fill=\"none\"/>\n",
              "    <path d=\"M18.56 5.44l.94 2.06.94-2.06 2.06-.94-2.06-.94-.94-2.06-.94 2.06-2.06.94zm-11 1L8.5 8.5l.94-2.06 2.06-.94-2.06-.94L8.5 2.5l-.94 2.06-2.06.94zm10 10l.94 2.06.94-2.06 2.06-.94-2.06-.94-.94-2.06-.94 2.06-2.06.94z\"/><path d=\"M17.41 7.96l-1.37-1.37c-.4-.4-.92-.59-1.43-.59-.52 0-1.04.2-1.43.59L10.3 9.45l-7.72 7.72c-.78.78-.78 2.05 0 2.83L4 21.41c.39.39.9.59 1.41.59.51 0 1.02-.2 1.41-.59l7.78-7.78 2.81-2.81c.8-.78.8-2.07 0-2.86zM5.41 20L4 18.59l7.72-7.72 1.47 1.35L5.41 20z\"/>\n",
              "  </svg>\n",
              "      </button>\n",
              "      \n",
              "  <style>\n",
              "    .colab-df-container {\n",
              "      display:flex;\n",
              "      flex-wrap:wrap;\n",
              "      gap: 12px;\n",
              "    }\n",
              "\n",
              "    .colab-df-convert {\n",
              "      background-color: #E8F0FE;\n",
              "      border: none;\n",
              "      border-radius: 50%;\n",
              "      cursor: pointer;\n",
              "      display: none;\n",
              "      fill: #1967D2;\n",
              "      height: 32px;\n",
              "      padding: 0 0 0 0;\n",
              "      width: 32px;\n",
              "    }\n",
              "\n",
              "    .colab-df-convert:hover {\n",
              "      background-color: #E2EBFA;\n",
              "      box-shadow: 0px 1px 2px rgba(60, 64, 67, 0.3), 0px 1px 3px 1px rgba(60, 64, 67, 0.15);\n",
              "      fill: #174EA6;\n",
              "    }\n",
              "\n",
              "    [theme=dark] .colab-df-convert {\n",
              "      background-color: #3B4455;\n",
              "      fill: #D2E3FC;\n",
              "    }\n",
              "\n",
              "    [theme=dark] .colab-df-convert:hover {\n",
              "      background-color: #434B5C;\n",
              "      box-shadow: 0px 1px 3px 1px rgba(0, 0, 0, 0.15);\n",
              "      filter: drop-shadow(0px 1px 2px rgba(0, 0, 0, 0.3));\n",
              "      fill: #FFFFFF;\n",
              "    }\n",
              "  </style>\n",
              "\n",
              "      <script>\n",
              "        const buttonEl =\n",
              "          document.querySelector('#df-a2519efe-b73c-447c-9612-b870dd2d76ad button.colab-df-convert');\n",
              "        buttonEl.style.display =\n",
              "          google.colab.kernel.accessAllowed ? 'block' : 'none';\n",
              "\n",
              "        async function convertToInteractive(key) {\n",
              "          const element = document.querySelector('#df-a2519efe-b73c-447c-9612-b870dd2d76ad');\n",
              "          const dataTable =\n",
              "            await google.colab.kernel.invokeFunction('convertToInteractive',\n",
              "                                                     [key], {});\n",
              "          if (!dataTable) return;\n",
              "\n",
              "          const docLinkHtml = 'Like what you see? Visit the ' +\n",
              "            '<a target=\"_blank\" href=https://colab.research.google.com/notebooks/data_table.ipynb>data table notebook</a>'\n",
              "            + ' to learn more about interactive tables.';\n",
              "          element.innerHTML = '';\n",
              "          dataTable['output_type'] = 'display_data';\n",
              "          await google.colab.output.renderOutput(dataTable, element);\n",
              "          const docLink = document.createElement('div');\n",
              "          docLink.innerHTML = docLinkHtml;\n",
              "          element.appendChild(docLink);\n",
              "        }\n",
              "      </script>\n",
              "    </div>\n",
              "  </div>\n",
              "  "
            ]
          },
          "metadata": {},
          "execution_count": 12
        }
      ]
    },
    {
      "cell_type": "code",
      "source": [
        "temp = pd.DataFrame()\n",
        "for id in id_list:\n",
        "    df = mydict[id]\n",
        "    df.columns = ['DATE','0','1','2','3','4','5','6','7']\n",
        "    temp = pd.concat([temp,df])\n",
        "\n",
        "temp.reset_index(drop = True)\n",
        "\n",
        "df = pd.DataFrame(temp)"
      ],
      "metadata": {
        "id": "LGBrfXzqRFrZ"
      },
      "execution_count": null,
      "outputs": []
    },
    {
      "cell_type": "code",
      "source": [
        "df = pd.DataFrame(temp)"
      ],
      "metadata": {
        "id": "ViaOeU9jRmdG"
      },
      "execution_count": null,
      "outputs": []
    },
    {
      "cell_type": "code",
      "source": [
        "df.shape"
      ],
      "metadata": {
        "colab": {
          "base_uri": "https://localhost:8080/"
        },
        "id": "Stc6-pebRhsP",
        "outputId": "2c53a1c8-8a54-4fb9-feb3-c1932435c28b"
      },
      "execution_count": null,
      "outputs": [
        {
          "output_type": "execute_result",
          "data": {
            "text/plain": [
              "(281501, 9)"
            ]
          },
          "metadata": {},
          "execution_count": 7
        }
      ]
    },
    {
      "cell_type": "code",
      "source": [
        "df.head()"
      ],
      "metadata": {
        "colab": {
          "base_uri": "https://localhost:8080/",
          "height": 206
        },
        "id": "ExAsFqR5C8cM",
        "outputId": "cbc57ee2-f3ab-41aa-dd29-737a9787ead7"
      },
      "execution_count": null,
      "outputs": [
        {
          "output_type": "execute_result",
          "data": {
            "text/plain": [
              "                  DATE         0         1         2         3         4  \\\n",
              "0  2021-11-28 00:00:00  0.981262  0.990319  0.979536  0.328138  0.985659   \n",
              "1  2021-11-28 00:00:01  0.962457  0.998730  0.998241  0.975713  0.868509   \n",
              "2  2021-11-28 00:00:02  0.986374  0.998717  0.997116  0.925132  0.966387   \n",
              "3  2021-11-28 00:00:03  0.974020  0.998734  0.998220  0.973949  0.870613   \n",
              "4  2021-11-28 00:00:04  0.982181  0.998724  0.997959  0.968855  0.912446   \n",
              "\n",
              "          5         6         7  \n",
              "0  0.794406  0.967414  0.900350  \n",
              "1  0.205135  0.993087  0.139415  \n",
              "2  0.803887  0.993642  0.401863  \n",
              "3  0.340489  0.994713  0.124057  \n",
              "4  0.521101  0.995326  0.157700  "
            ],
            "text/html": [
              "\n",
              "  <div id=\"df-3b496ab8-da4a-42c0-b725-a29c34da0478\">\n",
              "    <div class=\"colab-df-container\">\n",
              "      <div>\n",
              "<style scoped>\n",
              "    .dataframe tbody tr th:only-of-type {\n",
              "        vertical-align: middle;\n",
              "    }\n",
              "\n",
              "    .dataframe tbody tr th {\n",
              "        vertical-align: top;\n",
              "    }\n",
              "\n",
              "    .dataframe thead th {\n",
              "        text-align: right;\n",
              "    }\n",
              "</style>\n",
              "<table border=\"1\" class=\"dataframe\">\n",
              "  <thead>\n",
              "    <tr style=\"text-align: right;\">\n",
              "      <th></th>\n",
              "      <th>DATE</th>\n",
              "      <th>0</th>\n",
              "      <th>1</th>\n",
              "      <th>2</th>\n",
              "      <th>3</th>\n",
              "      <th>4</th>\n",
              "      <th>5</th>\n",
              "      <th>6</th>\n",
              "      <th>7</th>\n",
              "    </tr>\n",
              "  </thead>\n",
              "  <tbody>\n",
              "    <tr>\n",
              "      <th>0</th>\n",
              "      <td>2021-11-28 00:00:00</td>\n",
              "      <td>0.981262</td>\n",
              "      <td>0.990319</td>\n",
              "      <td>0.979536</td>\n",
              "      <td>0.328138</td>\n",
              "      <td>0.985659</td>\n",
              "      <td>0.794406</td>\n",
              "      <td>0.967414</td>\n",
              "      <td>0.900350</td>\n",
              "    </tr>\n",
              "    <tr>\n",
              "      <th>1</th>\n",
              "      <td>2021-11-28 00:00:01</td>\n",
              "      <td>0.962457</td>\n",
              "      <td>0.998730</td>\n",
              "      <td>0.998241</td>\n",
              "      <td>0.975713</td>\n",
              "      <td>0.868509</td>\n",
              "      <td>0.205135</td>\n",
              "      <td>0.993087</td>\n",
              "      <td>0.139415</td>\n",
              "    </tr>\n",
              "    <tr>\n",
              "      <th>2</th>\n",
              "      <td>2021-11-28 00:00:02</td>\n",
              "      <td>0.986374</td>\n",
              "      <td>0.998717</td>\n",
              "      <td>0.997116</td>\n",
              "      <td>0.925132</td>\n",
              "      <td>0.966387</td>\n",
              "      <td>0.803887</td>\n",
              "      <td>0.993642</td>\n",
              "      <td>0.401863</td>\n",
              "    </tr>\n",
              "    <tr>\n",
              "      <th>3</th>\n",
              "      <td>2021-11-28 00:00:03</td>\n",
              "      <td>0.974020</td>\n",
              "      <td>0.998734</td>\n",
              "      <td>0.998220</td>\n",
              "      <td>0.973949</td>\n",
              "      <td>0.870613</td>\n",
              "      <td>0.340489</td>\n",
              "      <td>0.994713</td>\n",
              "      <td>0.124057</td>\n",
              "    </tr>\n",
              "    <tr>\n",
              "      <th>4</th>\n",
              "      <td>2021-11-28 00:00:04</td>\n",
              "      <td>0.982181</td>\n",
              "      <td>0.998724</td>\n",
              "      <td>0.997959</td>\n",
              "      <td>0.968855</td>\n",
              "      <td>0.912446</td>\n",
              "      <td>0.521101</td>\n",
              "      <td>0.995326</td>\n",
              "      <td>0.157700</td>\n",
              "    </tr>\n",
              "  </tbody>\n",
              "</table>\n",
              "</div>\n",
              "      <button class=\"colab-df-convert\" onclick=\"convertToInteractive('df-3b496ab8-da4a-42c0-b725-a29c34da0478')\"\n",
              "              title=\"Convert this dataframe to an interactive table.\"\n",
              "              style=\"display:none;\">\n",
              "        \n",
              "  <svg xmlns=\"http://www.w3.org/2000/svg\" height=\"24px\"viewBox=\"0 0 24 24\"\n",
              "       width=\"24px\">\n",
              "    <path d=\"M0 0h24v24H0V0z\" fill=\"none\"/>\n",
              "    <path d=\"M18.56 5.44l.94 2.06.94-2.06 2.06-.94-2.06-.94-.94-2.06-.94 2.06-2.06.94zm-11 1L8.5 8.5l.94-2.06 2.06-.94-2.06-.94L8.5 2.5l-.94 2.06-2.06.94zm10 10l.94 2.06.94-2.06 2.06-.94-2.06-.94-.94-2.06-.94 2.06-2.06.94z\"/><path d=\"M17.41 7.96l-1.37-1.37c-.4-.4-.92-.59-1.43-.59-.52 0-1.04.2-1.43.59L10.3 9.45l-7.72 7.72c-.78.78-.78 2.05 0 2.83L4 21.41c.39.39.9.59 1.41.59.51 0 1.02-.2 1.41-.59l7.78-7.78 2.81-2.81c.8-.78.8-2.07 0-2.86zM5.41 20L4 18.59l7.72-7.72 1.47 1.35L5.41 20z\"/>\n",
              "  </svg>\n",
              "      </button>\n",
              "      \n",
              "  <style>\n",
              "    .colab-df-container {\n",
              "      display:flex;\n",
              "      flex-wrap:wrap;\n",
              "      gap: 12px;\n",
              "    }\n",
              "\n",
              "    .colab-df-convert {\n",
              "      background-color: #E8F0FE;\n",
              "      border: none;\n",
              "      border-radius: 50%;\n",
              "      cursor: pointer;\n",
              "      display: none;\n",
              "      fill: #1967D2;\n",
              "      height: 32px;\n",
              "      padding: 0 0 0 0;\n",
              "      width: 32px;\n",
              "    }\n",
              "\n",
              "    .colab-df-convert:hover {\n",
              "      background-color: #E2EBFA;\n",
              "      box-shadow: 0px 1px 2px rgba(60, 64, 67, 0.3), 0px 1px 3px 1px rgba(60, 64, 67, 0.15);\n",
              "      fill: #174EA6;\n",
              "    }\n",
              "\n",
              "    [theme=dark] .colab-df-convert {\n",
              "      background-color: #3B4455;\n",
              "      fill: #D2E3FC;\n",
              "    }\n",
              "\n",
              "    [theme=dark] .colab-df-convert:hover {\n",
              "      background-color: #434B5C;\n",
              "      box-shadow: 0px 1px 3px 1px rgba(0, 0, 0, 0.15);\n",
              "      filter: drop-shadow(0px 1px 2px rgba(0, 0, 0, 0.3));\n",
              "      fill: #FFFFFF;\n",
              "    }\n",
              "  </style>\n",
              "\n",
              "      <script>\n",
              "        const buttonEl =\n",
              "          document.querySelector('#df-3b496ab8-da4a-42c0-b725-a29c34da0478 button.colab-df-convert');\n",
              "        buttonEl.style.display =\n",
              "          google.colab.kernel.accessAllowed ? 'block' : 'none';\n",
              "\n",
              "        async function convertToInteractive(key) {\n",
              "          const element = document.querySelector('#df-3b496ab8-da4a-42c0-b725-a29c34da0478');\n",
              "          const dataTable =\n",
              "            await google.colab.kernel.invokeFunction('convertToInteractive',\n",
              "                                                     [key], {});\n",
              "          if (!dataTable) return;\n",
              "\n",
              "          const docLinkHtml = 'Like what you see? Visit the ' +\n",
              "            '<a target=\"_blank\" href=https://colab.research.google.com/notebooks/data_table.ipynb>data table notebook</a>'\n",
              "            + ' to learn more about interactive tables.';\n",
              "          element.innerHTML = '';\n",
              "          dataTable['output_type'] = 'display_data';\n",
              "          await google.colab.output.renderOutput(dataTable, element);\n",
              "          const docLink = document.createElement('div');\n",
              "          docLink.innerHTML = docLinkHtml;\n",
              "          element.appendChild(docLink);\n",
              "        }\n",
              "      </script>\n",
              "    </div>\n",
              "  </div>\n",
              "  "
            ]
          },
          "metadata": {},
          "execution_count": 8
        }
      ]
    },
    {
      "cell_type": "markdown",
      "source": [
        "# k-means"
      ],
      "metadata": {
        "id": "6cGyuc0NEHR2"
      }
    },
    {
      "cell_type": "markdown",
      "source": [
        "## KElbowVisualizer"
      ],
      "metadata": {
        "id": "GWOxUY-0ey13"
      }
    },
    {
      "cell_type": "code",
      "source": [
        "k6_df = df.drop(columns = ['DATE'])"
      ],
      "metadata": {
        "id": "NFT8DCwSVBDk"
      },
      "execution_count": null,
      "outputs": []
    },
    {
      "cell_type": "code",
      "source": [
        "from sklearn.cluster import KMeans"
      ],
      "metadata": {
        "id": "Dgq3sLgIRnIv"
      },
      "execution_count": null,
      "outputs": []
    },
    {
      "cell_type": "code",
      "source": [
        "from yellowbrick.cluster import KElbowVisualizer\n",
        "\n",
        "model = KMeans()\n",
        "visualizer = KElbowVisualizer(model, k=(1,12))\n",
        "visualizer.fit(k6_df) \n",
        "visualizer.show() "
      ],
      "metadata": {
        "colab": {
          "base_uri": "https://localhost:8080/",
          "height": 312
        },
        "id": "iybPmGMuVyle",
        "outputId": "fed99a25-7d71-43a6-b598-9edc736ef0eb"
      },
      "execution_count": null,
      "outputs": [
        {
          "output_type": "display_data",
          "data": {
            "text/plain": [
              "<Figure size 432x288 with 2 Axes>"
            ],
            "image/png": "[encoded data removed]"
          },
          "metadata": {}
        },
        {
          "output_type": "execute_result",
          "data": {
            "text/plain": [
              "<matplotlib.axes._subplots.AxesSubplot at 0x7f906d1b0290>"
            ]
          },
          "metadata": {},
          "execution_count": 13
        }
      ]
    },
    {
      "cell_type": "markdown",
      "source": [
        "## K = 6"
      ],
      "metadata": {
        "id": "d9ukwYxBYC55"
      }
    },
    {
      "cell_type": "code",
      "source": [
        "from sklearn.cluster import KMeans\n",
        "\n",
        "k = 6\n",
        "\n",
        "# 그룹 수, random_state 설정\n",
        "model = KMeans(n_clusters = k, random_state = 10)\n",
        "\n",
        "# 데이터 학습\n",
        "model.fit(k6_df)\n",
        "\n",
        "\n",
        "# 클러스터링 결과 각 데이터가 어디 그룹에 속하는지 저장\n",
        "predicted = model.predict(k6_df)"
      ],
      "metadata": {
        "id": "-kJRbjy5DsN7"
      },
      "execution_count": null,
      "outputs": []
    },
    {
      "cell_type": "code",
      "source": [
        "k6_df['cluster'] = 0 #컬럼 생성 + integer 선언 \n",
        "k6_df['cluster'] = predicted"
      ],
      "metadata": {
        "id": "YjufFF8TWUG1"
      },
      "execution_count": null,
      "outputs": []
    },
    {
      "cell_type": "code",
      "source": [
        "k6_df"
      ],
      "metadata": {
        "colab": {
          "base_uri": "https://localhost:8080/",
          "height": 423
        },
        "id": "VHatluG8FPaM",
        "outputId": "eed4488b-49f6-4f99-aa36-816c84ac8a94"
      },
      "execution_count": null,
      "outputs": [
        {
          "output_type": "execute_result",
          "data": {
            "text/plain": [
              "            0         1         2         3         4         5         6  \\\n",
              "0    0.981262  0.990319  0.979536  0.328138  0.985659  0.794406  0.967414   \n",
              "1    0.962457  0.998730  0.998241  0.975713  0.868509  0.205135  0.993087   \n",
              "2    0.986374  0.998717  0.997116  0.925132  0.966387  0.803887  0.993642   \n",
              "3    0.974020  0.998734  0.998220  0.973949  0.870613  0.340489  0.994713   \n",
              "4    0.982181  0.998724  0.997959  0.968855  0.912446  0.521101  0.995326   \n",
              "..        ...       ...       ...       ...       ...       ...       ...   \n",
              "718  0.057448  0.001689  0.000070  0.079439  0.010539  0.052714  0.039905   \n",
              "719  0.057815  0.001603  0.000069  0.079451  0.010530  0.048433  0.038144   \n",
              "720  0.060785  0.001497  0.000066  0.077506  0.011072  0.041750  0.034849   \n",
              "721  0.059896  0.001556  0.000068  0.078155  0.010878  0.045338  0.036629   \n",
              "722  0.058858  0.001595  0.000069  0.078965  0.010701  0.047617  0.037766   \n",
              "\n",
              "            7  cluster  \n",
              "0    0.900350        0  \n",
              "1    0.139415        5  \n",
              "2    0.401863        5  \n",
              "3    0.124057        5  \n",
              "4    0.157700        5  \n",
              "..        ...      ...  \n",
              "718  0.004037        3  \n",
              "719  0.004177        3  \n",
              "720  0.004532        3  \n",
              "721  0.004357        3  \n",
              "722  0.004242        3  \n",
              "\n",
              "[281501 rows x 9 columns]"
            ],
            "text/html": [
              "\n",
              "  <div id=\"df-0c48a0df-6a9b-4eed-b20c-91260992b779\">\n",
              "    <div class=\"colab-df-container\">\n",
              "      <div>\n",
              "<style scoped>\n",
              "    .dataframe tbody tr th:only-of-type {\n",
              "        vertical-align: middle;\n",
              "    }\n",
              "\n",
              "    .dataframe tbody tr th {\n",
              "        vertical-align: top;\n",
              "    }\n",
              "\n",
              "    .dataframe thead th {\n",
              "        text-align: right;\n",
              "    }\n",
              "</style>\n",
              "<table border=\"1\" class=\"dataframe\">\n",
              "  <thead>\n",
              "    <tr style=\"text-align: right;\">\n",
              "      <th></th>\n",
              "      <th>0</th>\n",
              "      <th>1</th>\n",
              "      <th>2</th>\n",
              "      <th>3</th>\n",
              "      <th>4</th>\n",
              "      <th>5</th>\n",
              "      <th>6</th>\n",
              "      <th>7</th>\n",
              "      <th>cluster</th>\n",
              "    </tr>\n",
              "  </thead>\n",
              "  <tbody>\n",
              "    <tr>\n",
              "      <th>0</th>\n",
              "      <td>0.981262</td>\n",
              "      <td>0.990319</td>\n",
              "      <td>0.979536</td>\n",
              "      <td>0.328138</td>\n",
              "      <td>0.985659</td>\n",
              "      <td>0.794406</td>\n",
              "      <td>0.967414</td>\n",
              "      <td>0.900350</td>\n",
              "      <td>0</td>\n",
              "    </tr>\n",
              "    <tr>\n",
              "      <th>1</th>\n",
              "      <td>0.962457</td>\n",
              "      <td>0.998730</td>\n",
              "      <td>0.998241</td>\n",
              "      <td>0.975713</td>\n",
              "      <td>0.868509</td>\n",
              "      <td>0.205135</td>\n",
              "      <td>0.993087</td>\n",
              "      <td>0.139415</td>\n",
              "      <td>5</td>\n",
              "    </tr>\n",
              "    <tr>\n",
              "      <th>2</th>\n",
              "      <td>0.986374</td>\n",
              "      <td>0.998717</td>\n",
              "      <td>0.997116</td>\n",
              "      <td>0.925132</td>\n",
              "      <td>0.966387</td>\n",
              "      <td>0.803887</td>\n",
              "      <td>0.993642</td>\n",
              "      <td>0.401863</td>\n",
              "      <td>5</td>\n",
              "    </tr>\n",
              "    <tr>\n",
              "      <th>3</th>\n",
              "      <td>0.974020</td>\n",
              "      <td>0.998734</td>\n",
              "      <td>0.998220</td>\n",
              "      <td>0.973949</td>\n",
              "      <td>0.870613</td>\n",
              "      <td>0.340489</td>\n",
              "      <td>0.994713</td>\n",
              "      <td>0.124057</td>\n",
              "      <td>5</td>\n",
              "    </tr>\n",
              "    <tr>\n",
              "      <th>4</th>\n",
              "      <td>0.982181</td>\n",
              "      <td>0.998724</td>\n",
              "      <td>0.997959</td>\n",
              "      <td>0.968855</td>\n",
              "      <td>0.912446</td>\n",
              "      <td>0.521101</td>\n",
              "      <td>0.995326</td>\n",
              "      <td>0.157700</td>\n",
              "      <td>5</td>\n",
              "    </tr>\n",
              "    <tr>\n",
              "      <th>...</th>\n",
              "      <td>...</td>\n",
              "      <td>...</td>\n",
              "      <td>...</td>\n",
              "      <td>...</td>\n",
              "      <td>...</td>\n",
              "      <td>...</td>\n",
              "      <td>...</td>\n",
              "      <td>...</td>\n",
              "      <td>...</td>\n",
              "    </tr>\n",
              "    <tr>\n",
              "      <th>718</th>\n",
              "      <td>0.057448</td>\n",
              "      <td>0.001689</td>\n",
              "      <td>0.000070</td>\n",
              "      <td>0.079439</td>\n",
              "      <td>0.010539</td>\n",
              "      <td>0.052714</td>\n",
              "      <td>0.039905</td>\n",
              "      <td>0.004037</td>\n",
              "      <td>3</td>\n",
              "    </tr>\n",
              "    <tr>\n",
              "      <th>719</th>\n",
              "      <td>0.057815</td>\n",
              "      <td>0.001603</td>\n",
              "      <td>0.000069</td>\n",
              "      <td>0.079451</td>\n",
              "      <td>0.010530</td>\n",
              "      <td>0.048433</td>\n",
              "      <td>0.038144</td>\n",
              "      <td>0.004177</td>\n",
              "      <td>3</td>\n",
              "    </tr>\n",
              "    <tr>\n",
              "      <th>720</th>\n",
              "      <td>0.060785</td>\n",
              "      <td>0.001497</td>\n",
              "      <td>0.000066</td>\n",
              "      <td>0.077506</td>\n",
              "      <td>0.011072</td>\n",
              "      <td>0.041750</td>\n",
              "      <td>0.034849</td>\n",
              "      <td>0.004532</td>\n",
              "      <td>3</td>\n",
              "    </tr>\n",
              "    <tr>\n",
              "      <th>721</th>\n",
              "      <td>0.059896</td>\n",
              "      <td>0.001556</td>\n",
              "      <td>0.000068</td>\n",
              "      <td>0.078155</td>\n",
              "      <td>0.010878</td>\n",
              "      <td>0.045338</td>\n",
              "      <td>0.036629</td>\n",
              "      <td>0.004357</td>\n",
              "      <td>3</td>\n",
              "    </tr>\n",
              "    <tr>\n",
              "      <th>722</th>\n",
              "      <td>0.058858</td>\n",
              "      <td>0.001595</td>\n",
              "      <td>0.000069</td>\n",
              "      <td>0.078965</td>\n",
              "      <td>0.010701</td>\n",
              "      <td>0.047617</td>\n",
              "      <td>0.037766</td>\n",
              "      <td>0.004242</td>\n",
              "      <td>3</td>\n",
              "    </tr>\n",
              "  </tbody>\n",
              "</table>\n",
              "<p>281501 rows × 9 columns</p>\n",
              "</div>\n",
              "      <button class=\"colab-df-convert\" onclick=\"convertToInteractive('df-0c48a0df-6a9b-4eed-b20c-91260992b779')\"\n",
              "              title=\"Convert this dataframe to an interactive table.\"\n",
              "              style=\"display:none;\">\n",
              "        \n",
              "  <svg xmlns=\"http://www.w3.org/2000/svg\" height=\"24px\"viewBox=\"0 0 24 24\"\n",
              "       width=\"24px\">\n",
              "    <path d=\"M0 0h24v24H0V0z\" fill=\"none\"/>\n",
              "    <path d=\"M18.56 5.44l.94 2.06.94-2.06 2.06-.94-2.06-.94-.94-2.06-.94 2.06-2.06.94zm-11 1L8.5 8.5l.94-2.06 2.06-.94-2.06-.94L8.5 2.5l-.94 2.06-2.06.94zm10 10l.94 2.06.94-2.06 2.06-.94-2.06-.94-.94-2.06-.94 2.06-2.06.94z\"/><path d=\"M17.41 7.96l-1.37-1.37c-.4-.4-.92-.59-1.43-.59-.52 0-1.04.2-1.43.59L10.3 9.45l-7.72 7.72c-.78.78-.78 2.05 0 2.83L4 21.41c.39.39.9.59 1.41.59.51 0 1.02-.2 1.41-.59l7.78-7.78 2.81-2.81c.8-.78.8-2.07 0-2.86zM5.41 20L4 18.59l7.72-7.72 1.47 1.35L5.41 20z\"/>\n",
              "  </svg>\n",
              "      </button>\n",
              "      \n",
              "  <style>\n",
              "    .colab-df-container {\n",
              "      display:flex;\n",
              "      flex-wrap:wrap;\n",
              "      gap: 12px;\n",
              "    }\n",
              "\n",
              "    .colab-df-convert {\n",
              "      background-color: #E8F0FE;\n",
              "      border: none;\n",
              "      border-radius: 50%;\n",
              "      cursor: pointer;\n",
              "      display: none;\n",
              "      fill: #1967D2;\n",
              "      height: 32px;\n",
              "      padding: 0 0 0 0;\n",
              "      width: 32px;\n",
              "    }\n",
              "\n",
              "    .colab-df-convert:hover {\n",
              "      background-color: #E2EBFA;\n",
              "      box-shadow: 0px 1px 2px rgba(60, 64, 67, 0.3), 0px 1px 3px 1px rgba(60, 64, 67, 0.15);\n",
              "      fill: #174EA6;\n",
              "    }\n",
              "\n",
              "    [theme=dark] .colab-df-convert {\n",
              "      background-color: #3B4455;\n",
              "      fill: #D2E3FC;\n",
              "    }\n",
              "\n",
              "    [theme=dark] .colab-df-convert:hover {\n",
              "      background-color: #434B5C;\n",
              "      box-shadow: 0px 1px 3px 1px rgba(0, 0, 0, 0.15);\n",
              "      filter: drop-shadow(0px 1px 2px rgba(0, 0, 0, 0.3));\n",
              "      fill: #FFFFFF;\n",
              "    }\n",
              "  </style>\n",
              "\n",
              "      <script>\n",
              "        const buttonEl =\n",
              "          document.querySelector('#df-0c48a0df-6a9b-4eed-b20c-91260992b779 button.colab-df-convert');\n",
              "        buttonEl.style.display =\n",
              "          google.colab.kernel.accessAllowed ? 'block' : 'none';\n",
              "\n",
              "        async function convertToInteractive(key) {\n",
              "          const element = document.querySelector('#df-0c48a0df-6a9b-4eed-b20c-91260992b779');\n",
              "          const dataTable =\n",
              "            await google.colab.kernel.invokeFunction('convertToInteractive',\n",
              "                                                     [key], {});\n",
              "          if (!dataTable) return;\n",
              "\n",
              "          const docLinkHtml = 'Like what you see? Visit the ' +\n",
              "            '<a target=\"_blank\" href=https://colab.research.google.com/notebooks/data_table.ipynb>data table notebook</a>'\n",
              "            + ' to learn more about interactive tables.';\n",
              "          element.innerHTML = '';\n",
              "          dataTable['output_type'] = 'display_data';\n",
              "          await google.colab.output.renderOutput(dataTable, element);\n",
              "          const docLink = document.createElement('div');\n",
              "          docLink.innerHTML = docLinkHtml;\n",
              "          element.appendChild(docLink);\n",
              "        }\n",
              "      </script>\n",
              "    </div>\n",
              "  </div>\n",
              "  "
            ]
          },
          "metadata": {},
          "execution_count": 26
        }
      ]
    },
    {
      "cell_type": "code",
      "source": [
        "k6_df['cluster'].value_counts()"
      ],
      "metadata": {
        "colab": {
          "base_uri": "https://localhost:8080/"
        },
        "id": "p95AX_CVFQ7M",
        "outputId": "46911a75-9ea0-41a1-d9a9-532d91a208a5"
      },
      "execution_count": null,
      "outputs": [
        {
          "output_type": "execute_result",
          "data": {
            "text/plain": [
              "0    91367\n",
              "2    74036\n",
              "5    35829\n",
              "1    35792\n",
              "3    24613\n",
              "4    19864\n",
              "Name: cluster, dtype: int64"
            ]
          },
          "metadata": {},
          "execution_count": 27
        }
      ]
    },
    {
      "cell_type": "markdown",
      "source": [
        "굵은 텍스트# 전체 데이터셋 k 분포 확인"
      ],
      "metadata": {
        "id": "lNso7ZI_Vqgp"
      }
    },
    {
      "cell_type": "code",
      "source": [
        "from yellowbrick.cluster import SilhouetteVisualizer"
      ],
      "metadata": {
        "id": "efg-1ZcZX30s"
      },
      "execution_count": null,
      "outputs": []
    },
    {
      "cell_type": "code",
      "source": [
        "model = KMeans(6, random_state=42)\n",
        "model.fit(df.drop(columns = ['DATE']))\n",
        "visualizer = SilhouetteVisualizer(model, size=(1080, 720),colors='yellowbrick')\n",
        "\n",
        "visualizer.fit(df.drop(columns = ['DATE']))        # Fit the data to the visualizer\n",
        "visualizer.show()"
      ],
      "metadata": {
        "colab": {
          "base_uri": "https://localhost:8080/",
          "height": 674
        },
        "id": "IIsBEgQ-V2Jb",
        "outputId": "ec7330a4-5482-49cb-95e6-ee3d67fb50de"
      },
      "execution_count": null,
      "outputs": [
        {
          "output_type": "stream",
          "name": "stderr",
          "text": [
            "/usr/local/lib/python3.7/dist-packages/sklearn/base.py:451: UserWarning: X does not have valid feature names, but KMeans was fitted with feature names\n",
            "  \"X does not have valid feature names, but\"\n"
          ]
        },
        {
          "output_type": "display_data",
          "data": {
            "text/plain": [
              "<Figure size 1080x720 with 1 Axes>"
            ],
            "image/png": "[encoded data removed]"
          },
          "metadata": {
            "needs_background": "light"
          }
        },
        {
          "output_type": "execute_result",
          "data": {
            "text/plain": [
              "<matplotlib.axes._subplots.AxesSubplot at 0x7fd3be1e6410>"
            ]
          },
          "metadata": {},
          "execution_count": 29
        }
      ]
    },
    {
      "cell_type": "markdown",
      "source": [
        "##Intercluster Distance Maps"
      ],
      "metadata": {
        "id": "gRpqb_BqedJ9"
      }
    },
    {
      "cell_type": "code",
      "source": [
        "from yellowbrick.cluster import InterclusterDistance\n",
        "model = KMeans(6)\n",
        "visualizer = InterclusterDistance(model,size=(1080, 720),legend=0)\n",
        "visualizer.fit(k6_df) \n",
        "visualizer.show()\n"
      ],
      "metadata": {
        "colab": {
          "base_uri": "https://localhost:8080/",
          "height": 629
        },
        "id": "-E6bwz1_eUUH",
        "outputId": "7768e9db-1650-460a-c7cd-52edd62e3532"
      },
      "execution_count": null,
      "outputs": [
        {
          "output_type": "display_data",
          "data": {
            "text/plain": [
              "<Figure size 1080x720 with 1 Axes>"
            ],
            "image/png": "[encoded data removed]"
          },
          "metadata": {}
        },
        {
          "output_type": "execute_result",
          "data": {
            "text/plain": [
              "<matplotlib.axes._subplots.AxesSubplot at 0x7fe46d364bd0>"
            ]
          },
          "metadata": {},
          "execution_count": 28
        }
      ]
    },
    {
      "cell_type": "markdown",
      "source": [
        "## test fit"
      ],
      "metadata": {
        "id": "o_ls0NSVd1Y8"
      }
    },
    {
      "cell_type": "code",
      "source": [
        "test_id = list(mydict.keys())[-4:-1]\n",
        "test_id"
      ],
      "metadata": {
        "colab": {
          "base_uri": "https://localhost:8080/"
        },
        "id": "5595H33zd57L",
        "outputId": "4a101a05-af51-40ad-822d-5b635c4fda2b"
      },
      "execution_count": null,
      "outputs": [
        {
          "output_type": "execute_result",
          "data": {
            "text/plain": [
              "['20211203', '20211204', '20211205']"
            ]
          },
          "metadata": {},
          "execution_count": 18
        }
      ]
    },
    {
      "cell_type": "code",
      "source": [
        "test_temp = pd.DataFrame()\n",
        "for id in test_id:\n",
        "    df = mydict[id]\n",
        "    df.columns = ['DATE','0','1','2','3','4','5','6','7']\n",
        "    test_temp = pd.concat([test_temp,df])"
      ],
      "metadata": {
        "id": "FoF3k8K-eVhD"
      },
      "execution_count": null,
      "outputs": []
    },
    {
      "cell_type": "code",
      "source": [
        "test_temp"
      ],
      "metadata": {
        "colab": {
          "base_uri": "https://localhost:8080/",
          "height": 423
        },
        "id": "uwzx6P9Bd_9h",
        "outputId": "5463f201-b2c6-47b7-9928-762d3de4431c"
      },
      "execution_count": null,
      "outputs": [
        {
          "output_type": "execute_result",
          "data": {
            "text/plain": [
              "                      DATE         0         1         2         3         4  \\\n",
              "0      2021-12-03 08:56:13  0.173659  0.001658  0.063130  0.654376  0.907993   \n",
              "1      2021-12-03 08:56:14  0.198067  0.001685  0.062289  0.646822  0.912724   \n",
              "2      2021-12-03 08:56:15  0.195565  0.001756  0.065871  0.651701  0.913653   \n",
              "3      2021-12-03 08:56:16  0.228768  0.001877  0.067001  0.648844  0.921188   \n",
              "4      2021-12-03 08:56:17  0.193885  0.001713  0.064120  0.649567  0.912471   \n",
              "...                    ...       ...       ...       ...       ...       ...   \n",
              "27544  2021-12-05 19:35:13  0.973141  0.045963  0.008106  0.169919  0.996330   \n",
              "27545  2021-12-05 19:35:14  0.973141  0.045963  0.008106  0.169919  0.996330   \n",
              "27546  2021-12-05 19:35:15  0.973141  0.045963  0.008106  0.169919  0.996330   \n",
              "27547  2021-12-05 19:35:16  0.973141  0.045963  0.008106  0.169919  0.996330   \n",
              "27548  2021-12-05 19:35:17  0.973141  0.045963  0.008106  0.169919  0.996330   \n",
              "\n",
              "              5         6         7  \n",
              "0      0.007730  0.001650  0.990961  \n",
              "1      0.007610  0.001622  0.990849  \n",
              "2      0.007435  0.001656  0.991099  \n",
              "3      0.007074  0.001635  0.991188  \n",
              "4      0.007554  0.001643  0.990962  \n",
              "...         ...       ...       ...  \n",
              "27544  0.028713  0.002163  0.978963  \n",
              "27545  0.028713  0.002163  0.978963  \n",
              "27546  0.028713  0.002163  0.978963  \n",
              "27547  0.028713  0.002163  0.978963  \n",
              "27548  0.028713  0.002163  0.978963  \n",
              "\n",
              "[93190 rows x 9 columns]"
            ],
            "text/html": [
              "\n",
              "  <div id=\"df-ecfd4ee0-0202-4b54-9469-b2fb323dd958\">\n",
              "    <div class=\"colab-df-container\">\n",
              "      <div>\n",
              "<style scoped>\n",
              "    .dataframe tbody tr th:only-of-type {\n",
              "        vertical-align: middle;\n",
              "    }\n",
              "\n",
              "    .dataframe tbody tr th {\n",
              "        vertical-align: top;\n",
              "    }\n",
              "\n",
              "    .dataframe thead th {\n",
              "        text-align: right;\n",
              "    }\n",
              "</style>\n",
              "<table border=\"1\" class=\"dataframe\">\n",
              "  <thead>\n",
              "    <tr style=\"text-align: right;\">\n",
              "      <th></th>\n",
              "      <th>DATE</th>\n",
              "      <th>0</th>\n",
              "      <th>1</th>\n",
              "      <th>2</th>\n",
              "      <th>3</th>\n",
              "      <th>4</th>\n",
              "      <th>5</th>\n",
              "      <th>6</th>\n",
              "      <th>7</th>\n",
              "    </tr>\n",
              "  </thead>\n",
              "  <tbody>\n",
              "    <tr>\n",
              "      <th>0</th>\n",
              "      <td>2021-12-03 08:56:13</td>\n",
              "      <td>0.173659</td>\n",
              "      <td>0.001658</td>\n",
              "      <td>0.063130</td>\n",
              "      <td>0.654376</td>\n",
              "      <td>0.907993</td>\n",
              "      <td>0.007730</td>\n",
              "      <td>0.001650</td>\n",
              "      <td>0.990961</td>\n",
              "    </tr>\n",
              "    <tr>\n",
              "      <th>1</th>\n",
              "      <td>2021-12-03 08:56:14</td>\n",
              "      <td>0.198067</td>\n",
              "      <td>0.001685</td>\n",
              "      <td>0.062289</td>\n",
              "      <td>0.646822</td>\n",
              "      <td>0.912724</td>\n",
              "      <td>0.007610</td>\n",
              "      <td>0.001622</td>\n",
              "      <td>0.990849</td>\n",
              "    </tr>\n",
              "    <tr>\n",
              "      <th>2</th>\n",
              "      <td>2021-12-03 08:56:15</td>\n",
              "      <td>0.195565</td>\n",
              "      <td>0.001756</td>\n",
              "      <td>0.065871</td>\n",
              "      <td>0.651701</td>\n",
              "      <td>0.913653</td>\n",
              "      <td>0.007435</td>\n",
              "      <td>0.001656</td>\n",
              "      <td>0.991099</td>\n",
              "    </tr>\n",
              "    <tr>\n",
              "      <th>3</th>\n",
              "      <td>2021-12-03 08:56:16</td>\n",
              "      <td>0.228768</td>\n",
              "      <td>0.001877</td>\n",
              "      <td>0.067001</td>\n",
              "      <td>0.648844</td>\n",
              "      <td>0.921188</td>\n",
              "      <td>0.007074</td>\n",
              "      <td>0.001635</td>\n",
              "      <td>0.991188</td>\n",
              "    </tr>\n",
              "    <tr>\n",
              "      <th>4</th>\n",
              "      <td>2021-12-03 08:56:17</td>\n",
              "      <td>0.193885</td>\n",
              "      <td>0.001713</td>\n",
              "      <td>0.064120</td>\n",
              "      <td>0.649567</td>\n",
              "      <td>0.912471</td>\n",
              "      <td>0.007554</td>\n",
              "      <td>0.001643</td>\n",
              "      <td>0.990962</td>\n",
              "    </tr>\n",
              "    <tr>\n",
              "      <th>...</th>\n",
              "      <td>...</td>\n",
              "      <td>...</td>\n",
              "      <td>...</td>\n",
              "      <td>...</td>\n",
              "      <td>...</td>\n",
              "      <td>...</td>\n",
              "      <td>...</td>\n",
              "      <td>...</td>\n",
              "      <td>...</td>\n",
              "    </tr>\n",
              "    <tr>\n",
              "      <th>27544</th>\n",
              "      <td>2021-12-05 19:35:13</td>\n",
              "      <td>0.973141</td>\n",
              "      <td>0.045963</td>\n",
              "      <td>0.008106</td>\n",
              "      <td>0.169919</td>\n",
              "      <td>0.996330</td>\n",
              "      <td>0.028713</td>\n",
              "      <td>0.002163</td>\n",
              "      <td>0.978963</td>\n",
              "    </tr>\n",
              "    <tr>\n",
              "      <th>27545</th>\n",
              "      <td>2021-12-05 19:35:14</td>\n",
              "      <td>0.973141</td>\n",
              "      <td>0.045963</td>\n",
              "      <td>0.008106</td>\n",
              "      <td>0.169919</td>\n",
              "      <td>0.996330</td>\n",
              "      <td>0.028713</td>\n",
              "      <td>0.002163</td>\n",
              "      <td>0.978963</td>\n",
              "    </tr>\n",
              "    <tr>\n",
              "      <th>27546</th>\n",
              "      <td>2021-12-05 19:35:15</td>\n",
              "      <td>0.973141</td>\n",
              "      <td>0.045963</td>\n",
              "      <td>0.008106</td>\n",
              "      <td>0.169919</td>\n",
              "      <td>0.996330</td>\n",
              "      <td>0.028713</td>\n",
              "      <td>0.002163</td>\n",
              "      <td>0.978963</td>\n",
              "    </tr>\n",
              "    <tr>\n",
              "      <th>27547</th>\n",
              "      <td>2021-12-05 19:35:16</td>\n",
              "      <td>0.973141</td>\n",
              "      <td>0.045963</td>\n",
              "      <td>0.008106</td>\n",
              "      <td>0.169919</td>\n",
              "      <td>0.996330</td>\n",
              "      <td>0.028713</td>\n",
              "      <td>0.002163</td>\n",
              "      <td>0.978963</td>\n",
              "    </tr>\n",
              "    <tr>\n",
              "      <th>27548</th>\n",
              "      <td>2021-12-05 19:35:17</td>\n",
              "      <td>0.973141</td>\n",
              "      <td>0.045963</td>\n",
              "      <td>0.008106</td>\n",
              "      <td>0.169919</td>\n",
              "      <td>0.996330</td>\n",
              "      <td>0.028713</td>\n",
              "      <td>0.002163</td>\n",
              "      <td>0.978963</td>\n",
              "    </tr>\n",
              "  </tbody>\n",
              "</table>\n",
              "<p>93190 rows × 9 columns</p>\n",
              "</div>\n",
              "      <button class=\"colab-df-convert\" onclick=\"convertToInteractive('df-ecfd4ee0-0202-4b54-9469-b2fb323dd958')\"\n",
              "              title=\"Convert this dataframe to an interactive table.\"\n",
              "              style=\"display:none;\">\n",
              "        \n",
              "  <svg xmlns=\"http://www.w3.org/2000/svg\" height=\"24px\"viewBox=\"0 0 24 24\"\n",
              "       width=\"24px\">\n",
              "    <path d=\"M0 0h24v24H0V0z\" fill=\"none\"/>\n",
              "    <path d=\"M18.56 5.44l.94 2.06.94-2.06 2.06-.94-2.06-.94-.94-2.06-.94 2.06-2.06.94zm-11 1L8.5 8.5l.94-2.06 2.06-.94-2.06-.94L8.5 2.5l-.94 2.06-2.06.94zm10 10l.94 2.06.94-2.06 2.06-.94-2.06-.94-.94-2.06-.94 2.06-2.06.94z\"/><path d=\"M17.41 7.96l-1.37-1.37c-.4-.4-.92-.59-1.43-.59-.52 0-1.04.2-1.43.59L10.3 9.45l-7.72 7.72c-.78.78-.78 2.05 0 2.83L4 21.41c.39.39.9.59 1.41.59.51 0 1.02-.2 1.41-.59l7.78-7.78 2.81-2.81c.8-.78.8-2.07 0-2.86zM5.41 20L4 18.59l7.72-7.72 1.47 1.35L5.41 20z\"/>\n",
              "  </svg>\n",
              "      </button>\n",
              "      \n",
              "  <style>\n",
              "    .colab-df-container {\n",
              "      display:flex;\n",
              "      flex-wrap:wrap;\n",
              "      gap: 12px;\n",
              "    }\n",
              "\n",
              "    .colab-df-convert {\n",
              "      background-color: #E8F0FE;\n",
              "      border: none;\n",
              "      border-radius: 50%;\n",
              "      cursor: pointer;\n",
              "      display: none;\n",
              "      fill: #1967D2;\n",
              "      height: 32px;\n",
              "      padding: 0 0 0 0;\n",
              "      width: 32px;\n",
              "    }\n",
              "\n",
              "    .colab-df-convert:hover {\n",
              "      background-color: #E2EBFA;\n",
              "      box-shadow: 0px 1px 2px rgba(60, 64, 67, 0.3), 0px 1px 3px 1px rgba(60, 64, 67, 0.15);\n",
              "      fill: #174EA6;\n",
              "    }\n",
              "\n",
              "    [theme=dark] .colab-df-convert {\n",
              "      background-color: #3B4455;\n",
              "      fill: #D2E3FC;\n",
              "    }\n",
              "\n",
              "    [theme=dark] .colab-df-convert:hover {\n",
              "      background-color: #434B5C;\n",
              "      box-shadow: 0px 1px 3px 1px rgba(0, 0, 0, 0.15);\n",
              "      filter: drop-shadow(0px 1px 2px rgba(0, 0, 0, 0.3));\n",
              "      fill: #FFFFFF;\n",
              "    }\n",
              "  </style>\n",
              "\n",
              "      <script>\n",
              "        const buttonEl =\n",
              "          document.querySelector('#df-ecfd4ee0-0202-4b54-9469-b2fb323dd958 button.colab-df-convert');\n",
              "        buttonEl.style.display =\n",
              "          google.colab.kernel.accessAllowed ? 'block' : 'none';\n",
              "\n",
              "        async function convertToInteractive(key) {\n",
              "          const element = document.querySelector('#df-ecfd4ee0-0202-4b54-9469-b2fb323dd958');\n",
              "          const dataTable =\n",
              "            await google.colab.kernel.invokeFunction('convertToInteractive',\n",
              "                                                     [key], {});\n",
              "          if (!dataTable) return;\n",
              "\n",
              "          const docLinkHtml = 'Like what you see? Visit the ' +\n",
              "            '<a target=\"_blank\" href=https://colab.research.google.com/notebooks/data_table.ipynb>data table notebook</a>'\n",
              "            + ' to learn more about interactive tables.';\n",
              "          element.innerHTML = '';\n",
              "          dataTable['output_type'] = 'display_data';\n",
              "          await google.colab.output.renderOutput(dataTable, element);\n",
              "          const docLink = document.createElement('div');\n",
              "          docLink.innerHTML = docLinkHtml;\n",
              "          element.appendChild(docLink);\n",
              "        }\n",
              "      </script>\n",
              "    </div>\n",
              "  </div>\n",
              "  "
            ]
          },
          "metadata": {},
          "execution_count": 20
        }
      ]
    },
    {
      "cell_type": "code",
      "source": [
        "test_df = test_temp.drop(columns = ['DATE'])\n",
        "\n",
        "# 클러스터링 결과 각 데이터가 어디 그룹에 속하는지 저장\n",
        "predicted = model.predict(test_df)"
      ],
      "metadata": {
        "id": "uaHMe7NueY4B"
      },
      "execution_count": null,
      "outputs": []
    },
    {
      "cell_type": "code",
      "source": [
        "test_df['cluster'] = predicted"
      ],
      "metadata": {
        "id": "ZEkCqbEtfm84"
      },
      "execution_count": null,
      "outputs": []
    },
    {
      "cell_type": "code",
      "source": [
        "test_df"
      ],
      "metadata": {
        "colab": {
          "base_uri": "https://localhost:8080/",
          "height": 423
        },
        "id": "nZVjZ-A0fwyB",
        "outputId": "99ea6398-24f7-4d38-a72f-a80dd91a79ea"
      },
      "execution_count": null,
      "outputs": [
        {
          "output_type": "execute_result",
          "data": {
            "text/plain": [
              "              0         1         2         3         4         5         6  \\\n",
              "0      0.173659  0.001658  0.063130  0.654376  0.907993  0.007730  0.001650   \n",
              "1      0.198067  0.001685  0.062289  0.646822  0.912724  0.007610  0.001622   \n",
              "2      0.195565  0.001756  0.065871  0.651701  0.913653  0.007435  0.001656   \n",
              "3      0.228768  0.001877  0.067001  0.648844  0.921188  0.007074  0.001635   \n",
              "4      0.193885  0.001713  0.064120  0.649567  0.912471  0.007554  0.001643   \n",
              "...         ...       ...       ...       ...       ...       ...       ...   \n",
              "27544  0.973141  0.045963  0.008106  0.169919  0.996330  0.028713  0.002163   \n",
              "27545  0.973141  0.045963  0.008106  0.169919  0.996330  0.028713  0.002163   \n",
              "27546  0.973141  0.045963  0.008106  0.169919  0.996330  0.028713  0.002163   \n",
              "27547  0.973141  0.045963  0.008106  0.169919  0.996330  0.028713  0.002163   \n",
              "27548  0.973141  0.045963  0.008106  0.169919  0.996330  0.028713  0.002163   \n",
              "\n",
              "              7  cluster  \n",
              "0      0.990961        1  \n",
              "1      0.990849        1  \n",
              "2      0.991099        1  \n",
              "3      0.991188        1  \n",
              "4      0.990962        1  \n",
              "...         ...      ...  \n",
              "27544  0.978963        1  \n",
              "27545  0.978963        1  \n",
              "27546  0.978963        1  \n",
              "27547  0.978963        1  \n",
              "27548  0.978963        1  \n",
              "\n",
              "[93190 rows x 9 columns]"
            ],
            "text/html": [
              "\n",
              "  <div id=\"df-a7fe739c-0d9c-4198-8012-cd0b356ad73f\">\n",
              "    <div class=\"colab-df-container\">\n",
              "      <div>\n",
              "<style scoped>\n",
              "    .dataframe tbody tr th:only-of-type {\n",
              "        vertical-align: middle;\n",
              "    }\n",
              "\n",
              "    .dataframe tbody tr th {\n",
              "        vertical-align: top;\n",
              "    }\n",
              "\n",
              "    .dataframe thead th {\n",
              "        text-align: right;\n",
              "    }\n",
              "</style>\n",
              "<table border=\"1\" class=\"dataframe\">\n",
              "  <thead>\n",
              "    <tr style=\"text-align: right;\">\n",
              "      <th></th>\n",
              "      <th>0</th>\n",
              "      <th>1</th>\n",
              "      <th>2</th>\n",
              "      <th>3</th>\n",
              "      <th>4</th>\n",
              "      <th>5</th>\n",
              "      <th>6</th>\n",
              "      <th>7</th>\n",
              "      <th>cluster</th>\n",
              "    </tr>\n",
              "  </thead>\n",
              "  <tbody>\n",
              "    <tr>\n",
              "      <th>0</th>\n",
              "      <td>0.173659</td>\n",
              "      <td>0.001658</td>\n",
              "      <td>0.063130</td>\n",
              "      <td>0.654376</td>\n",
              "      <td>0.907993</td>\n",
              "      <td>0.007730</td>\n",
              "      <td>0.001650</td>\n",
              "      <td>0.990961</td>\n",
              "      <td>1</td>\n",
              "    </tr>\n",
              "    <tr>\n",
              "      <th>1</th>\n",
              "      <td>0.198067</td>\n",
              "      <td>0.001685</td>\n",
              "      <td>0.062289</td>\n",
              "      <td>0.646822</td>\n",
              "      <td>0.912724</td>\n",
              "      <td>0.007610</td>\n",
              "      <td>0.001622</td>\n",
              "      <td>0.990849</td>\n",
              "      <td>1</td>\n",
              "    </tr>\n",
              "    <tr>\n",
              "      <th>2</th>\n",
              "      <td>0.195565</td>\n",
              "      <td>0.001756</td>\n",
              "      <td>0.065871</td>\n",
              "      <td>0.651701</td>\n",
              "      <td>0.913653</td>\n",
              "      <td>0.007435</td>\n",
              "      <td>0.001656</td>\n",
              "      <td>0.991099</td>\n",
              "      <td>1</td>\n",
              "    </tr>\n",
              "    <tr>\n",
              "      <th>3</th>\n",
              "      <td>0.228768</td>\n",
              "      <td>0.001877</td>\n",
              "      <td>0.067001</td>\n",
              "      <td>0.648844</td>\n",
              "      <td>0.921188</td>\n",
              "      <td>0.007074</td>\n",
              "      <td>0.001635</td>\n",
              "      <td>0.991188</td>\n",
              "      <td>1</td>\n",
              "    </tr>\n",
              "    <tr>\n",
              "      <th>4</th>\n",
              "      <td>0.193885</td>\n",
              "      <td>0.001713</td>\n",
              "      <td>0.064120</td>\n",
              "      <td>0.649567</td>\n",
              "      <td>0.912471</td>\n",
              "      <td>0.007554</td>\n",
              "      <td>0.001643</td>\n",
              "      <td>0.990962</td>\n",
              "      <td>1</td>\n",
              "    </tr>\n",
              "    <tr>\n",
              "      <th>...</th>\n",
              "      <td>...</td>\n",
              "      <td>...</td>\n",
              "      <td>...</td>\n",
              "      <td>...</td>\n",
              "      <td>...</td>\n",
              "      <td>...</td>\n",
              "      <td>...</td>\n",
              "      <td>...</td>\n",
              "      <td>...</td>\n",
              "    </tr>\n",
              "    <tr>\n",
              "      <th>27544</th>\n",
              "      <td>0.973141</td>\n",
              "      <td>0.045963</td>\n",
              "      <td>0.008106</td>\n",
              "      <td>0.169919</td>\n",
              "      <td>0.996330</td>\n",
              "      <td>0.028713</td>\n",
              "      <td>0.002163</td>\n",
              "      <td>0.978963</td>\n",
              "      <td>1</td>\n",
              "    </tr>\n",
              "    <tr>\n",
              "      <th>27545</th>\n",
              "      <td>0.973141</td>\n",
              "      <td>0.045963</td>\n",
              "      <td>0.008106</td>\n",
              "      <td>0.169919</td>\n",
              "      <td>0.996330</td>\n",
              "      <td>0.028713</td>\n",
              "      <td>0.002163</td>\n",
              "      <td>0.978963</td>\n",
              "      <td>1</td>\n",
              "    </tr>\n",
              "    <tr>\n",
              "      <th>27546</th>\n",
              "      <td>0.973141</td>\n",
              "      <td>0.045963</td>\n",
              "      <td>0.008106</td>\n",
              "      <td>0.169919</td>\n",
              "      <td>0.996330</td>\n",
              "      <td>0.028713</td>\n",
              "      <td>0.002163</td>\n",
              "      <td>0.978963</td>\n",
              "      <td>1</td>\n",
              "    </tr>\n",
              "    <tr>\n",
              "      <th>27547</th>\n",
              "      <td>0.973141</td>\n",
              "      <td>0.045963</td>\n",
              "      <td>0.008106</td>\n",
              "      <td>0.169919</td>\n",
              "      <td>0.996330</td>\n",
              "      <td>0.028713</td>\n",
              "      <td>0.002163</td>\n",
              "      <td>0.978963</td>\n",
              "      <td>1</td>\n",
              "    </tr>\n",
              "    <tr>\n",
              "      <th>27548</th>\n",
              "      <td>0.973141</td>\n",
              "      <td>0.045963</td>\n",
              "      <td>0.008106</td>\n",
              "      <td>0.169919</td>\n",
              "      <td>0.996330</td>\n",
              "      <td>0.028713</td>\n",
              "      <td>0.002163</td>\n",
              "      <td>0.978963</td>\n",
              "      <td>1</td>\n",
              "    </tr>\n",
              "  </tbody>\n",
              "</table>\n",
              "<p>93190 rows × 9 columns</p>\n",
              "</div>\n",
              "      <button class=\"colab-df-convert\" onclick=\"convertToInteractive('df-a7fe739c-0d9c-4198-8012-cd0b356ad73f')\"\n",
              "              title=\"Convert this dataframe to an interactive table.\"\n",
              "              style=\"display:none;\">\n",
              "        \n",
              "  <svg xmlns=\"http://www.w3.org/2000/svg\" height=\"24px\"viewBox=\"0 0 24 24\"\n",
              "       width=\"24px\">\n",
              "    <path d=\"M0 0h24v24H0V0z\" fill=\"none\"/>\n",
              "    <path d=\"M18.56 5.44l.94 2.06.94-2.06 2.06-.94-2.06-.94-.94-2.06-.94 2.06-2.06.94zm-11 1L8.5 8.5l.94-2.06 2.06-.94-2.06-.94L8.5 2.5l-.94 2.06-2.06.94zm10 10l.94 2.06.94-2.06 2.06-.94-2.06-.94-.94-2.06-.94 2.06-2.06.94z\"/><path d=\"M17.41 7.96l-1.37-1.37c-.4-.4-.92-.59-1.43-.59-.52 0-1.04.2-1.43.59L10.3 9.45l-7.72 7.72c-.78.78-.78 2.05 0 2.83L4 21.41c.39.39.9.59 1.41.59.51 0 1.02-.2 1.41-.59l7.78-7.78 2.81-2.81c.8-.78.8-2.07 0-2.86zM5.41 20L4 18.59l7.72-7.72 1.47 1.35L5.41 20z\"/>\n",
              "  </svg>\n",
              "      </button>\n",
              "      \n",
              "  <style>\n",
              "    .colab-df-container {\n",
              "      display:flex;\n",
              "      flex-wrap:wrap;\n",
              "      gap: 12px;\n",
              "    }\n",
              "\n",
              "    .colab-df-convert {\n",
              "      background-color: #E8F0FE;\n",
              "      border: none;\n",
              "      border-radius: 50%;\n",
              "      cursor: pointer;\n",
              "      display: none;\n",
              "      fill: #1967D2;\n",
              "      height: 32px;\n",
              "      padding: 0 0 0 0;\n",
              "      width: 32px;\n",
              "    }\n",
              "\n",
              "    .colab-df-convert:hover {\n",
              "      background-color: #E2EBFA;\n",
              "      box-shadow: 0px 1px 2px rgba(60, 64, 67, 0.3), 0px 1px 3px 1px rgba(60, 64, 67, 0.15);\n",
              "      fill: #174EA6;\n",
              "    }\n",
              "\n",
              "    [theme=dark] .colab-df-convert {\n",
              "      background-color: #3B4455;\n",
              "      fill: #D2E3FC;\n",
              "    }\n",
              "\n",
              "    [theme=dark] .colab-df-convert:hover {\n",
              "      background-color: #434B5C;\n",
              "      box-shadow: 0px 1px 3px 1px rgba(0, 0, 0, 0.15);\n",
              "      filter: drop-shadow(0px 1px 2px rgba(0, 0, 0, 0.3));\n",
              "      fill: #FFFFFF;\n",
              "    }\n",
              "  </style>\n",
              "\n",
              "      <script>\n",
              "        const buttonEl =\n",
              "          document.querySelector('#df-a7fe739c-0d9c-4198-8012-cd0b356ad73f button.colab-df-convert');\n",
              "        buttonEl.style.display =\n",
              "          google.colab.kernel.accessAllowed ? 'block' : 'none';\n",
              "\n",
              "        async function convertToInteractive(key) {\n",
              "          const element = document.querySelector('#df-a7fe739c-0d9c-4198-8012-cd0b356ad73f');\n",
              "          const dataTable =\n",
              "            await google.colab.kernel.invokeFunction('convertToInteractive',\n",
              "                                                     [key], {});\n",
              "          if (!dataTable) return;\n",
              "\n",
              "          const docLinkHtml = 'Like what you see? Visit the ' +\n",
              "            '<a target=\"_blank\" href=https://colab.research.google.com/notebooks/data_table.ipynb>data table notebook</a>'\n",
              "            + ' to learn more about interactive tables.';\n",
              "          element.innerHTML = '';\n",
              "          dataTable['output_type'] = 'display_data';\n",
              "          await google.colab.output.renderOutput(dataTable, element);\n",
              "          const docLink = document.createElement('div');\n",
              "          docLink.innerHTML = docLinkHtml;\n",
              "          element.appendChild(docLink);\n",
              "        }\n",
              "      </script>\n",
              "    </div>\n",
              "  </div>\n",
              "  "
            ]
          },
          "metadata": {},
          "execution_count": 24
        }
      ]
    },
    {
      "cell_type": "code",
      "source": [
        "test_df['cluster'].value_counts()"
      ],
      "metadata": {
        "colab": {
          "base_uri": "https://localhost:8080/"
        },
        "id": "xl96DLMOfxfY",
        "outputId": "8e4a83ab-04e0-4473-f19f-ffe4c1ca3cc4"
      },
      "execution_count": null,
      "outputs": [
        {
          "output_type": "execute_result",
          "data": {
            "text/plain": [
              "1    84419\n",
              "0     8717\n",
              "2       45\n",
              "5        8\n",
              "4        1\n",
              "Name: cluster, dtype: int64"
            ]
          },
          "metadata": {},
          "execution_count": 25
        }
      ]
    },
    {
      "cell_type": "code",
      "source": [
        "visualizer = SilhouetteVisualizer(model, size=(1920,1080),colors='yellowbrick')\n",
        "\n",
        "visualizer.fit(test_temp.drop(columns = ['DATE']))        # Fit the data to the visualizer\n",
        "visualizer.show()"
      ],
      "metadata": {
        "colab": {
          "base_uri": "https://localhost:8080/",
          "height": 752
        },
        "id": "SJ-4RvnQgFeK",
        "outputId": "c0cb9d9e-566b-412d-d662-bce7494b8fd1"
      },
      "execution_count": null,
      "outputs": [
        {
          "output_type": "stream",
          "name": "stderr",
          "text": [
            "/usr/local/lib/python3.7/dist-packages/sklearn/base.py:451: UserWarning: X does not have valid feature names, but KMeans was fitted with feature names\n",
            "  \"X does not have valid feature names, but\"\n"
          ]
        },
        {
          "output_type": "display_data",
          "data": {
            "text/plain": [
              "<Figure size 1920x1080 with 1 Axes>"
            ],
            "image/png": "[encoded data removed]"
          },
          "metadata": {}
        },
        {
          "output_type": "execute_result",
          "data": {
            "text/plain": [
              "<matplotlib.axes._subplots.AxesSubplot at 0x7fe46d2cc110>"
            ]
          },
          "metadata": {},
          "execution_count": 31
        }
      ]
    },
    {
      "cell_type": "code",
      "source": [
        "\n",
        "visualizer = InterclusterDistance(model,size=(1080, 720),legend = 0)\n",
        "visualizer.fit(test_temp.drop(columns = ['DATE'])) \n",
        "visualizer.show()"
      ],
      "metadata": {
        "colab": {
          "base_uri": "https://localhost:8080/",
          "height": 666
        },
        "id": "ehzJlOZAh0p4",
        "outputId": "2e6ee2d2-e74d-45b9-c1eb-045dd5cc0c90"
      },
      "execution_count": null,
      "outputs": [
        {
          "output_type": "stream",
          "name": "stderr",
          "text": [
            "/usr/local/lib/python3.7/dist-packages/sklearn/base.py:451: UserWarning: X does not have valid feature names, but KMeans was fitted with feature names\n",
            "  \"X does not have valid feature names, but\"\n"
          ]
        },
        {
          "output_type": "display_data",
          "data": {
            "text/plain": [
              "<Figure size 1080x720 with 1 Axes>"
            ],
            "image/png": "[encoded data removed]"
          },
          "metadata": {}
        },
        {
          "output_type": "execute_result",
          "data": {
            "text/plain": [
              "<matplotlib.axes._subplots.AxesSubplot at 0x7fe47b274790>"
            ]
          },
          "metadata": {},
          "execution_count": 27
        }
      ]
    },
    {
      "cell_type": "code",
      "source": [
        ""
      ],
      "metadata": {
        "id": "AmdTf_ETqEmV"
      },
      "execution_count": null,
      "outputs": []
    },
    {
      "cell_type": "code",
      "source": [
        ""
      ],
      "metadata": {
        "id": "_QddwBzu5idb"
      },
      "execution_count": null,
      "outputs": []
    },
    {
      "cell_type": "markdown",
      "source": [
        "# k-means"
      ],
      "metadata": {
        "id": "2z31g8ud5i1B"
      }
    },
    {
      "cell_type": "markdown",
      "source": [
        "## KElbowVisualizer"
      ],
      "metadata": {
        "id": "K2Q-V6bK5i1B"
      }
    },
    {
      "cell_type": "code",
      "source": [
        "temp = pd.DataFrame()\n",
        "for id in id_list:\n",
        "    df = mydict[id]\n",
        "    df.columns = ['DATE','0','1','2','3','4','5','6','7']\n",
        "    temp = pd.concat([temp,df])\n",
        "\n",
        "temp.reset_index(drop = True)\n",
        "\n",
        "df = pd.DataFrame(temp)"
      ],
      "metadata": {
        "id": "52S-9yNn7GgP"
      },
      "execution_count": null,
      "outputs": []
    },
    {
      "cell_type": "code",
      "source": [
        "k10_df = df.drop(columns = ['DATE'])"
      ],
      "metadata": {
        "id": "rhJr5SE75i1B"
      },
      "execution_count": null,
      "outputs": []
    },
    {
      "cell_type": "code",
      "source": [
        "k10_df"
      ],
      "metadata": {
        "colab": {
          "base_uri": "https://localhost:8080/",
          "height": 423
        },
        "id": "cN1Lyj0joaS6",
        "outputId": "c97b7e11-2b93-40a4-e3c1-cc7374a2767e"
      },
      "execution_count": null,
      "outputs": [
        {
          "output_type": "execute_result",
          "data": {
            "text/plain": [
              "            0         1         2         3         4         5         6  \\\n",
              "0    0.981262  0.990319  0.979536  0.328138  0.985659  0.794406  0.967414   \n",
              "1    0.962457  0.998730  0.998241  0.975713  0.868509  0.205135  0.993087   \n",
              "2    0.986374  0.998717  0.997116  0.925132  0.966387  0.803887  0.993642   \n",
              "3    0.974020  0.998734  0.998220  0.973949  0.870613  0.340489  0.994713   \n",
              "4    0.982181  0.998724  0.997959  0.968855  0.912446  0.521101  0.995326   \n",
              "..        ...       ...       ...       ...       ...       ...       ...   \n",
              "718  0.057448  0.001689  0.000070  0.079439  0.010539  0.052714  0.039905   \n",
              "719  0.057815  0.001603  0.000069  0.079451  0.010530  0.048433  0.038144   \n",
              "720  0.060785  0.001497  0.000066  0.077506  0.011072  0.041750  0.034849   \n",
              "721  0.059896  0.001556  0.000068  0.078155  0.010878  0.045338  0.036629   \n",
              "722  0.058858  0.001595  0.000069  0.078965  0.010701  0.047617  0.037766   \n",
              "\n",
              "            7  \n",
              "0    0.900350  \n",
              "1    0.139415  \n",
              "2    0.401863  \n",
              "3    0.124057  \n",
              "4    0.157700  \n",
              "..        ...  \n",
              "718  0.004037  \n",
              "719  0.004177  \n",
              "720  0.004532  \n",
              "721  0.004357  \n",
              "722  0.004242  \n",
              "\n",
              "[281501 rows x 8 columns]"
            ],
            "text/html": [
              "\n",
              "  <div id=\"df-4760eff8-1ad6-4cd1-aa8f-d1ecbea36c9f\">\n",
              "    <div class=\"colab-df-container\">\n",
              "      <div>\n",
              "<style scoped>\n",
              "    .dataframe tbody tr th:only-of-type {\n",
              "        vertical-align: middle;\n",
              "    }\n",
              "\n",
              "    .dataframe tbody tr th {\n",
              "        vertical-align: top;\n",
              "    }\n",
              "\n",
              "    .dataframe thead th {\n",
              "        text-align: right;\n",
              "    }\n",
              "</style>\n",
              "<table border=\"1\" class=\"dataframe\">\n",
              "  <thead>\n",
              "    <tr style=\"text-align: right;\">\n",
              "      <th></th>\n",
              "      <th>0</th>\n",
              "      <th>1</th>\n",
              "      <th>2</th>\n",
              "      <th>3</th>\n",
              "      <th>4</th>\n",
              "      <th>5</th>\n",
              "      <th>6</th>\n",
              "      <th>7</th>\n",
              "    </tr>\n",
              "  </thead>\n",
              "  <tbody>\n",
              "    <tr>\n",
              "      <th>0</th>\n",
              "      <td>0.981262</td>\n",
              "      <td>0.990319</td>\n",
              "      <td>0.979536</td>\n",
              "      <td>0.328138</td>\n",
              "      <td>0.985659</td>\n",
              "      <td>0.794406</td>\n",
              "      <td>0.967414</td>\n",
              "      <td>0.900350</td>\n",
              "    </tr>\n",
              "    <tr>\n",
              "      <th>1</th>\n",
              "      <td>0.962457</td>\n",
              "      <td>0.998730</td>\n",
              "      <td>0.998241</td>\n",
              "      <td>0.975713</td>\n",
              "      <td>0.868509</td>\n",
              "      <td>0.205135</td>\n",
              "      <td>0.993087</td>\n",
              "      <td>0.139415</td>\n",
              "    </tr>\n",
              "    <tr>\n",
              "      <th>2</th>\n",
              "      <td>0.986374</td>\n",
              "      <td>0.998717</td>\n",
              "      <td>0.997116</td>\n",
              "      <td>0.925132</td>\n",
              "      <td>0.966387</td>\n",
              "      <td>0.803887</td>\n",
              "      <td>0.993642</td>\n",
              "      <td>0.401863</td>\n",
              "    </tr>\n",
              "    <tr>\n",
              "      <th>3</th>\n",
              "      <td>0.974020</td>\n",
              "      <td>0.998734</td>\n",
              "      <td>0.998220</td>\n",
              "      <td>0.973949</td>\n",
              "      <td>0.870613</td>\n",
              "      <td>0.340489</td>\n",
              "      <td>0.994713</td>\n",
              "      <td>0.124057</td>\n",
              "    </tr>\n",
              "    <tr>\n",
              "      <th>4</th>\n",
              "      <td>0.982181</td>\n",
              "      <td>0.998724</td>\n",
              "      <td>0.997959</td>\n",
              "      <td>0.968855</td>\n",
              "      <td>0.912446</td>\n",
              "      <td>0.521101</td>\n",
              "      <td>0.995326</td>\n",
              "      <td>0.157700</td>\n",
              "    </tr>\n",
              "    <tr>\n",
              "      <th>...</th>\n",
              "      <td>...</td>\n",
              "      <td>...</td>\n",
              "      <td>...</td>\n",
              "      <td>...</td>\n",
              "      <td>...</td>\n",
              "      <td>...</td>\n",
              "      <td>...</td>\n",
              "      <td>...</td>\n",
              "    </tr>\n",
              "    <tr>\n",
              "      <th>718</th>\n",
              "      <td>0.057448</td>\n",
              "      <td>0.001689</td>\n",
              "      <td>0.000070</td>\n",
              "      <td>0.079439</td>\n",
              "      <td>0.010539</td>\n",
              "      <td>0.052714</td>\n",
              "      <td>0.039905</td>\n",
              "      <td>0.004037</td>\n",
              "    </tr>\n",
              "    <tr>\n",
              "      <th>719</th>\n",
              "      <td>0.057815</td>\n",
              "      <td>0.001603</td>\n",
              "      <td>0.000069</td>\n",
              "      <td>0.079451</td>\n",
              "      <td>0.010530</td>\n",
              "      <td>0.048433</td>\n",
              "      <td>0.038144</td>\n",
              "      <td>0.004177</td>\n",
              "    </tr>\n",
              "    <tr>\n",
              "      <th>720</th>\n",
              "      <td>0.060785</td>\n",
              "      <td>0.001497</td>\n",
              "      <td>0.000066</td>\n",
              "      <td>0.077506</td>\n",
              "      <td>0.011072</td>\n",
              "      <td>0.041750</td>\n",
              "      <td>0.034849</td>\n",
              "      <td>0.004532</td>\n",
              "    </tr>\n",
              "    <tr>\n",
              "      <th>721</th>\n",
              "      <td>0.059896</td>\n",
              "      <td>0.001556</td>\n",
              "      <td>0.000068</td>\n",
              "      <td>0.078155</td>\n",
              "      <td>0.010878</td>\n",
              "      <td>0.045338</td>\n",
              "      <td>0.036629</td>\n",
              "      <td>0.004357</td>\n",
              "    </tr>\n",
              "    <tr>\n",
              "      <th>722</th>\n",
              "      <td>0.058858</td>\n",
              "      <td>0.001595</td>\n",
              "      <td>0.000069</td>\n",
              "      <td>0.078965</td>\n",
              "      <td>0.010701</td>\n",
              "      <td>0.047617</td>\n",
              "      <td>0.037766</td>\n",
              "      <td>0.004242</td>\n",
              "    </tr>\n",
              "  </tbody>\n",
              "</table>\n",
              "<p>281501 rows × 8 columns</p>\n",
              "</div>\n",
              "      <button class=\"colab-df-convert\" onclick=\"convertToInteractive('df-4760eff8-1ad6-4cd1-aa8f-d1ecbea36c9f')\"\n",
              "              title=\"Convert this dataframe to an interactive table.\"\n",
              "              style=\"display:none;\">\n",
              "        \n",
              "  <svg xmlns=\"http://www.w3.org/2000/svg\" height=\"24px\"viewBox=\"0 0 24 24\"\n",
              "       width=\"24px\">\n",
              "    <path d=\"M0 0h24v24H0V0z\" fill=\"none\"/>\n",
              "    <path d=\"M18.56 5.44l.94 2.06.94-2.06 2.06-.94-2.06-.94-.94-2.06-.94 2.06-2.06.94zm-11 1L8.5 8.5l.94-2.06 2.06-.94-2.06-.94L8.5 2.5l-.94 2.06-2.06.94zm10 10l.94 2.06.94-2.06 2.06-.94-2.06-.94-.94-2.06-.94 2.06-2.06.94z\"/><path d=\"M17.41 7.96l-1.37-1.37c-.4-.4-.92-.59-1.43-.59-.52 0-1.04.2-1.43.59L10.3 9.45l-7.72 7.72c-.78.78-.78 2.05 0 2.83L4 21.41c.39.39.9.59 1.41.59.51 0 1.02-.2 1.41-.59l7.78-7.78 2.81-2.81c.8-.78.8-2.07 0-2.86zM5.41 20L4 18.59l7.72-7.72 1.47 1.35L5.41 20z\"/>\n",
              "  </svg>\n",
              "      </button>\n",
              "      \n",
              "  <style>\n",
              "    .colab-df-container {\n",
              "      display:flex;\n",
              "      flex-wrap:wrap;\n",
              "      gap: 12px;\n",
              "    }\n",
              "\n",
              "    .colab-df-convert {\n",
              "      background-color: #E8F0FE;\n",
              "      border: none;\n",
              "      border-radius: 50%;\n",
              "      cursor: pointer;\n",
              "      display: none;\n",
              "      fill: #1967D2;\n",
              "      height: 32px;\n",
              "      padding: 0 0 0 0;\n",
              "      width: 32px;\n",
              "    }\n",
              "\n",
              "    .colab-df-convert:hover {\n",
              "      background-color: #E2EBFA;\n",
              "      box-shadow: 0px 1px 2px rgba(60, 64, 67, 0.3), 0px 1px 3px 1px rgba(60, 64, 67, 0.15);\n",
              "      fill: #174EA6;\n",
              "    }\n",
              "\n",
              "    [theme=dark] .colab-df-convert {\n",
              "      background-color: #3B4455;\n",
              "      fill: #D2E3FC;\n",
              "    }\n",
              "\n",
              "    [theme=dark] .colab-df-convert:hover {\n",
              "      background-color: #434B5C;\n",
              "      box-shadow: 0px 1px 3px 1px rgba(0, 0, 0, 0.15);\n",
              "      filter: drop-shadow(0px 1px 2px rgba(0, 0, 0, 0.3));\n",
              "      fill: #FFFFFF;\n",
              "    }\n",
              "  </style>\n",
              "\n",
              "      <script>\n",
              "        const buttonEl =\n",
              "          document.querySelector('#df-4760eff8-1ad6-4cd1-aa8f-d1ecbea36c9f button.colab-df-convert');\n",
              "        buttonEl.style.display =\n",
              "          google.colab.kernel.accessAllowed ? 'block' : 'none';\n",
              "\n",
              "        async function convertToInteractive(key) {\n",
              "          const element = document.querySelector('#df-4760eff8-1ad6-4cd1-aa8f-d1ecbea36c9f');\n",
              "          const dataTable =\n",
              "            await google.colab.kernel.invokeFunction('convertToInteractive',\n",
              "                                                     [key], {});\n",
              "          if (!dataTable) return;\n",
              "\n",
              "          const docLinkHtml = 'Like what you see? Visit the ' +\n",
              "            '<a target=\"_blank\" href=https://colab.research.google.com/notebooks/data_table.ipynb>data table notebook</a>'\n",
              "            + ' to learn more about interactive tables.';\n",
              "          element.innerHTML = '';\n",
              "          dataTable['output_type'] = 'display_data';\n",
              "          await google.colab.output.renderOutput(dataTable, element);\n",
              "          const docLink = document.createElement('div');\n",
              "          docLink.innerHTML = docLinkHtml;\n",
              "          element.appendChild(docLink);\n",
              "        }\n",
              "      </script>\n",
              "    </div>\n",
              "  </div>\n",
              "  "
            ]
          },
          "metadata": {},
          "execution_count": 10
        }
      ]
    },
    {
      "cell_type": "markdown",
      "source": [
        "## K = 10"
      ],
      "metadata": {
        "id": "YK1Wgs-S5i1C"
      }
    },
    {
      "cell_type": "code",
      "source": [
        "from sklearn.cluster import KMeans\n",
        "\n",
        "k = 10\n",
        "\n",
        "# 그룹 수, random_state 설정\n",
        "model = KMeans(n_clusters = k, random_state = 10)\n",
        "\n",
        "# 데이터 학습\n",
        "model.fit(k10_df)\n",
        "\n",
        "\n",
        "# 클러스터링 결과 각 데이터가 어디 그룹에 속하는지 저장\n",
        "predicted = model.predict(k10_df)"
      ],
      "metadata": {
        "id": "EHdsJbkV5i1C"
      },
      "execution_count": null,
      "outputs": []
    },
    {
      "cell_type": "code",
      "source": [
        "k10_df['cluster'] = 0 #컬럼 생성 + integer 선언 \n",
        "k10_df['cluster'] = predicted"
      ],
      "metadata": {
        "id": "jlMZxefm5i1C"
      },
      "execution_count": null,
      "outputs": []
    },
    {
      "cell_type": "code",
      "source": [
        "k10_df"
      ],
      "metadata": {
        "colab": {
          "base_uri": "https://localhost:8080/",
          "height": 423
        },
        "outputId": "6b9a38b5-9958-4f06-8dd4-78514510e404",
        "id": "6PHxw4qk5i1C"
      },
      "execution_count": null,
      "outputs": [
        {
          "output_type": "execute_result",
          "data": {
            "text/plain": [
              "            0         1         2         3         4         5         6  \\\n",
              "0    0.981262  0.990319  0.979536  0.328138  0.985659  0.794406  0.967414   \n",
              "1    0.962457  0.998730  0.998241  0.975713  0.868509  0.205135  0.993087   \n",
              "2    0.986374  0.998717  0.997116  0.925132  0.966387  0.803887  0.993642   \n",
              "3    0.974020  0.998734  0.998220  0.973949  0.870613  0.340489  0.994713   \n",
              "4    0.982181  0.998724  0.997959  0.968855  0.912446  0.521101  0.995326   \n",
              "..        ...       ...       ...       ...       ...       ...       ...   \n",
              "718  0.057448  0.001689  0.000070  0.079439  0.010539  0.052714  0.039905   \n",
              "719  0.057815  0.001603  0.000069  0.079451  0.010530  0.048433  0.038144   \n",
              "720  0.060785  0.001497  0.000066  0.077506  0.011072  0.041750  0.034849   \n",
              "721  0.059896  0.001556  0.000068  0.078155  0.010878  0.045338  0.036629   \n",
              "722  0.058858  0.001595  0.000069  0.078965  0.010701  0.047617  0.037766   \n",
              "\n",
              "            7  cluster  \n",
              "0    0.900350        3  \n",
              "1    0.139415        1  \n",
              "2    0.401863        1  \n",
              "3    0.124057        1  \n",
              "4    0.157700        1  \n",
              "..        ...      ...  \n",
              "718  0.004037        2  \n",
              "719  0.004177        2  \n",
              "720  0.004532        2  \n",
              "721  0.004357        2  \n",
              "722  0.004242        2  \n",
              "\n",
              "[281501 rows x 9 columns]"
            ],
            "text/html": [
              "\n",
              "  <div id=\"df-ef3eea7d-48c4-4329-b0c6-c6cc97722423\">\n",
              "    <div class=\"colab-df-container\">\n",
              "      <div>\n",
              "<style scoped>\n",
              "    .dataframe tbody tr th:only-of-type {\n",
              "        vertical-align: middle;\n",
              "    }\n",
              "\n",
              "    .dataframe tbody tr th {\n",
              "        vertical-align: top;\n",
              "    }\n",
              "\n",
              "    .dataframe thead th {\n",
              "        text-align: right;\n",
              "    }\n",
              "</style>\n",
              "<table border=\"1\" class=\"dataframe\">\n",
              "  <thead>\n",
              "    <tr style=\"text-align: right;\">\n",
              "      <th></th>\n",
              "      <th>0</th>\n",
              "      <th>1</th>\n",
              "      <th>2</th>\n",
              "      <th>3</th>\n",
              "      <th>4</th>\n",
              "      <th>5</th>\n",
              "      <th>6</th>\n",
              "      <th>7</th>\n",
              "      <th>cluster</th>\n",
              "    </tr>\n",
              "  </thead>\n",
              "  <tbody>\n",
              "    <tr>\n",
              "      <th>0</th>\n",
              "      <td>0.981262</td>\n",
              "      <td>0.990319</td>\n",
              "      <td>0.979536</td>\n",
              "      <td>0.328138</td>\n",
              "      <td>0.985659</td>\n",
              "      <td>0.794406</td>\n",
              "      <td>0.967414</td>\n",
              "      <td>0.900350</td>\n",
              "      <td>3</td>\n",
              "    </tr>\n",
              "    <tr>\n",
              "      <th>1</th>\n",
              "      <td>0.962457</td>\n",
              "      <td>0.998730</td>\n",
              "      <td>0.998241</td>\n",
              "      <td>0.975713</td>\n",
              "      <td>0.868509</td>\n",
              "      <td>0.205135</td>\n",
              "      <td>0.993087</td>\n",
              "      <td>0.139415</td>\n",
              "      <td>1</td>\n",
              "    </tr>\n",
              "    <tr>\n",
              "      <th>2</th>\n",
              "      <td>0.986374</td>\n",
              "      <td>0.998717</td>\n",
              "      <td>0.997116</td>\n",
              "      <td>0.925132</td>\n",
              "      <td>0.966387</td>\n",
              "      <td>0.803887</td>\n",
              "      <td>0.993642</td>\n",
              "      <td>0.401863</td>\n",
              "      <td>1</td>\n",
              "    </tr>\n",
              "    <tr>\n",
              "      <th>3</th>\n",
              "      <td>0.974020</td>\n",
              "      <td>0.998734</td>\n",
              "      <td>0.998220</td>\n",
              "      <td>0.973949</td>\n",
              "      <td>0.870613</td>\n",
              "      <td>0.340489</td>\n",
              "      <td>0.994713</td>\n",
              "      <td>0.124057</td>\n",
              "      <td>1</td>\n",
              "    </tr>\n",
              "    <tr>\n",
              "      <th>4</th>\n",
              "      <td>0.982181</td>\n",
              "      <td>0.998724</td>\n",
              "      <td>0.997959</td>\n",
              "      <td>0.968855</td>\n",
              "      <td>0.912446</td>\n",
              "      <td>0.521101</td>\n",
              "      <td>0.995326</td>\n",
              "      <td>0.157700</td>\n",
              "      <td>1</td>\n",
              "    </tr>\n",
              "    <tr>\n",
              "      <th>...</th>\n",
              "      <td>...</td>\n",
              "      <td>...</td>\n",
              "      <td>...</td>\n",
              "      <td>...</td>\n",
              "      <td>...</td>\n",
              "      <td>...</td>\n",
              "      <td>...</td>\n",
              "      <td>...</td>\n",
              "      <td>...</td>\n",
              "    </tr>\n",
              "    <tr>\n",
              "      <th>718</th>\n",
              "      <td>0.057448</td>\n",
              "      <td>0.001689</td>\n",
              "      <td>0.000070</td>\n",
              "      <td>0.079439</td>\n",
              "      <td>0.010539</td>\n",
              "      <td>0.052714</td>\n",
              "      <td>0.039905</td>\n",
              "      <td>0.004037</td>\n",
              "      <td>2</td>\n",
              "    </tr>\n",
              "    <tr>\n",
              "      <th>719</th>\n",
              "      <td>0.057815</td>\n",
              "      <td>0.001603</td>\n",
              "      <td>0.000069</td>\n",
              "      <td>0.079451</td>\n",
              "      <td>0.010530</td>\n",
              "      <td>0.048433</td>\n",
              "      <td>0.038144</td>\n",
              "      <td>0.004177</td>\n",
              "      <td>2</td>\n",
              "    </tr>\n",
              "    <tr>\n",
              "      <th>720</th>\n",
              "      <td>0.060785</td>\n",
              "      <td>0.001497</td>\n",
              "      <td>0.000066</td>\n",
              "      <td>0.077506</td>\n",
              "      <td>0.011072</td>\n",
              "      <td>0.041750</td>\n",
              "      <td>0.034849</td>\n",
              "      <td>0.004532</td>\n",
              "      <td>2</td>\n",
              "    </tr>\n",
              "    <tr>\n",
              "      <th>721</th>\n",
              "      <td>0.059896</td>\n",
              "      <td>0.001556</td>\n",
              "      <td>0.000068</td>\n",
              "      <td>0.078155</td>\n",
              "      <td>0.010878</td>\n",
              "      <td>0.045338</td>\n",
              "      <td>0.036629</td>\n",
              "      <td>0.004357</td>\n",
              "      <td>2</td>\n",
              "    </tr>\n",
              "    <tr>\n",
              "      <th>722</th>\n",
              "      <td>0.058858</td>\n",
              "      <td>0.001595</td>\n",
              "      <td>0.000069</td>\n",
              "      <td>0.078965</td>\n",
              "      <td>0.010701</td>\n",
              "      <td>0.047617</td>\n",
              "      <td>0.037766</td>\n",
              "      <td>0.004242</td>\n",
              "      <td>2</td>\n",
              "    </tr>\n",
              "  </tbody>\n",
              "</table>\n",
              "<p>281501 rows × 9 columns</p>\n",
              "</div>\n",
              "      <button class=\"colab-df-convert\" onclick=\"convertToInteractive('df-ef3eea7d-48c4-4329-b0c6-c6cc97722423')\"\n",
              "              title=\"Convert this dataframe to an interactive table.\"\n",
              "              style=\"display:none;\">\n",
              "        \n",
              "  <svg xmlns=\"http://www.w3.org/2000/svg\" height=\"24px\"viewBox=\"0 0 24 24\"\n",
              "       width=\"24px\">\n",
              "    <path d=\"M0 0h24v24H0V0z\" fill=\"none\"/>\n",
              "    <path d=\"M18.56 5.44l.94 2.06.94-2.06 2.06-.94-2.06-.94-.94-2.06-.94 2.06-2.06.94zm-11 1L8.5 8.5l.94-2.06 2.06-.94-2.06-.94L8.5 2.5l-.94 2.06-2.06.94zm10 10l.94 2.06.94-2.06 2.06-.94-2.06-.94-.94-2.06-.94 2.06-2.06.94z\"/><path d=\"M17.41 7.96l-1.37-1.37c-.4-.4-.92-.59-1.43-.59-.52 0-1.04.2-1.43.59L10.3 9.45l-7.72 7.72c-.78.78-.78 2.05 0 2.83L4 21.41c.39.39.9.59 1.41.59.51 0 1.02-.2 1.41-.59l7.78-7.78 2.81-2.81c.8-.78.8-2.07 0-2.86zM5.41 20L4 18.59l7.72-7.72 1.47 1.35L5.41 20z\"/>\n",
              "  </svg>\n",
              "      </button>\n",
              "      \n",
              "  <style>\n",
              "    .colab-df-container {\n",
              "      display:flex;\n",
              "      flex-wrap:wrap;\n",
              "      gap: 12px;\n",
              "    }\n",
              "\n",
              "    .colab-df-convert {\n",
              "      background-color: #E8F0FE;\n",
              "      border: none;\n",
              "      border-radius: 50%;\n",
              "      cursor: pointer;\n",
              "      display: none;\n",
              "      fill: #1967D2;\n",
              "      height: 32px;\n",
              "      padding: 0 0 0 0;\n",
              "      width: 32px;\n",
              "    }\n",
              "\n",
              "    .colab-df-convert:hover {\n",
              "      background-color: #E2EBFA;\n",
              "      box-shadow: 0px 1px 2px rgba(60, 64, 67, 0.3), 0px 1px 3px 1px rgba(60, 64, 67, 0.15);\n",
              "      fill: #174EA6;\n",
              "    }\n",
              "\n",
              "    [theme=dark] .colab-df-convert {\n",
              "      background-color: #3B4455;\n",
              "      fill: #D2E3FC;\n",
              "    }\n",
              "\n",
              "    [theme=dark] .colab-df-convert:hover {\n",
              "      background-color: #434B5C;\n",
              "      box-shadow: 0px 1px 3px 1px rgba(0, 0, 0, 0.15);\n",
              "      filter: drop-shadow(0px 1px 2px rgba(0, 0, 0, 0.3));\n",
              "      fill: #FFFFFF;\n",
              "    }\n",
              "  </style>\n",
              "\n",
              "      <script>\n",
              "        const buttonEl =\n",
              "          document.querySelector('#df-ef3eea7d-48c4-4329-b0c6-c6cc97722423 button.colab-df-convert');\n",
              "        buttonEl.style.display =\n",
              "          google.colab.kernel.accessAllowed ? 'block' : 'none';\n",
              "\n",
              "        async function convertToInteractive(key) {\n",
              "          const element = document.querySelector('#df-ef3eea7d-48c4-4329-b0c6-c6cc97722423');\n",
              "          const dataTable =\n",
              "            await google.colab.kernel.invokeFunction('convertToInteractive',\n",
              "                                                     [key], {});\n",
              "          if (!dataTable) return;\n",
              "\n",
              "          const docLinkHtml = 'Like what you see? Visit the ' +\n",
              "            '<a target=\"_blank\" href=https://colab.research.google.com/notebooks/data_table.ipynb>data table notebook</a>'\n",
              "            + ' to learn more about interactive tables.';\n",
              "          element.innerHTML = '';\n",
              "          dataTable['output_type'] = 'display_data';\n",
              "          await google.colab.output.renderOutput(dataTable, element);\n",
              "          const docLink = document.createElement('div');\n",
              "          docLink.innerHTML = docLinkHtml;\n",
              "          element.appendChild(docLink);\n",
              "        }\n",
              "      </script>\n",
              "    </div>\n",
              "  </div>\n",
              "  "
            ]
          },
          "metadata": {},
          "execution_count": 71
        }
      ]
    },
    {
      "cell_type": "code",
      "source": [
        "k10_df['cluster'].value_counts()"
      ],
      "metadata": {
        "colab": {
          "base_uri": "https://localhost:8080/"
        },
        "outputId": "f0e48a31-ad11-4e60-d8a7-f2a0032b28cb",
        "id": "JsCuzLkw5i1C"
      },
      "execution_count": null,
      "outputs": [
        {
          "output_type": "execute_result",
          "data": {
            "text/plain": [
              "3    54955\n",
              "9    53449\n",
              "6    44178\n",
              "1    31160\n",
              "2    24582\n",
              "4    21712\n",
              "8    16885\n",
              "7    13714\n",
              "5    13649\n",
              "0     7217\n",
              "Name: cluster, dtype: int64"
            ]
          },
          "metadata": {},
          "execution_count": 72
        }
      ]
    },
    {
      "cell_type": "markdown",
      "source": [
        "## 전체 데이터셋 k 분포 확인"
      ],
      "metadata": {
        "id": "NEEyoG3K5i1C"
      }
    },
    {
      "cell_type": "code",
      "source": [
        "from yellowbrick.cluster import SilhouetteVisualizer"
      ],
      "metadata": {
        "id": "EYinDzR45i1D"
      },
      "execution_count": null,
      "outputs": []
    },
    {
      "cell_type": "code",
      "source": [
        "model = KMeans(10, random_state=42)\n",
        "\n",
        "visualizer = SilhouetteVisualizer(model, size=(1080, 720),colors='yellowbrick')\n",
        "\n",
        "visualizer.fit(df.drop(columns = ['DATE']))        # Fit the data to the visualizer\n",
        "visualizer.show()"
      ],
      "metadata": {
        "colab": {
          "base_uri": "https://localhost:8080/",
          "height": 638
        },
        "outputId": "08f2b2f6-baf7-4826-9d6f-3c21e044fc1e",
        "id": "7EYYudcz5i1D"
      },
      "execution_count": null,
      "outputs": [
        {
          "output_type": "display_data",
          "data": {
            "text/plain": [
              "<Figure size 1080x720 with 1 Axes>"
            ],
            "image/png": "[encoded data removed]"
          },
          "metadata": {}
        },
        {
          "output_type": "execute_result",
          "data": {
            "text/plain": [
              "<matplotlib.axes._subplots.AxesSubplot at 0x7fcc7e619c90>"
            ]
          },
          "metadata": {},
          "execution_count": 18
        }
      ]
    },
    {
      "cell_type": "markdown",
      "source": [
        "##Intercluster Distance Maps"
      ],
      "metadata": {
        "id": "EogBlfG55i1D"
      }
    },
    {
      "cell_type": "code",
      "source": [
        "from yellowbrick.cluster import InterclusterDistance\n",
        "\n",
        "visualizer = InterclusterDistance(model,size=(1080, 720),legend=0)\n",
        "visualizer.fit(k10_df) \n",
        "visualizer.show()\n"
      ],
      "metadata": {
        "colab": {
          "base_uri": "https://localhost:8080/",
          "height": 666
        },
        "outputId": "fe347d22-c261-4807-e012-6f12b4a8ceb1",
        "id": "6zZNUCfO5i1D"
      },
      "execution_count": null,
      "outputs": [
        {
          "output_type": "stream",
          "name": "stderr",
          "text": [
            "/usr/local/lib/python3.7/dist-packages/sklearn/base.py:451: UserWarning: X does not have valid feature names, but KMeans was fitted with feature names\n",
            "  \"X does not have valid feature names, but\"\n"
          ]
        },
        {
          "output_type": "display_data",
          "data": {
            "text/plain": [
              "<Figure size 1080x720 with 1 Axes>"
            ],
            "image/png": "[encoded data removed]"
          },
          "metadata": {}
        },
        {
          "output_type": "execute_result",
          "data": {
            "text/plain": [
              "<matplotlib.axes._subplots.AxesSubplot at 0x7fcc7b46dd50>"
            ]
          },
          "metadata": {},
          "execution_count": 19
        }
      ]
    },
    {
      "cell_type": "markdown",
      "source": [
        "## test fit"
      ],
      "metadata": {
        "id": "lvJ7I8T05i1D"
      }
    },
    {
      "cell_type": "code",
      "source": [
        "test_id = list(mydict.keys())[-4:-1]\n",
        "test_id"
      ],
      "metadata": {
        "colab": {
          "base_uri": "https://localhost:8080/"
        },
        "outputId": "4547eaaa-ae60-4c12-f415-edc73dc91cc2",
        "id": "u9qf243O5i1D"
      },
      "execution_count": null,
      "outputs": [
        {
          "output_type": "execute_result",
          "data": {
            "text/plain": [
              "['20211203', '20211204', '20211205']"
            ]
          },
          "metadata": {},
          "execution_count": 20
        }
      ]
    },
    {
      "cell_type": "code",
      "source": [
        "test_temp = pd.DataFrame()\n",
        "for id in test_id:\n",
        "    df = mydict[id]\n",
        "    df.columns = ['DATE','0','1','2','3','4','5','6','7']\n",
        "    test_temp = pd.concat([test_temp,df])"
      ],
      "metadata": {
        "id": "SsnM3ujO5i1D"
      },
      "execution_count": null,
      "outputs": []
    },
    {
      "cell_type": "code",
      "source": [
        "test_temp"
      ],
      "metadata": {
        "colab": {
          "base_uri": "https://localhost:8080/",
          "height": 423
        },
        "outputId": "f1a7d1b7-476d-48bc-d52e-9eb9f21658fd",
        "id": "uvxbM3GQ5i1D"
      },
      "execution_count": null,
      "outputs": [
        {
          "output_type": "execute_result",
          "data": {
            "text/plain": [
              "                      DATE         0         1         2         3         4  \\\n",
              "0      2021-12-03 08:56:13  0.173659  0.001658  0.063130  0.654376  0.907993   \n",
              "1      2021-12-03 08:56:14  0.198067  0.001685  0.062289  0.646822  0.912724   \n",
              "2      2021-12-03 08:56:15  0.195565  0.001756  0.065871  0.651701  0.913653   \n",
              "3      2021-12-03 08:56:16  0.228768  0.001877  0.067001  0.648844  0.921188   \n",
              "4      2021-12-03 08:56:17  0.193885  0.001713  0.064120  0.649567  0.912471   \n",
              "...                    ...       ...       ...       ...       ...       ...   \n",
              "27544  2021-12-05 19:35:13  0.973141  0.045963  0.008106  0.169919  0.996330   \n",
              "27545  2021-12-05 19:35:14  0.973141  0.045963  0.008106  0.169919  0.996330   \n",
              "27546  2021-12-05 19:35:15  0.973141  0.045963  0.008106  0.169919  0.996330   \n",
              "27547  2021-12-05 19:35:16  0.973141  0.045963  0.008106  0.169919  0.996330   \n",
              "27548  2021-12-05 19:35:17  0.973141  0.045963  0.008106  0.169919  0.996330   \n",
              "\n",
              "              5         6         7  \n",
              "0      0.007730  0.001650  0.990961  \n",
              "1      0.007610  0.001622  0.990849  \n",
              "2      0.007435  0.001656  0.991099  \n",
              "3      0.007074  0.001635  0.991188  \n",
              "4      0.007554  0.001643  0.990962  \n",
              "...         ...       ...       ...  \n",
              "27544  0.028713  0.002163  0.978963  \n",
              "27545  0.028713  0.002163  0.978963  \n",
              "27546  0.028713  0.002163  0.978963  \n",
              "27547  0.028713  0.002163  0.978963  \n",
              "27548  0.028713  0.002163  0.978963  \n",
              "\n",
              "[93190 rows x 9 columns]"
            ],
            "text/html": [
              "\n",
              "  <div id=\"df-1441a6d4-4f19-4cc4-9547-7954c7c93782\">\n",
              "    <div class=\"colab-df-container\">\n",
              "      <div>\n",
              "<style scoped>\n",
              "    .dataframe tbody tr th:only-of-type {\n",
              "        vertical-align: middle;\n",
              "    }\n",
              "\n",
              "    .dataframe tbody tr th {\n",
              "        vertical-align: top;\n",
              "    }\n",
              "\n",
              "    .dataframe thead th {\n",
              "        text-align: right;\n",
              "    }\n",
              "</style>\n",
              "<table border=\"1\" class=\"dataframe\">\n",
              "  <thead>\n",
              "    <tr style=\"text-align: right;\">\n",
              "      <th></th>\n",
              "      <th>DATE</th>\n",
              "      <th>0</th>\n",
              "      <th>1</th>\n",
              "      <th>2</th>\n",
              "      <th>3</th>\n",
              "      <th>4</th>\n",
              "      <th>5</th>\n",
              "      <th>6</th>\n",
              "      <th>7</th>\n",
              "    </tr>\n",
              "  </thead>\n",
              "  <tbody>\n",
              "    <tr>\n",
              "      <th>0</th>\n",
              "      <td>2021-12-03 08:56:13</td>\n",
              "      <td>0.173659</td>\n",
              "      <td>0.001658</td>\n",
              "      <td>0.063130</td>\n",
              "      <td>0.654376</td>\n",
              "      <td>0.907993</td>\n",
              "      <td>0.007730</td>\n",
              "      <td>0.001650</td>\n",
              "      <td>0.990961</td>\n",
              "    </tr>\n",
              "    <tr>\n",
              "      <th>1</th>\n",
              "      <td>2021-12-03 08:56:14</td>\n",
              "      <td>0.198067</td>\n",
              "      <td>0.001685</td>\n",
              "      <td>0.062289</td>\n",
              "      <td>0.646822</td>\n",
              "      <td>0.912724</td>\n",
              "      <td>0.007610</td>\n",
              "      <td>0.001622</td>\n",
              "      <td>0.990849</td>\n",
              "    </tr>\n",
              "    <tr>\n",
              "      <th>2</th>\n",
              "      <td>2021-12-03 08:56:15</td>\n",
              "      <td>0.195565</td>\n",
              "      <td>0.001756</td>\n",
              "      <td>0.065871</td>\n",
              "      <td>0.651701</td>\n",
              "      <td>0.913653</td>\n",
              "      <td>0.007435</td>\n",
              "      <td>0.001656</td>\n",
              "      <td>0.991099</td>\n",
              "    </tr>\n",
              "    <tr>\n",
              "      <th>3</th>\n",
              "      <td>2021-12-03 08:56:16</td>\n",
              "      <td>0.228768</td>\n",
              "      <td>0.001877</td>\n",
              "      <td>0.067001</td>\n",
              "      <td>0.648844</td>\n",
              "      <td>0.921188</td>\n",
              "      <td>0.007074</td>\n",
              "      <td>0.001635</td>\n",
              "      <td>0.991188</td>\n",
              "    </tr>\n",
              "    <tr>\n",
              "      <th>4</th>\n",
              "      <td>2021-12-03 08:56:17</td>\n",
              "      <td>0.193885</td>\n",
              "      <td>0.001713</td>\n",
              "      <td>0.064120</td>\n",
              "      <td>0.649567</td>\n",
              "      <td>0.912471</td>\n",
              "      <td>0.007554</td>\n",
              "      <td>0.001643</td>\n",
              "      <td>0.990962</td>\n",
              "    </tr>\n",
              "    <tr>\n",
              "      <th>...</th>\n",
              "      <td>...</td>\n",
              "      <td>...</td>\n",
              "      <td>...</td>\n",
              "      <td>...</td>\n",
              "      <td>...</td>\n",
              "      <td>...</td>\n",
              "      <td>...</td>\n",
              "      <td>...</td>\n",
              "      <td>...</td>\n",
              "    </tr>\n",
              "    <tr>\n",
              "      <th>27544</th>\n",
              "      <td>2021-12-05 19:35:13</td>\n",
              "      <td>0.973141</td>\n",
              "      <td>0.045963</td>\n",
              "      <td>0.008106</td>\n",
              "      <td>0.169919</td>\n",
              "      <td>0.996330</td>\n",
              "      <td>0.028713</td>\n",
              "      <td>0.002163</td>\n",
              "      <td>0.978963</td>\n",
              "    </tr>\n",
              "    <tr>\n",
              "      <th>27545</th>\n",
              "      <td>2021-12-05 19:35:14</td>\n",
              "      <td>0.973141</td>\n",
              "      <td>0.045963</td>\n",
              "      <td>0.008106</td>\n",
              "      <td>0.169919</td>\n",
              "      <td>0.996330</td>\n",
              "      <td>0.028713</td>\n",
              "      <td>0.002163</td>\n",
              "      <td>0.978963</td>\n",
              "    </tr>\n",
              "    <tr>\n",
              "      <th>27546</th>\n",
              "      <td>2021-12-05 19:35:15</td>\n",
              "      <td>0.973141</td>\n",
              "      <td>0.045963</td>\n",
              "      <td>0.008106</td>\n",
              "      <td>0.169919</td>\n",
              "      <td>0.996330</td>\n",
              "      <td>0.028713</td>\n",
              "      <td>0.002163</td>\n",
              "      <td>0.978963</td>\n",
              "    </tr>\n",
              "    <tr>\n",
              "      <th>27547</th>\n",
              "      <td>2021-12-05 19:35:16</td>\n",
              "      <td>0.973141</td>\n",
              "      <td>0.045963</td>\n",
              "      <td>0.008106</td>\n",
              "      <td>0.169919</td>\n",
              "      <td>0.996330</td>\n",
              "      <td>0.028713</td>\n",
              "      <td>0.002163</td>\n",
              "      <td>0.978963</td>\n",
              "    </tr>\n",
              "    <tr>\n",
              "      <th>27548</th>\n",
              "      <td>2021-12-05 19:35:17</td>\n",
              "      <td>0.973141</td>\n",
              "      <td>0.045963</td>\n",
              "      <td>0.008106</td>\n",
              "      <td>0.169919</td>\n",
              "      <td>0.996330</td>\n",
              "      <td>0.028713</td>\n",
              "      <td>0.002163</td>\n",
              "      <td>0.978963</td>\n",
              "    </tr>\n",
              "  </tbody>\n",
              "</table>\n",
              "<p>93190 rows × 9 columns</p>\n",
              "</div>\n",
              "      <button class=\"colab-df-convert\" onclick=\"convertToInteractive('df-1441a6d4-4f19-4cc4-9547-7954c7c93782')\"\n",
              "              title=\"Convert this dataframe to an interactive table.\"\n",
              "              style=\"display:none;\">\n",
              "        \n",
              "  <svg xmlns=\"http://www.w3.org/2000/svg\" height=\"24px\"viewBox=\"0 0 24 24\"\n",
              "       width=\"24px\">\n",
              "    <path d=\"M0 0h24v24H0V0z\" fill=\"none\"/>\n",
              "    <path d=\"M18.56 5.44l.94 2.06.94-2.06 2.06-.94-2.06-.94-.94-2.06-.94 2.06-2.06.94zm-11 1L8.5 8.5l.94-2.06 2.06-.94-2.06-.94L8.5 2.5l-.94 2.06-2.06.94zm10 10l.94 2.06.94-2.06 2.06-.94-2.06-.94-.94-2.06-.94 2.06-2.06.94z\"/><path d=\"M17.41 7.96l-1.37-1.37c-.4-.4-.92-.59-1.43-.59-.52 0-1.04.2-1.43.59L10.3 9.45l-7.72 7.72c-.78.78-.78 2.05 0 2.83L4 21.41c.39.39.9.59 1.41.59.51 0 1.02-.2 1.41-.59l7.78-7.78 2.81-2.81c.8-.78.8-2.07 0-2.86zM5.41 20L4 18.59l7.72-7.72 1.47 1.35L5.41 20z\"/>\n",
              "  </svg>\n",
              "      </button>\n",
              "      \n",
              "  <style>\n",
              "    .colab-df-container {\n",
              "      display:flex;\n",
              "      flex-wrap:wrap;\n",
              "      gap: 12px;\n",
              "    }\n",
              "\n",
              "    .colab-df-convert {\n",
              "      background-color: #E8F0FE;\n",
              "      border: none;\n",
              "      border-radius: 50%;\n",
              "      cursor: pointer;\n",
              "      display: none;\n",
              "      fill: #1967D2;\n",
              "      height: 32px;\n",
              "      padding: 0 0 0 0;\n",
              "      width: 32px;\n",
              "    }\n",
              "\n",
              "    .colab-df-convert:hover {\n",
              "      background-color: #E2EBFA;\n",
              "      box-shadow: 0px 1px 2px rgba(60, 64, 67, 0.3), 0px 1px 3px 1px rgba(60, 64, 67, 0.15);\n",
              "      fill: #174EA6;\n",
              "    }\n",
              "\n",
              "    [theme=dark] .colab-df-convert {\n",
              "      background-color: #3B4455;\n",
              "      fill: #D2E3FC;\n",
              "    }\n",
              "\n",
              "    [theme=dark] .colab-df-convert:hover {\n",
              "      background-color: #434B5C;\n",
              "      box-shadow: 0px 1px 3px 1px rgba(0, 0, 0, 0.15);\n",
              "      filter: drop-shadow(0px 1px 2px rgba(0, 0, 0, 0.3));\n",
              "      fill: #FFFFFF;\n",
              "    }\n",
              "  </style>\n",
              "\n",
              "      <script>\n",
              "        const buttonEl =\n",
              "          document.querySelector('#df-1441a6d4-4f19-4cc4-9547-7954c7c93782 button.colab-df-convert');\n",
              "        buttonEl.style.display =\n",
              "          google.colab.kernel.accessAllowed ? 'block' : 'none';\n",
              "\n",
              "        async function convertToInteractive(key) {\n",
              "          const element = document.querySelector('#df-1441a6d4-4f19-4cc4-9547-7954c7c93782');\n",
              "          const dataTable =\n",
              "            await google.colab.kernel.invokeFunction('convertToInteractive',\n",
              "                                                     [key], {});\n",
              "          if (!dataTable) return;\n",
              "\n",
              "          const docLinkHtml = 'Like what you see? Visit the ' +\n",
              "            '<a target=\"_blank\" href=https://colab.research.google.com/notebooks/data_table.ipynb>data table notebook</a>'\n",
              "            + ' to learn more about interactive tables.';\n",
              "          element.innerHTML = '';\n",
              "          dataTable['output_type'] = 'display_data';\n",
              "          await google.colab.output.renderOutput(dataTable, element);\n",
              "          const docLink = document.createElement('div');\n",
              "          docLink.innerHTML = docLinkHtml;\n",
              "          element.appendChild(docLink);\n",
              "        }\n",
              "      </script>\n",
              "    </div>\n",
              "  </div>\n",
              "  "
            ]
          },
          "metadata": {},
          "execution_count": 22
        }
      ]
    },
    {
      "cell_type": "code",
      "source": [
        "test_df = test_temp.drop(columns = ['DATE'])\n",
        "\n",
        "# 클러스터링 결과 각 데이터가 어디 그룹에 속하는지 저장\n",
        "predicted = model.predict(test_df)"
      ],
      "metadata": {
        "id": "8cq6ZjXK5i1D"
      },
      "execution_count": null,
      "outputs": []
    },
    {
      "cell_type": "code",
      "source": [
        "test_df['cluster'] = predicted"
      ],
      "metadata": {
        "id": "Oz9XXfTA5i1E"
      },
      "execution_count": null,
      "outputs": []
    },
    {
      "cell_type": "code",
      "source": [
        "test_df"
      ],
      "metadata": {
        "colab": {
          "base_uri": "https://localhost:8080/",
          "height": 423
        },
        "outputId": "2349f3f8-90d9-4b9f-dbe5-6de56d2f091f",
        "id": "j0K03jNq5i1E"
      },
      "execution_count": null,
      "outputs": [
        {
          "output_type": "execute_result",
          "data": {
            "text/plain": [
              "              0         1         2         3         4         5         6  \\\n",
              "0      0.173659  0.001658  0.063130  0.654376  0.907993  0.007730  0.001650   \n",
              "1      0.198067  0.001685  0.062289  0.646822  0.912724  0.007610  0.001622   \n",
              "2      0.195565  0.001756  0.065871  0.651701  0.913653  0.007435  0.001656   \n",
              "3      0.228768  0.001877  0.067001  0.648844  0.921188  0.007074  0.001635   \n",
              "4      0.193885  0.001713  0.064120  0.649567  0.912471  0.007554  0.001643   \n",
              "...         ...       ...       ...       ...       ...       ...       ...   \n",
              "27544  0.973141  0.045963  0.008106  0.169919  0.996330  0.028713  0.002163   \n",
              "27545  0.973141  0.045963  0.008106  0.169919  0.996330  0.028713  0.002163   \n",
              "27546  0.973141  0.045963  0.008106  0.169919  0.996330  0.028713  0.002163   \n",
              "27547  0.973141  0.045963  0.008106  0.169919  0.996330  0.028713  0.002163   \n",
              "27548  0.973141  0.045963  0.008106  0.169919  0.996330  0.028713  0.002163   \n",
              "\n",
              "              7  cluster  \n",
              "0      0.990961        9  \n",
              "1      0.990849        9  \n",
              "2      0.991099        9  \n",
              "3      0.991188        9  \n",
              "4      0.990962        9  \n",
              "...         ...      ...  \n",
              "27544  0.978963        9  \n",
              "27545  0.978963        9  \n",
              "27546  0.978963        9  \n",
              "27547  0.978963        9  \n",
              "27548  0.978963        9  \n",
              "\n",
              "[93190 rows x 9 columns]"
            ],
            "text/html": [
              "\n",
              "  <div id=\"df-8ccbd197-8b63-4844-8f8b-41712eee3615\">\n",
              "    <div class=\"colab-df-container\">\n",
              "      <div>\n",
              "<style scoped>\n",
              "    .dataframe tbody tr th:only-of-type {\n",
              "        vertical-align: middle;\n",
              "    }\n",
              "\n",
              "    .dataframe tbody tr th {\n",
              "        vertical-align: top;\n",
              "    }\n",
              "\n",
              "    .dataframe thead th {\n",
              "        text-align: right;\n",
              "    }\n",
              "</style>\n",
              "<table border=\"1\" class=\"dataframe\">\n",
              "  <thead>\n",
              "    <tr style=\"text-align: right;\">\n",
              "      <th></th>\n",
              "      <th>0</th>\n",
              "      <th>1</th>\n",
              "      <th>2</th>\n",
              "      <th>3</th>\n",
              "      <th>4</th>\n",
              "      <th>5</th>\n",
              "      <th>6</th>\n",
              "      <th>7</th>\n",
              "      <th>cluster</th>\n",
              "    </tr>\n",
              "  </thead>\n",
              "  <tbody>\n",
              "    <tr>\n",
              "      <th>0</th>\n",
              "      <td>0.173659</td>\n",
              "      <td>0.001658</td>\n",
              "      <td>0.063130</td>\n",
              "      <td>0.654376</td>\n",
              "      <td>0.907993</td>\n",
              "      <td>0.007730</td>\n",
              "      <td>0.001650</td>\n",
              "      <td>0.990961</td>\n",
              "      <td>9</td>\n",
              "    </tr>\n",
              "    <tr>\n",
              "      <th>1</th>\n",
              "      <td>0.198067</td>\n",
              "      <td>0.001685</td>\n",
              "      <td>0.062289</td>\n",
              "      <td>0.646822</td>\n",
              "      <td>0.912724</td>\n",
              "      <td>0.007610</td>\n",
              "      <td>0.001622</td>\n",
              "      <td>0.990849</td>\n",
              "      <td>9</td>\n",
              "    </tr>\n",
              "    <tr>\n",
              "      <th>2</th>\n",
              "      <td>0.195565</td>\n",
              "      <td>0.001756</td>\n",
              "      <td>0.065871</td>\n",
              "      <td>0.651701</td>\n",
              "      <td>0.913653</td>\n",
              "      <td>0.007435</td>\n",
              "      <td>0.001656</td>\n",
              "      <td>0.991099</td>\n",
              "      <td>9</td>\n",
              "    </tr>\n",
              "    <tr>\n",
              "      <th>3</th>\n",
              "      <td>0.228768</td>\n",
              "      <td>0.001877</td>\n",
              "      <td>0.067001</td>\n",
              "      <td>0.648844</td>\n",
              "      <td>0.921188</td>\n",
              "      <td>0.007074</td>\n",
              "      <td>0.001635</td>\n",
              "      <td>0.991188</td>\n",
              "      <td>9</td>\n",
              "    </tr>\n",
              "    <tr>\n",
              "      <th>4</th>\n",
              "      <td>0.193885</td>\n",
              "      <td>0.001713</td>\n",
              "      <td>0.064120</td>\n",
              "      <td>0.649567</td>\n",
              "      <td>0.912471</td>\n",
              "      <td>0.007554</td>\n",
              "      <td>0.001643</td>\n",
              "      <td>0.990962</td>\n",
              "      <td>9</td>\n",
              "    </tr>\n",
              "    <tr>\n",
              "      <th>...</th>\n",
              "      <td>...</td>\n",
              "      <td>...</td>\n",
              "      <td>...</td>\n",
              "      <td>...</td>\n",
              "      <td>...</td>\n",
              "      <td>...</td>\n",
              "      <td>...</td>\n",
              "      <td>...</td>\n",
              "      <td>...</td>\n",
              "    </tr>\n",
              "    <tr>\n",
              "      <th>27544</th>\n",
              "      <td>0.973141</td>\n",
              "      <td>0.045963</td>\n",
              "      <td>0.008106</td>\n",
              "      <td>0.169919</td>\n",
              "      <td>0.996330</td>\n",
              "      <td>0.028713</td>\n",
              "      <td>0.002163</td>\n",
              "      <td>0.978963</td>\n",
              "      <td>9</td>\n",
              "    </tr>\n",
              "    <tr>\n",
              "      <th>27545</th>\n",
              "      <td>0.973141</td>\n",
              "      <td>0.045963</td>\n",
              "      <td>0.008106</td>\n",
              "      <td>0.169919</td>\n",
              "      <td>0.996330</td>\n",
              "      <td>0.028713</td>\n",
              "      <td>0.002163</td>\n",
              "      <td>0.978963</td>\n",
              "      <td>9</td>\n",
              "    </tr>\n",
              "    <tr>\n",
              "      <th>27546</th>\n",
              "      <td>0.973141</td>\n",
              "      <td>0.045963</td>\n",
              "      <td>0.008106</td>\n",
              "      <td>0.169919</td>\n",
              "      <td>0.996330</td>\n",
              "      <td>0.028713</td>\n",
              "      <td>0.002163</td>\n",
              "      <td>0.978963</td>\n",
              "      <td>9</td>\n",
              "    </tr>\n",
              "    <tr>\n",
              "      <th>27547</th>\n",
              "      <td>0.973141</td>\n",
              "      <td>0.045963</td>\n",
              "      <td>0.008106</td>\n",
              "      <td>0.169919</td>\n",
              "      <td>0.996330</td>\n",
              "      <td>0.028713</td>\n",
              "      <td>0.002163</td>\n",
              "      <td>0.978963</td>\n",
              "      <td>9</td>\n",
              "    </tr>\n",
              "    <tr>\n",
              "      <th>27548</th>\n",
              "      <td>0.973141</td>\n",
              "      <td>0.045963</td>\n",
              "      <td>0.008106</td>\n",
              "      <td>0.169919</td>\n",
              "      <td>0.996330</td>\n",
              "      <td>0.028713</td>\n",
              "      <td>0.002163</td>\n",
              "      <td>0.978963</td>\n",
              "      <td>9</td>\n",
              "    </tr>\n",
              "  </tbody>\n",
              "</table>\n",
              "<p>93190 rows × 9 columns</p>\n",
              "</div>\n",
              "      <button class=\"colab-df-convert\" onclick=\"convertToInteractive('df-8ccbd197-8b63-4844-8f8b-41712eee3615')\"\n",
              "              title=\"Convert this dataframe to an interactive table.\"\n",
              "              style=\"display:none;\">\n",
              "        \n",
              "  <svg xmlns=\"http://www.w3.org/2000/svg\" height=\"24px\"viewBox=\"0 0 24 24\"\n",
              "       width=\"24px\">\n",
              "    <path d=\"M0 0h24v24H0V0z\" fill=\"none\"/>\n",
              "    <path d=\"M18.56 5.44l.94 2.06.94-2.06 2.06-.94-2.06-.94-.94-2.06-.94 2.06-2.06.94zm-11 1L8.5 8.5l.94-2.06 2.06-.94-2.06-.94L8.5 2.5l-.94 2.06-2.06.94zm10 10l.94 2.06.94-2.06 2.06-.94-2.06-.94-.94-2.06-.94 2.06-2.06.94z\"/><path d=\"M17.41 7.96l-1.37-1.37c-.4-.4-.92-.59-1.43-.59-.52 0-1.04.2-1.43.59L10.3 9.45l-7.72 7.72c-.78.78-.78 2.05 0 2.83L4 21.41c.39.39.9.59 1.41.59.51 0 1.02-.2 1.41-.59l7.78-7.78 2.81-2.81c.8-.78.8-2.07 0-2.86zM5.41 20L4 18.59l7.72-7.72 1.47 1.35L5.41 20z\"/>\n",
              "  </svg>\n",
              "      </button>\n",
              "      \n",
              "  <style>\n",
              "    .colab-df-container {\n",
              "      display:flex;\n",
              "      flex-wrap:wrap;\n",
              "      gap: 12px;\n",
              "    }\n",
              "\n",
              "    .colab-df-convert {\n",
              "      background-color: #E8F0FE;\n",
              "      border: none;\n",
              "      border-radius: 50%;\n",
              "      cursor: pointer;\n",
              "      display: none;\n",
              "      fill: #1967D2;\n",
              "      height: 32px;\n",
              "      padding: 0 0 0 0;\n",
              "      width: 32px;\n",
              "    }\n",
              "\n",
              "    .colab-df-convert:hover {\n",
              "      background-color: #E2EBFA;\n",
              "      box-shadow: 0px 1px 2px rgba(60, 64, 67, 0.3), 0px 1px 3px 1px rgba(60, 64, 67, 0.15);\n",
              "      fill: #174EA6;\n",
              "    }\n",
              "\n",
              "    [theme=dark] .colab-df-convert {\n",
              "      background-color: #3B4455;\n",
              "      fill: #D2E3FC;\n",
              "    }\n",
              "\n",
              "    [theme=dark] .colab-df-convert:hover {\n",
              "      background-color: #434B5C;\n",
              "      box-shadow: 0px 1px 3px 1px rgba(0, 0, 0, 0.15);\n",
              "      filter: drop-shadow(0px 1px 2px rgba(0, 0, 0, 0.3));\n",
              "      fill: #FFFFFF;\n",
              "    }\n",
              "  </style>\n",
              "\n",
              "      <script>\n",
              "        const buttonEl =\n",
              "          document.querySelector('#df-8ccbd197-8b63-4844-8f8b-41712eee3615 button.colab-df-convert');\n",
              "        buttonEl.style.display =\n",
              "          google.colab.kernel.accessAllowed ? 'block' : 'none';\n",
              "\n",
              "        async function convertToInteractive(key) {\n",
              "          const element = document.querySelector('#df-8ccbd197-8b63-4844-8f8b-41712eee3615');\n",
              "          const dataTable =\n",
              "            await google.colab.kernel.invokeFunction('convertToInteractive',\n",
              "                                                     [key], {});\n",
              "          if (!dataTable) return;\n",
              "\n",
              "          const docLinkHtml = 'Like what you see? Visit the ' +\n",
              "            '<a target=\"_blank\" href=https://colab.research.google.com/notebooks/data_table.ipynb>data table notebook</a>'\n",
              "            + ' to learn more about interactive tables.';\n",
              "          element.innerHTML = '';\n",
              "          dataTable['output_type'] = 'display_data';\n",
              "          await google.colab.output.renderOutput(dataTable, element);\n",
              "          const docLink = document.createElement('div');\n",
              "          docLink.innerHTML = docLinkHtml;\n",
              "          element.appendChild(docLink);\n",
              "        }\n",
              "      </script>\n",
              "    </div>\n",
              "  </div>\n",
              "  "
            ]
          },
          "metadata": {},
          "execution_count": 25
        }
      ]
    },
    {
      "cell_type": "code",
      "source": [
        "test_df['cluster'].value_counts()"
      ],
      "metadata": {
        "colab": {
          "base_uri": "https://localhost:8080/"
        },
        "outputId": "a8c8acf9-3e87-4735-eedc-e6677e531e00",
        "id": "d5RQg4SR5i1E"
      },
      "execution_count": null,
      "outputs": [
        {
          "output_type": "execute_result",
          "data": {
            "text/plain": [
              "4    62970\n",
              "9    24284\n",
              "0     4488\n",
              "6     1436\n",
              "5        8\n",
              "3        3\n",
              "7        1\n",
              "Name: cluster, dtype: int64"
            ]
          },
          "metadata": {},
          "execution_count": 26
        }
      ]
    },
    {
      "cell_type": "code",
      "source": [
        "visualizer = SilhouetteVisualizer(model, size=(1920,1080),colors='yellowbrick')\n",
        "\n",
        "visualizer.fit(test_temp.drop(columns = ['DATE']))        # Fit the data to the visualizer\n",
        "visualizer.show()"
      ],
      "metadata": {
        "colab": {
          "base_uri": "https://localhost:8080/",
          "height": 752
        },
        "outputId": "e8ce92d0-6aaa-4537-f5df-968b2c0f4c97",
        "id": "2Npi_bxp5i1E"
      },
      "execution_count": null,
      "outputs": [
        {
          "output_type": "stream",
          "name": "stderr",
          "text": [
            "/usr/local/lib/python3.7/dist-packages/sklearn/base.py:451: UserWarning: X does not have valid feature names, but KMeans was fitted with feature names\n",
            "  \"X does not have valid feature names, but\"\n"
          ]
        },
        {
          "output_type": "display_data",
          "data": {
            "text/plain": [
              "<Figure size 1920x1080 with 1 Axes>"
            ],
            "image/png": "[encoded data removed]"
          },
          "metadata": {}
        },
        {
          "output_type": "execute_result",
          "data": {
            "text/plain": [
              "<matplotlib.axes._subplots.AxesSubplot at 0x7fcc6d6d3050>"
            ]
          },
          "metadata": {},
          "execution_count": 27
        }
      ]
    },
    {
      "cell_type": "code",
      "source": [
        "\n",
        "visualizer = InterclusterDistance(model,size=(1080, 720),legend = 0)\n",
        "visualizer.fit(test_temp.drop(columns = ['DATE'])) \n",
        "visualizer.show()"
      ],
      "metadata": {
        "colab": {
          "base_uri": "https://localhost:8080/",
          "height": 666
        },
        "outputId": "dfb4e02f-3214-46ca-8b5a-d21dc03e533b",
        "id": "Bjm6ZYQx5i1E"
      },
      "execution_count": null,
      "outputs": [
        {
          "output_type": "stream",
          "name": "stderr",
          "text": [
            "/usr/local/lib/python3.7/dist-packages/sklearn/base.py:451: UserWarning: X does not have valid feature names, but KMeans was fitted with feature names\n",
            "  \"X does not have valid feature names, but\"\n"
          ]
        },
        {
          "output_type": "display_data",
          "data": {
            "text/plain": [
              "<Figure size 1080x720 with 1 Axes>"
            ],
            "image/png": "[encoded data removed]"
          },
          "metadata": {}
        },
        {
          "output_type": "execute_result",
          "data": {
            "text/plain": [
              "<matplotlib.axes._subplots.AxesSubplot at 0x7fcc6d52ab50>"
            ]
          },
          "metadata": {},
          "execution_count": 28
        }
      ]
    },
    {
      "cell_type": "code",
      "source": [
        ""
      ],
      "metadata": {
        "id": "pI2CdXKa5i1E"
      },
      "execution_count": null,
      "outputs": []
    }
  ]
}