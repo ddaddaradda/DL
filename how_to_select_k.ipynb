{
  "nbformat": 4,
  "nbformat_minor": 0,
  "metadata": {
    "colab": {
      "name": "how to select k",
      "provenance": [],
      "collapsed_sections": [],
      "include_colab_link": true
    },
    "kernelspec": {
      "name": "python3",
      "display_name": "Python 3"
    },
    "language_info": {
      "name": "python"
    },
    "accelerator": "GPU"
  },
  "cells": [
    {
      "cell_type": "markdown",
      "metadata": {
        "id": "view-in-github",
        "colab_type": "text"
      },
      "source": [
        "<a href=\"https://colab.research.google.com/github/ddaddaradda/DL/blob/main/how_to_select_k.ipynb\" target=\"_parent\"><img src=\"https://colab.research.google.com/assets/colab-badge.svg\" alt=\"Open In Colab\"/></a>"
      ]
    },
    {
      "cell_type": "code",
      "execution_count": null,
      "metadata": {
        "colab": {
          "base_uri": "https://localhost:8080/"
        },
        "id": "NtAWri3oDGgP",
        "outputId": "7db37226-32ba-4161-bc20-70adab3545b8"
      },
      "outputs": [
        {
          "output_type": "stream",
          "name": "stdout",
          "text": [
            "Mounted at /content/gdrive\n"
          ]
        }
      ],
      "source": [
        "from google.colab import drive\n",
        "drive.mount('/content/gdrive')"
      ]
    },
    {
      "cell_type": "code",
      "source": [
        "import numpy as np\n",
        "import pandas as pd\n",
        "from tqdm import tqdm"
      ],
      "metadata": {
        "id": "teYUF-dKEDmG"
      },
      "execution_count": null,
      "outputs": []
    },
    {
      "cell_type": "code",
      "source": [
        "import pickle\n",
        "\n",
        "with open('/content/gdrive/MyDrive/tmp/별떠라가자_공유폴더/AI파트/데이터/벡터/vector_dict_0421.pkl','rb') as f:\n",
        "    mydict = pickle.load(f)"
      ],
      "metadata": {
        "id": "te_ndyJ4d9_A"
      },
      "execution_count": null,
      "outputs": []
    },
    {
      "cell_type": "code",
      "source": [
        "keys = list(mydict.keys()).remove('meta')"
      ],
      "metadata": {
        "id": "VLY7Cj5CfJTz"
      },
      "execution_count": null,
      "outputs": []
    },
    {
      "cell_type": "code",
      "source": [
        "key_list = list(mydict.keys())"
      ],
      "metadata": {
        "id": "YaTQp58Wi7rL"
      },
      "execution_count": null,
      "outputs": []
    },
    {
      "cell_type": "code",
      "source": [
        "key_list.remove('meta')"
      ],
      "metadata": {
        "id": "QjwysKCOjP91"
      },
      "execution_count": null,
      "outputs": []
    },
    {
      "cell_type": "code",
      "source": [
        "key_list"
      ],
      "metadata": {
        "colab": {
          "base_uri": "https://localhost:8080/"
        },
        "id": "VyUitd-Fj41l",
        "outputId": "6f404a7a-10ae-45cc-f6dc-021e4d3a2ae7"
      },
      "execution_count": null,
      "outputs": [
        {
          "output_type": "execute_result",
          "data": {
            "text/plain": [
              "['D788034C',\n",
              " '1DBEBE62',\n",
              " 'B95FBB89',\n",
              " '483AA738',\n",
              " 'A77E8CE3',\n",
              " '912BB33B',\n",
              " '88826FAB',\n",
              " 'F0A475A1',\n",
              " 'DB7B0571',\n",
              " '4E34891D',\n",
              " '570AA81D',\n",
              " '649508BF',\n",
              " '8C7E7A17',\n",
              " 'D30C299A',\n",
              " '8E640374',\n",
              " 'F0A475A1_2',\n",
              " '9EECBC9A',\n",
              " 'A50AF373',\n",
              " 'F257DB06',\n",
              " '20211203',\n",
              " '20211204',\n",
              " '20211205']"
            ]
          },
          "metadata": {},
          "execution_count": 13
        }
      ]
    },
    {
      "cell_type": "code",
      "source": [
        "key_list = key_list[:-3]"
      ],
      "metadata": {
        "id": "FA5UTgTv4f43"
      },
      "execution_count": null,
      "outputs": []
    },
    {
      "cell_type": "code",
      "source": [
        "test_list = key_list[-3:]"
      ],
      "metadata": {
        "id": "GV1PZhmxBNbX"
      },
      "execution_count": null,
      "outputs": []
    },
    {
      "cell_type": "code",
      "source": [
        "len(key_list)"
      ],
      "metadata": {
        "colab": {
          "base_uri": "https://localhost:8080/"
        },
        "id": "X0-pW76PsZjU",
        "outputId": "49a0b176-3a95-4987-a730-e32b0e4f6d1a"
      },
      "execution_count": null,
      "outputs": [
        {
          "output_type": "execute_result",
          "data": {
            "text/plain": [
              "19"
            ]
          },
          "metadata": {},
          "execution_count": 16
        }
      ]
    },
    {
      "cell_type": "code",
      "source": [
        "df_list = []"
      ],
      "metadata": {
        "id": "ReS0HmCPlUox"
      },
      "execution_count": null,
      "outputs": []
    },
    {
      "cell_type": "code",
      "source": [
        "for key in key_list:\n",
        "    mydict[key].columns = ['Date','1','2','3','4','5','6','7','8']\n",
        "    mydict[key]['ID'] = key\n",
        "    mydict[key] = mydict[key][['ID','Date','1','2','3','4','5','6','7','8']]\n",
        "    df_list.append(mydict[key])"
      ],
      "metadata": {
        "id": "fFOeoJ2Cj61H"
      },
      "execution_count": null,
      "outputs": []
    },
    {
      "cell_type": "code",
      "source": [
        "df_list[0]"
      ],
      "metadata": {
        "colab": {
          "base_uri": "https://localhost:8080/",
          "height": 424
        },
        "id": "j088hP365jBK",
        "outputId": "fe37cc5f-61b4-4725-8756-4c00d4b0bc7b"
      },
      "execution_count": null,
      "outputs": [
        {
          "output_type": "execute_result",
          "data": {
            "text/plain": [
              "             ID                 Date         1         2         3         4  \\\n",
              "0      D788034C  2021-11-28 00:00:00  0.981262  0.990319  0.979536  0.328138   \n",
              "1      D788034C  2021-11-28 00:00:01  0.962457  0.998730  0.998241  0.975713   \n",
              "2      D788034C  2021-11-28 00:00:02  0.986374  0.998717  0.997116  0.925132   \n",
              "3      D788034C  2021-11-28 00:00:03  0.974020  0.998734  0.998220  0.973949   \n",
              "4      D788034C  2021-11-28 00:00:04  0.982181  0.998724  0.997959  0.968855   \n",
              "...         ...                  ...       ...       ...       ...       ...   \n",
              "14595  D788034C  2021-11-28 22:25:04  0.985345  0.962290  0.583655  0.704635   \n",
              "14596  D788034C  2021-11-28 22:25:05  0.985343  0.962346  0.583988  0.704873   \n",
              "14597  D788034C  2021-11-28 22:25:06  0.985342  0.962352  0.584024  0.704895   \n",
              "14598  D788034C  2021-11-28 22:25:07  0.985342  0.962352  0.584024  0.704895   \n",
              "14599  D788034C  2021-11-28 22:25:08  0.985342  0.962352  0.584024  0.704895   \n",
              "\n",
              "              5         6         7         8  \n",
              "0      0.985659  0.794406  0.967414  0.900350  \n",
              "1      0.868509  0.205135  0.993087  0.139415  \n",
              "2      0.966387  0.803887  0.993642  0.401863  \n",
              "3      0.870613  0.340489  0.994713  0.124057  \n",
              "4      0.912446  0.521101  0.995326  0.157700  \n",
              "...         ...       ...       ...       ...  \n",
              "14595  0.100225  0.985613  0.995677  0.008549  \n",
              "14596  0.100059  0.985595  0.995681  0.008540  \n",
              "14597  0.100040  0.985595  0.995681  0.008539  \n",
              "14598  0.100040  0.985595  0.995681  0.008539  \n",
              "14599  0.100040  0.985595  0.995681  0.008539  \n",
              "\n",
              "[14600 rows x 10 columns]"
            ],
            "text/html": [
              "\n",
              "  <div id=\"df-7875e670-5b8e-45d3-9f5e-b51e0d6b8ab8\">\n",
              "    <div class=\"colab-df-container\">\n",
              "      <div>\n",
              "<style scoped>\n",
              "    .dataframe tbody tr th:only-of-type {\n",
              "        vertical-align: middle;\n",
              "    }\n",
              "\n",
              "    .dataframe tbody tr th {\n",
              "        vertical-align: top;\n",
              "    }\n",
              "\n",
              "    .dataframe thead th {\n",
              "        text-align: right;\n",
              "    }\n",
              "</style>\n",
              "<table border=\"1\" class=\"dataframe\">\n",
              "  <thead>\n",
              "    <tr style=\"text-align: right;\">\n",
              "      <th></th>\n",
              "      <th>ID</th>\n",
              "      <th>Date</th>\n",
              "      <th>1</th>\n",
              "      <th>2</th>\n",
              "      <th>3</th>\n",
              "      <th>4</th>\n",
              "      <th>5</th>\n",
              "      <th>6</th>\n",
              "      <th>7</th>\n",
              "      <th>8</th>\n",
              "    </tr>\n",
              "  </thead>\n",
              "  <tbody>\n",
              "    <tr>\n",
              "      <th>0</th>\n",
              "      <td>D788034C</td>\n",
              "      <td>2021-11-28 00:00:00</td>\n",
              "      <td>0.981262</td>\n",
              "      <td>0.990319</td>\n",
              "      <td>0.979536</td>\n",
              "      <td>0.328138</td>\n",
              "      <td>0.985659</td>\n",
              "      <td>0.794406</td>\n",
              "      <td>0.967414</td>\n",
              "      <td>0.900350</td>\n",
              "    </tr>\n",
              "    <tr>\n",
              "      <th>1</th>\n",
              "      <td>D788034C</td>\n",
              "      <td>2021-11-28 00:00:01</td>\n",
              "      <td>0.962457</td>\n",
              "      <td>0.998730</td>\n",
              "      <td>0.998241</td>\n",
              "      <td>0.975713</td>\n",
              "      <td>0.868509</td>\n",
              "      <td>0.205135</td>\n",
              "      <td>0.993087</td>\n",
              "      <td>0.139415</td>\n",
              "    </tr>\n",
              "    <tr>\n",
              "      <th>2</th>\n",
              "      <td>D788034C</td>\n",
              "      <td>2021-11-28 00:00:02</td>\n",
              "      <td>0.986374</td>\n",
              "      <td>0.998717</td>\n",
              "      <td>0.997116</td>\n",
              "      <td>0.925132</td>\n",
              "      <td>0.966387</td>\n",
              "      <td>0.803887</td>\n",
              "      <td>0.993642</td>\n",
              "      <td>0.401863</td>\n",
              "    </tr>\n",
              "    <tr>\n",
              "      <th>3</th>\n",
              "      <td>D788034C</td>\n",
              "      <td>2021-11-28 00:00:03</td>\n",
              "      <td>0.974020</td>\n",
              "      <td>0.998734</td>\n",
              "      <td>0.998220</td>\n",
              "      <td>0.973949</td>\n",
              "      <td>0.870613</td>\n",
              "      <td>0.340489</td>\n",
              "      <td>0.994713</td>\n",
              "      <td>0.124057</td>\n",
              "    </tr>\n",
              "    <tr>\n",
              "      <th>4</th>\n",
              "      <td>D788034C</td>\n",
              "      <td>2021-11-28 00:00:04</td>\n",
              "      <td>0.982181</td>\n",
              "      <td>0.998724</td>\n",
              "      <td>0.997959</td>\n",
              "      <td>0.968855</td>\n",
              "      <td>0.912446</td>\n",
              "      <td>0.521101</td>\n",
              "      <td>0.995326</td>\n",
              "      <td>0.157700</td>\n",
              "    </tr>\n",
              "    <tr>\n",
              "      <th>...</th>\n",
              "      <td>...</td>\n",
              "      <td>...</td>\n",
              "      <td>...</td>\n",
              "      <td>...</td>\n",
              "      <td>...</td>\n",
              "      <td>...</td>\n",
              "      <td>...</td>\n",
              "      <td>...</td>\n",
              "      <td>...</td>\n",
              "      <td>...</td>\n",
              "    </tr>\n",
              "    <tr>\n",
              "      <th>14595</th>\n",
              "      <td>D788034C</td>\n",
              "      <td>2021-11-28 22:25:04</td>\n",
              "      <td>0.985345</td>\n",
              "      <td>0.962290</td>\n",
              "      <td>0.583655</td>\n",
              "      <td>0.704635</td>\n",
              "      <td>0.100225</td>\n",
              "      <td>0.985613</td>\n",
              "      <td>0.995677</td>\n",
              "      <td>0.008549</td>\n",
              "    </tr>\n",
              "    <tr>\n",
              "      <th>14596</th>\n",
              "      <td>D788034C</td>\n",
              "      <td>2021-11-28 22:25:05</td>\n",
              "      <td>0.985343</td>\n",
              "      <td>0.962346</td>\n",
              "      <td>0.583988</td>\n",
              "      <td>0.704873</td>\n",
              "      <td>0.100059</td>\n",
              "      <td>0.985595</td>\n",
              "      <td>0.995681</td>\n",
              "      <td>0.008540</td>\n",
              "    </tr>\n",
              "    <tr>\n",
              "      <th>14597</th>\n",
              "      <td>D788034C</td>\n",
              "      <td>2021-11-28 22:25:06</td>\n",
              "      <td>0.985342</td>\n",
              "      <td>0.962352</td>\n",
              "      <td>0.584024</td>\n",
              "      <td>0.704895</td>\n",
              "      <td>0.100040</td>\n",
              "      <td>0.985595</td>\n",
              "      <td>0.995681</td>\n",
              "      <td>0.008539</td>\n",
              "    </tr>\n",
              "    <tr>\n",
              "      <th>14598</th>\n",
              "      <td>D788034C</td>\n",
              "      <td>2021-11-28 22:25:07</td>\n",
              "      <td>0.985342</td>\n",
              "      <td>0.962352</td>\n",
              "      <td>0.584024</td>\n",
              "      <td>0.704895</td>\n",
              "      <td>0.100040</td>\n",
              "      <td>0.985595</td>\n",
              "      <td>0.995681</td>\n",
              "      <td>0.008539</td>\n",
              "    </tr>\n",
              "    <tr>\n",
              "      <th>14599</th>\n",
              "      <td>D788034C</td>\n",
              "      <td>2021-11-28 22:25:08</td>\n",
              "      <td>0.985342</td>\n",
              "      <td>0.962352</td>\n",
              "      <td>0.584024</td>\n",
              "      <td>0.704895</td>\n",
              "      <td>0.100040</td>\n",
              "      <td>0.985595</td>\n",
              "      <td>0.995681</td>\n",
              "      <td>0.008539</td>\n",
              "    </tr>\n",
              "  </tbody>\n",
              "</table>\n",
              "<p>14600 rows × 10 columns</p>\n",
              "</div>\n",
              "      <button class=\"colab-df-convert\" onclick=\"convertToInteractive('df-7875e670-5b8e-45d3-9f5e-b51e0d6b8ab8')\"\n",
              "              title=\"Convert this dataframe to an interactive table.\"\n",
              "              style=\"display:none;\">\n",
              "        \n",
              "  <svg xmlns=\"http://www.w3.org/2000/svg\" height=\"24px\"viewBox=\"0 0 24 24\"\n",
              "       width=\"24px\">\n",
              "    <path d=\"M0 0h24v24H0V0z\" fill=\"none\"/>\n",
              "    <path d=\"M18.56 5.44l.94 2.06.94-2.06 2.06-.94-2.06-.94-.94-2.06-.94 2.06-2.06.94zm-11 1L8.5 8.5l.94-2.06 2.06-.94-2.06-.94L8.5 2.5l-.94 2.06-2.06.94zm10 10l.94 2.06.94-2.06 2.06-.94-2.06-.94-.94-2.06-.94 2.06-2.06.94z\"/><path d=\"M17.41 7.96l-1.37-1.37c-.4-.4-.92-.59-1.43-.59-.52 0-1.04.2-1.43.59L10.3 9.45l-7.72 7.72c-.78.78-.78 2.05 0 2.83L4 21.41c.39.39.9.59 1.41.59.51 0 1.02-.2 1.41-.59l7.78-7.78 2.81-2.81c.8-.78.8-2.07 0-2.86zM5.41 20L4 18.59l7.72-7.72 1.47 1.35L5.41 20z\"/>\n",
              "  </svg>\n",
              "      </button>\n",
              "      \n",
              "  <style>\n",
              "    .colab-df-container {\n",
              "      display:flex;\n",
              "      flex-wrap:wrap;\n",
              "      gap: 12px;\n",
              "    }\n",
              "\n",
              "    .colab-df-convert {\n",
              "      background-color: #E8F0FE;\n",
              "      border: none;\n",
              "      border-radius: 50%;\n",
              "      cursor: pointer;\n",
              "      display: none;\n",
              "      fill: #1967D2;\n",
              "      height: 32px;\n",
              "      padding: 0 0 0 0;\n",
              "      width: 32px;\n",
              "    }\n",
              "\n",
              "    .colab-df-convert:hover {\n",
              "      background-color: #E2EBFA;\n",
              "      box-shadow: 0px 1px 2px rgba(60, 64, 67, 0.3), 0px 1px 3px 1px rgba(60, 64, 67, 0.15);\n",
              "      fill: #174EA6;\n",
              "    }\n",
              "\n",
              "    [theme=dark] .colab-df-convert {\n",
              "      background-color: #3B4455;\n",
              "      fill: #D2E3FC;\n",
              "    }\n",
              "\n",
              "    [theme=dark] .colab-df-convert:hover {\n",
              "      background-color: #434B5C;\n",
              "      box-shadow: 0px 1px 3px 1px rgba(0, 0, 0, 0.15);\n",
              "      filter: drop-shadow(0px 1px 2px rgba(0, 0, 0, 0.3));\n",
              "      fill: #FFFFFF;\n",
              "    }\n",
              "  </style>\n",
              "\n",
              "      <script>\n",
              "        const buttonEl =\n",
              "          document.querySelector('#df-7875e670-5b8e-45d3-9f5e-b51e0d6b8ab8 button.colab-df-convert');\n",
              "        buttonEl.style.display =\n",
              "          google.colab.kernel.accessAllowed ? 'block' : 'none';\n",
              "\n",
              "        async function convertToInteractive(key) {\n",
              "          const element = document.querySelector('#df-7875e670-5b8e-45d3-9f5e-b51e0d6b8ab8');\n",
              "          const dataTable =\n",
              "            await google.colab.kernel.invokeFunction('convertToInteractive',\n",
              "                                                     [key], {});\n",
              "          if (!dataTable) return;\n",
              "\n",
              "          const docLinkHtml = 'Like what you see? Visit the ' +\n",
              "            '<a target=\"_blank\" href=https://colab.research.google.com/notebooks/data_table.ipynb>data table notebook</a>'\n",
              "            + ' to learn more about interactive tables.';\n",
              "          element.innerHTML = '';\n",
              "          dataTable['output_type'] = 'display_data';\n",
              "          await google.colab.output.renderOutput(dataTable, element);\n",
              "          const docLink = document.createElement('div');\n",
              "          docLink.innerHTML = docLinkHtml;\n",
              "          element.appendChild(docLink);\n",
              "        }\n",
              "      </script>\n",
              "    </div>\n",
              "  </div>\n",
              "  "
            ]
          },
          "metadata": {},
          "execution_count": 19
        }
      ]
    },
    {
      "cell_type": "code",
      "source": [
        "train_df = pd.concat(df_list, axis=0).reset_index(drop=True)"
      ],
      "metadata": {
        "id": "oyrdPNtcleZx"
      },
      "execution_count": null,
      "outputs": []
    },
    {
      "cell_type": "code",
      "source": [
        "train_df"
      ],
      "metadata": {
        "colab": {
          "base_uri": "https://localhost:8080/",
          "height": 424
        },
        "id": "2SWlBN1M5QwG",
        "outputId": "37f68282-d80e-48fc-ee95-3b1e7aea7c97"
      },
      "execution_count": null,
      "outputs": [
        {
          "output_type": "execute_result",
          "data": {
            "text/plain": [
              "              ID                 Date         1         2         3         4  \\\n",
              "0       D788034C  2021-11-28 00:00:00  0.981262  0.990319  0.979536  0.328138   \n",
              "1       D788034C  2021-11-28 00:00:01  0.962457  0.998730  0.998241  0.975713   \n",
              "2       D788034C  2021-11-28 00:00:02  0.986374  0.998717  0.997116  0.925132   \n",
              "3       D788034C  2021-11-28 00:00:03  0.974020  0.998734  0.998220  0.973949   \n",
              "4       D788034C  2021-11-28 00:00:04  0.982181  0.998724  0.997959  0.968855   \n",
              "...          ...                  ...       ...       ...       ...       ...   \n",
              "281496  F257DB06  2021-11-17 17:46:41  0.057448  0.001689  0.000070  0.079439   \n",
              "281497  F257DB06  2021-11-17 17:46:42  0.057815  0.001603  0.000069  0.079451   \n",
              "281498  F257DB06  2021-11-17 17:46:43  0.060785  0.001497  0.000066  0.077506   \n",
              "281499  F257DB06  2021-11-17 17:46:44  0.059896  0.001556  0.000068  0.078155   \n",
              "281500  F257DB06  2021-11-17 17:46:45  0.058858  0.001595  0.000069  0.078965   \n",
              "\n",
              "               5         6         7         8  \n",
              "0       0.985659  0.794406  0.967414  0.900350  \n",
              "1       0.868509  0.205135  0.993087  0.139415  \n",
              "2       0.966387  0.803887  0.993642  0.401863  \n",
              "3       0.870613  0.340489  0.994713  0.124057  \n",
              "4       0.912446  0.521101  0.995326  0.157700  \n",
              "...          ...       ...       ...       ...  \n",
              "281496  0.010539  0.052714  0.039905  0.004037  \n",
              "281497  0.010530  0.048433  0.038144  0.004177  \n",
              "281498  0.011072  0.041750  0.034849  0.004532  \n",
              "281499  0.010878  0.045338  0.036629  0.004357  \n",
              "281500  0.010701  0.047617  0.037766  0.004242  \n",
              "\n",
              "[281501 rows x 10 columns]"
            ],
            "text/html": [
              "\n",
              "  <div id=\"df-8442def8-383d-415c-be85-244659bf30f9\">\n",
              "    <div class=\"colab-df-container\">\n",
              "      <div>\n",
              "<style scoped>\n",
              "    .dataframe tbody tr th:only-of-type {\n",
              "        vertical-align: middle;\n",
              "    }\n",
              "\n",
              "    .dataframe tbody tr th {\n",
              "        vertical-align: top;\n",
              "    }\n",
              "\n",
              "    .dataframe thead th {\n",
              "        text-align: right;\n",
              "    }\n",
              "</style>\n",
              "<table border=\"1\" class=\"dataframe\">\n",
              "  <thead>\n",
              "    <tr style=\"text-align: right;\">\n",
              "      <th></th>\n",
              "      <th>ID</th>\n",
              "      <th>Date</th>\n",
              "      <th>1</th>\n",
              "      <th>2</th>\n",
              "      <th>3</th>\n",
              "      <th>4</th>\n",
              "      <th>5</th>\n",
              "      <th>6</th>\n",
              "      <th>7</th>\n",
              "      <th>8</th>\n",
              "    </tr>\n",
              "  </thead>\n",
              "  <tbody>\n",
              "    <tr>\n",
              "      <th>0</th>\n",
              "      <td>D788034C</td>\n",
              "      <td>2021-11-28 00:00:00</td>\n",
              "      <td>0.981262</td>\n",
              "      <td>0.990319</td>\n",
              "      <td>0.979536</td>\n",
              "      <td>0.328138</td>\n",
              "      <td>0.985659</td>\n",
              "      <td>0.794406</td>\n",
              "      <td>0.967414</td>\n",
              "      <td>0.900350</td>\n",
              "    </tr>\n",
              "    <tr>\n",
              "      <th>1</th>\n",
              "      <td>D788034C</td>\n",
              "      <td>2021-11-28 00:00:01</td>\n",
              "      <td>0.962457</td>\n",
              "      <td>0.998730</td>\n",
              "      <td>0.998241</td>\n",
              "      <td>0.975713</td>\n",
              "      <td>0.868509</td>\n",
              "      <td>0.205135</td>\n",
              "      <td>0.993087</td>\n",
              "      <td>0.139415</td>\n",
              "    </tr>\n",
              "    <tr>\n",
              "      <th>2</th>\n",
              "      <td>D788034C</td>\n",
              "      <td>2021-11-28 00:00:02</td>\n",
              "      <td>0.986374</td>\n",
              "      <td>0.998717</td>\n",
              "      <td>0.997116</td>\n",
              "      <td>0.925132</td>\n",
              "      <td>0.966387</td>\n",
              "      <td>0.803887</td>\n",
              "      <td>0.993642</td>\n",
              "      <td>0.401863</td>\n",
              "    </tr>\n",
              "    <tr>\n",
              "      <th>3</th>\n",
              "      <td>D788034C</td>\n",
              "      <td>2021-11-28 00:00:03</td>\n",
              "      <td>0.974020</td>\n",
              "      <td>0.998734</td>\n",
              "      <td>0.998220</td>\n",
              "      <td>0.973949</td>\n",
              "      <td>0.870613</td>\n",
              "      <td>0.340489</td>\n",
              "      <td>0.994713</td>\n",
              "      <td>0.124057</td>\n",
              "    </tr>\n",
              "    <tr>\n",
              "      <th>4</th>\n",
              "      <td>D788034C</td>\n",
              "      <td>2021-11-28 00:00:04</td>\n",
              "      <td>0.982181</td>\n",
              "      <td>0.998724</td>\n",
              "      <td>0.997959</td>\n",
              "      <td>0.968855</td>\n",
              "      <td>0.912446</td>\n",
              "      <td>0.521101</td>\n",
              "      <td>0.995326</td>\n",
              "      <td>0.157700</td>\n",
              "    </tr>\n",
              "    <tr>\n",
              "      <th>...</th>\n",
              "      <td>...</td>\n",
              "      <td>...</td>\n",
              "      <td>...</td>\n",
              "      <td>...</td>\n",
              "      <td>...</td>\n",
              "      <td>...</td>\n",
              "      <td>...</td>\n",
              "      <td>...</td>\n",
              "      <td>...</td>\n",
              "      <td>...</td>\n",
              "    </tr>\n",
              "    <tr>\n",
              "      <th>281496</th>\n",
              "      <td>F257DB06</td>\n",
              "      <td>2021-11-17 17:46:41</td>\n",
              "      <td>0.057448</td>\n",
              "      <td>0.001689</td>\n",
              "      <td>0.000070</td>\n",
              "      <td>0.079439</td>\n",
              "      <td>0.010539</td>\n",
              "      <td>0.052714</td>\n",
              "      <td>0.039905</td>\n",
              "      <td>0.004037</td>\n",
              "    </tr>\n",
              "    <tr>\n",
              "      <th>281497</th>\n",
              "      <td>F257DB06</td>\n",
              "      <td>2021-11-17 17:46:42</td>\n",
              "      <td>0.057815</td>\n",
              "      <td>0.001603</td>\n",
              "      <td>0.000069</td>\n",
              "      <td>0.079451</td>\n",
              "      <td>0.010530</td>\n",
              "      <td>0.048433</td>\n",
              "      <td>0.038144</td>\n",
              "      <td>0.004177</td>\n",
              "    </tr>\n",
              "    <tr>\n",
              "      <th>281498</th>\n",
              "      <td>F257DB06</td>\n",
              "      <td>2021-11-17 17:46:43</td>\n",
              "      <td>0.060785</td>\n",
              "      <td>0.001497</td>\n",
              "      <td>0.000066</td>\n",
              "      <td>0.077506</td>\n",
              "      <td>0.011072</td>\n",
              "      <td>0.041750</td>\n",
              "      <td>0.034849</td>\n",
              "      <td>0.004532</td>\n",
              "    </tr>\n",
              "    <tr>\n",
              "      <th>281499</th>\n",
              "      <td>F257DB06</td>\n",
              "      <td>2021-11-17 17:46:44</td>\n",
              "      <td>0.059896</td>\n",
              "      <td>0.001556</td>\n",
              "      <td>0.000068</td>\n",
              "      <td>0.078155</td>\n",
              "      <td>0.010878</td>\n",
              "      <td>0.045338</td>\n",
              "      <td>0.036629</td>\n",
              "      <td>0.004357</td>\n",
              "    </tr>\n",
              "    <tr>\n",
              "      <th>281500</th>\n",
              "      <td>F257DB06</td>\n",
              "      <td>2021-11-17 17:46:45</td>\n",
              "      <td>0.058858</td>\n",
              "      <td>0.001595</td>\n",
              "      <td>0.000069</td>\n",
              "      <td>0.078965</td>\n",
              "      <td>0.010701</td>\n",
              "      <td>0.047617</td>\n",
              "      <td>0.037766</td>\n",
              "      <td>0.004242</td>\n",
              "    </tr>\n",
              "  </tbody>\n",
              "</table>\n",
              "<p>281501 rows × 10 columns</p>\n",
              "</div>\n",
              "      <button class=\"colab-df-convert\" onclick=\"convertToInteractive('df-8442def8-383d-415c-be85-244659bf30f9')\"\n",
              "              title=\"Convert this dataframe to an interactive table.\"\n",
              "              style=\"display:none;\">\n",
              "        \n",
              "  <svg xmlns=\"http://www.w3.org/2000/svg\" height=\"24px\"viewBox=\"0 0 24 24\"\n",
              "       width=\"24px\">\n",
              "    <path d=\"M0 0h24v24H0V0z\" fill=\"none\"/>\n",
              "    <path d=\"M18.56 5.44l.94 2.06.94-2.06 2.06-.94-2.06-.94-.94-2.06-.94 2.06-2.06.94zm-11 1L8.5 8.5l.94-2.06 2.06-.94-2.06-.94L8.5 2.5l-.94 2.06-2.06.94zm10 10l.94 2.06.94-2.06 2.06-.94-2.06-.94-.94-2.06-.94 2.06-2.06.94z\"/><path d=\"M17.41 7.96l-1.37-1.37c-.4-.4-.92-.59-1.43-.59-.52 0-1.04.2-1.43.59L10.3 9.45l-7.72 7.72c-.78.78-.78 2.05 0 2.83L4 21.41c.39.39.9.59 1.41.59.51 0 1.02-.2 1.41-.59l7.78-7.78 2.81-2.81c.8-.78.8-2.07 0-2.86zM5.41 20L4 18.59l7.72-7.72 1.47 1.35L5.41 20z\"/>\n",
              "  </svg>\n",
              "      </button>\n",
              "      \n",
              "  <style>\n",
              "    .colab-df-container {\n",
              "      display:flex;\n",
              "      flex-wrap:wrap;\n",
              "      gap: 12px;\n",
              "    }\n",
              "\n",
              "    .colab-df-convert {\n",
              "      background-color: #E8F0FE;\n",
              "      border: none;\n",
              "      border-radius: 50%;\n",
              "      cursor: pointer;\n",
              "      display: none;\n",
              "      fill: #1967D2;\n",
              "      height: 32px;\n",
              "      padding: 0 0 0 0;\n",
              "      width: 32px;\n",
              "    }\n",
              "\n",
              "    .colab-df-convert:hover {\n",
              "      background-color: #E2EBFA;\n",
              "      box-shadow: 0px 1px 2px rgba(60, 64, 67, 0.3), 0px 1px 3px 1px rgba(60, 64, 67, 0.15);\n",
              "      fill: #174EA6;\n",
              "    }\n",
              "\n",
              "    [theme=dark] .colab-df-convert {\n",
              "      background-color: #3B4455;\n",
              "      fill: #D2E3FC;\n",
              "    }\n",
              "\n",
              "    [theme=dark] .colab-df-convert:hover {\n",
              "      background-color: #434B5C;\n",
              "      box-shadow: 0px 1px 3px 1px rgba(0, 0, 0, 0.15);\n",
              "      filter: drop-shadow(0px 1px 2px rgba(0, 0, 0, 0.3));\n",
              "      fill: #FFFFFF;\n",
              "    }\n",
              "  </style>\n",
              "\n",
              "      <script>\n",
              "        const buttonEl =\n",
              "          document.querySelector('#df-8442def8-383d-415c-be85-244659bf30f9 button.colab-df-convert');\n",
              "        buttonEl.style.display =\n",
              "          google.colab.kernel.accessAllowed ? 'block' : 'none';\n",
              "\n",
              "        async function convertToInteractive(key) {\n",
              "          const element = document.querySelector('#df-8442def8-383d-415c-be85-244659bf30f9');\n",
              "          const dataTable =\n",
              "            await google.colab.kernel.invokeFunction('convertToInteractive',\n",
              "                                                     [key], {});\n",
              "          if (!dataTable) return;\n",
              "\n",
              "          const docLinkHtml = 'Like what you see? Visit the ' +\n",
              "            '<a target=\"_blank\" href=https://colab.research.google.com/notebooks/data_table.ipynb>data table notebook</a>'\n",
              "            + ' to learn more about interactive tables.';\n",
              "          element.innerHTML = '';\n",
              "          dataTable['output_type'] = 'display_data';\n",
              "          await google.colab.output.renderOutput(dataTable, element);\n",
              "          const docLink = document.createElement('div');\n",
              "          docLink.innerHTML = docLinkHtml;\n",
              "          element.appendChild(docLink);\n",
              "        }\n",
              "      </script>\n",
              "    </div>\n",
              "  </div>\n",
              "  "
            ]
          },
          "metadata": {},
          "execution_count": 22
        }
      ]
    },
    {
      "cell_type": "code",
      "source": [
        "df = train_df.iloc[:,2:]"
      ],
      "metadata": {
        "id": "jvD5hJlA6O4n"
      },
      "execution_count": null,
      "outputs": []
    },
    {
      "cell_type": "code",
      "source": [
        "# 99% of variance\n",
        "from sklearn.decomposition import PCA\n",
        "pca = PCA(n_components = 0.99)\n",
        "pca.fit(df)\n",
        "reduced = pca.transform(df)"
      ],
      "metadata": {
        "id": "v91-RWKj0iWs"
      },
      "execution_count": null,
      "outputs": []
    },
    {
      "cell_type": "code",
      "source": [
        "pca = PCA().fit(df)\n",
        "\n",
        "% matplotlib inline\n",
        "import matplotlib.pyplot as plt\n",
        "plt.rcParams[\"figure.figsize\"] = (12,6)\n",
        "\n",
        "fig, ax = plt.subplots()\n",
        "xi = np.arange(1, 9, step=1)\n",
        "y = np.cumsum(pca.explained_variance_ratio_)\n",
        "\n",
        "plt.ylim(0.0,1.1)\n",
        "plt.plot(xi, y, marker='o', linestyle='--', color='b')\n",
        "\n",
        "plt.xlabel('Number of Components')\n",
        "plt.xticks(np.arange(0, 9, step=1)) #change from 0-based array index to 1-based human-readable label\n",
        "plt.ylim(0.8, 1.0)\n",
        "plt.ylabel('Cumulative variance (%)')\n",
        "plt.title('The number of components needed to explain variance')\n",
        "\n",
        "plt.axhline(y=0.99, color='r', linestyle='-')\n",
        "plt.text(0.5, 0.975, '99% cut-off threshold', color = 'red', fontsize=16)\n",
        "\n",
        "ax.grid(axis='x')\n",
        "plt.show()"
      ],
      "metadata": {
        "colab": {
          "base_uri": "https://localhost:8080/",
          "height": 404
        },
        "outputId": "5812624a-730a-4d87-b63d-74bfb5c56cd3",
        "id": "4GR7r_h_0iWt"
      },
      "execution_count": null,
      "outputs": [
        {
          "output_type": "display_data",
          "data": {
            "text/plain": [
              "<Figure size 864x432 with 1 Axes>"
            ],
            "image/png": "[encoded data removed]"
          },
          "metadata": {
            "needs_background": "light"
          }
        }
      ]
    },
    {
      "cell_type": "code",
      "source": [
        "# 95% of variance\n",
        "from sklearn.decomposition import PCA\n",
        "pca = PCA(n_components = 0.95)\n",
        "pca.fit(df)\n",
        "reduced = pca.transform(df)\n",
        "\n",
        "pca = PCA().fit(df)\n",
        "\n",
        "% matplotlib inline\n",
        "import matplotlib.pyplot as plt\n",
        "plt.rcParams[\"figure.figsize\"] = (12,6)\n",
        "\n",
        "fig, ax = plt.subplots()\n",
        "xi = np.arange(1, 9, step=1)\n",
        "y = np.cumsum(pca.explained_variance_ratio_)\n",
        "\n",
        "plt.ylim(0.0,1.1)\n",
        "plt.plot(xi, y, marker='o', linestyle='--', color='b')\n",
        "\n",
        "plt.xlabel('Number of Components')\n",
        "plt.xticks(np.arange(0, 9, step=1)) #change from 0-based array index to 1-based human-readable label\n",
        "plt.ylabel('Cumulative variance (%)')\n",
        "plt.title('The number of components needed to explain variance')\n",
        "\n",
        "plt.axhline(y=0.95, color='r', linestyle='-')\n",
        "plt.text(0.5, 0.85, '95% cut-off threshold', color = 'red', fontsize=16)\n",
        "\n",
        "ax.grid(axis='x')\n",
        "plt.show()"
      ],
      "metadata": {
        "colab": {
          "base_uri": "https://localhost:8080/",
          "height": 404
        },
        "id": "BQ60OfheFaEm",
        "outputId": "a4afb478-380e-449e-9abb-bbbb6801689e"
      },
      "execution_count": null,
      "outputs": [
        {
          "output_type": "display_data",
          "data": {
            "text/plain": [
              "<Figure size 864x432 with 1 Axes>"
            ],
            "image/png": "[encoded data removed]"
          },
          "metadata": {
            "needs_background": "light"
          }
        }
      ]
    },
    {
      "cell_type": "code",
      "source": [
        "from sklearn.decomposition import PCA\n",
        "pca = PCA(n_components=5) # 주성분을 몇개로 할지 결정\n",
        "printcipalComponents = pca.fit_transform(df)\n",
        "principalDf = pd.DataFrame(data=printcipalComponents, columns = ['pc1', 'pc2', 'pc3', 'pc4', 'pc5'])\n",
        "# 주성분으로 이루어진 데이터 프레임 구성"
      ],
      "metadata": {
        "id": "4jipSdatFc7V"
      },
      "execution_count": null,
      "outputs": []
    },
    {
      "cell_type": "code",
      "source": [
        "principalDf.head()"
      ],
      "metadata": {
        "colab": {
          "base_uri": "https://localhost:8080/",
          "height": 206
        },
        "id": "APhht7QgFlx3",
        "outputId": "feceb912-ac85-458a-9300-357914d39ed6"
      },
      "execution_count": null,
      "outputs": [
        {
          "output_type": "execute_result",
          "data": {
            "text/plain": [
              "        pc1       pc2       pc3       pc4       pc5\n",
              "0 -0.682779  0.334254 -0.064476  0.214753 -0.050043\n",
              "1 -0.342488  0.299873  0.891694 -0.295601  0.019271\n",
              "2 -0.523201  0.528014  0.554798  0.035123 -0.320104\n",
              "3 -0.359934  0.393394  0.849294 -0.253701 -0.044100\n",
              "4 -0.408272  0.479832  0.768564 -0.174575 -0.152838"
            ],
            "text/html": [
              "\n",
              "  <div id=\"df-51d9ea3e-e6e9-488a-a5cf-237668024479\">\n",
              "    <div class=\"colab-df-container\">\n",
              "      <div>\n",
              "<style scoped>\n",
              "    .dataframe tbody tr th:only-of-type {\n",
              "        vertical-align: middle;\n",
              "    }\n",
              "\n",
              "    .dataframe tbody tr th {\n",
              "        vertical-align: top;\n",
              "    }\n",
              "\n",
              "    .dataframe thead th {\n",
              "        text-align: right;\n",
              "    }\n",
              "</style>\n",
              "<table border=\"1\" class=\"dataframe\">\n",
              "  <thead>\n",
              "    <tr style=\"text-align: right;\">\n",
              "      <th></th>\n",
              "      <th>pc1</th>\n",
              "      <th>pc2</th>\n",
              "      <th>pc3</th>\n",
              "      <th>pc4</th>\n",
              "      <th>pc5</th>\n",
              "    </tr>\n",
              "  </thead>\n",
              "  <tbody>\n",
              "    <tr>\n",
              "      <th>0</th>\n",
              "      <td>-0.682779</td>\n",
              "      <td>0.334254</td>\n",
              "      <td>-0.064476</td>\n",
              "      <td>0.214753</td>\n",
              "      <td>-0.050043</td>\n",
              "    </tr>\n",
              "    <tr>\n",
              "      <th>1</th>\n",
              "      <td>-0.342488</td>\n",
              "      <td>0.299873</td>\n",
              "      <td>0.891694</td>\n",
              "      <td>-0.295601</td>\n",
              "      <td>0.019271</td>\n",
              "    </tr>\n",
              "    <tr>\n",
              "      <th>2</th>\n",
              "      <td>-0.523201</td>\n",
              "      <td>0.528014</td>\n",
              "      <td>0.554798</td>\n",
              "      <td>0.035123</td>\n",
              "      <td>-0.320104</td>\n",
              "    </tr>\n",
              "    <tr>\n",
              "      <th>3</th>\n",
              "      <td>-0.359934</td>\n",
              "      <td>0.393394</td>\n",
              "      <td>0.849294</td>\n",
              "      <td>-0.253701</td>\n",
              "      <td>-0.044100</td>\n",
              "    </tr>\n",
              "    <tr>\n",
              "      <th>4</th>\n",
              "      <td>-0.408272</td>\n",
              "      <td>0.479832</td>\n",
              "      <td>0.768564</td>\n",
              "      <td>-0.174575</td>\n",
              "      <td>-0.152838</td>\n",
              "    </tr>\n",
              "  </tbody>\n",
              "</table>\n",
              "</div>\n",
              "      <button class=\"colab-df-convert\" onclick=\"convertToInteractive('df-51d9ea3e-e6e9-488a-a5cf-237668024479')\"\n",
              "              title=\"Convert this dataframe to an interactive table.\"\n",
              "              style=\"display:none;\">\n",
              "        \n",
              "  <svg xmlns=\"http://www.w3.org/2000/svg\" height=\"24px\"viewBox=\"0 0 24 24\"\n",
              "       width=\"24px\">\n",
              "    <path d=\"M0 0h24v24H0V0z\" fill=\"none\"/>\n",
              "    <path d=\"M18.56 5.44l.94 2.06.94-2.06 2.06-.94-2.06-.94-.94-2.06-.94 2.06-2.06.94zm-11 1L8.5 8.5l.94-2.06 2.06-.94-2.06-.94L8.5 2.5l-.94 2.06-2.06.94zm10 10l.94 2.06.94-2.06 2.06-.94-2.06-.94-.94-2.06-.94 2.06-2.06.94z\"/><path d=\"M17.41 7.96l-1.37-1.37c-.4-.4-.92-.59-1.43-.59-.52 0-1.04.2-1.43.59L10.3 9.45l-7.72 7.72c-.78.78-.78 2.05 0 2.83L4 21.41c.39.39.9.59 1.41.59.51 0 1.02-.2 1.41-.59l7.78-7.78 2.81-2.81c.8-.78.8-2.07 0-2.86zM5.41 20L4 18.59l7.72-7.72 1.47 1.35L5.41 20z\"/>\n",
              "  </svg>\n",
              "      </button>\n",
              "      \n",
              "  <style>\n",
              "    .colab-df-container {\n",
              "      display:flex;\n",
              "      flex-wrap:wrap;\n",
              "      gap: 12px;\n",
              "    }\n",
              "\n",
              "    .colab-df-convert {\n",
              "      background-color: #E8F0FE;\n",
              "      border: none;\n",
              "      border-radius: 50%;\n",
              "      cursor: pointer;\n",
              "      display: none;\n",
              "      fill: #1967D2;\n",
              "      height: 32px;\n",
              "      padding: 0 0 0 0;\n",
              "      width: 32px;\n",
              "    }\n",
              "\n",
              "    .colab-df-convert:hover {\n",
              "      background-color: #E2EBFA;\n",
              "      box-shadow: 0px 1px 2px rgba(60, 64, 67, 0.3), 0px 1px 3px 1px rgba(60, 64, 67, 0.15);\n",
              "      fill: #174EA6;\n",
              "    }\n",
              "\n",
              "    [theme=dark] .colab-df-convert {\n",
              "      background-color: #3B4455;\n",
              "      fill: #D2E3FC;\n",
              "    }\n",
              "\n",
              "    [theme=dark] .colab-df-convert:hover {\n",
              "      background-color: #434B5C;\n",
              "      box-shadow: 0px 1px 3px 1px rgba(0, 0, 0, 0.15);\n",
              "      filter: drop-shadow(0px 1px 2px rgba(0, 0, 0, 0.3));\n",
              "      fill: #FFFFFF;\n",
              "    }\n",
              "  </style>\n",
              "\n",
              "      <script>\n",
              "        const buttonEl =\n",
              "          document.querySelector('#df-51d9ea3e-e6e9-488a-a5cf-237668024479 button.colab-df-convert');\n",
              "        buttonEl.style.display =\n",
              "          google.colab.kernel.accessAllowed ? 'block' : 'none';\n",
              "\n",
              "        async function convertToInteractive(key) {\n",
              "          const element = document.querySelector('#df-51d9ea3e-e6e9-488a-a5cf-237668024479');\n",
              "          const dataTable =\n",
              "            await google.colab.kernel.invokeFunction('convertToInteractive',\n",
              "                                                     [key], {});\n",
              "          if (!dataTable) return;\n",
              "\n",
              "          const docLinkHtml = 'Like what you see? Visit the ' +\n",
              "            '<a target=\"_blank\" href=https://colab.research.google.com/notebooks/data_table.ipynb>data table notebook</a>'\n",
              "            + ' to learn more about interactive tables.';\n",
              "          element.innerHTML = '';\n",
              "          dataTable['output_type'] = 'display_data';\n",
              "          await google.colab.output.renderOutput(dataTable, element);\n",
              "          const docLink = document.createElement('div');\n",
              "          docLink.innerHTML = docLinkHtml;\n",
              "          element.appendChild(docLink);\n",
              "        }\n",
              "      </script>\n",
              "    </div>\n",
              "  </div>\n",
              "  "
            ]
          },
          "metadata": {},
          "execution_count": 29
        }
      ]
    },
    {
      "cell_type": "code",
      "source": [
        "pca.explained_variance_ratio_"
      ],
      "metadata": {
        "colab": {
          "base_uri": "https://localhost:8080/"
        },
        "id": "BlDAtNmbFpLC",
        "outputId": "3a1d4c6b-e7ba-4f74-83ec-fa038b7e9c2e"
      },
      "execution_count": null,
      "outputs": [
        {
          "output_type": "execute_result",
          "data": {
            "text/plain": [
              "array([0.43602575, 0.2430231 , 0.18595676, 0.05851033, 0.03012998])"
            ]
          },
          "metadata": {},
          "execution_count": 30
        }
      ]
    },
    {
      "cell_type": "code",
      "source": [
        "sum(pca.explained_variance_ratio_) # 해당 주성분으로 데이터 분산을 약 95% 설명 가능하다."
      ],
      "metadata": {
        "colab": {
          "base_uri": "https://localhost:8080/"
        },
        "id": "2c53jScuFrL7",
        "outputId": "ea960184-4c38-49ec-bb84-7fcb934e6f21"
      },
      "execution_count": null,
      "outputs": [
        {
          "output_type": "execute_result",
          "data": {
            "text/plain": [
              "0.9536459222593724"
            ]
          },
          "metadata": {},
          "execution_count": 31
        }
      ]
    },
    {
      "cell_type": "code",
      "source": [
        "# from graspologic.cluster.autogmm import AutoGMMCluster\n",
        "\n",
        "# # Fit AutoGMM model\n",
        "# autogmm_ = AutoGMMCluster(min_components=2, max_components=10)\n",
        "# c_hat_autogmm = autogmm_.fit_predict(np.array(train_df))\n",
        "\n",
        "# c_hat_autogmm"
      ],
      "metadata": {
        "id": "xQSb0WQeFrz5"
      },
      "execution_count": null,
      "outputs": []
    },
    {
      "cell_type": "code",
      "source": [
        "# set(c_hat_autogmm)"
      ],
      "metadata": {
        "id": "kqoGuOUZFv2y"
      },
      "execution_count": null,
      "outputs": []
    },
    {
      "cell_type": "code",
      "source": [
        "from sklearn.cluster import KMeans\n",
        "from yellowbrick.cluster import KElbowVisualizer\n",
        "from sklearn.preprocessing import MinMaxScaler\n",
        "\n",
        "model = KMeans()\n",
        "visualizer = KElbowVisualizer(model, k=(1,12))\n",
        "visualizer.fit(df)\n",
        "visualizer.show()"
      ],
      "metadata": {
        "colab": {
          "base_uri": "https://localhost:8080/",
          "height": 394
        },
        "id": "OdF7GDCnhBDn",
        "outputId": "59b602d9-fcd2-442c-ed5d-f5257e97f976"
      },
      "execution_count": null,
      "outputs": [
        {
          "output_type": "display_data",
          "data": {
            "text/plain": [
              "<Figure size 576x396 with 2 Axes>"
            ],
            "image/png": "[encoded data removed]"
          },
          "metadata": {}
        },
        {
          "output_type": "execute_result",
          "data": {
            "text/plain": [
              "<matplotlib.axes._subplots.AxesSubplot at 0x7f2b7075e1d0>"
            ]
          },
          "metadata": {},
          "execution_count": 32
        }
      ]
    },
    {
      "cell_type": "code",
      "source": [
        "n_clusters = visualizer.elbow_value_\n",
        "n_clusters"
      ],
      "metadata": {
        "id": "LAHtl4wM540S",
        "colab": {
          "base_uri": "https://localhost:8080/"
        },
        "outputId": "b14f502a-5ecb-4afd-f839-8de9e786266f"
      },
      "execution_count": null,
      "outputs": [
        {
          "output_type": "execute_result",
          "data": {
            "text/plain": [
              "4"
            ]
          },
          "metadata": {},
          "execution_count": 33
        }
      ]
    },
    {
      "cell_type": "code",
      "source": [
        "from sklearn.cluster import KMeans\n",
        "Kmean = KMeans(n_clusters=n_clusters)\n",
        "Kmean.fit(df)"
      ],
      "metadata": {
        "colab": {
          "base_uri": "https://localhost:8080/"
        },
        "id": "v7kt5ExUE0ul",
        "outputId": "d05a5b21-14fc-4aa8-cafe-77125c99e333"
      },
      "execution_count": null,
      "outputs": [
        {
          "output_type": "execute_result",
          "data": {
            "text/plain": [
              "KMeans(n_clusters=4)"
            ]
          },
          "metadata": {},
          "execution_count": 34
        }
      ]
    },
    {
      "cell_type": "code",
      "source": [
        "train_df['class'] = Kmean.predict(df)"
      ],
      "metadata": {
        "id": "WSZtGb_cqSvD"
      },
      "execution_count": null,
      "outputs": []
    },
    {
      "cell_type": "code",
      "source": [
        "train_df.head()"
      ],
      "metadata": {
        "colab": {
          "base_uri": "https://localhost:8080/",
          "height": 206
        },
        "id": "Uxyc5xmnq1zF",
        "outputId": "62a53886-aeec-4911-80a8-1991adf425c1"
      },
      "execution_count": null,
      "outputs": [
        {
          "output_type": "execute_result",
          "data": {
            "text/plain": [
              "         ID                 Date         1         2         3         4  \\\n",
              "0  D788034C  2021-11-28 00:00:00  0.981262  0.990319  0.979536  0.328138   \n",
              "1  D788034C  2021-11-28 00:00:01  0.962457  0.998730  0.998241  0.975713   \n",
              "2  D788034C  2021-11-28 00:00:02  0.986374  0.998717  0.997116  0.925132   \n",
              "3  D788034C  2021-11-28 00:00:03  0.974020  0.998734  0.998220  0.973949   \n",
              "4  D788034C  2021-11-28 00:00:04  0.982181  0.998724  0.997959  0.968855   \n",
              "\n",
              "          5         6         7         8  class  \n",
              "0  0.985659  0.794406  0.967414  0.900350      3  \n",
              "1  0.868509  0.205135  0.993087  0.139415      1  \n",
              "2  0.966387  0.803887  0.993642  0.401863      3  \n",
              "3  0.870613  0.340489  0.994713  0.124057      3  \n",
              "4  0.912446  0.521101  0.995326  0.157700      3  "
            ],
            "text/html": [
              "\n",
              "  <div id=\"df-e2642cd7-8ca4-4b75-bdcd-c52a788a6736\">\n",
              "    <div class=\"colab-df-container\">\n",
              "      <div>\n",
              "<style scoped>\n",
              "    .dataframe tbody tr th:only-of-type {\n",
              "        vertical-align: middle;\n",
              "    }\n",
              "\n",
              "    .dataframe tbody tr th {\n",
              "        vertical-align: top;\n",
              "    }\n",
              "\n",
              "    .dataframe thead th {\n",
              "        text-align: right;\n",
              "    }\n",
              "</style>\n",
              "<table border=\"1\" class=\"dataframe\">\n",
              "  <thead>\n",
              "    <tr style=\"text-align: right;\">\n",
              "      <th></th>\n",
              "      <th>ID</th>\n",
              "      <th>Date</th>\n",
              "      <th>1</th>\n",
              "      <th>2</th>\n",
              "      <th>3</th>\n",
              "      <th>4</th>\n",
              "      <th>5</th>\n",
              "      <th>6</th>\n",
              "      <th>7</th>\n",
              "      <th>8</th>\n",
              "      <th>class</th>\n",
              "    </tr>\n",
              "  </thead>\n",
              "  <tbody>\n",
              "    <tr>\n",
              "      <th>0</th>\n",
              "      <td>D788034C</td>\n",
              "      <td>2021-11-28 00:00:00</td>\n",
              "      <td>0.981262</td>\n",
              "      <td>0.990319</td>\n",
              "      <td>0.979536</td>\n",
              "      <td>0.328138</td>\n",
              "      <td>0.985659</td>\n",
              "      <td>0.794406</td>\n",
              "      <td>0.967414</td>\n",
              "      <td>0.900350</td>\n",
              "      <td>3</td>\n",
              "    </tr>\n",
              "    <tr>\n",
              "      <th>1</th>\n",
              "      <td>D788034C</td>\n",
              "      <td>2021-11-28 00:00:01</td>\n",
              "      <td>0.962457</td>\n",
              "      <td>0.998730</td>\n",
              "      <td>0.998241</td>\n",
              "      <td>0.975713</td>\n",
              "      <td>0.868509</td>\n",
              "      <td>0.205135</td>\n",
              "      <td>0.993087</td>\n",
              "      <td>0.139415</td>\n",
              "      <td>1</td>\n",
              "    </tr>\n",
              "    <tr>\n",
              "      <th>2</th>\n",
              "      <td>D788034C</td>\n",
              "      <td>2021-11-28 00:00:02</td>\n",
              "      <td>0.986374</td>\n",
              "      <td>0.998717</td>\n",
              "      <td>0.997116</td>\n",
              "      <td>0.925132</td>\n",
              "      <td>0.966387</td>\n",
              "      <td>0.803887</td>\n",
              "      <td>0.993642</td>\n",
              "      <td>0.401863</td>\n",
              "      <td>3</td>\n",
              "    </tr>\n",
              "    <tr>\n",
              "      <th>3</th>\n",
              "      <td>D788034C</td>\n",
              "      <td>2021-11-28 00:00:03</td>\n",
              "      <td>0.974020</td>\n",
              "      <td>0.998734</td>\n",
              "      <td>0.998220</td>\n",
              "      <td>0.973949</td>\n",
              "      <td>0.870613</td>\n",
              "      <td>0.340489</td>\n",
              "      <td>0.994713</td>\n",
              "      <td>0.124057</td>\n",
              "      <td>3</td>\n",
              "    </tr>\n",
              "    <tr>\n",
              "      <th>4</th>\n",
              "      <td>D788034C</td>\n",
              "      <td>2021-11-28 00:00:04</td>\n",
              "      <td>0.982181</td>\n",
              "      <td>0.998724</td>\n",
              "      <td>0.997959</td>\n",
              "      <td>0.968855</td>\n",
              "      <td>0.912446</td>\n",
              "      <td>0.521101</td>\n",
              "      <td>0.995326</td>\n",
              "      <td>0.157700</td>\n",
              "      <td>3</td>\n",
              "    </tr>\n",
              "  </tbody>\n",
              "</table>\n",
              "</div>\n",
              "      <button class=\"colab-df-convert\" onclick=\"convertToInteractive('df-e2642cd7-8ca4-4b75-bdcd-c52a788a6736')\"\n",
              "              title=\"Convert this dataframe to an interactive table.\"\n",
              "              style=\"display:none;\">\n",
              "        \n",
              "  <svg xmlns=\"http://www.w3.org/2000/svg\" height=\"24px\"viewBox=\"0 0 24 24\"\n",
              "       width=\"24px\">\n",
              "    <path d=\"M0 0h24v24H0V0z\" fill=\"none\"/>\n",
              "    <path d=\"M18.56 5.44l.94 2.06.94-2.06 2.06-.94-2.06-.94-.94-2.06-.94 2.06-2.06.94zm-11 1L8.5 8.5l.94-2.06 2.06-.94-2.06-.94L8.5 2.5l-.94 2.06-2.06.94zm10 10l.94 2.06.94-2.06 2.06-.94-2.06-.94-.94-2.06-.94 2.06-2.06.94z\"/><path d=\"M17.41 7.96l-1.37-1.37c-.4-.4-.92-.59-1.43-.59-.52 0-1.04.2-1.43.59L10.3 9.45l-7.72 7.72c-.78.78-.78 2.05 0 2.83L4 21.41c.39.39.9.59 1.41.59.51 0 1.02-.2 1.41-.59l7.78-7.78 2.81-2.81c.8-.78.8-2.07 0-2.86zM5.41 20L4 18.59l7.72-7.72 1.47 1.35L5.41 20z\"/>\n",
              "  </svg>\n",
              "      </button>\n",
              "      \n",
              "  <style>\n",
              "    .colab-df-container {\n",
              "      display:flex;\n",
              "      flex-wrap:wrap;\n",
              "      gap: 12px;\n",
              "    }\n",
              "\n",
              "    .colab-df-convert {\n",
              "      background-color: #E8F0FE;\n",
              "      border: none;\n",
              "      border-radius: 50%;\n",
              "      cursor: pointer;\n",
              "      display: none;\n",
              "      fill: #1967D2;\n",
              "      height: 32px;\n",
              "      padding: 0 0 0 0;\n",
              "      width: 32px;\n",
              "    }\n",
              "\n",
              "    .colab-df-convert:hover {\n",
              "      background-color: #E2EBFA;\n",
              "      box-shadow: 0px 1px 2px rgba(60, 64, 67, 0.3), 0px 1px 3px 1px rgba(60, 64, 67, 0.15);\n",
              "      fill: #174EA6;\n",
              "    }\n",
              "\n",
              "    [theme=dark] .colab-df-convert {\n",
              "      background-color: #3B4455;\n",
              "      fill: #D2E3FC;\n",
              "    }\n",
              "\n",
              "    [theme=dark] .colab-df-convert:hover {\n",
              "      background-color: #434B5C;\n",
              "      box-shadow: 0px 1px 3px 1px rgba(0, 0, 0, 0.15);\n",
              "      filter: drop-shadow(0px 1px 2px rgba(0, 0, 0, 0.3));\n",
              "      fill: #FFFFFF;\n",
              "    }\n",
              "  </style>\n",
              "\n",
              "      <script>\n",
              "        const buttonEl =\n",
              "          document.querySelector('#df-e2642cd7-8ca4-4b75-bdcd-c52a788a6736 button.colab-df-convert');\n",
              "        buttonEl.style.display =\n",
              "          google.colab.kernel.accessAllowed ? 'block' : 'none';\n",
              "\n",
              "        async function convertToInteractive(key) {\n",
              "          const element = document.querySelector('#df-e2642cd7-8ca4-4b75-bdcd-c52a788a6736');\n",
              "          const dataTable =\n",
              "            await google.colab.kernel.invokeFunction('convertToInteractive',\n",
              "                                                     [key], {});\n",
              "          if (!dataTable) return;\n",
              "\n",
              "          const docLinkHtml = 'Like what you see? Visit the ' +\n",
              "            '<a target=\"_blank\" href=https://colab.research.google.com/notebooks/data_table.ipynb>data table notebook</a>'\n",
              "            + ' to learn more about interactive tables.';\n",
              "          element.innerHTML = '';\n",
              "          dataTable['output_type'] = 'display_data';\n",
              "          await google.colab.output.renderOutput(dataTable, element);\n",
              "          const docLink = document.createElement('div');\n",
              "          docLink.innerHTML = docLinkHtml;\n",
              "          element.appendChild(docLink);\n",
              "        }\n",
              "      </script>\n",
              "    </div>\n",
              "  </div>\n",
              "  "
            ]
          },
          "metadata": {},
          "execution_count": 31
        }
      ]
    },
    {
      "cell_type": "code",
      "source": [
        "coordinate = Kmean.cluster_centers_\n",
        "coordinate"
      ],
      "metadata": {
        "colab": {
          "base_uri": "https://localhost:8080/"
        },
        "id": "PSqPVLYDOINP",
        "outputId": "6a697d40-58bb-48c2-adad-6bbced5962cd"
      },
      "execution_count": null,
      "outputs": [
        {
          "output_type": "execute_result",
          "data": {
            "text/plain": [
              "array([[0.75984865, 0.39449668, 0.14568686, 0.30626667, 0.9716313 ,\n",
              "        0.11792377, 0.02757645, 0.9800875 ],\n",
              "       [0.8558017 , 0.9237191 , 0.9660995 , 0.6091175 , 0.96972007,\n",
              "        0.10418543, 0.5035491 , 0.9502069 ],\n",
              "       [0.00952578, 0.04065895, 0.12434196, 0.49615186, 0.04654145,\n",
              "        0.4480361 , 0.2891097 , 0.2890616 ],\n",
              "       [0.98061895, 0.9669398 , 0.74086434, 0.3179568 , 0.866771  ,\n",
              "        0.8585731 , 0.87089914, 0.59827334]], dtype=float32)"
            ]
          },
          "metadata": {},
          "execution_count": 32
        }
      ]
    },
    {
      "cell_type": "code",
      "source": [
        "from yellowbrick.cluster import InterclusterDistance\n",
        "model = Kmean\n",
        "visualizer = InterclusterDistance(model, size=(3000, 3000), random_state=np.random.RandomState(seed=11), legend=False)\n",
        "\n",
        "visualizer.fit(df)\n",
        "visualizer"
      ],
      "metadata": {
        "colab": {
          "base_uri": "https://localhost:8080/",
          "height": 1000
        },
        "id": "56-fw_Uono10",
        "outputId": "0b4f8fb0-6fa3-4c78-dcc1-d5b6d0ecfca7"
      },
      "execution_count": null,
      "outputs": [
        {
          "output_type": "stream",
          "name": "stderr",
          "text": [
            "/usr/local/lib/python3.7/dist-packages/sklearn/base.py:451: UserWarning: X does not have valid feature names, but KMeans was fitted with feature names\n",
            "  \"X does not have valid feature names, but\"\n"
          ]
        },
        {
          "output_type": "execute_result",
          "data": {
            "text/plain": [
              "InterclusterDistance(ax=<matplotlib.axes._subplots.AxesSubplot object at 0x7f4479b96110>,\n",
              "                     estimator=KMeans(n_clusters=4), legend=False,\n",
              "                     random_state=RandomState(MT19937) at 0x7F447C5DD8D0)"
            ]
          },
          "metadata": {},
          "execution_count": 33
        },
        {
          "output_type": "display_data",
          "data": {
            "text/plain": [
              "<Figure size 3000x3000 with 1 Axes>"
            ],
            "image/png": "[encoded data removed]"
          },
          "metadata": {}
        }
      ]
    },
    {
      "cell_type": "code",
      "source": [
        "train_df['class'].value_counts()"
      ],
      "metadata": {
        "colab": {
          "base_uri": "https://localhost:8080/"
        },
        "id": "_NZ6wqIvAImZ",
        "outputId": "34bf1d12-597f-4e8e-ac48-76d1d92508aa"
      },
      "execution_count": null,
      "outputs": [
        {
          "output_type": "execute_result",
          "data": {
            "text/plain": [
              "1    104556\n",
              "3     95045\n",
              "2     44488\n",
              "0     37412\n",
              "Name: class, dtype: int64"
            ]
          },
          "metadata": {},
          "execution_count": 34
        }
      ]
    },
    {
      "cell_type": "markdown",
      "source": [
        "# DATE 로 class 와 위치 좌표 붙이기"
      ],
      "metadata": {
        "id": "GLjY-yxlvh1L"
      }
    },
    {
      "cell_type": "code",
      "source": [
        "!mkdir dataset"
      ],
      "metadata": {
        "id": "jiHE9eff77lz"
      },
      "execution_count": null,
      "outputs": []
    },
    {
      "cell_type": "code",
      "source": [
        "!unzip /content/gdrive/MyDrive/temp/별따러가자/drive-download-20220421T061809Z-001.zip -d ./dataset"
      ],
      "metadata": {
        "colab": {
          "base_uri": "https://localhost:8080/"
        },
        "id": "5JBHGbJ6yj7i",
        "outputId": "c429360b-1e80-4259-9834-550ae37afea2"
      },
      "execution_count": null,
      "outputs": [
        {
          "output_type": "stream",
          "name": "stdout",
          "text": [
            "Archive:  /content/gdrive/MyDrive/temp/별따러가자/drive-download-20220421T061809Z-001.zip\n",
            "  inflating: ./dataset/88826FAB.csv  \n",
            "  inflating: ./dataset/D30C299A.csv  \n",
            "  inflating: ./dataset/B95FBB89.csv  \n",
            "  inflating: ./dataset/912BB33B.csv  \n",
            "  inflating: ./dataset/483AA738.csv  \n",
            "  inflating: ./dataset/A50AF373.csv  \n",
            "  inflating: ./dataset/8C7E7A17.csv  \n",
            "  inflating: ./dataset/D788034C.csv  \n",
            "  inflating: ./dataset/A77E8CE3.csv  \n",
            "  inflating: ./dataset/1DBEBE62.csv  \n",
            "  inflating: ./dataset/570AA81D.csv  \n",
            "  inflating: ./dataset/DB7B0571.csv  \n",
            "  inflating: ./dataset/9EECBC9A.csv  \n",
            "  inflating: ./dataset/8E640374.csv  \n"
          ]
        }
      ]
    },
    {
      "cell_type": "code",
      "source": [
        "!unzip /content/gdrive/MyDrive/temp/별따러가자/drive-download-20220421T061809Z-002.zip -d ./dataset"
      ],
      "metadata": {
        "colab": {
          "base_uri": "https://localhost:8080/"
        },
        "id": "s8OHThz6ypJg",
        "outputId": "a304ab87-6c38-4851-9cd2-dbbe4479504d"
      },
      "execution_count": null,
      "outputs": [
        {
          "output_type": "stream",
          "name": "stdout",
          "text": [
            "Archive:  /content/gdrive/MyDrive/temp/별따러가자/drive-download-20220421T061809Z-002.zip\n",
            "  inflating: ./dataset/4E34891D.csv  \n",
            "  inflating: ./dataset/649508BF.csv  \n",
            "  inflating: ./dataset/F0A475A1.csv  \n",
            "  inflating: ./dataset/F257DB06.csv  \n",
            "  inflating: ./dataset/F0A475A1_2.csv  \n"
          ]
        }
      ]
    },
    {
      "cell_type": "code",
      "source": [
        "train_df.head()"
      ],
      "metadata": {
        "colab": {
          "base_uri": "https://localhost:8080/",
          "height": 206
        },
        "id": "4we16Ks9ytiq",
        "outputId": "23fad862-72ea-4a7f-db66-041ef16e464e"
      },
      "execution_count": null,
      "outputs": [
        {
          "output_type": "execute_result",
          "data": {
            "text/plain": [
              "         ID                 Date         1         2         3         4  \\\n",
              "0  D788034C  2021-11-28 00:00:00  0.981262  0.990319  0.979536  0.328138   \n",
              "1  D788034C  2021-11-28 00:00:01  0.962457  0.998730  0.998241  0.975713   \n",
              "2  D788034C  2021-11-28 00:00:02  0.986374  0.998717  0.997116  0.925132   \n",
              "3  D788034C  2021-11-28 00:00:03  0.974020  0.998734  0.998220  0.973949   \n",
              "4  D788034C  2021-11-28 00:00:04  0.982181  0.998724  0.997959  0.968855   \n",
              "\n",
              "          5         6         7         8  class  \n",
              "0  0.985659  0.794406  0.967414  0.900350      3  \n",
              "1  0.868509  0.205135  0.993087  0.139415      1  \n",
              "2  0.966387  0.803887  0.993642  0.401863      3  \n",
              "3  0.870613  0.340489  0.994713  0.124057      3  \n",
              "4  0.912446  0.521101  0.995326  0.157700      3  "
            ],
            "text/html": [
              "\n",
              "  <div id=\"df-e87022c5-a146-4739-8b0f-cac332263239\">\n",
              "    <div class=\"colab-df-container\">\n",
              "      <div>\n",
              "<style scoped>\n",
              "    .dataframe tbody tr th:only-of-type {\n",
              "        vertical-align: middle;\n",
              "    }\n",
              "\n",
              "    .dataframe tbody tr th {\n",
              "        vertical-align: top;\n",
              "    }\n",
              "\n",
              "    .dataframe thead th {\n",
              "        text-align: right;\n",
              "    }\n",
              "</style>\n",
              "<table border=\"1\" class=\"dataframe\">\n",
              "  <thead>\n",
              "    <tr style=\"text-align: right;\">\n",
              "      <th></th>\n",
              "      <th>ID</th>\n",
              "      <th>Date</th>\n",
              "      <th>1</th>\n",
              "      <th>2</th>\n",
              "      <th>3</th>\n",
              "      <th>4</th>\n",
              "      <th>5</th>\n",
              "      <th>6</th>\n",
              "      <th>7</th>\n",
              "      <th>8</th>\n",
              "      <th>class</th>\n",
              "    </tr>\n",
              "  </thead>\n",
              "  <tbody>\n",
              "    <tr>\n",
              "      <th>0</th>\n",
              "      <td>D788034C</td>\n",
              "      <td>2021-11-28 00:00:00</td>\n",
              "      <td>0.981262</td>\n",
              "      <td>0.990319</td>\n",
              "      <td>0.979536</td>\n",
              "      <td>0.328138</td>\n",
              "      <td>0.985659</td>\n",
              "      <td>0.794406</td>\n",
              "      <td>0.967414</td>\n",
              "      <td>0.900350</td>\n",
              "      <td>3</td>\n",
              "    </tr>\n",
              "    <tr>\n",
              "      <th>1</th>\n",
              "      <td>D788034C</td>\n",
              "      <td>2021-11-28 00:00:01</td>\n",
              "      <td>0.962457</td>\n",
              "      <td>0.998730</td>\n",
              "      <td>0.998241</td>\n",
              "      <td>0.975713</td>\n",
              "      <td>0.868509</td>\n",
              "      <td>0.205135</td>\n",
              "      <td>0.993087</td>\n",
              "      <td>0.139415</td>\n",
              "      <td>1</td>\n",
              "    </tr>\n",
              "    <tr>\n",
              "      <th>2</th>\n",
              "      <td>D788034C</td>\n",
              "      <td>2021-11-28 00:00:02</td>\n",
              "      <td>0.986374</td>\n",
              "      <td>0.998717</td>\n",
              "      <td>0.997116</td>\n",
              "      <td>0.925132</td>\n",
              "      <td>0.966387</td>\n",
              "      <td>0.803887</td>\n",
              "      <td>0.993642</td>\n",
              "      <td>0.401863</td>\n",
              "      <td>3</td>\n",
              "    </tr>\n",
              "    <tr>\n",
              "      <th>3</th>\n",
              "      <td>D788034C</td>\n",
              "      <td>2021-11-28 00:00:03</td>\n",
              "      <td>0.974020</td>\n",
              "      <td>0.998734</td>\n",
              "      <td>0.998220</td>\n",
              "      <td>0.973949</td>\n",
              "      <td>0.870613</td>\n",
              "      <td>0.340489</td>\n",
              "      <td>0.994713</td>\n",
              "      <td>0.124057</td>\n",
              "      <td>3</td>\n",
              "    </tr>\n",
              "    <tr>\n",
              "      <th>4</th>\n",
              "      <td>D788034C</td>\n",
              "      <td>2021-11-28 00:00:04</td>\n",
              "      <td>0.982181</td>\n",
              "      <td>0.998724</td>\n",
              "      <td>0.997959</td>\n",
              "      <td>0.968855</td>\n",
              "      <td>0.912446</td>\n",
              "      <td>0.521101</td>\n",
              "      <td>0.995326</td>\n",
              "      <td>0.157700</td>\n",
              "      <td>3</td>\n",
              "    </tr>\n",
              "  </tbody>\n",
              "</table>\n",
              "</div>\n",
              "      <button class=\"colab-df-convert\" onclick=\"convertToInteractive('df-e87022c5-a146-4739-8b0f-cac332263239')\"\n",
              "              title=\"Convert this dataframe to an interactive table.\"\n",
              "              style=\"display:none;\">\n",
              "        \n",
              "  <svg xmlns=\"http://www.w3.org/2000/svg\" height=\"24px\"viewBox=\"0 0 24 24\"\n",
              "       width=\"24px\">\n",
              "    <path d=\"M0 0h24v24H0V0z\" fill=\"none\"/>\n",
              "    <path d=\"M18.56 5.44l.94 2.06.94-2.06 2.06-.94-2.06-.94-.94-2.06-.94 2.06-2.06.94zm-11 1L8.5 8.5l.94-2.06 2.06-.94-2.06-.94L8.5 2.5l-.94 2.06-2.06.94zm10 10l.94 2.06.94-2.06 2.06-.94-2.06-.94-.94-2.06-.94 2.06-2.06.94z\"/><path d=\"M17.41 7.96l-1.37-1.37c-.4-.4-.92-.59-1.43-.59-.52 0-1.04.2-1.43.59L10.3 9.45l-7.72 7.72c-.78.78-.78 2.05 0 2.83L4 21.41c.39.39.9.59 1.41.59.51 0 1.02-.2 1.41-.59l7.78-7.78 2.81-2.81c.8-.78.8-2.07 0-2.86zM5.41 20L4 18.59l7.72-7.72 1.47 1.35L5.41 20z\"/>\n",
              "  </svg>\n",
              "      </button>\n",
              "      \n",
              "  <style>\n",
              "    .colab-df-container {\n",
              "      display:flex;\n",
              "      flex-wrap:wrap;\n",
              "      gap: 12px;\n",
              "    }\n",
              "\n",
              "    .colab-df-convert {\n",
              "      background-color: #E8F0FE;\n",
              "      border: none;\n",
              "      border-radius: 50%;\n",
              "      cursor: pointer;\n",
              "      display: none;\n",
              "      fill: #1967D2;\n",
              "      height: 32px;\n",
              "      padding: 0 0 0 0;\n",
              "      width: 32px;\n",
              "    }\n",
              "\n",
              "    .colab-df-convert:hover {\n",
              "      background-color: #E2EBFA;\n",
              "      box-shadow: 0px 1px 2px rgba(60, 64, 67, 0.3), 0px 1px 3px 1px rgba(60, 64, 67, 0.15);\n",
              "      fill: #174EA6;\n",
              "    }\n",
              "\n",
              "    [theme=dark] .colab-df-convert {\n",
              "      background-color: #3B4455;\n",
              "      fill: #D2E3FC;\n",
              "    }\n",
              "\n",
              "    [theme=dark] .colab-df-convert:hover {\n",
              "      background-color: #434B5C;\n",
              "      box-shadow: 0px 1px 3px 1px rgba(0, 0, 0, 0.15);\n",
              "      filter: drop-shadow(0px 1px 2px rgba(0, 0, 0, 0.3));\n",
              "      fill: #FFFFFF;\n",
              "    }\n",
              "  </style>\n",
              "\n",
              "      <script>\n",
              "        const buttonEl =\n",
              "          document.querySelector('#df-e87022c5-a146-4739-8b0f-cac332263239 button.colab-df-convert');\n",
              "        buttonEl.style.display =\n",
              "          google.colab.kernel.accessAllowed ? 'block' : 'none';\n",
              "\n",
              "        async function convertToInteractive(key) {\n",
              "          const element = document.querySelector('#df-e87022c5-a146-4739-8b0f-cac332263239');\n",
              "          const dataTable =\n",
              "            await google.colab.kernel.invokeFunction('convertToInteractive',\n",
              "                                                     [key], {});\n",
              "          if (!dataTable) return;\n",
              "\n",
              "          const docLinkHtml = 'Like what you see? Visit the ' +\n",
              "            '<a target=\"_blank\" href=https://colab.research.google.com/notebooks/data_table.ipynb>data table notebook</a>'\n",
              "            + ' to learn more about interactive tables.';\n",
              "          element.innerHTML = '';\n",
              "          dataTable['output_type'] = 'display_data';\n",
              "          await google.colab.output.renderOutput(dataTable, element);\n",
              "          const docLink = document.createElement('div');\n",
              "          docLink.innerHTML = docLinkHtml;\n",
              "          element.appendChild(docLink);\n",
              "        }\n",
              "      </script>\n",
              "    </div>\n",
              "  </div>\n",
              "  "
            ]
          },
          "metadata": {},
          "execution_count": 38
        }
      ]
    },
    {
      "cell_type": "code",
      "source": [
        "import os"
      ],
      "metadata": {
        "id": "a_Bjw2ae74I0"
      },
      "execution_count": null,
      "outputs": []
    },
    {
      "cell_type": "code",
      "source": [
        "os.listdir('./dataset')"
      ],
      "metadata": {
        "colab": {
          "base_uri": "https://localhost:8080/"
        },
        "id": "tms5w2ESOjDm",
        "outputId": "1e1d7cfa-e65d-4a43-e45c-2c03394cc989"
      },
      "execution_count": null,
      "outputs": [
        {
          "output_type": "execute_result",
          "data": {
            "text/plain": [
              "['8C7E7A17.csv',\n",
              " 'F0A475A1.csv',\n",
              " '649508BF.csv',\n",
              " 'D788034C.csv',\n",
              " 'B95FBB89.csv',\n",
              " '88826FAB.csv',\n",
              " '4E34891D.csv',\n",
              " '912BB33B.csv',\n",
              " '1DBEBE62.csv',\n",
              " '9EECBC9A.csv',\n",
              " '570AA81D.csv',\n",
              " 'A77E8CE3.csv',\n",
              " 'F257DB06.csv',\n",
              " '8E640374.csv',\n",
              " 'DB7B0571.csv',\n",
              " '483AA738.csv',\n",
              " 'D30C299A.csv',\n",
              " 'F0A475A1_2.csv',\n",
              " 'A50AF373.csv']"
            ]
          },
          "metadata": {},
          "execution_count": 40
        }
      ]
    },
    {
      "cell_type": "code",
      "source": [
        "train_df.loc[train_df.ID == id]"
      ],
      "metadata": {
        "colab": {
          "base_uri": "https://localhost:8080/",
          "height": 50
        },
        "id": "d3afha4Tonyn",
        "outputId": "1223b940-8fb1-4a16-f1ae-a001b80cb733"
      },
      "execution_count": null,
      "outputs": [
        {
          "output_type": "execute_result",
          "data": {
            "text/plain": [
              "Empty DataFrame\n",
              "Columns: [ID, Date, 1, 2, 3, 4, 5, 6, 7, 8, class]\n",
              "Index: []"
            ],
            "text/html": [
              "\n",
              "  <div id=\"df-bed67f02-96d9-488f-895b-17c97529afe3\">\n",
              "    <div class=\"colab-df-container\">\n",
              "      <div>\n",
              "<style scoped>\n",
              "    .dataframe tbody tr th:only-of-type {\n",
              "        vertical-align: middle;\n",
              "    }\n",
              "\n",
              "    .dataframe tbody tr th {\n",
              "        vertical-align: top;\n",
              "    }\n",
              "\n",
              "    .dataframe thead th {\n",
              "        text-align: right;\n",
              "    }\n",
              "</style>\n",
              "<table border=\"1\" class=\"dataframe\">\n",
              "  <thead>\n",
              "    <tr style=\"text-align: right;\">\n",
              "      <th></th>\n",
              "      <th>ID</th>\n",
              "      <th>Date</th>\n",
              "      <th>1</th>\n",
              "      <th>2</th>\n",
              "      <th>3</th>\n",
              "      <th>4</th>\n",
              "      <th>5</th>\n",
              "      <th>6</th>\n",
              "      <th>7</th>\n",
              "      <th>8</th>\n",
              "      <th>class</th>\n",
              "    </tr>\n",
              "  </thead>\n",
              "  <tbody>\n",
              "  </tbody>\n",
              "</table>\n",
              "</div>\n",
              "      <button class=\"colab-df-convert\" onclick=\"convertToInteractive('df-bed67f02-96d9-488f-895b-17c97529afe3')\"\n",
              "              title=\"Convert this dataframe to an interactive table.\"\n",
              "              style=\"display:none;\">\n",
              "        \n",
              "  <svg xmlns=\"http://www.w3.org/2000/svg\" height=\"24px\"viewBox=\"0 0 24 24\"\n",
              "       width=\"24px\">\n",
              "    <path d=\"M0 0h24v24H0V0z\" fill=\"none\"/>\n",
              "    <path d=\"M18.56 5.44l.94 2.06.94-2.06 2.06-.94-2.06-.94-.94-2.06-.94 2.06-2.06.94zm-11 1L8.5 8.5l.94-2.06 2.06-.94-2.06-.94L8.5 2.5l-.94 2.06-2.06.94zm10 10l.94 2.06.94-2.06 2.06-.94-2.06-.94-.94-2.06-.94 2.06-2.06.94z\"/><path d=\"M17.41 7.96l-1.37-1.37c-.4-.4-.92-.59-1.43-.59-.52 0-1.04.2-1.43.59L10.3 9.45l-7.72 7.72c-.78.78-.78 2.05 0 2.83L4 21.41c.39.39.9.59 1.41.59.51 0 1.02-.2 1.41-.59l7.78-7.78 2.81-2.81c.8-.78.8-2.07 0-2.86zM5.41 20L4 18.59l7.72-7.72 1.47 1.35L5.41 20z\"/>\n",
              "  </svg>\n",
              "      </button>\n",
              "      \n",
              "  <style>\n",
              "    .colab-df-container {\n",
              "      display:flex;\n",
              "      flex-wrap:wrap;\n",
              "      gap: 12px;\n",
              "    }\n",
              "\n",
              "    .colab-df-convert {\n",
              "      background-color: #E8F0FE;\n",
              "      border: none;\n",
              "      border-radius: 50%;\n",
              "      cursor: pointer;\n",
              "      display: none;\n",
              "      fill: #1967D2;\n",
              "      height: 32px;\n",
              "      padding: 0 0 0 0;\n",
              "      width: 32px;\n",
              "    }\n",
              "\n",
              "    .colab-df-convert:hover {\n",
              "      background-color: #E2EBFA;\n",
              "      box-shadow: 0px 1px 2px rgba(60, 64, 67, 0.3), 0px 1px 3px 1px rgba(60, 64, 67, 0.15);\n",
              "      fill: #174EA6;\n",
              "    }\n",
              "\n",
              "    [theme=dark] .colab-df-convert {\n",
              "      background-color: #3B4455;\n",
              "      fill: #D2E3FC;\n",
              "    }\n",
              "\n",
              "    [theme=dark] .colab-df-convert:hover {\n",
              "      background-color: #434B5C;\n",
              "      box-shadow: 0px 1px 3px 1px rgba(0, 0, 0, 0.15);\n",
              "      filter: drop-shadow(0px 1px 2px rgba(0, 0, 0, 0.3));\n",
              "      fill: #FFFFFF;\n",
              "    }\n",
              "  </style>\n",
              "\n",
              "      <script>\n",
              "        const buttonEl =\n",
              "          document.querySelector('#df-bed67f02-96d9-488f-895b-17c97529afe3 button.colab-df-convert');\n",
              "        buttonEl.style.display =\n",
              "          google.colab.kernel.accessAllowed ? 'block' : 'none';\n",
              "\n",
              "        async function convertToInteractive(key) {\n",
              "          const element = document.querySelector('#df-bed67f02-96d9-488f-895b-17c97529afe3');\n",
              "          const dataTable =\n",
              "            await google.colab.kernel.invokeFunction('convertToInteractive',\n",
              "                                                     [key], {});\n",
              "          if (!dataTable) return;\n",
              "\n",
              "          const docLinkHtml = 'Like what you see? Visit the ' +\n",
              "            '<a target=\"_blank\" href=https://colab.research.google.com/notebooks/data_table.ipynb>data table notebook</a>'\n",
              "            + ' to learn more about interactive tables.';\n",
              "          element.innerHTML = '';\n",
              "          dataTable['output_type'] = 'display_data';\n",
              "          await google.colab.output.renderOutput(dataTable, element);\n",
              "          const docLink = document.createElement('div');\n",
              "          docLink.innerHTML = docLinkHtml;\n",
              "          element.appendChild(docLink);\n",
              "        }\n",
              "      </script>\n",
              "    </div>\n",
              "  </div>\n",
              "  "
            ]
          },
          "metadata": {},
          "execution_count": 41
        }
      ]
    },
    {
      "cell_type": "code",
      "source": [
        "train_df.loc[train_df.ID == id].reset_index(drop=True)"
      ],
      "metadata": {
        "colab": {
          "base_uri": "https://localhost:8080/",
          "height": 50
        },
        "id": "QRUU5fkDsxyw",
        "outputId": "e41dce7f-92c8-4586-cf84-bb3255ceed5e"
      },
      "execution_count": null,
      "outputs": [
        {
          "output_type": "execute_result",
          "data": {
            "text/plain": [
              "Empty DataFrame\n",
              "Columns: [ID, Date, 1, 2, 3, 4, 5, 6, 7, 8, class]\n",
              "Index: []"
            ],
            "text/html": [
              "\n",
              "  <div id=\"df-1a292a2f-8d07-447d-ae18-121f08b84e3c\">\n",
              "    <div class=\"colab-df-container\">\n",
              "      <div>\n",
              "<style scoped>\n",
              "    .dataframe tbody tr th:only-of-type {\n",
              "        vertical-align: middle;\n",
              "    }\n",
              "\n",
              "    .dataframe tbody tr th {\n",
              "        vertical-align: top;\n",
              "    }\n",
              "\n",
              "    .dataframe thead th {\n",
              "        text-align: right;\n",
              "    }\n",
              "</style>\n",
              "<table border=\"1\" class=\"dataframe\">\n",
              "  <thead>\n",
              "    <tr style=\"text-align: right;\">\n",
              "      <th></th>\n",
              "      <th>ID</th>\n",
              "      <th>Date</th>\n",
              "      <th>1</th>\n",
              "      <th>2</th>\n",
              "      <th>3</th>\n",
              "      <th>4</th>\n",
              "      <th>5</th>\n",
              "      <th>6</th>\n",
              "      <th>7</th>\n",
              "      <th>8</th>\n",
              "      <th>class</th>\n",
              "    </tr>\n",
              "  </thead>\n",
              "  <tbody>\n",
              "  </tbody>\n",
              "</table>\n",
              "</div>\n",
              "      <button class=\"colab-df-convert\" onclick=\"convertToInteractive('df-1a292a2f-8d07-447d-ae18-121f08b84e3c')\"\n",
              "              title=\"Convert this dataframe to an interactive table.\"\n",
              "              style=\"display:none;\">\n",
              "        \n",
              "  <svg xmlns=\"http://www.w3.org/2000/svg\" height=\"24px\"viewBox=\"0 0 24 24\"\n",
              "       width=\"24px\">\n",
              "    <path d=\"M0 0h24v24H0V0z\" fill=\"none\"/>\n",
              "    <path d=\"M18.56 5.44l.94 2.06.94-2.06 2.06-.94-2.06-.94-.94-2.06-.94 2.06-2.06.94zm-11 1L8.5 8.5l.94-2.06 2.06-.94-2.06-.94L8.5 2.5l-.94 2.06-2.06.94zm10 10l.94 2.06.94-2.06 2.06-.94-2.06-.94-.94-2.06-.94 2.06-2.06.94z\"/><path d=\"M17.41 7.96l-1.37-1.37c-.4-.4-.92-.59-1.43-.59-.52 0-1.04.2-1.43.59L10.3 9.45l-7.72 7.72c-.78.78-.78 2.05 0 2.83L4 21.41c.39.39.9.59 1.41.59.51 0 1.02-.2 1.41-.59l7.78-7.78 2.81-2.81c.8-.78.8-2.07 0-2.86zM5.41 20L4 18.59l7.72-7.72 1.47 1.35L5.41 20z\"/>\n",
              "  </svg>\n",
              "      </button>\n",
              "      \n",
              "  <style>\n",
              "    .colab-df-container {\n",
              "      display:flex;\n",
              "      flex-wrap:wrap;\n",
              "      gap: 12px;\n",
              "    }\n",
              "\n",
              "    .colab-df-convert {\n",
              "      background-color: #E8F0FE;\n",
              "      border: none;\n",
              "      border-radius: 50%;\n",
              "      cursor: pointer;\n",
              "      display: none;\n",
              "      fill: #1967D2;\n",
              "      height: 32px;\n",
              "      padding: 0 0 0 0;\n",
              "      width: 32px;\n",
              "    }\n",
              "\n",
              "    .colab-df-convert:hover {\n",
              "      background-color: #E2EBFA;\n",
              "      box-shadow: 0px 1px 2px rgba(60, 64, 67, 0.3), 0px 1px 3px 1px rgba(60, 64, 67, 0.15);\n",
              "      fill: #174EA6;\n",
              "    }\n",
              "\n",
              "    [theme=dark] .colab-df-convert {\n",
              "      background-color: #3B4455;\n",
              "      fill: #D2E3FC;\n",
              "    }\n",
              "\n",
              "    [theme=dark] .colab-df-convert:hover {\n",
              "      background-color: #434B5C;\n",
              "      box-shadow: 0px 1px 3px 1px rgba(0, 0, 0, 0.15);\n",
              "      filter: drop-shadow(0px 1px 2px rgba(0, 0, 0, 0.3));\n",
              "      fill: #FFFFFF;\n",
              "    }\n",
              "  </style>\n",
              "\n",
              "      <script>\n",
              "        const buttonEl =\n",
              "          document.querySelector('#df-1a292a2f-8d07-447d-ae18-121f08b84e3c button.colab-df-convert');\n",
              "        buttonEl.style.display =\n",
              "          google.colab.kernel.accessAllowed ? 'block' : 'none';\n",
              "\n",
              "        async function convertToInteractive(key) {\n",
              "          const element = document.querySelector('#df-1a292a2f-8d07-447d-ae18-121f08b84e3c');\n",
              "          const dataTable =\n",
              "            await google.colab.kernel.invokeFunction('convertToInteractive',\n",
              "                                                     [key], {});\n",
              "          if (!dataTable) return;\n",
              "\n",
              "          const docLinkHtml = 'Like what you see? Visit the ' +\n",
              "            '<a target=\"_blank\" href=https://colab.research.google.com/notebooks/data_table.ipynb>data table notebook</a>'\n",
              "            + ' to learn more about interactive tables.';\n",
              "          element.innerHTML = '';\n",
              "          dataTable['output_type'] = 'display_data';\n",
              "          await google.colab.output.renderOutput(dataTable, element);\n",
              "          const docLink = document.createElement('div');\n",
              "          docLink.innerHTML = docLinkHtml;\n",
              "          element.appendChild(docLink);\n",
              "        }\n",
              "      </script>\n",
              "    </div>\n",
              "  </div>\n",
              "  "
            ]
          },
          "metadata": {},
          "execution_count": 42
        }
      ]
    },
    {
      "cell_type": "code",
      "source": [
        "path = '/content/dataset'\n",
        "train_df['LAT'] = 0\n",
        "train_df['LON'] = 0\n",
        "\n",
        "LAT_dict = {}\n",
        "LON_dict = {}\n",
        "\n",
        "csv_list = []\n",
        "for name in tqdm(sorted(os.listdir('./dataset'))):\n",
        "    csv_df = pd.read_csv(os.path.join(path, name), index_col=0) # 경도, 위도 있는 데이터\n",
        "    id = name[:-4]\n",
        "\n",
        "    LAT = csv_df.groupby(by='DATE')['LAT'].mean()\n",
        "    LAT_dict[id] = LAT\n",
        "\n",
        "    LON = csv_df.groupby(by='DATE')['LON'].mean()\n",
        "    LON_dict[id] = LON\n"
      ],
      "metadata": {
        "colab": {
          "base_uri": "https://localhost:8080/"
        },
        "id": "b6tl0OuBOrI0",
        "outputId": "4e31e264-ffd3-4a4c-f789-4b3e360adb69"
      },
      "execution_count": null,
      "outputs": [
        {
          "output_type": "stream",
          "name": "stderr",
          "text": [
            "100%|██████████| 19/19 [00:49<00:00,  2.61s/it]\n"
          ]
        }
      ]
    },
    {
      "cell_type": "code",
      "source": [
        "g_list = {}\n",
        "for id, g in tqdm(train_df.groupby(by='ID')):\n",
        "    for date in list(g.Date):\n",
        "        g.loc[g.Date == date, 'LAT'] = LAT_dict[id][date]\n",
        "        g.loc[g.Date == date, 'LON'] = LON_dict[id][date]\n",
        "    g_list[id] = g"
      ],
      "metadata": {
        "colab": {
          "base_uri": "https://localhost:8080/"
        },
        "id": "8EenzAhDuqtz",
        "outputId": "02179c33-0bd6-422c-9ff7-3b272fd108c2"
      },
      "execution_count": null,
      "outputs": [
        {
          "output_type": "stream",
          "name": "stderr",
          "text": [
            "100%|██████████| 19/19 [14:31<00:00, 45.85s/it]\n"
          ]
        }
      ]
    },
    {
      "cell_type": "code",
      "source": [
        "name_list = []\n",
        "for name in tqdm(sorted(os.listdir('./dataset'))):\n",
        "    name_list.append(name[:-4])"
      ],
      "metadata": {
        "colab": {
          "base_uri": "https://localhost:8080/"
        },
        "id": "EeZqxLo13KzU",
        "outputId": "920b2001-36b8-46fb-b7c0-8b2d06e374c2"
      },
      "execution_count": null,
      "outputs": [
        {
          "output_type": "stream",
          "name": "stderr",
          "text": [
            "100%|██████████| 19/19 [00:00<00:00, 153548.70it/s]\n"
          ]
        }
      ]
    },
    {
      "cell_type": "code",
      "source": [
        "!mkdir ./result"
      ],
      "metadata": {
        "id": "qmAEh2Ru9FgS"
      },
      "execution_count": null,
      "outputs": []
    },
    {
      "cell_type": "code",
      "source": [
        "for name in name_list:\n",
        "    g_list[name].to_csv(f'./result/{name}.csv')"
      ],
      "metadata": {
        "id": "jYIa364e7zBE"
      },
      "execution_count": null,
      "outputs": []
    },
    {
      "cell_type": "code",
      "source": [
        "for name in name_list:\n",
        "    g_list[name].to_csv(f'/content/gdrive/MyDrive/temp/별따러가자/{name}.csv')"
      ],
      "metadata": {
        "id": "UfaYHWBH1ipn"
      },
      "execution_count": null,
      "outputs": []
    },
    {
      "cell_type": "code",
      "source": [
        "min(g_list['1DBEBE62'].LAT), max(g_list['1DBEBE62'].LAT)"
      ],
      "metadata": {
        "colab": {
          "base_uri": "https://localhost:8080/"
        },
        "id": "j-6bE7qb8hNh",
        "outputId": "8b9de0ab-7456-4054-aa5b-0e333b54d8a0"
      },
      "execution_count": null,
      "outputs": [
        {
          "output_type": "execute_result",
          "data": {
            "text/plain": [
              "(37.366947, 37.454249520000005)"
            ]
          },
          "metadata": {},
          "execution_count": 49
        }
      ]
    },
    {
      "cell_type": "code",
      "source": [
        "min(g_list['1DBEBE62'].LON), max(g_list['1DBEBE62'].LON)"
      ],
      "metadata": {
        "colab": {
          "base_uri": "https://localhost:8080/"
        },
        "id": "Q8S0U9IXmXwN",
        "outputId": "e6d9efd7-ab35-47a0-ba91-c38778f4ac43"
      },
      "execution_count": null,
      "outputs": [
        {
          "output_type": "execute_result",
          "data": {
            "text/plain": [
              "(126.627014, 126.676857)"
            ]
          },
          "metadata": {},
          "execution_count": 50
        }
      ]
    },
    {
      "cell_type": "code",
      "source": [
        "!pip install folium"
      ],
      "metadata": {
        "id": "x3s7KIPvmi_h",
        "colab": {
          "base_uri": "https://localhost:8080/"
        },
        "outputId": "5b8af254-e845-4188-8d07-c0751cb59c09"
      },
      "execution_count": null,
      "outputs": [
        {
          "output_type": "stream",
          "name": "stdout",
          "text": [
            "Requirement already satisfied: folium in /usr/local/lib/python3.7/dist-packages (0.8.3)\n",
            "Requirement already satisfied: jinja2 in /usr/local/lib/python3.7/dist-packages (from folium) (2.11.3)\n",
            "Requirement already satisfied: numpy in /usr/local/lib/python3.7/dist-packages (from folium) (1.21.6)\n",
            "Requirement already satisfied: six in /usr/local/lib/python3.7/dist-packages (from folium) (1.15.0)\n",
            "Requirement already satisfied: branca>=0.3.0 in /usr/local/lib/python3.7/dist-packages (from folium) (0.4.2)\n",
            "Requirement already satisfied: requests in /usr/local/lib/python3.7/dist-packages (from folium) (2.23.0)\n",
            "Requirement already satisfied: MarkupSafe>=0.23 in /usr/local/lib/python3.7/dist-packages (from jinja2->folium) (2.0.1)\n",
            "Requirement already satisfied: urllib3!=1.25.0,!=1.25.1,<1.26,>=1.21.1 in /usr/local/lib/python3.7/dist-packages (from requests->folium) (1.24.3)\n",
            "Requirement already satisfied: chardet<4,>=3.0.2 in /usr/local/lib/python3.7/dist-packages (from requests->folium) (3.0.4)\n",
            "Requirement already satisfied: idna<3,>=2.5 in /usr/local/lib/python3.7/dist-packages (from requests->folium) (2.10)\n",
            "Requirement already satisfied: certifi>=2017.4.17 in /usr/local/lib/python3.7/dist-packages (from requests->folium) (2021.10.8)\n"
          ]
        }
      ]
    },
    {
      "cell_type": "code",
      "source": [
        "import folium"
      ],
      "metadata": {
        "id": "X5Yh2SyNtIkU"
      },
      "execution_count": null,
      "outputs": []
    },
    {
      "cell_type": "code",
      "source": [
        "max_lat = 37.454249520000005\n",
        "min_lat = 37.366947\n",
        "max_lon = 126.676857\n",
        "min_lon = 126.627014"
      ],
      "metadata": {
        "id": "wnJ6Bw-htNs0"
      },
      "execution_count": null,
      "outputs": []
    },
    {
      "cell_type": "code",
      "source": [
        "center = [(max_lat+min_lat)/2, (max_lon+min_lon)/2]"
      ],
      "metadata": {
        "id": "gOgpH_h7u4xO"
      },
      "execution_count": null,
      "outputs": []
    },
    {
      "cell_type": "code",
      "source": [
        "m = folium.Map(\n",
        "    location = center,\n",
        "    zoom_start=14,\n",
        "    width=1000,\n",
        "    height=1000\n",
        ")"
      ],
      "metadata": {
        "id": "av2PL9JPtiO5"
      },
      "execution_count": null,
      "outputs": []
    },
    {
      "cell_type": "code",
      "source": [
        "m"
      ],
      "metadata": {
        "colab": {
          "base_uri": "https://localhost:8080/",
          "height": 1000
        },
        "id": "oxjCkhiquKQn",
        "outputId": "b895a5af-fa8a-45e8-ff77-93404690f36e"
      },
      "execution_count": null,
      "outputs": [
        {
          "output_type": "execute_result",
          "data": {
            "text/plain": [
              "<folium.folium.Map at 0x7f4475e75350>"
            ],
            "text/html": [
              "<div style=\"width:100%;\"><div style=\"position:relative;width:100%;height:0;padding-bottom:60%;\"><span style=\"color:#565656\">Make this Notebook Trusted to load map: File -> Trust Notebook</span><iframe src=\"about:blank\" style=\"position:absolute;width:100%;height:100%;left:0;top:0;border:none !important;\" data-html=%3C%21DOCTYPE%20html%3E%0A%3Chead%3E%20%20%20%20%0A%20%20%20%20%3Cmeta%20http-equiv%3D%22content-type%22%20content%3D%22text/html%3B%20charset%3DUTF-8%22%20/%3E%0A%20%20%20%20%3Cscript%3EL_PREFER_CANVAS%3Dfalse%3B%20L_NO_TOUCH%3Dfalse%3B%20L_DISABLE_3D%3Dfalse%3B%3C/script%3E%0A%20%20%20%20%3Cscript%20src%3D%22https%3A//cdn.jsdelivr.net/npm/leaflet%401.4.0/dist/leaflet.js%22%3E%3C/script%3E%0A%20%20%20%20%3Cscript%20src%3D%22https%3A//code.jquery.com/jquery-1.12.4.min.js%22%3E%3C/script%3E%0A%20%20%20%20%3Cscript%20src%3D%22https%3A//maxcdn.bootstrapcdn.com/bootstrap/3.2.0/js/bootstrap.min.js%22%3E%3C/script%3E%0A%20%20%20%20%3Cscript%20src%3D%22https%3A//cdnjs.cloudflare.com/ajax/libs/Leaflet.awesome-markers/2.0.2/leaflet.awesome-markers.js%22%3E%3C/script%3E%0A%20%20%20%20%3Clink%20rel%3D%22stylesheet%22%20href%3D%22https%3A//cdn.jsdelivr.net/npm/leaflet%401.4.0/dist/leaflet.css%22/%3E%0A%20%20%20%20%3Clink%20rel%3D%22stylesheet%22%20href%3D%22https%3A//maxcdn.bootstrapcdn.com/bootstrap/3.2.0/css/bootstrap.min.css%22/%3E%0A%20%20%20%20%3Clink%20rel%3D%22stylesheet%22%20href%3D%22https%3A//maxcdn.bootstrapcdn.com/bootstrap/3.2.0/css/bootstrap-theme.min.css%22/%3E%0A%20%20%20%20%3Clink%20rel%3D%22stylesheet%22%20href%3D%22https%3A//maxcdn.bootstrapcdn.com/font-awesome/4.6.3/css/font-awesome.min.css%22/%3E%0A%20%20%20%20%3Clink%20rel%3D%22stylesheet%22%20href%3D%22https%3A//cdnjs.cloudflare.com/ajax/libs/Leaflet.awesome-markers/2.0.2/leaflet.awesome-markers.css%22/%3E%0A%20%20%20%20%3Clink%20rel%3D%22stylesheet%22%20href%3D%22https%3A//rawcdn.githack.com/python-visualization/folium/master/folium/templates/leaflet.awesome.rotate.css%22/%3E%0A%20%20%20%20%3Cstyle%3Ehtml%2C%20body%20%7Bwidth%3A%20100%25%3Bheight%3A%20100%25%3Bmargin%3A%200%3Bpadding%3A%200%3B%7D%3C/style%3E%0A%20%20%20%20%3Cstyle%3E%23map%20%7Bposition%3Aabsolute%3Btop%3A0%3Bbottom%3A0%3Bright%3A0%3Bleft%3A0%3B%7D%3C/style%3E%0A%20%20%20%20%0A%20%20%20%20%3Cmeta%20name%3D%22viewport%22%20content%3D%22width%3Ddevice-width%2C%0A%20%20%20%20%20%20%20%20initial-scale%3D1.0%2C%20maximum-scale%3D1.0%2C%20user-scalable%3Dno%22%20/%3E%0A%20%20%20%20%3Cstyle%3E%23map_b58fc22b1c0a413cb327f707e1e6f046%20%7B%0A%20%20%20%20%20%20%20%20position%3A%20relative%3B%0A%20%20%20%20%20%20%20%20width%3A%201000.0px%3B%0A%20%20%20%20%20%20%20%20height%3A%201000.0px%3B%0A%20%20%20%20%20%20%20%20left%3A%200.0%25%3B%0A%20%20%20%20%20%20%20%20top%3A%200.0%25%3B%0A%20%20%20%20%20%20%20%20%7D%0A%20%20%20%20%3C/style%3E%0A%3C/head%3E%0A%3Cbody%3E%20%20%20%20%0A%20%20%20%20%0A%20%20%20%20%3Cdiv%20class%3D%22folium-map%22%20id%3D%22map_b58fc22b1c0a413cb327f707e1e6f046%22%20%3E%3C/div%3E%0A%3C/body%3E%0A%3Cscript%3E%20%20%20%20%0A%20%20%20%20%0A%20%20%20%20%0A%20%20%20%20%20%20%20%20var%20bounds%20%3D%20null%3B%0A%20%20%20%20%0A%0A%20%20%20%20var%20map_b58fc22b1c0a413cb327f707e1e6f046%20%3D%20L.map%28%0A%20%20%20%20%20%20%20%20%27map_b58fc22b1c0a413cb327f707e1e6f046%27%2C%20%7B%0A%20%20%20%20%20%20%20%20center%3A%20%5B37.41059826%2C%20126.65193550000001%5D%2C%0A%20%20%20%20%20%20%20%20zoom%3A%2014%2C%0A%20%20%20%20%20%20%20%20maxBounds%3A%20bounds%2C%0A%20%20%20%20%20%20%20%20layers%3A%20%5B%5D%2C%0A%20%20%20%20%20%20%20%20worldCopyJump%3A%20false%2C%0A%20%20%20%20%20%20%20%20crs%3A%20L.CRS.EPSG3857%2C%0A%20%20%20%20%20%20%20%20zoomControl%3A%20true%2C%0A%20%20%20%20%20%20%20%20%7D%29%3B%0A%0A%0A%20%20%20%20%0A%20%20%20%20var%20tile_layer_1580b133ed724910a9b4857e1515278d%20%3D%20L.tileLayer%28%0A%20%20%20%20%20%20%20%20%27https%3A//%7Bs%7D.tile.openstreetmap.org/%7Bz%7D/%7Bx%7D/%7By%7D.png%27%2C%0A%20%20%20%20%20%20%20%20%7B%0A%20%20%20%20%20%20%20%20%22attribution%22%3A%20null%2C%0A%20%20%20%20%20%20%20%20%22detectRetina%22%3A%20false%2C%0A%20%20%20%20%20%20%20%20%22maxNativeZoom%22%3A%2018%2C%0A%20%20%20%20%20%20%20%20%22maxZoom%22%3A%2018%2C%0A%20%20%20%20%20%20%20%20%22minZoom%22%3A%200%2C%0A%20%20%20%20%20%20%20%20%22noWrap%22%3A%20false%2C%0A%20%20%20%20%20%20%20%20%22opacity%22%3A%201%2C%0A%20%20%20%20%20%20%20%20%22subdomains%22%3A%20%22abc%22%2C%0A%20%20%20%20%20%20%20%20%22tms%22%3A%20false%0A%7D%29.addTo%28map_b58fc22b1c0a413cb327f707e1e6f046%29%3B%0A%3C/script%3E onload=\"this.contentDocument.open();this.contentDocument.write(    decodeURIComponent(this.getAttribute('data-html')));this.contentDocument.close();\" allowfullscreen webkitallowfullscreen mozallowfullscreen></iframe></div></div>"
            ]
          },
          "metadata": {},
          "execution_count": 56
        }
      ]
    },
    {
      "cell_type": "code",
      "source": [
        "g_list['1DBEBE62']"
      ],
      "metadata": {
        "colab": {
          "base_uri": "https://localhost:8080/",
          "height": 423
        },
        "id": "0OhfxirFxhtz",
        "outputId": "70f8e271-7a08-4642-826e-2663de6036ee"
      },
      "execution_count": null,
      "outputs": [
        {
          "output_type": "execute_result",
          "data": {
            "text/plain": [
              "             ID                 Date         1         2         3         4  \\\n",
              "14600  1DBEBE62  2021-11-16 18:55:24  0.980274  0.984269  0.977107  0.085418   \n",
              "14601  1DBEBE62  2021-11-16 18:55:25  0.980031  0.984387  0.977056  0.084263   \n",
              "14602  1DBEBE62  2021-11-16 18:55:26  0.979815  0.984735  0.977456  0.086450   \n",
              "14603  1DBEBE62  2021-11-16 18:55:27  0.979687  0.984523  0.978466  0.090411   \n",
              "14604  1DBEBE62  2021-11-16 18:55:28  0.980172  0.984663  0.977005  0.084656   \n",
              "...         ...                  ...       ...       ...       ...       ...   \n",
              "29794  1DBEBE62  2021-11-16 23:59:55  0.017556  0.523628  0.983876  0.975356   \n",
              "29795  1DBEBE62  2021-11-16 23:59:56  0.017548  0.520721  0.983862  0.975326   \n",
              "29796  1DBEBE62  2021-11-16 23:59:57  0.017648  0.519395  0.983812  0.975323   \n",
              "29797  1DBEBE62  2021-11-16 23:59:58  0.017442  0.517266  0.983789  0.975267   \n",
              "29798  1DBEBE62  2021-11-16 23:59:59  0.017876  0.512503  0.983769  0.975289   \n",
              "\n",
              "              5         6         7         8  class        LAT         LON  \n",
              "14600  0.985836  0.124548  0.690170  0.993115      1  37.393314  126.647369  \n",
              "14601  0.985840  0.130803  0.698667  0.992893      1  37.393727  126.647642  \n",
              "14602  0.985734  0.138368  0.724028  0.992443      1  37.393798  126.647682  \n",
              "14603  0.985761  0.120086  0.701929  0.992996      1  37.393806  126.647689  \n",
              "14604  0.985810  0.137189  0.715536  0.992634      1  37.393810  126.647683  \n",
              "...         ...       ...       ...       ...    ...        ...         ...  \n",
              "29794  0.753715  0.023369  0.250209  0.976526      1  37.454247  126.648956  \n",
              "29795  0.755176  0.023408  0.248654  0.976775      1  37.454247  126.648956  \n",
              "29796  0.756596  0.023268  0.247496  0.976986      1  37.454247  126.648956  \n",
              "29797  0.755111  0.023496  0.248032  0.976980      1  37.454247  126.648956  \n",
              "29798  0.762709  0.023155  0.242438  0.977811      1  37.454250  126.648956  \n",
              "\n",
              "[15199 rows x 13 columns]"
            ],
            "text/html": [
              "\n",
              "  <div id=\"df-8657a07e-7e09-49a3-9b82-2e4d15b30eeb\">\n",
              "    <div class=\"colab-df-container\">\n",
              "      <div>\n",
              "<style scoped>\n",
              "    .dataframe tbody tr th:only-of-type {\n",
              "        vertical-align: middle;\n",
              "    }\n",
              "\n",
              "    .dataframe tbody tr th {\n",
              "        vertical-align: top;\n",
              "    }\n",
              "\n",
              "    .dataframe thead th {\n",
              "        text-align: right;\n",
              "    }\n",
              "</style>\n",
              "<table border=\"1\" class=\"dataframe\">\n",
              "  <thead>\n",
              "    <tr style=\"text-align: right;\">\n",
              "      <th></th>\n",
              "      <th>ID</th>\n",
              "      <th>Date</th>\n",
              "      <th>1</th>\n",
              "      <th>2</th>\n",
              "      <th>3</th>\n",
              "      <th>4</th>\n",
              "      <th>5</th>\n",
              "      <th>6</th>\n",
              "      <th>7</th>\n",
              "      <th>8</th>\n",
              "      <th>class</th>\n",
              "      <th>LAT</th>\n",
              "      <th>LON</th>\n",
              "    </tr>\n",
              "  </thead>\n",
              "  <tbody>\n",
              "    <tr>\n",
              "      <th>14600</th>\n",
              "      <td>1DBEBE62</td>\n",
              "      <td>2021-11-16 18:55:24</td>\n",
              "      <td>0.980274</td>\n",
              "      <td>0.984269</td>\n",
              "      <td>0.977107</td>\n",
              "      <td>0.085418</td>\n",
              "      <td>0.985836</td>\n",
              "      <td>0.124548</td>\n",
              "      <td>0.690170</td>\n",
              "      <td>0.993115</td>\n",
              "      <td>1</td>\n",
              "      <td>37.393314</td>\n",
              "      <td>126.647369</td>\n",
              "    </tr>\n",
              "    <tr>\n",
              "      <th>14601</th>\n",
              "      <td>1DBEBE62</td>\n",
              "      <td>2021-11-16 18:55:25</td>\n",
              "      <td>0.980031</td>\n",
              "      <td>0.984387</td>\n",
              "      <td>0.977056</td>\n",
              "      <td>0.084263</td>\n",
              "      <td>0.985840</td>\n",
              "      <td>0.130803</td>\n",
              "      <td>0.698667</td>\n",
              "      <td>0.992893</td>\n",
              "      <td>1</td>\n",
              "      <td>37.393727</td>\n",
              "      <td>126.647642</td>\n",
              "    </tr>\n",
              "    <tr>\n",
              "      <th>14602</th>\n",
              "      <td>1DBEBE62</td>\n",
              "      <td>2021-11-16 18:55:26</td>\n",
              "      <td>0.979815</td>\n",
              "      <td>0.984735</td>\n",
              "      <td>0.977456</td>\n",
              "      <td>0.086450</td>\n",
              "      <td>0.985734</td>\n",
              "      <td>0.138368</td>\n",
              "      <td>0.724028</td>\n",
              "      <td>0.992443</td>\n",
              "      <td>1</td>\n",
              "      <td>37.393798</td>\n",
              "      <td>126.647682</td>\n",
              "    </tr>\n",
              "    <tr>\n",
              "      <th>14603</th>\n",
              "      <td>1DBEBE62</td>\n",
              "      <td>2021-11-16 18:55:27</td>\n",
              "      <td>0.979687</td>\n",
              "      <td>0.984523</td>\n",
              "      <td>0.978466</td>\n",
              "      <td>0.090411</td>\n",
              "      <td>0.985761</td>\n",
              "      <td>0.120086</td>\n",
              "      <td>0.701929</td>\n",
              "      <td>0.992996</td>\n",
              "      <td>1</td>\n",
              "      <td>37.393806</td>\n",
              "      <td>126.647689</td>\n",
              "    </tr>\n",
              "    <tr>\n",
              "      <th>14604</th>\n",
              "      <td>1DBEBE62</td>\n",
              "      <td>2021-11-16 18:55:28</td>\n",
              "      <td>0.980172</td>\n",
              "      <td>0.984663</td>\n",
              "      <td>0.977005</td>\n",
              "      <td>0.084656</td>\n",
              "      <td>0.985810</td>\n",
              "      <td>0.137189</td>\n",
              "      <td>0.715536</td>\n",
              "      <td>0.992634</td>\n",
              "      <td>1</td>\n",
              "      <td>37.393810</td>\n",
              "      <td>126.647683</td>\n",
              "    </tr>\n",
              "    <tr>\n",
              "      <th>...</th>\n",
              "      <td>...</td>\n",
              "      <td>...</td>\n",
              "      <td>...</td>\n",
              "      <td>...</td>\n",
              "      <td>...</td>\n",
              "      <td>...</td>\n",
              "      <td>...</td>\n",
              "      <td>...</td>\n",
              "      <td>...</td>\n",
              "      <td>...</td>\n",
              "      <td>...</td>\n",
              "      <td>...</td>\n",
              "      <td>...</td>\n",
              "    </tr>\n",
              "    <tr>\n",
              "      <th>29794</th>\n",
              "      <td>1DBEBE62</td>\n",
              "      <td>2021-11-16 23:59:55</td>\n",
              "      <td>0.017556</td>\n",
              "      <td>0.523628</td>\n",
              "      <td>0.983876</td>\n",
              "      <td>0.975356</td>\n",
              "      <td>0.753715</td>\n",
              "      <td>0.023369</td>\n",
              "      <td>0.250209</td>\n",
              "      <td>0.976526</td>\n",
              "      <td>1</td>\n",
              "      <td>37.454247</td>\n",
              "      <td>126.648956</td>\n",
              "    </tr>\n",
              "    <tr>\n",
              "      <th>29795</th>\n",
              "      <td>1DBEBE62</td>\n",
              "      <td>2021-11-16 23:59:56</td>\n",
              "      <td>0.017548</td>\n",
              "      <td>0.520721</td>\n",
              "      <td>0.983862</td>\n",
              "      <td>0.975326</td>\n",
              "      <td>0.755176</td>\n",
              "      <td>0.023408</td>\n",
              "      <td>0.248654</td>\n",
              "      <td>0.976775</td>\n",
              "      <td>1</td>\n",
              "      <td>37.454247</td>\n",
              "      <td>126.648956</td>\n",
              "    </tr>\n",
              "    <tr>\n",
              "      <th>29796</th>\n",
              "      <td>1DBEBE62</td>\n",
              "      <td>2021-11-16 23:59:57</td>\n",
              "      <td>0.017648</td>\n",
              "      <td>0.519395</td>\n",
              "      <td>0.983812</td>\n",
              "      <td>0.975323</td>\n",
              "      <td>0.756596</td>\n",
              "      <td>0.023268</td>\n",
              "      <td>0.247496</td>\n",
              "      <td>0.976986</td>\n",
              "      <td>1</td>\n",
              "      <td>37.454247</td>\n",
              "      <td>126.648956</td>\n",
              "    </tr>\n",
              "    <tr>\n",
              "      <th>29797</th>\n",
              "      <td>1DBEBE62</td>\n",
              "      <td>2021-11-16 23:59:58</td>\n",
              "      <td>0.017442</td>\n",
              "      <td>0.517266</td>\n",
              "      <td>0.983789</td>\n",
              "      <td>0.975267</td>\n",
              "      <td>0.755111</td>\n",
              "      <td>0.023496</td>\n",
              "      <td>0.248032</td>\n",
              "      <td>0.976980</td>\n",
              "      <td>1</td>\n",
              "      <td>37.454247</td>\n",
              "      <td>126.648956</td>\n",
              "    </tr>\n",
              "    <tr>\n",
              "      <th>29798</th>\n",
              "      <td>1DBEBE62</td>\n",
              "      <td>2021-11-16 23:59:59</td>\n",
              "      <td>0.017876</td>\n",
              "      <td>0.512503</td>\n",
              "      <td>0.983769</td>\n",
              "      <td>0.975289</td>\n",
              "      <td>0.762709</td>\n",
              "      <td>0.023155</td>\n",
              "      <td>0.242438</td>\n",
              "      <td>0.977811</td>\n",
              "      <td>1</td>\n",
              "      <td>37.454250</td>\n",
              "      <td>126.648956</td>\n",
              "    </tr>\n",
              "  </tbody>\n",
              "</table>\n",
              "<p>15199 rows × 13 columns</p>\n",
              "</div>\n",
              "      <button class=\"colab-df-convert\" onclick=\"convertToInteractive('df-8657a07e-7e09-49a3-9b82-2e4d15b30eeb')\"\n",
              "              title=\"Convert this dataframe to an interactive table.\"\n",
              "              style=\"display:none;\">\n",
              "        \n",
              "  <svg xmlns=\"http://www.w3.org/2000/svg\" height=\"24px\"viewBox=\"0 0 24 24\"\n",
              "       width=\"24px\">\n",
              "    <path d=\"M0 0h24v24H0V0z\" fill=\"none\"/>\n",
              "    <path d=\"M18.56 5.44l.94 2.06.94-2.06 2.06-.94-2.06-.94-.94-2.06-.94 2.06-2.06.94zm-11 1L8.5 8.5l.94-2.06 2.06-.94-2.06-.94L8.5 2.5l-.94 2.06-2.06.94zm10 10l.94 2.06.94-2.06 2.06-.94-2.06-.94-.94-2.06-.94 2.06-2.06.94z\"/><path d=\"M17.41 7.96l-1.37-1.37c-.4-.4-.92-.59-1.43-.59-.52 0-1.04.2-1.43.59L10.3 9.45l-7.72 7.72c-.78.78-.78 2.05 0 2.83L4 21.41c.39.39.9.59 1.41.59.51 0 1.02-.2 1.41-.59l7.78-7.78 2.81-2.81c.8-.78.8-2.07 0-2.86zM5.41 20L4 18.59l7.72-7.72 1.47 1.35L5.41 20z\"/>\n",
              "  </svg>\n",
              "      </button>\n",
              "      \n",
              "  <style>\n",
              "    .colab-df-container {\n",
              "      display:flex;\n",
              "      flex-wrap:wrap;\n",
              "      gap: 12px;\n",
              "    }\n",
              "\n",
              "    .colab-df-convert {\n",
              "      background-color: #E8F0FE;\n",
              "      border: none;\n",
              "      border-radius: 50%;\n",
              "      cursor: pointer;\n",
              "      display: none;\n",
              "      fill: #1967D2;\n",
              "      height: 32px;\n",
              "      padding: 0 0 0 0;\n",
              "      width: 32px;\n",
              "    }\n",
              "\n",
              "    .colab-df-convert:hover {\n",
              "      background-color: #E2EBFA;\n",
              "      box-shadow: 0px 1px 2px rgba(60, 64, 67, 0.3), 0px 1px 3px 1px rgba(60, 64, 67, 0.15);\n",
              "      fill: #174EA6;\n",
              "    }\n",
              "\n",
              "    [theme=dark] .colab-df-convert {\n",
              "      background-color: #3B4455;\n",
              "      fill: #D2E3FC;\n",
              "    }\n",
              "\n",
              "    [theme=dark] .colab-df-convert:hover {\n",
              "      background-color: #434B5C;\n",
              "      box-shadow: 0px 1px 3px 1px rgba(0, 0, 0, 0.15);\n",
              "      filter: drop-shadow(0px 1px 2px rgba(0, 0, 0, 0.3));\n",
              "      fill: #FFFFFF;\n",
              "    }\n",
              "  </style>\n",
              "\n",
              "      <script>\n",
              "        const buttonEl =\n",
              "          document.querySelector('#df-8657a07e-7e09-49a3-9b82-2e4d15b30eeb button.colab-df-convert');\n",
              "        buttonEl.style.display =\n",
              "          google.colab.kernel.accessAllowed ? 'block' : 'none';\n",
              "\n",
              "        async function convertToInteractive(key) {\n",
              "          const element = document.querySelector('#df-8657a07e-7e09-49a3-9b82-2e4d15b30eeb');\n",
              "          const dataTable =\n",
              "            await google.colab.kernel.invokeFunction('convertToInteractive',\n",
              "                                                     [key], {});\n",
              "          if (!dataTable) return;\n",
              "\n",
              "          const docLinkHtml = 'Like what you see? Visit the ' +\n",
              "            '<a target=\"_blank\" href=https://colab.research.google.com/notebooks/data_table.ipynb>data table notebook</a>'\n",
              "            + ' to learn more about interactive tables.';\n",
              "          element.innerHTML = '';\n",
              "          dataTable['output_type'] = 'display_data';\n",
              "          await google.colab.output.renderOutput(dataTable, element);\n",
              "          const docLink = document.createElement('div');\n",
              "          docLink.innerHTML = docLinkHtml;\n",
              "          element.appendChild(docLink);\n",
              "        }\n",
              "      </script>\n",
              "    </div>\n",
              "  </div>\n",
              "  "
            ]
          },
          "metadata": {},
          "execution_count": 57
        }
      ]
    },
    {
      "cell_type": "code",
      "source": [
        "lines = g_list['1DBEBE62'][['LAT','LON']].values[:].tolist()"
      ],
      "metadata": {
        "id": "FOqfQvVGyh5i"
      },
      "execution_count": null,
      "outputs": []
    },
    {
      "cell_type": "code",
      "source": [
        "list_colors = [\n",
        "    \"#00FF00\",\n",
        "    \"#12FF00\",\n",
        "    \"#24FF00\",\n",
        "    \"#35FF00\",\n",
        "    \"#47FF00\",\n",
        "    \"#58FF00\",\n",
        "    \"#6AFF00\",\n",
        "    \"#7CFF00\",\n",
        "    \"#8DFF00\",\n",
        "    \"#9FFF00\",\n",
        "    \"#B0FF00\",\n",
        "    \"#C2FF00\",\n",
        "    \"#D4FF00\",\n",
        "    \"#E5FF00\",\n",
        "    \"#F7FF00\",\n",
        "    \"#FFF600\",\n",
        "    \"#FFE400\",\n",
        "    \"#FFD300\",\n",
        "    \"#FFC100\",\n",
        "    \"#FFAF00\",\n",
        "    \"#FF9E00\",\n",
        "    \"#FF8C00\",\n",
        "    \"#FF7B00\",\n",
        "    \"#FF6900\",\n",
        "    \"#FF5700\",\n",
        "    \"#FF4600\",\n",
        "    \"#FF3400\",\n",
        "    \"#FF2300\",\n",
        "    \"#FF1100\",\n",
        "    \"#FF0000\",\n",
        "]"
      ],
      "metadata": {
        "id": "1a51i5FQzrGG"
      },
      "execution_count": null,
      "outputs": []
    },
    {
      "cell_type": "code",
      "source": [
        "color_list={0:}"
      ],
      "metadata": {
        "id": "lm9R4kjOzerU",
        "colab": {
          "base_uri": "https://localhost:8080/",
          "height": 137
        },
        "outputId": "1e0d76ad-728c-441b-d125-88baed6e1ead"
      },
      "execution_count": null,
      "outputs": [
        {
          "output_type": "error",
          "ename": "SyntaxError",
          "evalue": "ignored",
          "traceback": [
            "\u001b[0;36m  File \u001b[0;32m\"<ipython-input-60-6dbf5bed7d69>\"\u001b[0;36m, line \u001b[0;32m1\u001b[0m\n\u001b[0;31m    color_list={0:}\u001b[0m\n\u001b[0m                  ^\u001b[0m\n\u001b[0;31mSyntaxError\u001b[0m\u001b[0;31m:\u001b[0m invalid syntax\n"
          ]
        }
      ]
    },
    {
      "cell_type": "code",
      "source": [
        "folium.PolyLine(locations = lines, no_clip=True).add_to(m)"
      ],
      "metadata": {
        "id": "j1MUu5NEuK4h"
      },
      "execution_count": null,
      "outputs": []
    },
    {
      "cell_type": "code",
      "source": [
        "m"
      ],
      "metadata": {
        "id": "l3fIHhdAxoZQ"
      },
      "execution_count": null,
      "outputs": []
    },
    {
      "cell_type": "markdown",
      "source": [
        "# 테스트"
      ],
      "metadata": {
        "id": "DyAqlMA7BWGH"
      }
    },
    {
      "cell_type": "code",
      "source": [
        "mydict.keys()"
      ],
      "metadata": {
        "colab": {
          "base_uri": "https://localhost:8080/"
        },
        "id": "lAhO6llwFtF7",
        "outputId": "b4bee251-61f7-4463-f2ac-c8a31ad8848b"
      },
      "execution_count": null,
      "outputs": [
        {
          "output_type": "execute_result",
          "data": {
            "text/plain": [
              "dict_keys(['D788034C', '1DBEBE62', 'B95FBB89', '483AA738', 'A77E8CE3', '912BB33B', '88826FAB', 'F0A475A1', 'DB7B0571', '4E34891D', '570AA81D', '649508BF', '8C7E7A17', 'D30C299A', '8E640374', 'F0A475A1_2', '9EECBC9A', 'A50AF373', 'F257DB06', '20211203', '20211204', '20211205', 'meta'])"
            ]
          },
          "metadata": {},
          "execution_count": 61
        }
      ]
    },
    {
      "cell_type": "code",
      "source": [
        "!mkdir testset"
      ],
      "metadata": {
        "id": "hYIMnG8tHCaE"
      },
      "execution_count": null,
      "outputs": []
    },
    {
      "cell_type": "code",
      "source": [
        "!cp /content/gdrive/MyDrive/temp/drive-download-20220407T064609Z-001/* -d /content/testset"
      ],
      "metadata": {
        "id": "HiUzyYicQlnB"
      },
      "execution_count": null,
      "outputs": []
    },
    {
      "cell_type": "code",
      "source": [
        "test_keys = ['20211203', '20211204', '20211205']"
      ],
      "metadata": {
        "id": "01eZ1qSkUYT_"
      },
      "execution_count": null,
      "outputs": []
    },
    {
      "cell_type": "code",
      "source": [
        "test_df1 = mydict['20211203']\n",
        "test_df1.columns = ['Date','1','2','3','4','5','6','7','8']\n",
        "test_df1"
      ],
      "metadata": {
        "colab": {
          "base_uri": "https://localhost:8080/",
          "height": 423
        },
        "id": "-N_PJSFaFuVl",
        "outputId": "13bca6a3-6f67-4629-d92e-b494140009c7"
      },
      "execution_count": null,
      "outputs": [
        {
          "output_type": "execute_result",
          "data": {
            "text/plain": [
              "                      Date         1         2         3         4         5  \\\n",
              "0      2021-12-03 08:56:13  0.173659  0.001658  0.063130  0.654376  0.907993   \n",
              "1      2021-12-03 08:56:14  0.198067  0.001685  0.062289  0.646822  0.912724   \n",
              "2      2021-12-03 08:56:15  0.195565  0.001756  0.065871  0.651701  0.913653   \n",
              "3      2021-12-03 08:56:16  0.228768  0.001877  0.067001  0.648844  0.921188   \n",
              "4      2021-12-03 08:56:17  0.193885  0.001713  0.064120  0.649567  0.912471   \n",
              "...                    ...       ...       ...       ...       ...       ...   \n",
              "33405  2021-12-03 21:05:45  0.995206  0.929510  0.375044  0.041958  0.998276   \n",
              "33406  2021-12-03 21:05:46  0.995206  0.929510  0.375044  0.041958  0.998276   \n",
              "33407  2021-12-03 21:05:47  0.995206  0.929510  0.375044  0.041958  0.998276   \n",
              "33408  2021-12-03 21:05:48  0.995206  0.929510  0.375044  0.041958  0.998276   \n",
              "33409  2021-12-03 21:05:49  0.995206  0.929510  0.375044  0.041958  0.998276   \n",
              "\n",
              "              6         7         8  \n",
              "0      0.007730  0.001650  0.990961  \n",
              "1      0.007610  0.001622  0.990849  \n",
              "2      0.007435  0.001656  0.991099  \n",
              "3      0.007074  0.001635  0.991188  \n",
              "4      0.007554  0.001643  0.990962  \n",
              "...         ...       ...       ...  \n",
              "33405  0.119943  0.046495  0.994125  \n",
              "33406  0.119943  0.046495  0.994125  \n",
              "33407  0.119943  0.046495  0.994125  \n",
              "33408  0.119943  0.046495  0.994125  \n",
              "33409  0.119943  0.046495  0.994125  \n",
              "\n",
              "[33410 rows x 9 columns]"
            ],
            "text/html": [
              "\n",
              "  <div id=\"df-0d76e054-b75f-42bd-8a17-fb4de3e93844\">\n",
              "    <div class=\"colab-df-container\">\n",
              "      <div>\n",
              "<style scoped>\n",
              "    .dataframe tbody tr th:only-of-type {\n",
              "        vertical-align: middle;\n",
              "    }\n",
              "\n",
              "    .dataframe tbody tr th {\n",
              "        vertical-align: top;\n",
              "    }\n",
              "\n",
              "    .dataframe thead th {\n",
              "        text-align: right;\n",
              "    }\n",
              "</style>\n",
              "<table border=\"1\" class=\"dataframe\">\n",
              "  <thead>\n",
              "    <tr style=\"text-align: right;\">\n",
              "      <th></th>\n",
              "      <th>Date</th>\n",
              "      <th>1</th>\n",
              "      <th>2</th>\n",
              "      <th>3</th>\n",
              "      <th>4</th>\n",
              "      <th>5</th>\n",
              "      <th>6</th>\n",
              "      <th>7</th>\n",
              "      <th>8</th>\n",
              "    </tr>\n",
              "  </thead>\n",
              "  <tbody>\n",
              "    <tr>\n",
              "      <th>0</th>\n",
              "      <td>2021-12-03 08:56:13</td>\n",
              "      <td>0.173659</td>\n",
              "      <td>0.001658</td>\n",
              "      <td>0.063130</td>\n",
              "      <td>0.654376</td>\n",
              "      <td>0.907993</td>\n",
              "      <td>0.007730</td>\n",
              "      <td>0.001650</td>\n",
              "      <td>0.990961</td>\n",
              "    </tr>\n",
              "    <tr>\n",
              "      <th>1</th>\n",
              "      <td>2021-12-03 08:56:14</td>\n",
              "      <td>0.198067</td>\n",
              "      <td>0.001685</td>\n",
              "      <td>0.062289</td>\n",
              "      <td>0.646822</td>\n",
              "      <td>0.912724</td>\n",
              "      <td>0.007610</td>\n",
              "      <td>0.001622</td>\n",
              "      <td>0.990849</td>\n",
              "    </tr>\n",
              "    <tr>\n",
              "      <th>2</th>\n",
              "      <td>2021-12-03 08:56:15</td>\n",
              "      <td>0.195565</td>\n",
              "      <td>0.001756</td>\n",
              "      <td>0.065871</td>\n",
              "      <td>0.651701</td>\n",
              "      <td>0.913653</td>\n",
              "      <td>0.007435</td>\n",
              "      <td>0.001656</td>\n",
              "      <td>0.991099</td>\n",
              "    </tr>\n",
              "    <tr>\n",
              "      <th>3</th>\n",
              "      <td>2021-12-03 08:56:16</td>\n",
              "      <td>0.228768</td>\n",
              "      <td>0.001877</td>\n",
              "      <td>0.067001</td>\n",
              "      <td>0.648844</td>\n",
              "      <td>0.921188</td>\n",
              "      <td>0.007074</td>\n",
              "      <td>0.001635</td>\n",
              "      <td>0.991188</td>\n",
              "    </tr>\n",
              "    <tr>\n",
              "      <th>4</th>\n",
              "      <td>2021-12-03 08:56:17</td>\n",
              "      <td>0.193885</td>\n",
              "      <td>0.001713</td>\n",
              "      <td>0.064120</td>\n",
              "      <td>0.649567</td>\n",
              "      <td>0.912471</td>\n",
              "      <td>0.007554</td>\n",
              "      <td>0.001643</td>\n",
              "      <td>0.990962</td>\n",
              "    </tr>\n",
              "    <tr>\n",
              "      <th>...</th>\n",
              "      <td>...</td>\n",
              "      <td>...</td>\n",
              "      <td>...</td>\n",
              "      <td>...</td>\n",
              "      <td>...</td>\n",
              "      <td>...</td>\n",
              "      <td>...</td>\n",
              "      <td>...</td>\n",
              "      <td>...</td>\n",
              "    </tr>\n",
              "    <tr>\n",
              "      <th>33405</th>\n",
              "      <td>2021-12-03 21:05:45</td>\n",
              "      <td>0.995206</td>\n",
              "      <td>0.929510</td>\n",
              "      <td>0.375044</td>\n",
              "      <td>0.041958</td>\n",
              "      <td>0.998276</td>\n",
              "      <td>0.119943</td>\n",
              "      <td>0.046495</td>\n",
              "      <td>0.994125</td>\n",
              "    </tr>\n",
              "    <tr>\n",
              "      <th>33406</th>\n",
              "      <td>2021-12-03 21:05:46</td>\n",
              "      <td>0.995206</td>\n",
              "      <td>0.929510</td>\n",
              "      <td>0.375044</td>\n",
              "      <td>0.041958</td>\n",
              "      <td>0.998276</td>\n",
              "      <td>0.119943</td>\n",
              "      <td>0.046495</td>\n",
              "      <td>0.994125</td>\n",
              "    </tr>\n",
              "    <tr>\n",
              "      <th>33407</th>\n",
              "      <td>2021-12-03 21:05:47</td>\n",
              "      <td>0.995206</td>\n",
              "      <td>0.929510</td>\n",
              "      <td>0.375044</td>\n",
              "      <td>0.041958</td>\n",
              "      <td>0.998276</td>\n",
              "      <td>0.119943</td>\n",
              "      <td>0.046495</td>\n",
              "      <td>0.994125</td>\n",
              "    </tr>\n",
              "    <tr>\n",
              "      <th>33408</th>\n",
              "      <td>2021-12-03 21:05:48</td>\n",
              "      <td>0.995206</td>\n",
              "      <td>0.929510</td>\n",
              "      <td>0.375044</td>\n",
              "      <td>0.041958</td>\n",
              "      <td>0.998276</td>\n",
              "      <td>0.119943</td>\n",
              "      <td>0.046495</td>\n",
              "      <td>0.994125</td>\n",
              "    </tr>\n",
              "    <tr>\n",
              "      <th>33409</th>\n",
              "      <td>2021-12-03 21:05:49</td>\n",
              "      <td>0.995206</td>\n",
              "      <td>0.929510</td>\n",
              "      <td>0.375044</td>\n",
              "      <td>0.041958</td>\n",
              "      <td>0.998276</td>\n",
              "      <td>0.119943</td>\n",
              "      <td>0.046495</td>\n",
              "      <td>0.994125</td>\n",
              "    </tr>\n",
              "  </tbody>\n",
              "</table>\n",
              "<p>33410 rows × 9 columns</p>\n",
              "</div>\n",
              "      <button class=\"colab-df-convert\" onclick=\"convertToInteractive('df-0d76e054-b75f-42bd-8a17-fb4de3e93844')\"\n",
              "              title=\"Convert this dataframe to an interactive table.\"\n",
              "              style=\"display:none;\">\n",
              "        \n",
              "  <svg xmlns=\"http://www.w3.org/2000/svg\" height=\"24px\"viewBox=\"0 0 24 24\"\n",
              "       width=\"24px\">\n",
              "    <path d=\"M0 0h24v24H0V0z\" fill=\"none\"/>\n",
              "    <path d=\"M18.56 5.44l.94 2.06.94-2.06 2.06-.94-2.06-.94-.94-2.06-.94 2.06-2.06.94zm-11 1L8.5 8.5l.94-2.06 2.06-.94-2.06-.94L8.5 2.5l-.94 2.06-2.06.94zm10 10l.94 2.06.94-2.06 2.06-.94-2.06-.94-.94-2.06-.94 2.06-2.06.94z\"/><path d=\"M17.41 7.96l-1.37-1.37c-.4-.4-.92-.59-1.43-.59-.52 0-1.04.2-1.43.59L10.3 9.45l-7.72 7.72c-.78.78-.78 2.05 0 2.83L4 21.41c.39.39.9.59 1.41.59.51 0 1.02-.2 1.41-.59l7.78-7.78 2.81-2.81c.8-.78.8-2.07 0-2.86zM5.41 20L4 18.59l7.72-7.72 1.47 1.35L5.41 20z\"/>\n",
              "  </svg>\n",
              "      </button>\n",
              "      \n",
              "  <style>\n",
              "    .colab-df-container {\n",
              "      display:flex;\n",
              "      flex-wrap:wrap;\n",
              "      gap: 12px;\n",
              "    }\n",
              "\n",
              "    .colab-df-convert {\n",
              "      background-color: #E8F0FE;\n",
              "      border: none;\n",
              "      border-radius: 50%;\n",
              "      cursor: pointer;\n",
              "      display: none;\n",
              "      fill: #1967D2;\n",
              "      height: 32px;\n",
              "      padding: 0 0 0 0;\n",
              "      width: 32px;\n",
              "    }\n",
              "\n",
              "    .colab-df-convert:hover {\n",
              "      background-color: #E2EBFA;\n",
              "      box-shadow: 0px 1px 2px rgba(60, 64, 67, 0.3), 0px 1px 3px 1px rgba(60, 64, 67, 0.15);\n",
              "      fill: #174EA6;\n",
              "    }\n",
              "\n",
              "    [theme=dark] .colab-df-convert {\n",
              "      background-color: #3B4455;\n",
              "      fill: #D2E3FC;\n",
              "    }\n",
              "\n",
              "    [theme=dark] .colab-df-convert:hover {\n",
              "      background-color: #434B5C;\n",
              "      box-shadow: 0px 1px 3px 1px rgba(0, 0, 0, 0.15);\n",
              "      filter: drop-shadow(0px 1px 2px rgba(0, 0, 0, 0.3));\n",
              "      fill: #FFFFFF;\n",
              "    }\n",
              "  </style>\n",
              "\n",
              "      <script>\n",
              "        const buttonEl =\n",
              "          document.querySelector('#df-0d76e054-b75f-42bd-8a17-fb4de3e93844 button.colab-df-convert');\n",
              "        buttonEl.style.display =\n",
              "          google.colab.kernel.accessAllowed ? 'block' : 'none';\n",
              "\n",
              "        async function convertToInteractive(key) {\n",
              "          const element = document.querySelector('#df-0d76e054-b75f-42bd-8a17-fb4de3e93844');\n",
              "          const dataTable =\n",
              "            await google.colab.kernel.invokeFunction('convertToInteractive',\n",
              "                                                     [key], {});\n",
              "          if (!dataTable) return;\n",
              "\n",
              "          const docLinkHtml = 'Like what you see? Visit the ' +\n",
              "            '<a target=\"_blank\" href=https://colab.research.google.com/notebooks/data_table.ipynb>data table notebook</a>'\n",
              "            + ' to learn more about interactive tables.';\n",
              "          element.innerHTML = '';\n",
              "          dataTable['output_type'] = 'display_data';\n",
              "          await google.colab.output.renderOutput(dataTable, element);\n",
              "          const docLink = document.createElement('div');\n",
              "          docLink.innerHTML = docLinkHtml;\n",
              "          element.appendChild(docLink);\n",
              "        }\n",
              "      </script>\n",
              "    </div>\n",
              "  </div>\n",
              "  "
            ]
          },
          "metadata": {},
          "execution_count": 65
        }
      ]
    },
    {
      "cell_type": "code",
      "source": [
        "mydict['D788034C']"
      ],
      "metadata": {
        "colab": {
          "base_uri": "https://localhost:8080/",
          "height": 423
        },
        "id": "X9ROcwoKI8C2",
        "outputId": "6edb6856-376d-4eaa-8c19-299873d1ae8b"
      },
      "execution_count": null,
      "outputs": [
        {
          "output_type": "execute_result",
          "data": {
            "text/plain": [
              "             ID                 Date         1         2         3         4  \\\n",
              "0      D788034C  2021-11-28 00:00:00  0.981262  0.990319  0.979536  0.328138   \n",
              "1      D788034C  2021-11-28 00:00:01  0.962457  0.998730  0.998241  0.975713   \n",
              "2      D788034C  2021-11-28 00:00:02  0.986374  0.998717  0.997116  0.925132   \n",
              "3      D788034C  2021-11-28 00:00:03  0.974020  0.998734  0.998220  0.973949   \n",
              "4      D788034C  2021-11-28 00:00:04  0.982181  0.998724  0.997959  0.968855   \n",
              "...         ...                  ...       ...       ...       ...       ...   \n",
              "14595  D788034C  2021-11-28 22:25:04  0.985345  0.962290  0.583655  0.704635   \n",
              "14596  D788034C  2021-11-28 22:25:05  0.985343  0.962346  0.583988  0.704873   \n",
              "14597  D788034C  2021-11-28 22:25:06  0.985342  0.962352  0.584024  0.704895   \n",
              "14598  D788034C  2021-11-28 22:25:07  0.985342  0.962352  0.584024  0.704895   \n",
              "14599  D788034C  2021-11-28 22:25:08  0.985342  0.962352  0.584024  0.704895   \n",
              "\n",
              "              5         6         7         8  \n",
              "0      0.985659  0.794406  0.967414  0.900350  \n",
              "1      0.868509  0.205135  0.993087  0.139415  \n",
              "2      0.966387  0.803887  0.993642  0.401863  \n",
              "3      0.870613  0.340489  0.994713  0.124057  \n",
              "4      0.912446  0.521101  0.995326  0.157700  \n",
              "...         ...       ...       ...       ...  \n",
              "14595  0.100225  0.985613  0.995677  0.008549  \n",
              "14596  0.100059  0.985595  0.995681  0.008540  \n",
              "14597  0.100040  0.985595  0.995681  0.008539  \n",
              "14598  0.100040  0.985595  0.995681  0.008539  \n",
              "14599  0.100040  0.985595  0.995681  0.008539  \n",
              "\n",
              "[14600 rows x 10 columns]"
            ],
            "text/html": [
              "\n",
              "  <div id=\"df-ccd68d7b-34c4-45bd-ab2b-8edecd03a94e\">\n",
              "    <div class=\"colab-df-container\">\n",
              "      <div>\n",
              "<style scoped>\n",
              "    .dataframe tbody tr th:only-of-type {\n",
              "        vertical-align: middle;\n",
              "    }\n",
              "\n",
              "    .dataframe tbody tr th {\n",
              "        vertical-align: top;\n",
              "    }\n",
              "\n",
              "    .dataframe thead th {\n",
              "        text-align: right;\n",
              "    }\n",
              "</style>\n",
              "<table border=\"1\" class=\"dataframe\">\n",
              "  <thead>\n",
              "    <tr style=\"text-align: right;\">\n",
              "      <th></th>\n",
              "      <th>ID</th>\n",
              "      <th>Date</th>\n",
              "      <th>1</th>\n",
              "      <th>2</th>\n",
              "      <th>3</th>\n",
              "      <th>4</th>\n",
              "      <th>5</th>\n",
              "      <th>6</th>\n",
              "      <th>7</th>\n",
              "      <th>8</th>\n",
              "    </tr>\n",
              "  </thead>\n",
              "  <tbody>\n",
              "    <tr>\n",
              "      <th>0</th>\n",
              "      <td>D788034C</td>\n",
              "      <td>2021-11-28 00:00:00</td>\n",
              "      <td>0.981262</td>\n",
              "      <td>0.990319</td>\n",
              "      <td>0.979536</td>\n",
              "      <td>0.328138</td>\n",
              "      <td>0.985659</td>\n",
              "      <td>0.794406</td>\n",
              "      <td>0.967414</td>\n",
              "      <td>0.900350</td>\n",
              "    </tr>\n",
              "    <tr>\n",
              "      <th>1</th>\n",
              "      <td>D788034C</td>\n",
              "      <td>2021-11-28 00:00:01</td>\n",
              "      <td>0.962457</td>\n",
              "      <td>0.998730</td>\n",
              "      <td>0.998241</td>\n",
              "      <td>0.975713</td>\n",
              "      <td>0.868509</td>\n",
              "      <td>0.205135</td>\n",
              "      <td>0.993087</td>\n",
              "      <td>0.139415</td>\n",
              "    </tr>\n",
              "    <tr>\n",
              "      <th>2</th>\n",
              "      <td>D788034C</td>\n",
              "      <td>2021-11-28 00:00:02</td>\n",
              "      <td>0.986374</td>\n",
              "      <td>0.998717</td>\n",
              "      <td>0.997116</td>\n",
              "      <td>0.925132</td>\n",
              "      <td>0.966387</td>\n",
              "      <td>0.803887</td>\n",
              "      <td>0.993642</td>\n",
              "      <td>0.401863</td>\n",
              "    </tr>\n",
              "    <tr>\n",
              "      <th>3</th>\n",
              "      <td>D788034C</td>\n",
              "      <td>2021-11-28 00:00:03</td>\n",
              "      <td>0.974020</td>\n",
              "      <td>0.998734</td>\n",
              "      <td>0.998220</td>\n",
              "      <td>0.973949</td>\n",
              "      <td>0.870613</td>\n",
              "      <td>0.340489</td>\n",
              "      <td>0.994713</td>\n",
              "      <td>0.124057</td>\n",
              "    </tr>\n",
              "    <tr>\n",
              "      <th>4</th>\n",
              "      <td>D788034C</td>\n",
              "      <td>2021-11-28 00:00:04</td>\n",
              "      <td>0.982181</td>\n",
              "      <td>0.998724</td>\n",
              "      <td>0.997959</td>\n",
              "      <td>0.968855</td>\n",
              "      <td>0.912446</td>\n",
              "      <td>0.521101</td>\n",
              "      <td>0.995326</td>\n",
              "      <td>0.157700</td>\n",
              "    </tr>\n",
              "    <tr>\n",
              "      <th>...</th>\n",
              "      <td>...</td>\n",
              "      <td>...</td>\n",
              "      <td>...</td>\n",
              "      <td>...</td>\n",
              "      <td>...</td>\n",
              "      <td>...</td>\n",
              "      <td>...</td>\n",
              "      <td>...</td>\n",
              "      <td>...</td>\n",
              "      <td>...</td>\n",
              "    </tr>\n",
              "    <tr>\n",
              "      <th>14595</th>\n",
              "      <td>D788034C</td>\n",
              "      <td>2021-11-28 22:25:04</td>\n",
              "      <td>0.985345</td>\n",
              "      <td>0.962290</td>\n",
              "      <td>0.583655</td>\n",
              "      <td>0.704635</td>\n",
              "      <td>0.100225</td>\n",
              "      <td>0.985613</td>\n",
              "      <td>0.995677</td>\n",
              "      <td>0.008549</td>\n",
              "    </tr>\n",
              "    <tr>\n",
              "      <th>14596</th>\n",
              "      <td>D788034C</td>\n",
              "      <td>2021-11-28 22:25:05</td>\n",
              "      <td>0.985343</td>\n",
              "      <td>0.962346</td>\n",
              "      <td>0.583988</td>\n",
              "      <td>0.704873</td>\n",
              "      <td>0.100059</td>\n",
              "      <td>0.985595</td>\n",
              "      <td>0.995681</td>\n",
              "      <td>0.008540</td>\n",
              "    </tr>\n",
              "    <tr>\n",
              "      <th>14597</th>\n",
              "      <td>D788034C</td>\n",
              "      <td>2021-11-28 22:25:06</td>\n",
              "      <td>0.985342</td>\n",
              "      <td>0.962352</td>\n",
              "      <td>0.584024</td>\n",
              "      <td>0.704895</td>\n",
              "      <td>0.100040</td>\n",
              "      <td>0.985595</td>\n",
              "      <td>0.995681</td>\n",
              "      <td>0.008539</td>\n",
              "    </tr>\n",
              "    <tr>\n",
              "      <th>14598</th>\n",
              "      <td>D788034C</td>\n",
              "      <td>2021-11-28 22:25:07</td>\n",
              "      <td>0.985342</td>\n",
              "      <td>0.962352</td>\n",
              "      <td>0.584024</td>\n",
              "      <td>0.704895</td>\n",
              "      <td>0.100040</td>\n",
              "      <td>0.985595</td>\n",
              "      <td>0.995681</td>\n",
              "      <td>0.008539</td>\n",
              "    </tr>\n",
              "    <tr>\n",
              "      <th>14599</th>\n",
              "      <td>D788034C</td>\n",
              "      <td>2021-11-28 22:25:08</td>\n",
              "      <td>0.985342</td>\n",
              "      <td>0.962352</td>\n",
              "      <td>0.584024</td>\n",
              "      <td>0.704895</td>\n",
              "      <td>0.100040</td>\n",
              "      <td>0.985595</td>\n",
              "      <td>0.995681</td>\n",
              "      <td>0.008539</td>\n",
              "    </tr>\n",
              "  </tbody>\n",
              "</table>\n",
              "<p>14600 rows × 10 columns</p>\n",
              "</div>\n",
              "      <button class=\"colab-df-convert\" onclick=\"convertToInteractive('df-ccd68d7b-34c4-45bd-ab2b-8edecd03a94e')\"\n",
              "              title=\"Convert this dataframe to an interactive table.\"\n",
              "              style=\"display:none;\">\n",
              "        \n",
              "  <svg xmlns=\"http://www.w3.org/2000/svg\" height=\"24px\"viewBox=\"0 0 24 24\"\n",
              "       width=\"24px\">\n",
              "    <path d=\"M0 0h24v24H0V0z\" fill=\"none\"/>\n",
              "    <path d=\"M18.56 5.44l.94 2.06.94-2.06 2.06-.94-2.06-.94-.94-2.06-.94 2.06-2.06.94zm-11 1L8.5 8.5l.94-2.06 2.06-.94-2.06-.94L8.5 2.5l-.94 2.06-2.06.94zm10 10l.94 2.06.94-2.06 2.06-.94-2.06-.94-.94-2.06-.94 2.06-2.06.94z\"/><path d=\"M17.41 7.96l-1.37-1.37c-.4-.4-.92-.59-1.43-.59-.52 0-1.04.2-1.43.59L10.3 9.45l-7.72 7.72c-.78.78-.78 2.05 0 2.83L4 21.41c.39.39.9.59 1.41.59.51 0 1.02-.2 1.41-.59l7.78-7.78 2.81-2.81c.8-.78.8-2.07 0-2.86zM5.41 20L4 18.59l7.72-7.72 1.47 1.35L5.41 20z\"/>\n",
              "  </svg>\n",
              "      </button>\n",
              "      \n",
              "  <style>\n",
              "    .colab-df-container {\n",
              "      display:flex;\n",
              "      flex-wrap:wrap;\n",
              "      gap: 12px;\n",
              "    }\n",
              "\n",
              "    .colab-df-convert {\n",
              "      background-color: #E8F0FE;\n",
              "      border: none;\n",
              "      border-radius: 50%;\n",
              "      cursor: pointer;\n",
              "      display: none;\n",
              "      fill: #1967D2;\n",
              "      height: 32px;\n",
              "      padding: 0 0 0 0;\n",
              "      width: 32px;\n",
              "    }\n",
              "\n",
              "    .colab-df-convert:hover {\n",
              "      background-color: #E2EBFA;\n",
              "      box-shadow: 0px 1px 2px rgba(60, 64, 67, 0.3), 0px 1px 3px 1px rgba(60, 64, 67, 0.15);\n",
              "      fill: #174EA6;\n",
              "    }\n",
              "\n",
              "    [theme=dark] .colab-df-convert {\n",
              "      background-color: #3B4455;\n",
              "      fill: #D2E3FC;\n",
              "    }\n",
              "\n",
              "    [theme=dark] .colab-df-convert:hover {\n",
              "      background-color: #434B5C;\n",
              "      box-shadow: 0px 1px 3px 1px rgba(0, 0, 0, 0.15);\n",
              "      filter: drop-shadow(0px 1px 2px rgba(0, 0, 0, 0.3));\n",
              "      fill: #FFFFFF;\n",
              "    }\n",
              "  </style>\n",
              "\n",
              "      <script>\n",
              "        const buttonEl =\n",
              "          document.querySelector('#df-ccd68d7b-34c4-45bd-ab2b-8edecd03a94e button.colab-df-convert');\n",
              "        buttonEl.style.display =\n",
              "          google.colab.kernel.accessAllowed ? 'block' : 'none';\n",
              "\n",
              "        async function convertToInteractive(key) {\n",
              "          const element = document.querySelector('#df-ccd68d7b-34c4-45bd-ab2b-8edecd03a94e');\n",
              "          const dataTable =\n",
              "            await google.colab.kernel.invokeFunction('convertToInteractive',\n",
              "                                                     [key], {});\n",
              "          if (!dataTable) return;\n",
              "\n",
              "          const docLinkHtml = 'Like what you see? Visit the ' +\n",
              "            '<a target=\"_blank\" href=https://colab.research.google.com/notebooks/data_table.ipynb>data table notebook</a>'\n",
              "            + ' to learn more about interactive tables.';\n",
              "          element.innerHTML = '';\n",
              "          dataTable['output_type'] = 'display_data';\n",
              "          await google.colab.output.renderOutput(dataTable, element);\n",
              "          const docLink = document.createElement('div');\n",
              "          docLink.innerHTML = docLinkHtml;\n",
              "          element.appendChild(docLink);\n",
              "        }\n",
              "      </script>\n",
              "    </div>\n",
              "  </div>\n",
              "  "
            ]
          },
          "metadata": {},
          "execution_count": 66
        }
      ]
    },
    {
      "cell_type": "code",
      "source": [
        "test_list = []"
      ],
      "metadata": {
        "id": "5xClmXaXJvN3"
      },
      "execution_count": null,
      "outputs": []
    },
    {
      "cell_type": "code",
      "source": [
        "for name in test_keys:\n",
        "    test_df = mydict[name]\n",
        "    test_df.columns = ['Date','1','2','3','4','5','6','7','8']\n",
        "    test_df['class'] = Kmean.predict(test_df1.iloc[:,1:])\n",
        "    test_list.append(test_df)"
      ],
      "metadata": {
        "id": "gPZrMTP0XhLc",
        "colab": {
          "base_uri": "https://localhost:8080/",
          "height": 493
        },
        "outputId": "d197b64e-b714-4782-cda8-fd762b064060"
      },
      "execution_count": null,
      "outputs": [
        {
          "output_type": "stream",
          "name": "stderr",
          "text": [
            "/usr/local/lib/python3.7/dist-packages/sklearn/base.py:493: FutureWarning: The feature names should match those that were passed during fit. Starting version 1.2, an error will be raised.\n",
            "Feature names unseen at fit time:\n",
            "- class\n",
            "Feature names must be in the same order as they were in fit.\n",
            "\n",
            "  warnings.warn(message, FutureWarning)\n"
          ]
        },
        {
          "output_type": "error",
          "ename": "ValueError",
          "evalue": "ignored",
          "traceback": [
            "\u001b[0;31m---------------------------------------------------------------------------\u001b[0m",
            "\u001b[0;31mValueError\u001b[0m                                Traceback (most recent call last)",
            "\u001b[0;32m<ipython-input-68-003f059402cc>\u001b[0m in \u001b[0;36m<module>\u001b[0;34m()\u001b[0m\n\u001b[1;32m      2\u001b[0m     \u001b[0mtest_df\u001b[0m \u001b[0;34m=\u001b[0m \u001b[0mmydict\u001b[0m\u001b[0;34m[\u001b[0m\u001b[0mname\u001b[0m\u001b[0;34m]\u001b[0m\u001b[0;34m\u001b[0m\u001b[0;34m\u001b[0m\u001b[0m\n\u001b[1;32m      3\u001b[0m     \u001b[0mtest_df\u001b[0m\u001b[0;34m.\u001b[0m\u001b[0mcolumns\u001b[0m \u001b[0;34m=\u001b[0m \u001b[0;34m[\u001b[0m\u001b[0;34m'Date'\u001b[0m\u001b[0;34m,\u001b[0m\u001b[0;34m'1'\u001b[0m\u001b[0;34m,\u001b[0m\u001b[0;34m'2'\u001b[0m\u001b[0;34m,\u001b[0m\u001b[0;34m'3'\u001b[0m\u001b[0;34m,\u001b[0m\u001b[0;34m'4'\u001b[0m\u001b[0;34m,\u001b[0m\u001b[0;34m'5'\u001b[0m\u001b[0;34m,\u001b[0m\u001b[0;34m'6'\u001b[0m\u001b[0;34m,\u001b[0m\u001b[0;34m'7'\u001b[0m\u001b[0;34m,\u001b[0m\u001b[0;34m'8'\u001b[0m\u001b[0;34m]\u001b[0m\u001b[0;34m\u001b[0m\u001b[0;34m\u001b[0m\u001b[0m\n\u001b[0;32m----> 4\u001b[0;31m     \u001b[0mtest_df\u001b[0m\u001b[0;34m[\u001b[0m\u001b[0;34m'class'\u001b[0m\u001b[0;34m]\u001b[0m \u001b[0;34m=\u001b[0m \u001b[0mKmean\u001b[0m\u001b[0;34m.\u001b[0m\u001b[0mpredict\u001b[0m\u001b[0;34m(\u001b[0m\u001b[0mtest_df1\u001b[0m\u001b[0;34m.\u001b[0m\u001b[0miloc\u001b[0m\u001b[0;34m[\u001b[0m\u001b[0;34m:\u001b[0m\u001b[0;34m,\u001b[0m\u001b[0;36m1\u001b[0m\u001b[0;34m:\u001b[0m\u001b[0;34m]\u001b[0m\u001b[0;34m)\u001b[0m\u001b[0;34m\u001b[0m\u001b[0;34m\u001b[0m\u001b[0m\n\u001b[0m\u001b[1;32m      5\u001b[0m     \u001b[0mtest_list\u001b[0m\u001b[0;34m.\u001b[0m\u001b[0mappend\u001b[0m\u001b[0;34m(\u001b[0m\u001b[0mtest_df\u001b[0m\u001b[0;34m)\u001b[0m\u001b[0;34m\u001b[0m\u001b[0;34m\u001b[0m\u001b[0m\n",
            "\u001b[0;32m/usr/local/lib/python3.7/dist-packages/sklearn/cluster/_kmeans.py\u001b[0m in \u001b[0;36mpredict\u001b[0;34m(self, X, sample_weight)\u001b[0m\n\u001b[1;32m   1328\u001b[0m         \u001b[0mcheck_is_fitted\u001b[0m\u001b[0;34m(\u001b[0m\u001b[0mself\u001b[0m\u001b[0;34m)\u001b[0m\u001b[0;34m\u001b[0m\u001b[0;34m\u001b[0m\u001b[0m\n\u001b[1;32m   1329\u001b[0m \u001b[0;34m\u001b[0m\u001b[0m\n\u001b[0;32m-> 1330\u001b[0;31m         \u001b[0mX\u001b[0m \u001b[0;34m=\u001b[0m \u001b[0mself\u001b[0m\u001b[0;34m.\u001b[0m\u001b[0m_check_test_data\u001b[0m\u001b[0;34m(\u001b[0m\u001b[0mX\u001b[0m\u001b[0;34m)\u001b[0m\u001b[0;34m\u001b[0m\u001b[0;34m\u001b[0m\u001b[0m\n\u001b[0m\u001b[1;32m   1331\u001b[0m         \u001b[0mx_squared_norms\u001b[0m \u001b[0;34m=\u001b[0m \u001b[0mrow_norms\u001b[0m\u001b[0;34m(\u001b[0m\u001b[0mX\u001b[0m\u001b[0;34m,\u001b[0m \u001b[0msquared\u001b[0m\u001b[0;34m=\u001b[0m\u001b[0;32mTrue\u001b[0m\u001b[0;34m)\u001b[0m\u001b[0;34m\u001b[0m\u001b[0;34m\u001b[0m\u001b[0m\n\u001b[1;32m   1332\u001b[0m         \u001b[0msample_weight\u001b[0m \u001b[0;34m=\u001b[0m \u001b[0m_check_sample_weight\u001b[0m\u001b[0;34m(\u001b[0m\u001b[0msample_weight\u001b[0m\u001b[0;34m,\u001b[0m \u001b[0mX\u001b[0m\u001b[0;34m,\u001b[0m \u001b[0mdtype\u001b[0m\u001b[0;34m=\u001b[0m\u001b[0mX\u001b[0m\u001b[0;34m.\u001b[0m\u001b[0mdtype\u001b[0m\u001b[0;34m)\u001b[0m\u001b[0;34m\u001b[0m\u001b[0;34m\u001b[0m\u001b[0m\n",
            "\u001b[0;32m/usr/local/lib/python3.7/dist-packages/sklearn/cluster/_kmeans.py\u001b[0m in \u001b[0;36m_check_test_data\u001b[0;34m(self, X)\u001b[0m\n\u001b[1;32m   1011\u001b[0m             \u001b[0mdtype\u001b[0m\u001b[0;34m=\u001b[0m\u001b[0;34m[\u001b[0m\u001b[0mnp\u001b[0m\u001b[0;34m.\u001b[0m\u001b[0mfloat64\u001b[0m\u001b[0;34m,\u001b[0m \u001b[0mnp\u001b[0m\u001b[0;34m.\u001b[0m\u001b[0mfloat32\u001b[0m\u001b[0;34m]\u001b[0m\u001b[0;34m,\u001b[0m\u001b[0;34m\u001b[0m\u001b[0;34m\u001b[0m\u001b[0m\n\u001b[1;32m   1012\u001b[0m             \u001b[0morder\u001b[0m\u001b[0;34m=\u001b[0m\u001b[0;34m\"C\"\u001b[0m\u001b[0;34m,\u001b[0m\u001b[0;34m\u001b[0m\u001b[0;34m\u001b[0m\u001b[0m\n\u001b[0;32m-> 1013\u001b[0;31m             \u001b[0maccept_large_sparse\u001b[0m\u001b[0;34m=\u001b[0m\u001b[0;32mFalse\u001b[0m\u001b[0;34m,\u001b[0m\u001b[0;34m\u001b[0m\u001b[0;34m\u001b[0m\u001b[0m\n\u001b[0m\u001b[1;32m   1014\u001b[0m         )\n\u001b[1;32m   1015\u001b[0m         \u001b[0;32mreturn\u001b[0m \u001b[0mX\u001b[0m\u001b[0;34m\u001b[0m\u001b[0;34m\u001b[0m\u001b[0m\n",
            "\u001b[0;32m/usr/local/lib/python3.7/dist-packages/sklearn/base.py\u001b[0m in \u001b[0;36m_validate_data\u001b[0;34m(self, X, y, reset, validate_separately, **check_params)\u001b[0m\n\u001b[1;32m    583\u001b[0m \u001b[0;34m\u001b[0m\u001b[0m\n\u001b[1;32m    584\u001b[0m         \u001b[0;32mif\u001b[0m \u001b[0;32mnot\u001b[0m \u001b[0mno_val_X\u001b[0m \u001b[0;32mand\u001b[0m \u001b[0mcheck_params\u001b[0m\u001b[0;34m.\u001b[0m\u001b[0mget\u001b[0m\u001b[0;34m(\u001b[0m\u001b[0;34m\"ensure_2d\"\u001b[0m\u001b[0;34m,\u001b[0m \u001b[0;32mTrue\u001b[0m\u001b[0;34m)\u001b[0m\u001b[0;34m:\u001b[0m\u001b[0;34m\u001b[0m\u001b[0;34m\u001b[0m\u001b[0m\n\u001b[0;32m--> 585\u001b[0;31m             \u001b[0mself\u001b[0m\u001b[0;34m.\u001b[0m\u001b[0m_check_n_features\u001b[0m\u001b[0;34m(\u001b[0m\u001b[0mX\u001b[0m\u001b[0;34m,\u001b[0m \u001b[0mreset\u001b[0m\u001b[0;34m=\u001b[0m\u001b[0mreset\u001b[0m\u001b[0;34m)\u001b[0m\u001b[0;34m\u001b[0m\u001b[0;34m\u001b[0m\u001b[0m\n\u001b[0m\u001b[1;32m    586\u001b[0m \u001b[0;34m\u001b[0m\u001b[0m\n\u001b[1;32m    587\u001b[0m         \u001b[0;32mreturn\u001b[0m \u001b[0mout\u001b[0m\u001b[0;34m\u001b[0m\u001b[0;34m\u001b[0m\u001b[0m\n",
            "\u001b[0;32m/usr/local/lib/python3.7/dist-packages/sklearn/base.py\u001b[0m in \u001b[0;36m_check_n_features\u001b[0;34m(self, X, reset)\u001b[0m\n\u001b[1;32m    399\u001b[0m         \u001b[0;32mif\u001b[0m \u001b[0mn_features\u001b[0m \u001b[0;34m!=\u001b[0m \u001b[0mself\u001b[0m\u001b[0;34m.\u001b[0m\u001b[0mn_features_in_\u001b[0m\u001b[0;34m:\u001b[0m\u001b[0;34m\u001b[0m\u001b[0;34m\u001b[0m\u001b[0m\n\u001b[1;32m    400\u001b[0m             raise ValueError(\n\u001b[0;32m--> 401\u001b[0;31m                 \u001b[0;34mf\"X has {n_features} features, but {self.__class__.__name__} \"\u001b[0m\u001b[0;34m\u001b[0m\u001b[0;34m\u001b[0m\u001b[0m\n\u001b[0m\u001b[1;32m    402\u001b[0m                 \u001b[0;34mf\"is expecting {self.n_features_in_} features as input.\"\u001b[0m\u001b[0;34m\u001b[0m\u001b[0;34m\u001b[0m\u001b[0m\n\u001b[1;32m    403\u001b[0m             )\n",
            "\u001b[0;31mValueError\u001b[0m: X has 9 features, but KMeans is expecting 8 features as input."
          ]
        }
      ]
    },
    {
      "cell_type": "code",
      "source": [
        "test_df1['class'] =  Kmean.predict(test_df1.iloc[:,1:])"
      ],
      "metadata": {
        "id": "MYtk6CsPIJz1"
      },
      "execution_count": null,
      "outputs": []
    },
    {
      "cell_type": "code",
      "source": [
        "column_lists = [\"DATE\",\"ID\",\"ACCEL_X\",\"ACCEL_Y\",\"ACCEL_Z\",\"GYRO_X\",\"GYRO_Y\",\"GYRO_Z\",\"PITCH\",\"ROLL\",\"LAT\",\"LON\",\"VELOCITY\",\"ALT\",\"EVENT0\",\"EVENT1\",\"EVENT2\",\"EVENT3\"]"
      ],
      "metadata": {
        "id": "thregIQMUQuo"
      },
      "execution_count": null,
      "outputs": []
    },
    {
      "cell_type": "code",
      "source": [
        "path = '/content/testset'\n",
        "test_df1['LAT'] = 0\n",
        "test_df1['LON'] = 0\n",
        "\n",
        "LAT_dict = {}\n",
        "LON_dict = {}\n",
        "\n",
        "csv_list = []\n",
        "for name in tqdm(sorted(os.listdir('./testset'))):\n",
        "    csv_df = pd.read_csv(os.path.join(path, name), header = None) # 경도, 위도 있는 데이터\n",
        "    csv_df.columns = column_lists\n",
        "    id = name[:-4]\n",
        "\n",
        "    LAT = csv_df.groupby(by='DATE')['LAT'].mean()\n",
        "    LAT_dict[id] = LAT\n",
        "\n",
        "    LON = csv_df.groupby(by='DATE')['LON'].mean()\n",
        "    LON_dict[id] = LON"
      ],
      "metadata": {
        "id": "gFGiJFAnH6sr"
      },
      "execution_count": null,
      "outputs": []
    },
    {
      "cell_type": "code",
      "source": [
        "path = '/content/dataset'\n",
        "train_df['LAT'] = 0\n",
        "train_df['LON'] = 0\n",
        "\n",
        "LAT_dict = {}\n",
        "LON_dict = {}\n",
        "\n",
        "csv_list = []\n",
        "for name in tqdm(sorted(os.listdir('./dataset'))):\n",
        "    csv_df = pd.read_csv(os.path.join(path, name), index_col=0) # 경도, 위도 있는 데이터\n",
        "    id = name[:-4]\n",
        "\n",
        "    LAT = csv_df.groupby(by='DATE')['LAT'].mean()\n",
        "    LAT_dict[id] = LAT\n",
        "\n",
        "    LON = csv_df.groupby(by='DATE')['LON'].mean()\n",
        "    LON_dict[id] = LON\n"
      ],
      "metadata": {
        "id": "xODWzlhyHfd4"
      },
      "execution_count": null,
      "outputs": []
    },
    {
      "cell_type": "code",
      "source": [
        "g_list = {}\n",
        "for id, g in tqdm(train_df.groupby(by='ID')):\n",
        "    for date in list(g.Date):\n",
        "        g.loc[g.Date == date, 'LAT'] = LAT_dict[id][date]\n",
        "        g.loc[g.Date == date, 'LON'] = LON_dict[id][date]\n",
        "    g_list[id] = g"
      ],
      "metadata": {
        "id": "PJifhyVbHfd5"
      },
      "execution_count": null,
      "outputs": []
    },
    {
      "cell_type": "code",
      "source": [
        "name_list = []\n",
        "for name in tqdm(sorted(os.listdir('./dataset'))):\n",
        "    name_list.append(name[:-4])"
      ],
      "metadata": {
        "id": "ABgtUlt6Hfd5"
      },
      "execution_count": null,
      "outputs": []
    }
  ]
}