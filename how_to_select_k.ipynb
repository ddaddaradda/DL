{
  "nbformat": 4,
  "nbformat_minor": 0,
  "metadata": {
    "colab": {
      "name": "how to select k ",
      "provenance": [],
      "collapsed_sections": [],
      "include_colab_link": true
    },
    "kernelspec": {
      "name": "python3",
      "display_name": "Python 3"
    },
    "language_info": {
      "name": "python"
    },
    "accelerator": "GPU"
  },
  "cells": [
    {
      "cell_type": "markdown",
      "metadata": {
        "id": "view-in-github",
        "colab_type": "text"
      },
      "source": [
        "<a href=\"https://colab.research.google.com/github/ddaddaradda/DL/blob/main/how_to_select_k.ipynb\" target=\"_parent\"><img src=\"https://colab.research.google.com/assets/colab-badge.svg\" alt=\"Open In Colab\"/></a>"
      ]
    },
    {
      "cell_type": "code",
      "execution_count": null,
      "metadata": {
        "colab": {
          "base_uri": "https://localhost:8080/"
        },
        "id": "NtAWri3oDGgP",
        "outputId": "02f1a449-d54b-4e50-a1db-90e09bf17f26"
      },
      "outputs": [
        {
          "output_type": "stream",
          "name": "stdout",
          "text": [
            "Mounted at /content/gdrive\n"
          ]
        }
      ],
      "source": [
        "from google.colab import drive\n",
        "drive.mount('/content/gdrive')"
      ]
    },
    {
      "cell_type": "code",
      "source": [
        "import numpy as np\n",
        "import pandas as pd\n",
        "from tqdm import tqdm"
      ],
      "metadata": {
        "id": "teYUF-dKEDmG"
      },
      "execution_count": null,
      "outputs": []
    },
    {
      "cell_type": "code",
      "source": [
        "import pickle\n",
        "\n",
        "with open('/content/gdrive/MyDrive/temp/vector_dict_0421.pkl','rb') as f:\n",
        "    mydict = pickle.load(f)"
      ],
      "metadata": {
        "id": "te_ndyJ4d9_A"
      },
      "execution_count": null,
      "outputs": []
    },
    {
      "cell_type": "code",
      "source": [
        "key_list = list(mydict.keys())"
      ],
      "metadata": {
        "id": "YaTQp58Wi7rL"
      },
      "execution_count": null,
      "outputs": []
    },
    {
      "cell_type": "code",
      "source": [
        "key_list.remove('meta')"
      ],
      "metadata": {
        "id": "QjwysKCOjP91"
      },
      "execution_count": null,
      "outputs": []
    },
    {
      "cell_type": "code",
      "source": [
        "key_list"
      ],
      "metadata": {
        "colab": {
          "base_uri": "https://localhost:8080/"
        },
        "id": "VyUitd-Fj41l",
        "outputId": "99845d9d-14d8-41e3-d9c7-bb5dd18de63e"
      },
      "execution_count": null,
      "outputs": [
        {
          "output_type": "execute_result",
          "data": {
            "text/plain": [
              "['D788034C',\n",
              " '1DBEBE62',\n",
              " 'B95FBB89',\n",
              " '483AA738',\n",
              " 'A77E8CE3',\n",
              " '912BB33B',\n",
              " '88826FAB',\n",
              " 'F0A475A1',\n",
              " 'DB7B0571',\n",
              " '4E34891D',\n",
              " '570AA81D',\n",
              " '649508BF',\n",
              " '8C7E7A17',\n",
              " 'D30C299A',\n",
              " '8E640374',\n",
              " 'F0A475A1_2',\n",
              " '9EECBC9A',\n",
              " 'A50AF373',\n",
              " 'F257DB06',\n",
              " '20211203',\n",
              " '20211204',\n",
              " '20211205']"
            ]
          },
          "metadata": {},
          "execution_count": 6
        }
      ]
    },
    {
      "cell_type": "code",
      "source": [
        "train_list = key_list[:-3]"
      ],
      "metadata": {
        "id": "FA5UTgTv4f43"
      },
      "execution_count": null,
      "outputs": []
    },
    {
      "cell_type": "code",
      "source": [
        "test_list = key_list[-3:]"
      ],
      "metadata": {
        "id": "GV1PZhmxBNbX"
      },
      "execution_count": null,
      "outputs": []
    },
    {
      "cell_type": "code",
      "source": [
        "test_list"
      ],
      "metadata": {
        "colab": {
          "base_uri": "https://localhost:8080/"
        },
        "id": "1ILtAp0iIBL7",
        "outputId": "65129a5b-5bfc-45e4-850a-777b96c69269"
      },
      "execution_count": null,
      "outputs": [
        {
          "output_type": "execute_result",
          "data": {
            "text/plain": [
              "['20211203', '20211204', '20211205']"
            ]
          },
          "metadata": {},
          "execution_count": 9
        }
      ]
    },
    {
      "cell_type": "code",
      "source": [
        "len(train_list), len(test_list)"
      ],
      "metadata": {
        "colab": {
          "base_uri": "https://localhost:8080/"
        },
        "id": "X0-pW76PsZjU",
        "outputId": "efef519f-a6c9-4e34-f82e-0245d7d8bf70"
      },
      "execution_count": null,
      "outputs": [
        {
          "output_type": "execute_result",
          "data": {
            "text/plain": [
              "(19, 3)"
            ]
          },
          "metadata": {},
          "execution_count": 10
        }
      ]
    },
    {
      "cell_type": "code",
      "source": [
        "df_list = []"
      ],
      "metadata": {
        "id": "ReS0HmCPlUox"
      },
      "execution_count": null,
      "outputs": []
    },
    {
      "cell_type": "code",
      "source": [
        "for key in train_list:\n",
        "    mydict[key].columns = ['Date','1','2','3','4','5','6','7','8']\n",
        "    mydict[key]['ID'] = key\n",
        "    mydict[key] = mydict[key][['ID','Date','1','2','3','4','5','6','7','8']]\n",
        "    df_list.append(mydict[key])"
      ],
      "metadata": {
        "id": "fFOeoJ2Cj61H"
      },
      "execution_count": null,
      "outputs": []
    },
    {
      "cell_type": "code",
      "source": [
        "df_list[0]"
      ],
      "metadata": {
        "colab": {
          "base_uri": "https://localhost:8080/",
          "height": 423
        },
        "id": "j088hP365jBK",
        "outputId": "f392e444-3beb-4648-99b3-2f6683d4b152"
      },
      "execution_count": null,
      "outputs": [
        {
          "output_type": "execute_result",
          "data": {
            "text/plain": [
              "             ID                 Date         1         2         3         4  \\\n",
              "0      D788034C  2021-11-28 00:00:00  0.981262  0.990319  0.979536  0.328138   \n",
              "1      D788034C  2021-11-28 00:00:01  0.962457  0.998730  0.998241  0.975713   \n",
              "2      D788034C  2021-11-28 00:00:02  0.986374  0.998717  0.997116  0.925132   \n",
              "3      D788034C  2021-11-28 00:00:03  0.974020  0.998734  0.998220  0.973949   \n",
              "4      D788034C  2021-11-28 00:00:04  0.982181  0.998724  0.997959  0.968855   \n",
              "...         ...                  ...       ...       ...       ...       ...   \n",
              "14595  D788034C  2021-11-28 22:25:04  0.985345  0.962290  0.583655  0.704635   \n",
              "14596  D788034C  2021-11-28 22:25:05  0.985343  0.962346  0.583988  0.704873   \n",
              "14597  D788034C  2021-11-28 22:25:06  0.985342  0.962352  0.584024  0.704895   \n",
              "14598  D788034C  2021-11-28 22:25:07  0.985342  0.962352  0.584024  0.704895   \n",
              "14599  D788034C  2021-11-28 22:25:08  0.985342  0.962352  0.584024  0.704895   \n",
              "\n",
              "              5         6         7         8  \n",
              "0      0.985659  0.794406  0.967414  0.900350  \n",
              "1      0.868509  0.205135  0.993087  0.139415  \n",
              "2      0.966387  0.803887  0.993642  0.401863  \n",
              "3      0.870613  0.340489  0.994713  0.124057  \n",
              "4      0.912446  0.521101  0.995326  0.157700  \n",
              "...         ...       ...       ...       ...  \n",
              "14595  0.100225  0.985613  0.995677  0.008549  \n",
              "14596  0.100059  0.985595  0.995681  0.008540  \n",
              "14597  0.100040  0.985595  0.995681  0.008539  \n",
              "14598  0.100040  0.985595  0.995681  0.008539  \n",
              "14599  0.100040  0.985595  0.995681  0.008539  \n",
              "\n",
              "[14600 rows x 10 columns]"
            ],
            "text/html": [
              "\n",
              "  <div id=\"df-e8817166-28d6-446d-aec9-79653dba87dd\">\n",
              "    <div class=\"colab-df-container\">\n",
              "      <div>\n",
              "<style scoped>\n",
              "    .dataframe tbody tr th:only-of-type {\n",
              "        vertical-align: middle;\n",
              "    }\n",
              "\n",
              "    .dataframe tbody tr th {\n",
              "        vertical-align: top;\n",
              "    }\n",
              "\n",
              "    .dataframe thead th {\n",
              "        text-align: right;\n",
              "    }\n",
              "</style>\n",
              "<table border=\"1\" class=\"dataframe\">\n",
              "  <thead>\n",
              "    <tr style=\"text-align: right;\">\n",
              "      <th></th>\n",
              "      <th>ID</th>\n",
              "      <th>Date</th>\n",
              "      <th>1</th>\n",
              "      <th>2</th>\n",
              "      <th>3</th>\n",
              "      <th>4</th>\n",
              "      <th>5</th>\n",
              "      <th>6</th>\n",
              "      <th>7</th>\n",
              "      <th>8</th>\n",
              "    </tr>\n",
              "  </thead>\n",
              "  <tbody>\n",
              "    <tr>\n",
              "      <th>0</th>\n",
              "      <td>D788034C</td>\n",
              "      <td>2021-11-28 00:00:00</td>\n",
              "      <td>0.981262</td>\n",
              "      <td>0.990319</td>\n",
              "      <td>0.979536</td>\n",
              "      <td>0.328138</td>\n",
              "      <td>0.985659</td>\n",
              "      <td>0.794406</td>\n",
              "      <td>0.967414</td>\n",
              "      <td>0.900350</td>\n",
              "    </tr>\n",
              "    <tr>\n",
              "      <th>1</th>\n",
              "      <td>D788034C</td>\n",
              "      <td>2021-11-28 00:00:01</td>\n",
              "      <td>0.962457</td>\n",
              "      <td>0.998730</td>\n",
              "      <td>0.998241</td>\n",
              "      <td>0.975713</td>\n",
              "      <td>0.868509</td>\n",
              "      <td>0.205135</td>\n",
              "      <td>0.993087</td>\n",
              "      <td>0.139415</td>\n",
              "    </tr>\n",
              "    <tr>\n",
              "      <th>2</th>\n",
              "      <td>D788034C</td>\n",
              "      <td>2021-11-28 00:00:02</td>\n",
              "      <td>0.986374</td>\n",
              "      <td>0.998717</td>\n",
              "      <td>0.997116</td>\n",
              "      <td>0.925132</td>\n",
              "      <td>0.966387</td>\n",
              "      <td>0.803887</td>\n",
              "      <td>0.993642</td>\n",
              "      <td>0.401863</td>\n",
              "    </tr>\n",
              "    <tr>\n",
              "      <th>3</th>\n",
              "      <td>D788034C</td>\n",
              "      <td>2021-11-28 00:00:03</td>\n",
              "      <td>0.974020</td>\n",
              "      <td>0.998734</td>\n",
              "      <td>0.998220</td>\n",
              "      <td>0.973949</td>\n",
              "      <td>0.870613</td>\n",
              "      <td>0.340489</td>\n",
              "      <td>0.994713</td>\n",
              "      <td>0.124057</td>\n",
              "    </tr>\n",
              "    <tr>\n",
              "      <th>4</th>\n",
              "      <td>D788034C</td>\n",
              "      <td>2021-11-28 00:00:04</td>\n",
              "      <td>0.982181</td>\n",
              "      <td>0.998724</td>\n",
              "      <td>0.997959</td>\n",
              "      <td>0.968855</td>\n",
              "      <td>0.912446</td>\n",
              "      <td>0.521101</td>\n",
              "      <td>0.995326</td>\n",
              "      <td>0.157700</td>\n",
              "    </tr>\n",
              "    <tr>\n",
              "      <th>...</th>\n",
              "      <td>...</td>\n",
              "      <td>...</td>\n",
              "      <td>...</td>\n",
              "      <td>...</td>\n",
              "      <td>...</td>\n",
              "      <td>...</td>\n",
              "      <td>...</td>\n",
              "      <td>...</td>\n",
              "      <td>...</td>\n",
              "      <td>...</td>\n",
              "    </tr>\n",
              "    <tr>\n",
              "      <th>14595</th>\n",
              "      <td>D788034C</td>\n",
              "      <td>2021-11-28 22:25:04</td>\n",
              "      <td>0.985345</td>\n",
              "      <td>0.962290</td>\n",
              "      <td>0.583655</td>\n",
              "      <td>0.704635</td>\n",
              "      <td>0.100225</td>\n",
              "      <td>0.985613</td>\n",
              "      <td>0.995677</td>\n",
              "      <td>0.008549</td>\n",
              "    </tr>\n",
              "    <tr>\n",
              "      <th>14596</th>\n",
              "      <td>D788034C</td>\n",
              "      <td>2021-11-28 22:25:05</td>\n",
              "      <td>0.985343</td>\n",
              "      <td>0.962346</td>\n",
              "      <td>0.583988</td>\n",
              "      <td>0.704873</td>\n",
              "      <td>0.100059</td>\n",
              "      <td>0.985595</td>\n",
              "      <td>0.995681</td>\n",
              "      <td>0.008540</td>\n",
              "    </tr>\n",
              "    <tr>\n",
              "      <th>14597</th>\n",
              "      <td>D788034C</td>\n",
              "      <td>2021-11-28 22:25:06</td>\n",
              "      <td>0.985342</td>\n",
              "      <td>0.962352</td>\n",
              "      <td>0.584024</td>\n",
              "      <td>0.704895</td>\n",
              "      <td>0.100040</td>\n",
              "      <td>0.985595</td>\n",
              "      <td>0.995681</td>\n",
              "      <td>0.008539</td>\n",
              "    </tr>\n",
              "    <tr>\n",
              "      <th>14598</th>\n",
              "      <td>D788034C</td>\n",
              "      <td>2021-11-28 22:25:07</td>\n",
              "      <td>0.985342</td>\n",
              "      <td>0.962352</td>\n",
              "      <td>0.584024</td>\n",
              "      <td>0.704895</td>\n",
              "      <td>0.100040</td>\n",
              "      <td>0.985595</td>\n",
              "      <td>0.995681</td>\n",
              "      <td>0.008539</td>\n",
              "    </tr>\n",
              "    <tr>\n",
              "      <th>14599</th>\n",
              "      <td>D788034C</td>\n",
              "      <td>2021-11-28 22:25:08</td>\n",
              "      <td>0.985342</td>\n",
              "      <td>0.962352</td>\n",
              "      <td>0.584024</td>\n",
              "      <td>0.704895</td>\n",
              "      <td>0.100040</td>\n",
              "      <td>0.985595</td>\n",
              "      <td>0.995681</td>\n",
              "      <td>0.008539</td>\n",
              "    </tr>\n",
              "  </tbody>\n",
              "</table>\n",
              "<p>14600 rows × 10 columns</p>\n",
              "</div>\n",
              "      <button class=\"colab-df-convert\" onclick=\"convertToInteractive('df-e8817166-28d6-446d-aec9-79653dba87dd')\"\n",
              "              title=\"Convert this dataframe to an interactive table.\"\n",
              "              style=\"display:none;\">\n",
              "        \n",
              "  <svg xmlns=\"http://www.w3.org/2000/svg\" height=\"24px\"viewBox=\"0 0 24 24\"\n",
              "       width=\"24px\">\n",
              "    <path d=\"M0 0h24v24H0V0z\" fill=\"none\"/>\n",
              "    <path d=\"M18.56 5.44l.94 2.06.94-2.06 2.06-.94-2.06-.94-.94-2.06-.94 2.06-2.06.94zm-11 1L8.5 8.5l.94-2.06 2.06-.94-2.06-.94L8.5 2.5l-.94 2.06-2.06.94zm10 10l.94 2.06.94-2.06 2.06-.94-2.06-.94-.94-2.06-.94 2.06-2.06.94z\"/><path d=\"M17.41 7.96l-1.37-1.37c-.4-.4-.92-.59-1.43-.59-.52 0-1.04.2-1.43.59L10.3 9.45l-7.72 7.72c-.78.78-.78 2.05 0 2.83L4 21.41c.39.39.9.59 1.41.59.51 0 1.02-.2 1.41-.59l7.78-7.78 2.81-2.81c.8-.78.8-2.07 0-2.86zM5.41 20L4 18.59l7.72-7.72 1.47 1.35L5.41 20z\"/>\n",
              "  </svg>\n",
              "      </button>\n",
              "      \n",
              "  <style>\n",
              "    .colab-df-container {\n",
              "      display:flex;\n",
              "      flex-wrap:wrap;\n",
              "      gap: 12px;\n",
              "    }\n",
              "\n",
              "    .colab-df-convert {\n",
              "      background-color: #E8F0FE;\n",
              "      border: none;\n",
              "      border-radius: 50%;\n",
              "      cursor: pointer;\n",
              "      display: none;\n",
              "      fill: #1967D2;\n",
              "      height: 32px;\n",
              "      padding: 0 0 0 0;\n",
              "      width: 32px;\n",
              "    }\n",
              "\n",
              "    .colab-df-convert:hover {\n",
              "      background-color: #E2EBFA;\n",
              "      box-shadow: 0px 1px 2px rgba(60, 64, 67, 0.3), 0px 1px 3px 1px rgba(60, 64, 67, 0.15);\n",
              "      fill: #174EA6;\n",
              "    }\n",
              "\n",
              "    [theme=dark] .colab-df-convert {\n",
              "      background-color: #3B4455;\n",
              "      fill: #D2E3FC;\n",
              "    }\n",
              "\n",
              "    [theme=dark] .colab-df-convert:hover {\n",
              "      background-color: #434B5C;\n",
              "      box-shadow: 0px 1px 3px 1px rgba(0, 0, 0, 0.15);\n",
              "      filter: drop-shadow(0px 1px 2px rgba(0, 0, 0, 0.3));\n",
              "      fill: #FFFFFF;\n",
              "    }\n",
              "  </style>\n",
              "\n",
              "      <script>\n",
              "        const buttonEl =\n",
              "          document.querySelector('#df-e8817166-28d6-446d-aec9-79653dba87dd button.colab-df-convert');\n",
              "        buttonEl.style.display =\n",
              "          google.colab.kernel.accessAllowed ? 'block' : 'none';\n",
              "\n",
              "        async function convertToInteractive(key) {\n",
              "          const element = document.querySelector('#df-e8817166-28d6-446d-aec9-79653dba87dd');\n",
              "          const dataTable =\n",
              "            await google.colab.kernel.invokeFunction('convertToInteractive',\n",
              "                                                     [key], {});\n",
              "          if (!dataTable) return;\n",
              "\n",
              "          const docLinkHtml = 'Like what you see? Visit the ' +\n",
              "            '<a target=\"_blank\" href=https://colab.research.google.com/notebooks/data_table.ipynb>data table notebook</a>'\n",
              "            + ' to learn more about interactive tables.';\n",
              "          element.innerHTML = '';\n",
              "          dataTable['output_type'] = 'display_data';\n",
              "          await google.colab.output.renderOutput(dataTable, element);\n",
              "          const docLink = document.createElement('div');\n",
              "          docLink.innerHTML = docLinkHtml;\n",
              "          element.appendChild(docLink);\n",
              "        }\n",
              "      </script>\n",
              "    </div>\n",
              "  </div>\n",
              "  "
            ]
          },
          "metadata": {},
          "execution_count": 13
        }
      ]
    },
    {
      "cell_type": "code",
      "source": [
        "train_df = pd.concat(df_list, axis=0).reset_index(drop=True)"
      ],
      "metadata": {
        "id": "oyrdPNtcleZx"
      },
      "execution_count": null,
      "outputs": []
    },
    {
      "cell_type": "code",
      "source": [
        "train_df"
      ],
      "metadata": {
        "colab": {
          "base_uri": "https://localhost:8080/",
          "height": 423
        },
        "id": "2SWlBN1M5QwG",
        "outputId": "453ba5a0-c2bb-4644-e399-8225e6010789"
      },
      "execution_count": null,
      "outputs": [
        {
          "output_type": "execute_result",
          "data": {
            "text/plain": [
              "              ID                 Date         1         2         3         4  \\\n",
              "0       D788034C  2021-11-28 00:00:00  0.981262  0.990319  0.979536  0.328138   \n",
              "1       D788034C  2021-11-28 00:00:01  0.962457  0.998730  0.998241  0.975713   \n",
              "2       D788034C  2021-11-28 00:00:02  0.986374  0.998717  0.997116  0.925132   \n",
              "3       D788034C  2021-11-28 00:00:03  0.974020  0.998734  0.998220  0.973949   \n",
              "4       D788034C  2021-11-28 00:00:04  0.982181  0.998724  0.997959  0.968855   \n",
              "...          ...                  ...       ...       ...       ...       ...   \n",
              "281496  F257DB06  2021-11-17 17:46:41  0.057448  0.001689  0.000070  0.079439   \n",
              "281497  F257DB06  2021-11-17 17:46:42  0.057815  0.001603  0.000069  0.079451   \n",
              "281498  F257DB06  2021-11-17 17:46:43  0.060785  0.001497  0.000066  0.077506   \n",
              "281499  F257DB06  2021-11-17 17:46:44  0.059896  0.001556  0.000068  0.078155   \n",
              "281500  F257DB06  2021-11-17 17:46:45  0.058858  0.001595  0.000069  0.078965   \n",
              "\n",
              "               5         6         7         8  \n",
              "0       0.985659  0.794406  0.967414  0.900350  \n",
              "1       0.868509  0.205135  0.993087  0.139415  \n",
              "2       0.966387  0.803887  0.993642  0.401863  \n",
              "3       0.870613  0.340489  0.994713  0.124057  \n",
              "4       0.912446  0.521101  0.995326  0.157700  \n",
              "...          ...       ...       ...       ...  \n",
              "281496  0.010539  0.052714  0.039905  0.004037  \n",
              "281497  0.010530  0.048433  0.038144  0.004177  \n",
              "281498  0.011072  0.041750  0.034849  0.004532  \n",
              "281499  0.010878  0.045338  0.036629  0.004357  \n",
              "281500  0.010701  0.047617  0.037766  0.004242  \n",
              "\n",
              "[281501 rows x 10 columns]"
            ],
            "text/html": [
              "\n",
              "  <div id=\"df-9c95c7c4-b095-4ed5-b6b8-c56bc7459dba\">\n",
              "    <div class=\"colab-df-container\">\n",
              "      <div>\n",
              "<style scoped>\n",
              "    .dataframe tbody tr th:only-of-type {\n",
              "        vertical-align: middle;\n",
              "    }\n",
              "\n",
              "    .dataframe tbody tr th {\n",
              "        vertical-align: top;\n",
              "    }\n",
              "\n",
              "    .dataframe thead th {\n",
              "        text-align: right;\n",
              "    }\n",
              "</style>\n",
              "<table border=\"1\" class=\"dataframe\">\n",
              "  <thead>\n",
              "    <tr style=\"text-align: right;\">\n",
              "      <th></th>\n",
              "      <th>ID</th>\n",
              "      <th>Date</th>\n",
              "      <th>1</th>\n",
              "      <th>2</th>\n",
              "      <th>3</th>\n",
              "      <th>4</th>\n",
              "      <th>5</th>\n",
              "      <th>6</th>\n",
              "      <th>7</th>\n",
              "      <th>8</th>\n",
              "    </tr>\n",
              "  </thead>\n",
              "  <tbody>\n",
              "    <tr>\n",
              "      <th>0</th>\n",
              "      <td>D788034C</td>\n",
              "      <td>2021-11-28 00:00:00</td>\n",
              "      <td>0.981262</td>\n",
              "      <td>0.990319</td>\n",
              "      <td>0.979536</td>\n",
              "      <td>0.328138</td>\n",
              "      <td>0.985659</td>\n",
              "      <td>0.794406</td>\n",
              "      <td>0.967414</td>\n",
              "      <td>0.900350</td>\n",
              "    </tr>\n",
              "    <tr>\n",
              "      <th>1</th>\n",
              "      <td>D788034C</td>\n",
              "      <td>2021-11-28 00:00:01</td>\n",
              "      <td>0.962457</td>\n",
              "      <td>0.998730</td>\n",
              "      <td>0.998241</td>\n",
              "      <td>0.975713</td>\n",
              "      <td>0.868509</td>\n",
              "      <td>0.205135</td>\n",
              "      <td>0.993087</td>\n",
              "      <td>0.139415</td>\n",
              "    </tr>\n",
              "    <tr>\n",
              "      <th>2</th>\n",
              "      <td>D788034C</td>\n",
              "      <td>2021-11-28 00:00:02</td>\n",
              "      <td>0.986374</td>\n",
              "      <td>0.998717</td>\n",
              "      <td>0.997116</td>\n",
              "      <td>0.925132</td>\n",
              "      <td>0.966387</td>\n",
              "      <td>0.803887</td>\n",
              "      <td>0.993642</td>\n",
              "      <td>0.401863</td>\n",
              "    </tr>\n",
              "    <tr>\n",
              "      <th>3</th>\n",
              "      <td>D788034C</td>\n",
              "      <td>2021-11-28 00:00:03</td>\n",
              "      <td>0.974020</td>\n",
              "      <td>0.998734</td>\n",
              "      <td>0.998220</td>\n",
              "      <td>0.973949</td>\n",
              "      <td>0.870613</td>\n",
              "      <td>0.340489</td>\n",
              "      <td>0.994713</td>\n",
              "      <td>0.124057</td>\n",
              "    </tr>\n",
              "    <tr>\n",
              "      <th>4</th>\n",
              "      <td>D788034C</td>\n",
              "      <td>2021-11-28 00:00:04</td>\n",
              "      <td>0.982181</td>\n",
              "      <td>0.998724</td>\n",
              "      <td>0.997959</td>\n",
              "      <td>0.968855</td>\n",
              "      <td>0.912446</td>\n",
              "      <td>0.521101</td>\n",
              "      <td>0.995326</td>\n",
              "      <td>0.157700</td>\n",
              "    </tr>\n",
              "    <tr>\n",
              "      <th>...</th>\n",
              "      <td>...</td>\n",
              "      <td>...</td>\n",
              "      <td>...</td>\n",
              "      <td>...</td>\n",
              "      <td>...</td>\n",
              "      <td>...</td>\n",
              "      <td>...</td>\n",
              "      <td>...</td>\n",
              "      <td>...</td>\n",
              "      <td>...</td>\n",
              "    </tr>\n",
              "    <tr>\n",
              "      <th>281496</th>\n",
              "      <td>F257DB06</td>\n",
              "      <td>2021-11-17 17:46:41</td>\n",
              "      <td>0.057448</td>\n",
              "      <td>0.001689</td>\n",
              "      <td>0.000070</td>\n",
              "      <td>0.079439</td>\n",
              "      <td>0.010539</td>\n",
              "      <td>0.052714</td>\n",
              "      <td>0.039905</td>\n",
              "      <td>0.004037</td>\n",
              "    </tr>\n",
              "    <tr>\n",
              "      <th>281497</th>\n",
              "      <td>F257DB06</td>\n",
              "      <td>2021-11-17 17:46:42</td>\n",
              "      <td>0.057815</td>\n",
              "      <td>0.001603</td>\n",
              "      <td>0.000069</td>\n",
              "      <td>0.079451</td>\n",
              "      <td>0.010530</td>\n",
              "      <td>0.048433</td>\n",
              "      <td>0.038144</td>\n",
              "      <td>0.004177</td>\n",
              "    </tr>\n",
              "    <tr>\n",
              "      <th>281498</th>\n",
              "      <td>F257DB06</td>\n",
              "      <td>2021-11-17 17:46:43</td>\n",
              "      <td>0.060785</td>\n",
              "      <td>0.001497</td>\n",
              "      <td>0.000066</td>\n",
              "      <td>0.077506</td>\n",
              "      <td>0.011072</td>\n",
              "      <td>0.041750</td>\n",
              "      <td>0.034849</td>\n",
              "      <td>0.004532</td>\n",
              "    </tr>\n",
              "    <tr>\n",
              "      <th>281499</th>\n",
              "      <td>F257DB06</td>\n",
              "      <td>2021-11-17 17:46:44</td>\n",
              "      <td>0.059896</td>\n",
              "      <td>0.001556</td>\n",
              "      <td>0.000068</td>\n",
              "      <td>0.078155</td>\n",
              "      <td>0.010878</td>\n",
              "      <td>0.045338</td>\n",
              "      <td>0.036629</td>\n",
              "      <td>0.004357</td>\n",
              "    </tr>\n",
              "    <tr>\n",
              "      <th>281500</th>\n",
              "      <td>F257DB06</td>\n",
              "      <td>2021-11-17 17:46:45</td>\n",
              "      <td>0.058858</td>\n",
              "      <td>0.001595</td>\n",
              "      <td>0.000069</td>\n",
              "      <td>0.078965</td>\n",
              "      <td>0.010701</td>\n",
              "      <td>0.047617</td>\n",
              "      <td>0.037766</td>\n",
              "      <td>0.004242</td>\n",
              "    </tr>\n",
              "  </tbody>\n",
              "</table>\n",
              "<p>281501 rows × 10 columns</p>\n",
              "</div>\n",
              "      <button class=\"colab-df-convert\" onclick=\"convertToInteractive('df-9c95c7c4-b095-4ed5-b6b8-c56bc7459dba')\"\n",
              "              title=\"Convert this dataframe to an interactive table.\"\n",
              "              style=\"display:none;\">\n",
              "        \n",
              "  <svg xmlns=\"http://www.w3.org/2000/svg\" height=\"24px\"viewBox=\"0 0 24 24\"\n",
              "       width=\"24px\">\n",
              "    <path d=\"M0 0h24v24H0V0z\" fill=\"none\"/>\n",
              "    <path d=\"M18.56 5.44l.94 2.06.94-2.06 2.06-.94-2.06-.94-.94-2.06-.94 2.06-2.06.94zm-11 1L8.5 8.5l.94-2.06 2.06-.94-2.06-.94L8.5 2.5l-.94 2.06-2.06.94zm10 10l.94 2.06.94-2.06 2.06-.94-2.06-.94-.94-2.06-.94 2.06-2.06.94z\"/><path d=\"M17.41 7.96l-1.37-1.37c-.4-.4-.92-.59-1.43-.59-.52 0-1.04.2-1.43.59L10.3 9.45l-7.72 7.72c-.78.78-.78 2.05 0 2.83L4 21.41c.39.39.9.59 1.41.59.51 0 1.02-.2 1.41-.59l7.78-7.78 2.81-2.81c.8-.78.8-2.07 0-2.86zM5.41 20L4 18.59l7.72-7.72 1.47 1.35L5.41 20z\"/>\n",
              "  </svg>\n",
              "      </button>\n",
              "      \n",
              "  <style>\n",
              "    .colab-df-container {\n",
              "      display:flex;\n",
              "      flex-wrap:wrap;\n",
              "      gap: 12px;\n",
              "    }\n",
              "\n",
              "    .colab-df-convert {\n",
              "      background-color: #E8F0FE;\n",
              "      border: none;\n",
              "      border-radius: 50%;\n",
              "      cursor: pointer;\n",
              "      display: none;\n",
              "      fill: #1967D2;\n",
              "      height: 32px;\n",
              "      padding: 0 0 0 0;\n",
              "      width: 32px;\n",
              "    }\n",
              "\n",
              "    .colab-df-convert:hover {\n",
              "      background-color: #E2EBFA;\n",
              "      box-shadow: 0px 1px 2px rgba(60, 64, 67, 0.3), 0px 1px 3px 1px rgba(60, 64, 67, 0.15);\n",
              "      fill: #174EA6;\n",
              "    }\n",
              "\n",
              "    [theme=dark] .colab-df-convert {\n",
              "      background-color: #3B4455;\n",
              "      fill: #D2E3FC;\n",
              "    }\n",
              "\n",
              "    [theme=dark] .colab-df-convert:hover {\n",
              "      background-color: #434B5C;\n",
              "      box-shadow: 0px 1px 3px 1px rgba(0, 0, 0, 0.15);\n",
              "      filter: drop-shadow(0px 1px 2px rgba(0, 0, 0, 0.3));\n",
              "      fill: #FFFFFF;\n",
              "    }\n",
              "  </style>\n",
              "\n",
              "      <script>\n",
              "        const buttonEl =\n",
              "          document.querySelector('#df-9c95c7c4-b095-4ed5-b6b8-c56bc7459dba button.colab-df-convert');\n",
              "        buttonEl.style.display =\n",
              "          google.colab.kernel.accessAllowed ? 'block' : 'none';\n",
              "\n",
              "        async function convertToInteractive(key) {\n",
              "          const element = document.querySelector('#df-9c95c7c4-b095-4ed5-b6b8-c56bc7459dba');\n",
              "          const dataTable =\n",
              "            await google.colab.kernel.invokeFunction('convertToInteractive',\n",
              "                                                     [key], {});\n",
              "          if (!dataTable) return;\n",
              "\n",
              "          const docLinkHtml = 'Like what you see? Visit the ' +\n",
              "            '<a target=\"_blank\" href=https://colab.research.google.com/notebooks/data_table.ipynb>data table notebook</a>'\n",
              "            + ' to learn more about interactive tables.';\n",
              "          element.innerHTML = '';\n",
              "          dataTable['output_type'] = 'display_data';\n",
              "          await google.colab.output.renderOutput(dataTable, element);\n",
              "          const docLink = document.createElement('div');\n",
              "          docLink.innerHTML = docLinkHtml;\n",
              "          element.appendChild(docLink);\n",
              "        }\n",
              "      </script>\n",
              "    </div>\n",
              "  </div>\n",
              "  "
            ]
          },
          "metadata": {},
          "execution_count": 15
        }
      ]
    },
    {
      "cell_type": "code",
      "source": [
        "df = train_df.iloc[:,2:]"
      ],
      "metadata": {
        "id": "jvD5hJlA6O4n"
      },
      "execution_count": null,
      "outputs": []
    },
    {
      "cell_type": "code",
      "source": [
        "# 99% of variance\n",
        "from sklearn.decomposition import PCA\n",
        "pca = PCA(n_components = 0.99)\n",
        "pca.fit(df)\n",
        "reduced = pca.transform(df)"
      ],
      "metadata": {
        "id": "v91-RWKj0iWs"
      },
      "execution_count": null,
      "outputs": []
    },
    {
      "cell_type": "code",
      "source": [
        "pca = PCA().fit(df)\n",
        "\n",
        "% matplotlib inline\n",
        "import matplotlib.pyplot as plt\n",
        "plt.rcParams[\"figure.figsize\"] = (12,6)\n",
        "\n",
        "fig, ax = plt.subplots()\n",
        "xi = np.arange(1, 9, step=1)\n",
        "y = np.cumsum(pca.explained_variance_ratio_)\n",
        "\n",
        "plt.ylim(0.0,1.1)\n",
        "plt.plot(xi, y, marker='o', linestyle='--', color='b')\n",
        "\n",
        "plt.xlabel('Number of Components')\n",
        "plt.xticks(np.arange(0, 9, step=1)) #change from 0-based array index to 1-based human-readable label\n",
        "plt.ylim(0.8, 1.0)\n",
        "plt.ylabel('Cumulative variance (%)')\n",
        "plt.title('The number of components needed to explain variance')\n",
        "\n",
        "plt.axhline(y=0.99, color='r', linestyle='-')\n",
        "plt.text(0.5, 0.975, '99% cut-off threshold', color = 'red', fontsize=16)\n",
        "\n",
        "ax.grid(axis='x')\n",
        "plt.show()"
      ],
      "metadata": {
        "colab": {
          "base_uri": "https://localhost:8080/",
          "height": 404
        },
        "outputId": "7f2f215e-46e1-49b2-ec0d-ee90e234759f",
        "id": "4GR7r_h_0iWt"
      },
      "execution_count": null,
      "outputs": [
        {
          "output_type": "display_data",
          "data": {
            "text/plain": [
              "<Figure size 864x432 with 1 Axes>"
            ],
            "image/png": "[encoded data removed]"
          },
          "metadata": {
            "needs_background": "light"
          }
        }
      ]
    },
    {
      "cell_type": "code",
      "source": [
        "# 95% of variance\n",
        "from sklearn.decomposition import PCA\n",
        "pca = PCA(n_components = 0.95)\n",
        "pca.fit(df)\n",
        "reduced = pca.transform(df)\n",
        "\n",
        "pca = PCA().fit(df)\n",
        "\n",
        "% matplotlib inline\n",
        "import matplotlib.pyplot as plt\n",
        "plt.rcParams[\"figure.figsize\"] = (12,6)\n",
        "\n",
        "fig, ax = plt.subplots()\n",
        "xi = np.arange(1, 9, step=1)\n",
        "y = np.cumsum(pca.explained_variance_ratio_)\n",
        "\n",
        "plt.ylim(0.0,1.1)\n",
        "plt.plot(xi, y, marker='o', linestyle='--', color='b')\n",
        "\n",
        "plt.xlabel('Number of Components')\n",
        "plt.xticks(np.arange(0, 9, step=1)) #change from 0-based array index to 1-based human-readable label\n",
        "plt.ylabel('Cumulative variance (%)')\n",
        "plt.title('The number of components needed to explain variance')\n",
        "\n",
        "plt.axhline(y=0.95, color='r', linestyle='-')\n",
        "plt.text(0.5, 0.85, '95% cut-off threshold', color = 'red', fontsize=16)\n",
        "\n",
        "ax.grid(axis='x')\n",
        "plt.show()"
      ],
      "metadata": {
        "colab": {
          "base_uri": "https://localhost:8080/",
          "height": 404
        },
        "id": "BQ60OfheFaEm",
        "outputId": "4d0ab8d3-7fa4-4f41-9d5a-2cbe739e6f50"
      },
      "execution_count": null,
      "outputs": [
        {
          "output_type": "display_data",
          "data": {
            "text/plain": [
              "<Figure size 864x432 with 1 Axes>"
            ],
            "image/png": "[encoded data removed]"
          },
          "metadata": {
            "needs_background": "light"
          }
        }
      ]
    },
    {
      "cell_type": "code",
      "source": [
        "from sklearn.decomposition import PCA\n",
        "pca = PCA(n_components=5) # 주성분을 몇개로 할지 결정\n",
        "printcipalComponents = pca.fit_transform(df)\n",
        "principalDf = pd.DataFrame(data=printcipalComponents, columns = ['pc1', 'pc2', 'pc3', 'pc4', 'pc5'])\n",
        "# 주성분으로 이루어진 데이터 프레임 구성"
      ],
      "metadata": {
        "id": "4jipSdatFc7V"
      },
      "execution_count": null,
      "outputs": []
    },
    {
      "cell_type": "code",
      "source": [
        "principalDf.head()"
      ],
      "metadata": {
        "colab": {
          "base_uri": "https://localhost:8080/",
          "height": 206
        },
        "id": "APhht7QgFlx3",
        "outputId": "1aace7ce-d05e-4883-ec17-e60c2290d71b"
      },
      "execution_count": null,
      "outputs": [
        {
          "output_type": "execute_result",
          "data": {
            "text/plain": [
              "        pc1       pc2       pc3       pc4       pc5\n",
              "0 -0.682777  0.334311 -0.064311  0.214538 -0.049890\n",
              "1 -0.342487  0.299900  0.891635 -0.295557  0.019413\n",
              "2 -0.523201  0.528016  0.554812  0.035131 -0.320069\n",
              "3 -0.359934  0.393394  0.849294 -0.253693 -0.044012\n",
              "4 -0.408272  0.479833  0.768564 -0.174577 -0.152826"
            ],
            "text/html": [
              "\n",
              "  <div id=\"df-7a669bbe-62c3-4f38-85ac-2fecc6413eef\">\n",
              "    <div class=\"colab-df-container\">\n",
              "      <div>\n",
              "<style scoped>\n",
              "    .dataframe tbody tr th:only-of-type {\n",
              "        vertical-align: middle;\n",
              "    }\n",
              "\n",
              "    .dataframe tbody tr th {\n",
              "        vertical-align: top;\n",
              "    }\n",
              "\n",
              "    .dataframe thead th {\n",
              "        text-align: right;\n",
              "    }\n",
              "</style>\n",
              "<table border=\"1\" class=\"dataframe\">\n",
              "  <thead>\n",
              "    <tr style=\"text-align: right;\">\n",
              "      <th></th>\n",
              "      <th>pc1</th>\n",
              "      <th>pc2</th>\n",
              "      <th>pc3</th>\n",
              "      <th>pc4</th>\n",
              "      <th>pc5</th>\n",
              "    </tr>\n",
              "  </thead>\n",
              "  <tbody>\n",
              "    <tr>\n",
              "      <th>0</th>\n",
              "      <td>-0.682777</td>\n",
              "      <td>0.334311</td>\n",
              "      <td>-0.064311</td>\n",
              "      <td>0.214538</td>\n",
              "      <td>-0.049890</td>\n",
              "    </tr>\n",
              "    <tr>\n",
              "      <th>1</th>\n",
              "      <td>-0.342487</td>\n",
              "      <td>0.299900</td>\n",
              "      <td>0.891635</td>\n",
              "      <td>-0.295557</td>\n",
              "      <td>0.019413</td>\n",
              "    </tr>\n",
              "    <tr>\n",
              "      <th>2</th>\n",
              "      <td>-0.523201</td>\n",
              "      <td>0.528016</td>\n",
              "      <td>0.554812</td>\n",
              "      <td>0.035131</td>\n",
              "      <td>-0.320069</td>\n",
              "    </tr>\n",
              "    <tr>\n",
              "      <th>3</th>\n",
              "      <td>-0.359934</td>\n",
              "      <td>0.393394</td>\n",
              "      <td>0.849294</td>\n",
              "      <td>-0.253693</td>\n",
              "      <td>-0.044012</td>\n",
              "    </tr>\n",
              "    <tr>\n",
              "      <th>4</th>\n",
              "      <td>-0.408272</td>\n",
              "      <td>0.479833</td>\n",
              "      <td>0.768564</td>\n",
              "      <td>-0.174577</td>\n",
              "      <td>-0.152826</td>\n",
              "    </tr>\n",
              "  </tbody>\n",
              "</table>\n",
              "</div>\n",
              "      <button class=\"colab-df-convert\" onclick=\"convertToInteractive('df-7a669bbe-62c3-4f38-85ac-2fecc6413eef')\"\n",
              "              title=\"Convert this dataframe to an interactive table.\"\n",
              "              style=\"display:none;\">\n",
              "        \n",
              "  <svg xmlns=\"http://www.w3.org/2000/svg\" height=\"24px\"viewBox=\"0 0 24 24\"\n",
              "       width=\"24px\">\n",
              "    <path d=\"M0 0h24v24H0V0z\" fill=\"none\"/>\n",
              "    <path d=\"M18.56 5.44l.94 2.06.94-2.06 2.06-.94-2.06-.94-.94-2.06-.94 2.06-2.06.94zm-11 1L8.5 8.5l.94-2.06 2.06-.94-2.06-.94L8.5 2.5l-.94 2.06-2.06.94zm10 10l.94 2.06.94-2.06 2.06-.94-2.06-.94-.94-2.06-.94 2.06-2.06.94z\"/><path d=\"M17.41 7.96l-1.37-1.37c-.4-.4-.92-.59-1.43-.59-.52 0-1.04.2-1.43.59L10.3 9.45l-7.72 7.72c-.78.78-.78 2.05 0 2.83L4 21.41c.39.39.9.59 1.41.59.51 0 1.02-.2 1.41-.59l7.78-7.78 2.81-2.81c.8-.78.8-2.07 0-2.86zM5.41 20L4 18.59l7.72-7.72 1.47 1.35L5.41 20z\"/>\n",
              "  </svg>\n",
              "      </button>\n",
              "      \n",
              "  <style>\n",
              "    .colab-df-container {\n",
              "      display:flex;\n",
              "      flex-wrap:wrap;\n",
              "      gap: 12px;\n",
              "    }\n",
              "\n",
              "    .colab-df-convert {\n",
              "      background-color: #E8F0FE;\n",
              "      border: none;\n",
              "      border-radius: 50%;\n",
              "      cursor: pointer;\n",
              "      display: none;\n",
              "      fill: #1967D2;\n",
              "      height: 32px;\n",
              "      padding: 0 0 0 0;\n",
              "      width: 32px;\n",
              "    }\n",
              "\n",
              "    .colab-df-convert:hover {\n",
              "      background-color: #E2EBFA;\n",
              "      box-shadow: 0px 1px 2px rgba(60, 64, 67, 0.3), 0px 1px 3px 1px rgba(60, 64, 67, 0.15);\n",
              "      fill: #174EA6;\n",
              "    }\n",
              "\n",
              "    [theme=dark] .colab-df-convert {\n",
              "      background-color: #3B4455;\n",
              "      fill: #D2E3FC;\n",
              "    }\n",
              "\n",
              "    [theme=dark] .colab-df-convert:hover {\n",
              "      background-color: #434B5C;\n",
              "      box-shadow: 0px 1px 3px 1px rgba(0, 0, 0, 0.15);\n",
              "      filter: drop-shadow(0px 1px 2px rgba(0, 0, 0, 0.3));\n",
              "      fill: #FFFFFF;\n",
              "    }\n",
              "  </style>\n",
              "\n",
              "      <script>\n",
              "        const buttonEl =\n",
              "          document.querySelector('#df-7a669bbe-62c3-4f38-85ac-2fecc6413eef button.colab-df-convert');\n",
              "        buttonEl.style.display =\n",
              "          google.colab.kernel.accessAllowed ? 'block' : 'none';\n",
              "\n",
              "        async function convertToInteractive(key) {\n",
              "          const element = document.querySelector('#df-7a669bbe-62c3-4f38-85ac-2fecc6413eef');\n",
              "          const dataTable =\n",
              "            await google.colab.kernel.invokeFunction('convertToInteractive',\n",
              "                                                     [key], {});\n",
              "          if (!dataTable) return;\n",
              "\n",
              "          const docLinkHtml = 'Like what you see? Visit the ' +\n",
              "            '<a target=\"_blank\" href=https://colab.research.google.com/notebooks/data_table.ipynb>data table notebook</a>'\n",
              "            + ' to learn more about interactive tables.';\n",
              "          element.innerHTML = '';\n",
              "          dataTable['output_type'] = 'display_data';\n",
              "          await google.colab.output.renderOutput(dataTable, element);\n",
              "          const docLink = document.createElement('div');\n",
              "          docLink.innerHTML = docLinkHtml;\n",
              "          element.appendChild(docLink);\n",
              "        }\n",
              "      </script>\n",
              "    </div>\n",
              "  </div>\n",
              "  "
            ]
          },
          "metadata": {},
          "execution_count": 21
        }
      ]
    },
    {
      "cell_type": "code",
      "source": [
        "pca.explained_variance_ratio_"
      ],
      "metadata": {
        "colab": {
          "base_uri": "https://localhost:8080/"
        },
        "id": "BlDAtNmbFpLC",
        "outputId": "bd989909-217b-4569-a965-872cffbc1992"
      },
      "execution_count": null,
      "outputs": [
        {
          "output_type": "execute_result",
          "data": {
            "text/plain": [
              "array([0.43602474, 0.24302346, 0.18595669, 0.05851023, 0.03012989])"
            ]
          },
          "metadata": {},
          "execution_count": 22
        }
      ]
    },
    {
      "cell_type": "code",
      "source": [
        "sum(pca.explained_variance_ratio_) # 해당 주성분으로 데이터 분산을 약 95% 설명 가능하다."
      ],
      "metadata": {
        "colab": {
          "base_uri": "https://localhost:8080/"
        },
        "id": "2c53jScuFrL7",
        "outputId": "f124bc04-1fc3-4bbe-81dd-3fb548d70a6f"
      },
      "execution_count": null,
      "outputs": [
        {
          "output_type": "execute_result",
          "data": {
            "text/plain": [
              "0.9536450150935167"
            ]
          },
          "metadata": {},
          "execution_count": 23
        }
      ]
    },
    {
      "cell_type": "code",
      "source": [
        "from sklearn.cluster import KMeans\n",
        "from yellowbrick.cluster import KElbowVisualizer\n",
        "from sklearn.preprocessing import MinMaxScaler\n",
        "\n",
        "model = KMeans()\n",
        "visualizer = KElbowVisualizer(model, k=(2,12))\n",
        "visualizer.fit(df)\n",
        "visualizer.show()"
      ],
      "metadata": {
        "colab": {
          "base_uri": "https://localhost:8080/",
          "height": 394
        },
        "id": "OdF7GDCnhBDn",
        "outputId": "2a54f888-26bd-494b-bf2f-164d1da29757"
      },
      "execution_count": null,
      "outputs": [
        {
          "output_type": "display_data",
          "data": {
            "text/plain": [
              "<Figure size 576x396 with 2 Axes>"
            ],
            "image/png": "[encoded data removed]"
          },
          "metadata": {}
        },
        {
          "output_type": "execute_result",
          "data": {
            "text/plain": [
              "<matplotlib.axes._subplots.AxesSubplot at 0x7faf783e4cd0>"
            ]
          },
          "metadata": {},
          "execution_count": 24
        }
      ]
    },
    {
      "cell_type": "code",
      "source": [
        "n_clusters = visualizer.elbow_value_\n",
        "n_clusters"
      ],
      "metadata": {
        "id": "LAHtl4wM540S",
        "colab": {
          "base_uri": "https://localhost:8080/"
        },
        "outputId": "e0ecf243-8aff-4962-a1f8-80745182faee"
      },
      "execution_count": null,
      "outputs": [
        {
          "output_type": "execute_result",
          "data": {
            "text/plain": [
              "6"
            ]
          },
          "metadata": {},
          "execution_count": 25
        }
      ]
    },
    {
      "cell_type": "code",
      "source": [
        "n_clusters = 7"
      ],
      "metadata": {
        "id": "l2ziHNrUaHV2"
      },
      "execution_count": null,
      "outputs": []
    },
    {
      "cell_type": "code",
      "source": [
        "from sklearn.cluster import KMeans\n",
        "Kmean = KMeans(n_clusters=n_clusters)\n",
        "Kmean.fit(df)"
      ],
      "metadata": {
        "colab": {
          "base_uri": "https://localhost:8080/"
        },
        "id": "v7kt5ExUE0ul",
        "outputId": "c00ad192-199a-45e5-d1bc-8ae63cb97fb6"
      },
      "execution_count": null,
      "outputs": [
        {
          "output_type": "execute_result",
          "data": {
            "text/plain": [
              "KMeans(n_clusters=7)"
            ]
          },
          "metadata": {},
          "execution_count": 27
        }
      ]
    },
    {
      "cell_type": "code",
      "source": [
        "train_df['class'] = Kmean.predict(df)"
      ],
      "metadata": {
        "id": "WSZtGb_cqSvD"
      },
      "execution_count": null,
      "outputs": []
    },
    {
      "cell_type": "code",
      "source": [
        "train_df.head()"
      ],
      "metadata": {
        "colab": {
          "base_uri": "https://localhost:8080/",
          "height": 206
        },
        "id": "Uxyc5xmnq1zF",
        "outputId": "27916277-fb97-4269-c71f-7ab43e90e69a"
      },
      "execution_count": null,
      "outputs": [
        {
          "output_type": "execute_result",
          "data": {
            "text/plain": [
              "         ID                 Date         1         2         3         4  \\\n",
              "0  D788034C  2021-11-28 00:00:00  0.981262  0.990319  0.979536  0.328138   \n",
              "1  D788034C  2021-11-28 00:00:01  0.962457  0.998730  0.998241  0.975713   \n",
              "2  D788034C  2021-11-28 00:00:02  0.986374  0.998717  0.997116  0.925132   \n",
              "3  D788034C  2021-11-28 00:00:03  0.974020  0.998734  0.998220  0.973949   \n",
              "4  D788034C  2021-11-28 00:00:04  0.982181  0.998724  0.997959  0.968855   \n",
              "\n",
              "          5         6         7         8  class  \n",
              "0  0.985659  0.794406  0.967414  0.900350      5  \n",
              "1  0.868509  0.205135  0.993087  0.139415      2  \n",
              "2  0.966387  0.803887  0.993642  0.401863      2  \n",
              "3  0.870613  0.340489  0.994713  0.124057      2  \n",
              "4  0.912446  0.521101  0.995326  0.157700      2  "
            ],
            "text/html": [
              "\n",
              "  <div id=\"df-e831501f-743a-4f0d-84a7-358ae37faa73\">\n",
              "    <div class=\"colab-df-container\">\n",
              "      <div>\n",
              "<style scoped>\n",
              "    .dataframe tbody tr th:only-of-type {\n",
              "        vertical-align: middle;\n",
              "    }\n",
              "\n",
              "    .dataframe tbody tr th {\n",
              "        vertical-align: top;\n",
              "    }\n",
              "\n",
              "    .dataframe thead th {\n",
              "        text-align: right;\n",
              "    }\n",
              "</style>\n",
              "<table border=\"1\" class=\"dataframe\">\n",
              "  <thead>\n",
              "    <tr style=\"text-align: right;\">\n",
              "      <th></th>\n",
              "      <th>ID</th>\n",
              "      <th>Date</th>\n",
              "      <th>1</th>\n",
              "      <th>2</th>\n",
              "      <th>3</th>\n",
              "      <th>4</th>\n",
              "      <th>5</th>\n",
              "      <th>6</th>\n",
              "      <th>7</th>\n",
              "      <th>8</th>\n",
              "      <th>class</th>\n",
              "    </tr>\n",
              "  </thead>\n",
              "  <tbody>\n",
              "    <tr>\n",
              "      <th>0</th>\n",
              "      <td>D788034C</td>\n",
              "      <td>2021-11-28 00:00:00</td>\n",
              "      <td>0.981262</td>\n",
              "      <td>0.990319</td>\n",
              "      <td>0.979536</td>\n",
              "      <td>0.328138</td>\n",
              "      <td>0.985659</td>\n",
              "      <td>0.794406</td>\n",
              "      <td>0.967414</td>\n",
              "      <td>0.900350</td>\n",
              "      <td>5</td>\n",
              "    </tr>\n",
              "    <tr>\n",
              "      <th>1</th>\n",
              "      <td>D788034C</td>\n",
              "      <td>2021-11-28 00:00:01</td>\n",
              "      <td>0.962457</td>\n",
              "      <td>0.998730</td>\n",
              "      <td>0.998241</td>\n",
              "      <td>0.975713</td>\n",
              "      <td>0.868509</td>\n",
              "      <td>0.205135</td>\n",
              "      <td>0.993087</td>\n",
              "      <td>0.139415</td>\n",
              "      <td>2</td>\n",
              "    </tr>\n",
              "    <tr>\n",
              "      <th>2</th>\n",
              "      <td>D788034C</td>\n",
              "      <td>2021-11-28 00:00:02</td>\n",
              "      <td>0.986374</td>\n",
              "      <td>0.998717</td>\n",
              "      <td>0.997116</td>\n",
              "      <td>0.925132</td>\n",
              "      <td>0.966387</td>\n",
              "      <td>0.803887</td>\n",
              "      <td>0.993642</td>\n",
              "      <td>0.401863</td>\n",
              "      <td>2</td>\n",
              "    </tr>\n",
              "    <tr>\n",
              "      <th>3</th>\n",
              "      <td>D788034C</td>\n",
              "      <td>2021-11-28 00:00:03</td>\n",
              "      <td>0.974020</td>\n",
              "      <td>0.998734</td>\n",
              "      <td>0.998220</td>\n",
              "      <td>0.973949</td>\n",
              "      <td>0.870613</td>\n",
              "      <td>0.340489</td>\n",
              "      <td>0.994713</td>\n",
              "      <td>0.124057</td>\n",
              "      <td>2</td>\n",
              "    </tr>\n",
              "    <tr>\n",
              "      <th>4</th>\n",
              "      <td>D788034C</td>\n",
              "      <td>2021-11-28 00:00:04</td>\n",
              "      <td>0.982181</td>\n",
              "      <td>0.998724</td>\n",
              "      <td>0.997959</td>\n",
              "      <td>0.968855</td>\n",
              "      <td>0.912446</td>\n",
              "      <td>0.521101</td>\n",
              "      <td>0.995326</td>\n",
              "      <td>0.157700</td>\n",
              "      <td>2</td>\n",
              "    </tr>\n",
              "  </tbody>\n",
              "</table>\n",
              "</div>\n",
              "      <button class=\"colab-df-convert\" onclick=\"convertToInteractive('df-e831501f-743a-4f0d-84a7-358ae37faa73')\"\n",
              "              title=\"Convert this dataframe to an interactive table.\"\n",
              "              style=\"display:none;\">\n",
              "        \n",
              "  <svg xmlns=\"http://www.w3.org/2000/svg\" height=\"24px\"viewBox=\"0 0 24 24\"\n",
              "       width=\"24px\">\n",
              "    <path d=\"M0 0h24v24H0V0z\" fill=\"none\"/>\n",
              "    <path d=\"M18.56 5.44l.94 2.06.94-2.06 2.06-.94-2.06-.94-.94-2.06-.94 2.06-2.06.94zm-11 1L8.5 8.5l.94-2.06 2.06-.94-2.06-.94L8.5 2.5l-.94 2.06-2.06.94zm10 10l.94 2.06.94-2.06 2.06-.94-2.06-.94-.94-2.06-.94 2.06-2.06.94z\"/><path d=\"M17.41 7.96l-1.37-1.37c-.4-.4-.92-.59-1.43-.59-.52 0-1.04.2-1.43.59L10.3 9.45l-7.72 7.72c-.78.78-.78 2.05 0 2.83L4 21.41c.39.39.9.59 1.41.59.51 0 1.02-.2 1.41-.59l7.78-7.78 2.81-2.81c.8-.78.8-2.07 0-2.86zM5.41 20L4 18.59l7.72-7.72 1.47 1.35L5.41 20z\"/>\n",
              "  </svg>\n",
              "      </button>\n",
              "      \n",
              "  <style>\n",
              "    .colab-df-container {\n",
              "      display:flex;\n",
              "      flex-wrap:wrap;\n",
              "      gap: 12px;\n",
              "    }\n",
              "\n",
              "    .colab-df-convert {\n",
              "      background-color: #E8F0FE;\n",
              "      border: none;\n",
              "      border-radius: 50%;\n",
              "      cursor: pointer;\n",
              "      display: none;\n",
              "      fill: #1967D2;\n",
              "      height: 32px;\n",
              "      padding: 0 0 0 0;\n",
              "      width: 32px;\n",
              "    }\n",
              "\n",
              "    .colab-df-convert:hover {\n",
              "      background-color: #E2EBFA;\n",
              "      box-shadow: 0px 1px 2px rgba(60, 64, 67, 0.3), 0px 1px 3px 1px rgba(60, 64, 67, 0.15);\n",
              "      fill: #174EA6;\n",
              "    }\n",
              "\n",
              "    [theme=dark] .colab-df-convert {\n",
              "      background-color: #3B4455;\n",
              "      fill: #D2E3FC;\n",
              "    }\n",
              "\n",
              "    [theme=dark] .colab-df-convert:hover {\n",
              "      background-color: #434B5C;\n",
              "      box-shadow: 0px 1px 3px 1px rgba(0, 0, 0, 0.15);\n",
              "      filter: drop-shadow(0px 1px 2px rgba(0, 0, 0, 0.3));\n",
              "      fill: #FFFFFF;\n",
              "    }\n",
              "  </style>\n",
              "\n",
              "      <script>\n",
              "        const buttonEl =\n",
              "          document.querySelector('#df-e831501f-743a-4f0d-84a7-358ae37faa73 button.colab-df-convert');\n",
              "        buttonEl.style.display =\n",
              "          google.colab.kernel.accessAllowed ? 'block' : 'none';\n",
              "\n",
              "        async function convertToInteractive(key) {\n",
              "          const element = document.querySelector('#df-e831501f-743a-4f0d-84a7-358ae37faa73');\n",
              "          const dataTable =\n",
              "            await google.colab.kernel.invokeFunction('convertToInteractive',\n",
              "                                                     [key], {});\n",
              "          if (!dataTable) return;\n",
              "\n",
              "          const docLinkHtml = 'Like what you see? Visit the ' +\n",
              "            '<a target=\"_blank\" href=https://colab.research.google.com/notebooks/data_table.ipynb>data table notebook</a>'\n",
              "            + ' to learn more about interactive tables.';\n",
              "          element.innerHTML = '';\n",
              "          dataTable['output_type'] = 'display_data';\n",
              "          await google.colab.output.renderOutput(dataTable, element);\n",
              "          const docLink = document.createElement('div');\n",
              "          docLink.innerHTML = docLinkHtml;\n",
              "          element.appendChild(docLink);\n",
              "        }\n",
              "      </script>\n",
              "    </div>\n",
              "  </div>\n",
              "  "
            ]
          },
          "metadata": {},
          "execution_count": 29
        }
      ]
    },
    {
      "cell_type": "code",
      "source": [
        "coordinate = Kmean.cluster_centers_\n",
        "coordinate"
      ],
      "metadata": {
        "colab": {
          "base_uri": "https://localhost:8080/"
        },
        "id": "PSqPVLYDOINP",
        "outputId": "d90a48cb-b062-411a-d2f9-25d7df31f0d1"
      },
      "execution_count": null,
      "outputs": [
        {
          "output_type": "execute_result",
          "data": {
            "text/plain": [
              "array([[0.98627174, 0.93577504, 0.7330441 , 0.08665153, 0.99239486,\n",
              "        0.24302796, 0.36510167, 0.9897877 ],\n",
              "       [0.62402374, 0.12118542, 0.08813834, 0.45557457, 0.95656085,\n",
              "        0.04927278, 0.00674778, 0.979539  ],\n",
              "       [0.97800153, 0.9738443 , 0.8542514 , 0.7914122 , 0.6426414 ,\n",
              "        0.8372433 , 0.99346006, 0.16280526],\n",
              "       [0.78850996, 0.9042375 , 0.99107826, 0.85562587, 0.9661484 ,\n",
              "        0.05268013, 0.5075583 , 0.9539828 ],\n",
              "       [0.01354194, 0.0602991 , 0.02589363, 0.7847567 , 0.003465  ,\n",
              "        0.01247182, 0.28751346, 0.0040884 ],\n",
              "       [0.97927403, 0.9633713 , 0.68432415, 0.10647333, 0.9741149 ,\n",
              "        0.86404395, 0.83569145, 0.78786886],\n",
              "       [0.00402611, 0.01616621, 0.24644631, 0.13860118, 0.09996217,\n",
              "        0.9874741 , 0.2907063 , 0.6424031 ]], dtype=float32)"
            ]
          },
          "metadata": {},
          "execution_count": 30
        }
      ]
    },
    {
      "cell_type": "code",
      "source": [
        "from yellowbrick.cluster import InterclusterDistance\n",
        "model = Kmean\n",
        "visualizer = InterclusterDistance(model, size=(3000, 3000), random_state=np.random.RandomState(seed=11), legend=False)\n",
        "\n",
        "visualizer.fit(df)\n",
        "visualizer"
      ],
      "metadata": {
        "colab": {
          "base_uri": "https://localhost:8080/",
          "height": 1000
        },
        "id": "56-fw_Uono10",
        "outputId": "e863aa5e-5848-437c-dbfb-359aba2093f4"
      },
      "execution_count": null,
      "outputs": [
        {
          "output_type": "stream",
          "name": "stderr",
          "text": [
            "/usr/local/lib/python3.7/dist-packages/sklearn/base.py:451: UserWarning: X does not have valid feature names, but KMeans was fitted with feature names\n",
            "  \"X does not have valid feature names, but\"\n"
          ]
        },
        {
          "output_type": "execute_result",
          "data": {
            "text/plain": [
              "InterclusterDistance(ax=<matplotlib.axes._subplots.AxesSubplot object at 0x7faf77a1e0d0>,\n",
              "                     estimator=KMeans(n_clusters=7), legend=False,\n",
              "                     random_state=RandomState(MT19937) at 0x7FAF77AB25A0)"
            ]
          },
          "metadata": {},
          "execution_count": 31
        },
        {
          "output_type": "display_data",
          "data": {
            "text/plain": [
              "<Figure size 3000x3000 with 1 Axes>"
            ],
            "image/png": "[encoded data removed]"
          },
          "metadata": {}
        }
      ]
    },
    {
      "cell_type": "code",
      "source": [
        "train_df['class'].value_counts()"
      ],
      "metadata": {
        "colab": {
          "base_uri": "https://localhost:8080/"
        },
        "id": "_NZ6wqIvAImZ",
        "outputId": "ed03e1cd-8775-4dce-8590-6b5cd8530550"
      },
      "execution_count": null,
      "outputs": [
        {
          "output_type": "execute_result",
          "data": {
            "text/plain": [
              "2    67982\n",
              "0    61171\n",
              "6    52146\n",
              "4    32499\n",
              "3    24613\n",
              "1    23226\n",
              "5    19864\n",
              "Name: class, dtype: int64"
            ]
          },
          "metadata": {},
          "execution_count": 33
        }
      ]
    },
    {
      "cell_type": "markdown",
      "source": [
        "# DATE 로 class 와 위치 좌표 붙이기"
      ],
      "metadata": {
        "id": "GLjY-yxlvh1L"
      }
    },
    {
      "cell_type": "code",
      "source": [
        "!mkdir dataset"
      ],
      "metadata": {
        "id": "jiHE9eff77lz"
      },
      "execution_count": null,
      "outputs": []
    },
    {
      "cell_type": "code",
      "source": [
        "!unzip /content/gdrive/MyDrive/temp/별따러가자/drive-download-20220421T061809Z-001.zip -d ./dataset"
      ],
      "metadata": {
        "colab": {
          "base_uri": "https://localhost:8080/"
        },
        "id": "5JBHGbJ6yj7i",
        "outputId": "af453649-0d69-4081-9452-39d4d10deebf"
      },
      "execution_count": null,
      "outputs": [
        {
          "output_type": "stream",
          "name": "stdout",
          "text": [
            "Archive:  /content/gdrive/MyDrive/temp/별따러가자/drive-download-20220421T061809Z-001.zip\n",
            "  inflating: ./dataset/88826FAB.csv  \n",
            "  inflating: ./dataset/D30C299A.csv  \n",
            "  inflating: ./dataset/B95FBB89.csv  \n",
            "  inflating: ./dataset/912BB33B.csv  \n",
            "  inflating: ./dataset/483AA738.csv  \n",
            "  inflating: ./dataset/A50AF373.csv  \n",
            "  inflating: ./dataset/8C7E7A17.csv  \n",
            "  inflating: ./dataset/D788034C.csv  \n",
            "  inflating: ./dataset/A77E8CE3.csv  \n",
            "  inflating: ./dataset/1DBEBE62.csv  \n",
            "  inflating: ./dataset/570AA81D.csv  \n",
            "  inflating: ./dataset/DB7B0571.csv  \n",
            "  inflating: ./dataset/9EECBC9A.csv  \n",
            "  inflating: ./dataset/8E640374.csv  \n"
          ]
        }
      ]
    },
    {
      "cell_type": "code",
      "source": [
        "!unzip /content/gdrive/MyDrive/temp/별따러가자/drive-download-20220421T061809Z-002.zip -d ./dataset"
      ],
      "metadata": {
        "colab": {
          "base_uri": "https://localhost:8080/"
        },
        "id": "s8OHThz6ypJg",
        "outputId": "fe770e78-8fcb-4cbd-cb34-ab0a786db4b1"
      },
      "execution_count": null,
      "outputs": [
        {
          "output_type": "stream",
          "name": "stdout",
          "text": [
            "Archive:  /content/gdrive/MyDrive/temp/별따러가자/drive-download-20220421T061809Z-002.zip\n",
            "  inflating: ./dataset/4E34891D.csv  \n",
            "  inflating: ./dataset/649508BF.csv  \n",
            "  inflating: ./dataset/F0A475A1.csv  \n",
            "  inflating: ./dataset/F257DB06.csv  \n",
            "  inflating: ./dataset/F0A475A1_2.csv  \n"
          ]
        }
      ]
    },
    {
      "cell_type": "code",
      "source": [
        "train_df.head()"
      ],
      "metadata": {
        "colab": {
          "base_uri": "https://localhost:8080/",
          "height": 206
        },
        "id": "4we16Ks9ytiq",
        "outputId": "c1c352aa-67d4-47e5-f5d9-f8b57b1f89b0"
      },
      "execution_count": null,
      "outputs": [
        {
          "output_type": "execute_result",
          "data": {
            "text/plain": [
              "         ID                 Date         1         2         3         4  \\\n",
              "0  D788034C  2021-11-28 00:00:00  0.981262  0.990319  0.979536  0.328138   \n",
              "1  D788034C  2021-11-28 00:00:01  0.962457  0.998730  0.998241  0.975713   \n",
              "2  D788034C  2021-11-28 00:00:02  0.986374  0.998717  0.997116  0.925132   \n",
              "3  D788034C  2021-11-28 00:00:03  0.974020  0.998734  0.998220  0.973949   \n",
              "4  D788034C  2021-11-28 00:00:04  0.982181  0.998724  0.997959  0.968855   \n",
              "\n",
              "          5         6         7         8  class  \n",
              "0  0.985659  0.794406  0.967414  0.900350      0  \n",
              "1  0.868509  0.205135  0.993087  0.139415      4  \n",
              "2  0.966387  0.803887  0.993642  0.401863      4  \n",
              "3  0.870613  0.340489  0.994713  0.124057      4  \n",
              "4  0.912446  0.521101  0.995326  0.157700      4  "
            ],
            "text/html": [
              "\n",
              "  <div id=\"df-be0afb20-5850-415a-ba93-d081d9f76f27\">\n",
              "    <div class=\"colab-df-container\">\n",
              "      <div>\n",
              "<style scoped>\n",
              "    .dataframe tbody tr th:only-of-type {\n",
              "        vertical-align: middle;\n",
              "    }\n",
              "\n",
              "    .dataframe tbody tr th {\n",
              "        vertical-align: top;\n",
              "    }\n",
              "\n",
              "    .dataframe thead th {\n",
              "        text-align: right;\n",
              "    }\n",
              "</style>\n",
              "<table border=\"1\" class=\"dataframe\">\n",
              "  <thead>\n",
              "    <tr style=\"text-align: right;\">\n",
              "      <th></th>\n",
              "      <th>ID</th>\n",
              "      <th>Date</th>\n",
              "      <th>1</th>\n",
              "      <th>2</th>\n",
              "      <th>3</th>\n",
              "      <th>4</th>\n",
              "      <th>5</th>\n",
              "      <th>6</th>\n",
              "      <th>7</th>\n",
              "      <th>8</th>\n",
              "      <th>class</th>\n",
              "    </tr>\n",
              "  </thead>\n",
              "  <tbody>\n",
              "    <tr>\n",
              "      <th>0</th>\n",
              "      <td>D788034C</td>\n",
              "      <td>2021-11-28 00:00:00</td>\n",
              "      <td>0.981262</td>\n",
              "      <td>0.990319</td>\n",
              "      <td>0.979536</td>\n",
              "      <td>0.328138</td>\n",
              "      <td>0.985659</td>\n",
              "      <td>0.794406</td>\n",
              "      <td>0.967414</td>\n",
              "      <td>0.900350</td>\n",
              "      <td>0</td>\n",
              "    </tr>\n",
              "    <tr>\n",
              "      <th>1</th>\n",
              "      <td>D788034C</td>\n",
              "      <td>2021-11-28 00:00:01</td>\n",
              "      <td>0.962457</td>\n",
              "      <td>0.998730</td>\n",
              "      <td>0.998241</td>\n",
              "      <td>0.975713</td>\n",
              "      <td>0.868509</td>\n",
              "      <td>0.205135</td>\n",
              "      <td>0.993087</td>\n",
              "      <td>0.139415</td>\n",
              "      <td>4</td>\n",
              "    </tr>\n",
              "    <tr>\n",
              "      <th>2</th>\n",
              "      <td>D788034C</td>\n",
              "      <td>2021-11-28 00:00:02</td>\n",
              "      <td>0.986374</td>\n",
              "      <td>0.998717</td>\n",
              "      <td>0.997116</td>\n",
              "      <td>0.925132</td>\n",
              "      <td>0.966387</td>\n",
              "      <td>0.803887</td>\n",
              "      <td>0.993642</td>\n",
              "      <td>0.401863</td>\n",
              "      <td>4</td>\n",
              "    </tr>\n",
              "    <tr>\n",
              "      <th>3</th>\n",
              "      <td>D788034C</td>\n",
              "      <td>2021-11-28 00:00:03</td>\n",
              "      <td>0.974020</td>\n",
              "      <td>0.998734</td>\n",
              "      <td>0.998220</td>\n",
              "      <td>0.973949</td>\n",
              "      <td>0.870613</td>\n",
              "      <td>0.340489</td>\n",
              "      <td>0.994713</td>\n",
              "      <td>0.124057</td>\n",
              "      <td>4</td>\n",
              "    </tr>\n",
              "    <tr>\n",
              "      <th>4</th>\n",
              "      <td>D788034C</td>\n",
              "      <td>2021-11-28 00:00:04</td>\n",
              "      <td>0.982181</td>\n",
              "      <td>0.998724</td>\n",
              "      <td>0.997959</td>\n",
              "      <td>0.968855</td>\n",
              "      <td>0.912446</td>\n",
              "      <td>0.521101</td>\n",
              "      <td>0.995326</td>\n",
              "      <td>0.157700</td>\n",
              "      <td>4</td>\n",
              "    </tr>\n",
              "  </tbody>\n",
              "</table>\n",
              "</div>\n",
              "      <button class=\"colab-df-convert\" onclick=\"convertToInteractive('df-be0afb20-5850-415a-ba93-d081d9f76f27')\"\n",
              "              title=\"Convert this dataframe to an interactive table.\"\n",
              "              style=\"display:none;\">\n",
              "        \n",
              "  <svg xmlns=\"http://www.w3.org/2000/svg\" height=\"24px\"viewBox=\"0 0 24 24\"\n",
              "       width=\"24px\">\n",
              "    <path d=\"M0 0h24v24H0V0z\" fill=\"none\"/>\n",
              "    <path d=\"M18.56 5.44l.94 2.06.94-2.06 2.06-.94-2.06-.94-.94-2.06-.94 2.06-2.06.94zm-11 1L8.5 8.5l.94-2.06 2.06-.94-2.06-.94L8.5 2.5l-.94 2.06-2.06.94zm10 10l.94 2.06.94-2.06 2.06-.94-2.06-.94-.94-2.06-.94 2.06-2.06.94z\"/><path d=\"M17.41 7.96l-1.37-1.37c-.4-.4-.92-.59-1.43-.59-.52 0-1.04.2-1.43.59L10.3 9.45l-7.72 7.72c-.78.78-.78 2.05 0 2.83L4 21.41c.39.39.9.59 1.41.59.51 0 1.02-.2 1.41-.59l7.78-7.78 2.81-2.81c.8-.78.8-2.07 0-2.86zM5.41 20L4 18.59l7.72-7.72 1.47 1.35L5.41 20z\"/>\n",
              "  </svg>\n",
              "      </button>\n",
              "      \n",
              "  <style>\n",
              "    .colab-df-container {\n",
              "      display:flex;\n",
              "      flex-wrap:wrap;\n",
              "      gap: 12px;\n",
              "    }\n",
              "\n",
              "    .colab-df-convert {\n",
              "      background-color: #E8F0FE;\n",
              "      border: none;\n",
              "      border-radius: 50%;\n",
              "      cursor: pointer;\n",
              "      display: none;\n",
              "      fill: #1967D2;\n",
              "      height: 32px;\n",
              "      padding: 0 0 0 0;\n",
              "      width: 32px;\n",
              "    }\n",
              "\n",
              "    .colab-df-convert:hover {\n",
              "      background-color: #E2EBFA;\n",
              "      box-shadow: 0px 1px 2px rgba(60, 64, 67, 0.3), 0px 1px 3px 1px rgba(60, 64, 67, 0.15);\n",
              "      fill: #174EA6;\n",
              "    }\n",
              "\n",
              "    [theme=dark] .colab-df-convert {\n",
              "      background-color: #3B4455;\n",
              "      fill: #D2E3FC;\n",
              "    }\n",
              "\n",
              "    [theme=dark] .colab-df-convert:hover {\n",
              "      background-color: #434B5C;\n",
              "      box-shadow: 0px 1px 3px 1px rgba(0, 0, 0, 0.15);\n",
              "      filter: drop-shadow(0px 1px 2px rgba(0, 0, 0, 0.3));\n",
              "      fill: #FFFFFF;\n",
              "    }\n",
              "  </style>\n",
              "\n",
              "      <script>\n",
              "        const buttonEl =\n",
              "          document.querySelector('#df-be0afb20-5850-415a-ba93-d081d9f76f27 button.colab-df-convert');\n",
              "        buttonEl.style.display =\n",
              "          google.colab.kernel.accessAllowed ? 'block' : 'none';\n",
              "\n",
              "        async function convertToInteractive(key) {\n",
              "          const element = document.querySelector('#df-be0afb20-5850-415a-ba93-d081d9f76f27');\n",
              "          const dataTable =\n",
              "            await google.colab.kernel.invokeFunction('convertToInteractive',\n",
              "                                                     [key], {});\n",
              "          if (!dataTable) return;\n",
              "\n",
              "          const docLinkHtml = 'Like what you see? Visit the ' +\n",
              "            '<a target=\"_blank\" href=https://colab.research.google.com/notebooks/data_table.ipynb>data table notebook</a>'\n",
              "            + ' to learn more about interactive tables.';\n",
              "          element.innerHTML = '';\n",
              "          dataTable['output_type'] = 'display_data';\n",
              "          await google.colab.output.renderOutput(dataTable, element);\n",
              "          const docLink = document.createElement('div');\n",
              "          docLink.innerHTML = docLinkHtml;\n",
              "          element.appendChild(docLink);\n",
              "        }\n",
              "      </script>\n",
              "    </div>\n",
              "  </div>\n",
              "  "
            ]
          },
          "metadata": {},
          "execution_count": 37
        }
      ]
    },
    {
      "cell_type": "code",
      "source": [
        "import os"
      ],
      "metadata": {
        "id": "a_Bjw2ae74I0"
      },
      "execution_count": null,
      "outputs": []
    },
    {
      "cell_type": "code",
      "source": [
        "os.listdir('./dataset')"
      ],
      "metadata": {
        "colab": {
          "base_uri": "https://localhost:8080/"
        },
        "id": "tms5w2ESOjDm",
        "outputId": "dc0bd465-c566-4aac-f752-f85e3e63b22b"
      },
      "execution_count": null,
      "outputs": [
        {
          "output_type": "execute_result",
          "data": {
            "text/plain": [
              "['8C7E7A17.csv',\n",
              " 'F0A475A1.csv',\n",
              " '649508BF.csv',\n",
              " 'D788034C.csv',\n",
              " 'B95FBB89.csv',\n",
              " '88826FAB.csv',\n",
              " '4E34891D.csv',\n",
              " '912BB33B.csv',\n",
              " '1DBEBE62.csv',\n",
              " '9EECBC9A.csv',\n",
              " '570AA81D.csv',\n",
              " 'A77E8CE3.csv',\n",
              " 'F257DB06.csv',\n",
              " '8E640374.csv',\n",
              " 'DB7B0571.csv',\n",
              " '483AA738.csv',\n",
              " 'D30C299A.csv',\n",
              " 'F0A475A1_2.csv',\n",
              " 'A50AF373.csv']"
            ]
          },
          "metadata": {},
          "execution_count": 39
        }
      ]
    },
    {
      "cell_type": "code",
      "source": [
        "os.listdir('/content/gdrive/MyDrive/temp/drive-download-20220407T064609Z-001')"
      ],
      "metadata": {
        "colab": {
          "base_uri": "https://localhost:8080/"
        },
        "id": "8oyRCTYB7tM3",
        "outputId": "367e67ca-e059-4c28-d960-798a966ce1e2"
      },
      "execution_count": null,
      "outputs": [
        {
          "output_type": "execute_result",
          "data": {
            "text/plain": [
              "['20211203.csv', '20211204.csv', '20211205.csv']"
            ]
          },
          "metadata": {},
          "execution_count": 37
        }
      ]
    },
    {
      "cell_type": "code",
      "source": [
        "path = '/content/dataset'\n",
        "train_df['LAT'] = 0\n",
        "train_df['LON'] = 0\n",
        "\n",
        "LAT_dict = {}\n",
        "LON_dict = {}\n",
        "\n",
        "csv_list = []\n",
        "for name in tqdm(sorted(os.listdir('./dataset'))):\n",
        "    csv_df = pd.read_csv(os.path.join(path, name), index_col=0) # 경도, 위도 있는 데이터\n",
        "    id = name[:-4]\n",
        "\n",
        "    LAT = csv_df.groupby(by='DATE')['LAT'].mean()\n",
        "    LAT_dict[id] = LAT\n",
        "\n",
        "    LON = csv_df.groupby(by='DATE')['LON'].mean()\n",
        "    LON_dict[id] = LON\n"
      ],
      "metadata": {
        "colab": {
          "base_uri": "https://localhost:8080/"
        },
        "id": "b6tl0OuBOrI0",
        "outputId": "eba9cfdd-0231-4e13-d4a4-288995f9f916"
      },
      "execution_count": null,
      "outputs": [
        {
          "output_type": "stream",
          "name": "stderr",
          "text": [
            "100%|██████████| 19/19 [00:50<00:00,  2.65s/it]\n"
          ]
        }
      ]
    },
    {
      "cell_type": "code",
      "source": [
        "g_list = {}\n",
        "for id, g in tqdm(train_df.groupby(by='ID')):\n",
        "    for date in list(g.Date):\n",
        "        g.loc[g.Date == date, 'LAT'] = LAT_dict[id][date]\n",
        "        g.loc[g.Date == date, 'LON'] = LON_dict[id][date]\n",
        "    g_list[id] = g"
      ],
      "metadata": {
        "colab": {
          "base_uri": "https://localhost:8080/"
        },
        "outputId": "23e1211e-c151-493e-db2f-62981b8c6f75",
        "id": "-9THLEOtJnrA"
      },
      "execution_count": null,
      "outputs": [
        {
          "output_type": "stream",
          "name": "stderr",
          "text": [
            "100%|██████████| 3/3 [07:11<00:00, 143.92s/it]\n"
          ]
        }
      ]
    },
    {
      "cell_type": "code",
      "source": [
        "name_list = []\n",
        "for name in tqdm(sorted(os.listdir('./dataset'))):\n",
        "    name_list.append(name[:-4])"
      ],
      "metadata": {
        "colab": {
          "base_uri": "https://localhost:8080/"
        },
        "outputId": "6ef2439a-64f3-4182-87f5-ae544cb23298",
        "id": "I6fmelXCJnrB"
      },
      "execution_count": null,
      "outputs": [
        {
          "output_type": "stream",
          "name": "stderr",
          "text": [
            "100%|██████████| 19/19 [00:00<00:00, 25282.92it/s]\n"
          ]
        }
      ]
    },
    {
      "cell_type": "code",
      "source": [
        "!mkdir ./result"
      ],
      "metadata": {
        "id": "L93O2iLEJnrB"
      },
      "execution_count": null,
      "outputs": []
    },
    {
      "cell_type": "code",
      "source": [
        "for name in name_list:\n",
        "    g_list[name].to_csv(f'./result/{name}.csv')"
      ],
      "metadata": {
        "id": "vOGdLGCVJnrB"
      },
      "execution_count": null,
      "outputs": []
    },
    {
      "cell_type": "code",
      "source": [
        "for name in name_list:\n",
        "    g_list[name].to_csv(f'/content/gdrive/MyDrive/temp/별따러가자/{name}.csv')"
      ],
      "metadata": {
        "id": "16t_fxbMKJFC"
      },
      "execution_count": null,
      "outputs": []
    },
    {
      "cell_type": "markdown",
      "source": [
        "# 테스트 데이터 작업"
      ],
      "metadata": {
        "id": "oRkOy1rVHBga"
      }
    },
    {
      "cell_type": "code",
      "source": [
        "column_lists = [\"DATE\",\"ID\",\"ACCEL_X\",\"ACCEL_Y\",\"ACCEL_Z\",\"GYRO_X\",\"GYRO_Y\",\"GYRO_Z\",\"PITCH\",\"ROLL\",\"LAT\",\"LON\",\"VELOCITY\",\"ALT\",\"EVENT0\",\"EVENT1\",\"EVENT2\",\"EVENT3\"]"
      ],
      "metadata": {
        "id": "mNrwPWgP9eRy"
      },
      "execution_count": null,
      "outputs": []
    },
    {
      "cell_type": "code",
      "source": [
        "test_df_list = []"
      ],
      "metadata": {
        "id": "Gu8ZG57xG2-y"
      },
      "execution_count": null,
      "outputs": []
    },
    {
      "cell_type": "code",
      "source": [
        "test_list"
      ],
      "metadata": {
        "colab": {
          "base_uri": "https://localhost:8080/"
        },
        "id": "quFslZJIH9Wv",
        "outputId": "e3f9ebc1-b434-4895-c95e-4bd3d338255f"
      },
      "execution_count": null,
      "outputs": [
        {
          "output_type": "execute_result",
          "data": {
            "text/plain": [
              "['20211203', '20211204', '20211205']"
            ]
          },
          "metadata": {},
          "execution_count": 85
        }
      ]
    },
    {
      "cell_type": "code",
      "source": [
        "for key in test_list:\n",
        "    mydict[key].columns = ['Date','1','2','3','4','5','6','7','8']\n",
        "    mydict[key]['ID'] = key\n",
        "    mydict[key] = mydict[key][['ID','Date','1','2','3','4','5','6','7','8']]\n",
        "    test_df_list.append(mydict[key])"
      ],
      "metadata": {
        "id": "5bnDLRuEHLDy"
      },
      "execution_count": null,
      "outputs": []
    },
    {
      "cell_type": "code",
      "source": [
        "test_df_list[0] # 벡터 데이터"
      ],
      "metadata": {
        "colab": {
          "base_uri": "https://localhost:8080/",
          "height": 423
        },
        "id": "0k3UU5V_IyoJ",
        "outputId": "55cef42b-bfa2-4eeb-cc8f-d1bea05395b0"
      },
      "execution_count": null,
      "outputs": [
        {
          "output_type": "execute_result",
          "data": {
            "text/plain": [
              "             ID                 Date         1         2         3         4  \\\n",
              "0      20211203  2021-12-03 08:56:13  0.173659  0.001658  0.063130  0.654376   \n",
              "1      20211203  2021-12-03 08:56:14  0.198067  0.001685  0.062289  0.646822   \n",
              "2      20211203  2021-12-03 08:56:15  0.195565  0.001756  0.065871  0.651701   \n",
              "3      20211203  2021-12-03 08:56:16  0.228768  0.001877  0.067001  0.648844   \n",
              "4      20211203  2021-12-03 08:56:17  0.193885  0.001713  0.064120  0.649567   \n",
              "...         ...                  ...       ...       ...       ...       ...   \n",
              "33405  20211203  2021-12-03 21:05:45  0.995206  0.929510  0.375044  0.041958   \n",
              "33406  20211203  2021-12-03 21:05:46  0.995206  0.929510  0.375044  0.041958   \n",
              "33407  20211203  2021-12-03 21:05:47  0.995206  0.929510  0.375044  0.041958   \n",
              "33408  20211203  2021-12-03 21:05:48  0.995206  0.929510  0.375044  0.041958   \n",
              "33409  20211203  2021-12-03 21:05:49  0.995206  0.929510  0.375044  0.041958   \n",
              "\n",
              "              5         6         7         8  \n",
              "0      0.907993  0.007730  0.001650  0.990961  \n",
              "1      0.912724  0.007610  0.001622  0.990849  \n",
              "2      0.913653  0.007435  0.001656  0.991099  \n",
              "3      0.921188  0.007074  0.001635  0.991188  \n",
              "4      0.912471  0.007554  0.001643  0.990962  \n",
              "...         ...       ...       ...       ...  \n",
              "33405  0.998276  0.119943  0.046495  0.994125  \n",
              "33406  0.998276  0.119943  0.046495  0.994125  \n",
              "33407  0.998276  0.119943  0.046495  0.994125  \n",
              "33408  0.998276  0.119943  0.046495  0.994125  \n",
              "33409  0.998276  0.119943  0.046495  0.994125  \n",
              "\n",
              "[33410 rows x 10 columns]"
            ],
            "text/html": [
              "\n",
              "  <div id=\"df-c990bf13-3880-4da7-9b12-7904aa55a8fa\">\n",
              "    <div class=\"colab-df-container\">\n",
              "      <div>\n",
              "<style scoped>\n",
              "    .dataframe tbody tr th:only-of-type {\n",
              "        vertical-align: middle;\n",
              "    }\n",
              "\n",
              "    .dataframe tbody tr th {\n",
              "        vertical-align: top;\n",
              "    }\n",
              "\n",
              "    .dataframe thead th {\n",
              "        text-align: right;\n",
              "    }\n",
              "</style>\n",
              "<table border=\"1\" class=\"dataframe\">\n",
              "  <thead>\n",
              "    <tr style=\"text-align: right;\">\n",
              "      <th></th>\n",
              "      <th>ID</th>\n",
              "      <th>Date</th>\n",
              "      <th>1</th>\n",
              "      <th>2</th>\n",
              "      <th>3</th>\n",
              "      <th>4</th>\n",
              "      <th>5</th>\n",
              "      <th>6</th>\n",
              "      <th>7</th>\n",
              "      <th>8</th>\n",
              "    </tr>\n",
              "  </thead>\n",
              "  <tbody>\n",
              "    <tr>\n",
              "      <th>0</th>\n",
              "      <td>20211203</td>\n",
              "      <td>2021-12-03 08:56:13</td>\n",
              "      <td>0.173659</td>\n",
              "      <td>0.001658</td>\n",
              "      <td>0.063130</td>\n",
              "      <td>0.654376</td>\n",
              "      <td>0.907993</td>\n",
              "      <td>0.007730</td>\n",
              "      <td>0.001650</td>\n",
              "      <td>0.990961</td>\n",
              "    </tr>\n",
              "    <tr>\n",
              "      <th>1</th>\n",
              "      <td>20211203</td>\n",
              "      <td>2021-12-03 08:56:14</td>\n",
              "      <td>0.198067</td>\n",
              "      <td>0.001685</td>\n",
              "      <td>0.062289</td>\n",
              "      <td>0.646822</td>\n",
              "      <td>0.912724</td>\n",
              "      <td>0.007610</td>\n",
              "      <td>0.001622</td>\n",
              "      <td>0.990849</td>\n",
              "    </tr>\n",
              "    <tr>\n",
              "      <th>2</th>\n",
              "      <td>20211203</td>\n",
              "      <td>2021-12-03 08:56:15</td>\n",
              "      <td>0.195565</td>\n",
              "      <td>0.001756</td>\n",
              "      <td>0.065871</td>\n",
              "      <td>0.651701</td>\n",
              "      <td>0.913653</td>\n",
              "      <td>0.007435</td>\n",
              "      <td>0.001656</td>\n",
              "      <td>0.991099</td>\n",
              "    </tr>\n",
              "    <tr>\n",
              "      <th>3</th>\n",
              "      <td>20211203</td>\n",
              "      <td>2021-12-03 08:56:16</td>\n",
              "      <td>0.228768</td>\n",
              "      <td>0.001877</td>\n",
              "      <td>0.067001</td>\n",
              "      <td>0.648844</td>\n",
              "      <td>0.921188</td>\n",
              "      <td>0.007074</td>\n",
              "      <td>0.001635</td>\n",
              "      <td>0.991188</td>\n",
              "    </tr>\n",
              "    <tr>\n",
              "      <th>4</th>\n",
              "      <td>20211203</td>\n",
              "      <td>2021-12-03 08:56:17</td>\n",
              "      <td>0.193885</td>\n",
              "      <td>0.001713</td>\n",
              "      <td>0.064120</td>\n",
              "      <td>0.649567</td>\n",
              "      <td>0.912471</td>\n",
              "      <td>0.007554</td>\n",
              "      <td>0.001643</td>\n",
              "      <td>0.990962</td>\n",
              "    </tr>\n",
              "    <tr>\n",
              "      <th>...</th>\n",
              "      <td>...</td>\n",
              "      <td>...</td>\n",
              "      <td>...</td>\n",
              "      <td>...</td>\n",
              "      <td>...</td>\n",
              "      <td>...</td>\n",
              "      <td>...</td>\n",
              "      <td>...</td>\n",
              "      <td>...</td>\n",
              "      <td>...</td>\n",
              "    </tr>\n",
              "    <tr>\n",
              "      <th>33405</th>\n",
              "      <td>20211203</td>\n",
              "      <td>2021-12-03 21:05:45</td>\n",
              "      <td>0.995206</td>\n",
              "      <td>0.929510</td>\n",
              "      <td>0.375044</td>\n",
              "      <td>0.041958</td>\n",
              "      <td>0.998276</td>\n",
              "      <td>0.119943</td>\n",
              "      <td>0.046495</td>\n",
              "      <td>0.994125</td>\n",
              "    </tr>\n",
              "    <tr>\n",
              "      <th>33406</th>\n",
              "      <td>20211203</td>\n",
              "      <td>2021-12-03 21:05:46</td>\n",
              "      <td>0.995206</td>\n",
              "      <td>0.929510</td>\n",
              "      <td>0.375044</td>\n",
              "      <td>0.041958</td>\n",
              "      <td>0.998276</td>\n",
              "      <td>0.119943</td>\n",
              "      <td>0.046495</td>\n",
              "      <td>0.994125</td>\n",
              "    </tr>\n",
              "    <tr>\n",
              "      <th>33407</th>\n",
              "      <td>20211203</td>\n",
              "      <td>2021-12-03 21:05:47</td>\n",
              "      <td>0.995206</td>\n",
              "      <td>0.929510</td>\n",
              "      <td>0.375044</td>\n",
              "      <td>0.041958</td>\n",
              "      <td>0.998276</td>\n",
              "      <td>0.119943</td>\n",
              "      <td>0.046495</td>\n",
              "      <td>0.994125</td>\n",
              "    </tr>\n",
              "    <tr>\n",
              "      <th>33408</th>\n",
              "      <td>20211203</td>\n",
              "      <td>2021-12-03 21:05:48</td>\n",
              "      <td>0.995206</td>\n",
              "      <td>0.929510</td>\n",
              "      <td>0.375044</td>\n",
              "      <td>0.041958</td>\n",
              "      <td>0.998276</td>\n",
              "      <td>0.119943</td>\n",
              "      <td>0.046495</td>\n",
              "      <td>0.994125</td>\n",
              "    </tr>\n",
              "    <tr>\n",
              "      <th>33409</th>\n",
              "      <td>20211203</td>\n",
              "      <td>2021-12-03 21:05:49</td>\n",
              "      <td>0.995206</td>\n",
              "      <td>0.929510</td>\n",
              "      <td>0.375044</td>\n",
              "      <td>0.041958</td>\n",
              "      <td>0.998276</td>\n",
              "      <td>0.119943</td>\n",
              "      <td>0.046495</td>\n",
              "      <td>0.994125</td>\n",
              "    </tr>\n",
              "  </tbody>\n",
              "</table>\n",
              "<p>33410 rows × 10 columns</p>\n",
              "</div>\n",
              "      <button class=\"colab-df-convert\" onclick=\"convertToInteractive('df-c990bf13-3880-4da7-9b12-7904aa55a8fa')\"\n",
              "              title=\"Convert this dataframe to an interactive table.\"\n",
              "              style=\"display:none;\">\n",
              "        \n",
              "  <svg xmlns=\"http://www.w3.org/2000/svg\" height=\"24px\"viewBox=\"0 0 24 24\"\n",
              "       width=\"24px\">\n",
              "    <path d=\"M0 0h24v24H0V0z\" fill=\"none\"/>\n",
              "    <path d=\"M18.56 5.44l.94 2.06.94-2.06 2.06-.94-2.06-.94-.94-2.06-.94 2.06-2.06.94zm-11 1L8.5 8.5l.94-2.06 2.06-.94-2.06-.94L8.5 2.5l-.94 2.06-2.06.94zm10 10l.94 2.06.94-2.06 2.06-.94-2.06-.94-.94-2.06-.94 2.06-2.06.94z\"/><path d=\"M17.41 7.96l-1.37-1.37c-.4-.4-.92-.59-1.43-.59-.52 0-1.04.2-1.43.59L10.3 9.45l-7.72 7.72c-.78.78-.78 2.05 0 2.83L4 21.41c.39.39.9.59 1.41.59.51 0 1.02-.2 1.41-.59l7.78-7.78 2.81-2.81c.8-.78.8-2.07 0-2.86zM5.41 20L4 18.59l7.72-7.72 1.47 1.35L5.41 20z\"/>\n",
              "  </svg>\n",
              "      </button>\n",
              "      \n",
              "  <style>\n",
              "    .colab-df-container {\n",
              "      display:flex;\n",
              "      flex-wrap:wrap;\n",
              "      gap: 12px;\n",
              "    }\n",
              "\n",
              "    .colab-df-convert {\n",
              "      background-color: #E8F0FE;\n",
              "      border: none;\n",
              "      border-radius: 50%;\n",
              "      cursor: pointer;\n",
              "      display: none;\n",
              "      fill: #1967D2;\n",
              "      height: 32px;\n",
              "      padding: 0 0 0 0;\n",
              "      width: 32px;\n",
              "    }\n",
              "\n",
              "    .colab-df-convert:hover {\n",
              "      background-color: #E2EBFA;\n",
              "      box-shadow: 0px 1px 2px rgba(60, 64, 67, 0.3), 0px 1px 3px 1px rgba(60, 64, 67, 0.15);\n",
              "      fill: #174EA6;\n",
              "    }\n",
              "\n",
              "    [theme=dark] .colab-df-convert {\n",
              "      background-color: #3B4455;\n",
              "      fill: #D2E3FC;\n",
              "    }\n",
              "\n",
              "    [theme=dark] .colab-df-convert:hover {\n",
              "      background-color: #434B5C;\n",
              "      box-shadow: 0px 1px 3px 1px rgba(0, 0, 0, 0.15);\n",
              "      filter: drop-shadow(0px 1px 2px rgba(0, 0, 0, 0.3));\n",
              "      fill: #FFFFFF;\n",
              "    }\n",
              "  </style>\n",
              "\n",
              "      <script>\n",
              "        const buttonEl =\n",
              "          document.querySelector('#df-c990bf13-3880-4da7-9b12-7904aa55a8fa button.colab-df-convert');\n",
              "        buttonEl.style.display =\n",
              "          google.colab.kernel.accessAllowed ? 'block' : 'none';\n",
              "\n",
              "        async function convertToInteractive(key) {\n",
              "          const element = document.querySelector('#df-c990bf13-3880-4da7-9b12-7904aa55a8fa');\n",
              "          const dataTable =\n",
              "            await google.colab.kernel.invokeFunction('convertToInteractive',\n",
              "                                                     [key], {});\n",
              "          if (!dataTable) return;\n",
              "\n",
              "          const docLinkHtml = 'Like what you see? Visit the ' +\n",
              "            '<a target=\"_blank\" href=https://colab.research.google.com/notebooks/data_table.ipynb>data table notebook</a>'\n",
              "            + ' to learn more about interactive tables.';\n",
              "          element.innerHTML = '';\n",
              "          dataTable['output_type'] = 'display_data';\n",
              "          await google.colab.output.renderOutput(dataTable, element);\n",
              "          const docLink = document.createElement('div');\n",
              "          docLink.innerHTML = docLinkHtml;\n",
              "          element.appendChild(docLink);\n",
              "        }\n",
              "      </script>\n",
              "    </div>\n",
              "  </div>\n",
              "  "
            ]
          },
          "metadata": {},
          "execution_count": 96
        }
      ]
    },
    {
      "cell_type": "code",
      "source": [
        "test_df = pd.concat(test_df_list, axis=0).reset_index(drop=True)"
      ],
      "metadata": {
        "id": "i8n2Ff9RJI9c"
      },
      "execution_count": null,
      "outputs": []
    },
    {
      "cell_type": "code",
      "source": [
        "test_df"
      ],
      "metadata": {
        "colab": {
          "base_uri": "https://localhost:8080/",
          "height": 423
        },
        "id": "xZMmMwaoJNpM",
        "outputId": "9d711448-464f-4a31-e5d1-2d0c4a50cbd0"
      },
      "execution_count": null,
      "outputs": [
        {
          "output_type": "execute_result",
          "data": {
            "text/plain": [
              "             ID                 Date         1         2         3         4  \\\n",
              "0      20211203  2021-12-03 08:56:13  0.173659  0.001658  0.063130  0.654376   \n",
              "1      20211203  2021-12-03 08:56:14  0.198067  0.001685  0.062289  0.646822   \n",
              "2      20211203  2021-12-03 08:56:15  0.195565  0.001756  0.065871  0.651701   \n",
              "3      20211203  2021-12-03 08:56:16  0.228768  0.001877  0.067001  0.648844   \n",
              "4      20211203  2021-12-03 08:56:17  0.193885  0.001713  0.064120  0.649567   \n",
              "...         ...                  ...       ...       ...       ...       ...   \n",
              "93185  20211205  2021-12-05 19:35:13  0.973141  0.045963  0.008106  0.169919   \n",
              "93186  20211205  2021-12-05 19:35:14  0.973141  0.045963  0.008106  0.169919   \n",
              "93187  20211205  2021-12-05 19:35:15  0.973141  0.045963  0.008106  0.169919   \n",
              "93188  20211205  2021-12-05 19:35:16  0.973141  0.045963  0.008106  0.169919   \n",
              "93189  20211205  2021-12-05 19:35:17  0.973141  0.045963  0.008106  0.169919   \n",
              "\n",
              "              5         6         7         8  \n",
              "0      0.907993  0.007730  0.001650  0.990961  \n",
              "1      0.912724  0.007610  0.001622  0.990849  \n",
              "2      0.913653  0.007435  0.001656  0.991099  \n",
              "3      0.921188  0.007074  0.001635  0.991188  \n",
              "4      0.912471  0.007554  0.001643  0.990962  \n",
              "...         ...       ...       ...       ...  \n",
              "93185  0.996330  0.028713  0.002163  0.978963  \n",
              "93186  0.996330  0.028713  0.002163  0.978963  \n",
              "93187  0.996330  0.028713  0.002163  0.978963  \n",
              "93188  0.996330  0.028713  0.002163  0.978963  \n",
              "93189  0.996330  0.028713  0.002163  0.978963  \n",
              "\n",
              "[93190 rows x 10 columns]"
            ],
            "text/html": [
              "\n",
              "  <div id=\"df-d699f179-5cc6-4459-8aa3-ca03838dc0c0\">\n",
              "    <div class=\"colab-df-container\">\n",
              "      <div>\n",
              "<style scoped>\n",
              "    .dataframe tbody tr th:only-of-type {\n",
              "        vertical-align: middle;\n",
              "    }\n",
              "\n",
              "    .dataframe tbody tr th {\n",
              "        vertical-align: top;\n",
              "    }\n",
              "\n",
              "    .dataframe thead th {\n",
              "        text-align: right;\n",
              "    }\n",
              "</style>\n",
              "<table border=\"1\" class=\"dataframe\">\n",
              "  <thead>\n",
              "    <tr style=\"text-align: right;\">\n",
              "      <th></th>\n",
              "      <th>ID</th>\n",
              "      <th>Date</th>\n",
              "      <th>1</th>\n",
              "      <th>2</th>\n",
              "      <th>3</th>\n",
              "      <th>4</th>\n",
              "      <th>5</th>\n",
              "      <th>6</th>\n",
              "      <th>7</th>\n",
              "      <th>8</th>\n",
              "    </tr>\n",
              "  </thead>\n",
              "  <tbody>\n",
              "    <tr>\n",
              "      <th>0</th>\n",
              "      <td>20211203</td>\n",
              "      <td>2021-12-03 08:56:13</td>\n",
              "      <td>0.173659</td>\n",
              "      <td>0.001658</td>\n",
              "      <td>0.063130</td>\n",
              "      <td>0.654376</td>\n",
              "      <td>0.907993</td>\n",
              "      <td>0.007730</td>\n",
              "      <td>0.001650</td>\n",
              "      <td>0.990961</td>\n",
              "    </tr>\n",
              "    <tr>\n",
              "      <th>1</th>\n",
              "      <td>20211203</td>\n",
              "      <td>2021-12-03 08:56:14</td>\n",
              "      <td>0.198067</td>\n",
              "      <td>0.001685</td>\n",
              "      <td>0.062289</td>\n",
              "      <td>0.646822</td>\n",
              "      <td>0.912724</td>\n",
              "      <td>0.007610</td>\n",
              "      <td>0.001622</td>\n",
              "      <td>0.990849</td>\n",
              "    </tr>\n",
              "    <tr>\n",
              "      <th>2</th>\n",
              "      <td>20211203</td>\n",
              "      <td>2021-12-03 08:56:15</td>\n",
              "      <td>0.195565</td>\n",
              "      <td>0.001756</td>\n",
              "      <td>0.065871</td>\n",
              "      <td>0.651701</td>\n",
              "      <td>0.913653</td>\n",
              "      <td>0.007435</td>\n",
              "      <td>0.001656</td>\n",
              "      <td>0.991099</td>\n",
              "    </tr>\n",
              "    <tr>\n",
              "      <th>3</th>\n",
              "      <td>20211203</td>\n",
              "      <td>2021-12-03 08:56:16</td>\n",
              "      <td>0.228768</td>\n",
              "      <td>0.001877</td>\n",
              "      <td>0.067001</td>\n",
              "      <td>0.648844</td>\n",
              "      <td>0.921188</td>\n",
              "      <td>0.007074</td>\n",
              "      <td>0.001635</td>\n",
              "      <td>0.991188</td>\n",
              "    </tr>\n",
              "    <tr>\n",
              "      <th>4</th>\n",
              "      <td>20211203</td>\n",
              "      <td>2021-12-03 08:56:17</td>\n",
              "      <td>0.193885</td>\n",
              "      <td>0.001713</td>\n",
              "      <td>0.064120</td>\n",
              "      <td>0.649567</td>\n",
              "      <td>0.912471</td>\n",
              "      <td>0.007554</td>\n",
              "      <td>0.001643</td>\n",
              "      <td>0.990962</td>\n",
              "    </tr>\n",
              "    <tr>\n",
              "      <th>...</th>\n",
              "      <td>...</td>\n",
              "      <td>...</td>\n",
              "      <td>...</td>\n",
              "      <td>...</td>\n",
              "      <td>...</td>\n",
              "      <td>...</td>\n",
              "      <td>...</td>\n",
              "      <td>...</td>\n",
              "      <td>...</td>\n",
              "      <td>...</td>\n",
              "    </tr>\n",
              "    <tr>\n",
              "      <th>93185</th>\n",
              "      <td>20211205</td>\n",
              "      <td>2021-12-05 19:35:13</td>\n",
              "      <td>0.973141</td>\n",
              "      <td>0.045963</td>\n",
              "      <td>0.008106</td>\n",
              "      <td>0.169919</td>\n",
              "      <td>0.996330</td>\n",
              "      <td>0.028713</td>\n",
              "      <td>0.002163</td>\n",
              "      <td>0.978963</td>\n",
              "    </tr>\n",
              "    <tr>\n",
              "      <th>93186</th>\n",
              "      <td>20211205</td>\n",
              "      <td>2021-12-05 19:35:14</td>\n",
              "      <td>0.973141</td>\n",
              "      <td>0.045963</td>\n",
              "      <td>0.008106</td>\n",
              "      <td>0.169919</td>\n",
              "      <td>0.996330</td>\n",
              "      <td>0.028713</td>\n",
              "      <td>0.002163</td>\n",
              "      <td>0.978963</td>\n",
              "    </tr>\n",
              "    <tr>\n",
              "      <th>93187</th>\n",
              "      <td>20211205</td>\n",
              "      <td>2021-12-05 19:35:15</td>\n",
              "      <td>0.973141</td>\n",
              "      <td>0.045963</td>\n",
              "      <td>0.008106</td>\n",
              "      <td>0.169919</td>\n",
              "      <td>0.996330</td>\n",
              "      <td>0.028713</td>\n",
              "      <td>0.002163</td>\n",
              "      <td>0.978963</td>\n",
              "    </tr>\n",
              "    <tr>\n",
              "      <th>93188</th>\n",
              "      <td>20211205</td>\n",
              "      <td>2021-12-05 19:35:16</td>\n",
              "      <td>0.973141</td>\n",
              "      <td>0.045963</td>\n",
              "      <td>0.008106</td>\n",
              "      <td>0.169919</td>\n",
              "      <td>0.996330</td>\n",
              "      <td>0.028713</td>\n",
              "      <td>0.002163</td>\n",
              "      <td>0.978963</td>\n",
              "    </tr>\n",
              "    <tr>\n",
              "      <th>93189</th>\n",
              "      <td>20211205</td>\n",
              "      <td>2021-12-05 19:35:17</td>\n",
              "      <td>0.973141</td>\n",
              "      <td>0.045963</td>\n",
              "      <td>0.008106</td>\n",
              "      <td>0.169919</td>\n",
              "      <td>0.996330</td>\n",
              "      <td>0.028713</td>\n",
              "      <td>0.002163</td>\n",
              "      <td>0.978963</td>\n",
              "    </tr>\n",
              "  </tbody>\n",
              "</table>\n",
              "<p>93190 rows × 10 columns</p>\n",
              "</div>\n",
              "      <button class=\"colab-df-convert\" onclick=\"convertToInteractive('df-d699f179-5cc6-4459-8aa3-ca03838dc0c0')\"\n",
              "              title=\"Convert this dataframe to an interactive table.\"\n",
              "              style=\"display:none;\">\n",
              "        \n",
              "  <svg xmlns=\"http://www.w3.org/2000/svg\" height=\"24px\"viewBox=\"0 0 24 24\"\n",
              "       width=\"24px\">\n",
              "    <path d=\"M0 0h24v24H0V0z\" fill=\"none\"/>\n",
              "    <path d=\"M18.56 5.44l.94 2.06.94-2.06 2.06-.94-2.06-.94-.94-2.06-.94 2.06-2.06.94zm-11 1L8.5 8.5l.94-2.06 2.06-.94-2.06-.94L8.5 2.5l-.94 2.06-2.06.94zm10 10l.94 2.06.94-2.06 2.06-.94-2.06-.94-.94-2.06-.94 2.06-2.06.94z\"/><path d=\"M17.41 7.96l-1.37-1.37c-.4-.4-.92-.59-1.43-.59-.52 0-1.04.2-1.43.59L10.3 9.45l-7.72 7.72c-.78.78-.78 2.05 0 2.83L4 21.41c.39.39.9.59 1.41.59.51 0 1.02-.2 1.41-.59l7.78-7.78 2.81-2.81c.8-.78.8-2.07 0-2.86zM5.41 20L4 18.59l7.72-7.72 1.47 1.35L5.41 20z\"/>\n",
              "  </svg>\n",
              "      </button>\n",
              "      \n",
              "  <style>\n",
              "    .colab-df-container {\n",
              "      display:flex;\n",
              "      flex-wrap:wrap;\n",
              "      gap: 12px;\n",
              "    }\n",
              "\n",
              "    .colab-df-convert {\n",
              "      background-color: #E8F0FE;\n",
              "      border: none;\n",
              "      border-radius: 50%;\n",
              "      cursor: pointer;\n",
              "      display: none;\n",
              "      fill: #1967D2;\n",
              "      height: 32px;\n",
              "      padding: 0 0 0 0;\n",
              "      width: 32px;\n",
              "    }\n",
              "\n",
              "    .colab-df-convert:hover {\n",
              "      background-color: #E2EBFA;\n",
              "      box-shadow: 0px 1px 2px rgba(60, 64, 67, 0.3), 0px 1px 3px 1px rgba(60, 64, 67, 0.15);\n",
              "      fill: #174EA6;\n",
              "    }\n",
              "\n",
              "    [theme=dark] .colab-df-convert {\n",
              "      background-color: #3B4455;\n",
              "      fill: #D2E3FC;\n",
              "    }\n",
              "\n",
              "    [theme=dark] .colab-df-convert:hover {\n",
              "      background-color: #434B5C;\n",
              "      box-shadow: 0px 1px 3px 1px rgba(0, 0, 0, 0.15);\n",
              "      filter: drop-shadow(0px 1px 2px rgba(0, 0, 0, 0.3));\n",
              "      fill: #FFFFFF;\n",
              "    }\n",
              "  </style>\n",
              "\n",
              "      <script>\n",
              "        const buttonEl =\n",
              "          document.querySelector('#df-d699f179-5cc6-4459-8aa3-ca03838dc0c0 button.colab-df-convert');\n",
              "        buttonEl.style.display =\n",
              "          google.colab.kernel.accessAllowed ? 'block' : 'none';\n",
              "\n",
              "        async function convertToInteractive(key) {\n",
              "          const element = document.querySelector('#df-d699f179-5cc6-4459-8aa3-ca03838dc0c0');\n",
              "          const dataTable =\n",
              "            await google.colab.kernel.invokeFunction('convertToInteractive',\n",
              "                                                     [key], {});\n",
              "          if (!dataTable) return;\n",
              "\n",
              "          const docLinkHtml = 'Like what you see? Visit the ' +\n",
              "            '<a target=\"_blank\" href=https://colab.research.google.com/notebooks/data_table.ipynb>data table notebook</a>'\n",
              "            + ' to learn more about interactive tables.';\n",
              "          element.innerHTML = '';\n",
              "          dataTable['output_type'] = 'display_data';\n",
              "          await google.colab.output.renderOutput(dataTable, element);\n",
              "          const docLink = document.createElement('div');\n",
              "          docLink.innerHTML = docLinkHtml;\n",
              "          element.appendChild(docLink);\n",
              "        }\n",
              "      </script>\n",
              "    </div>\n",
              "  </div>\n",
              "  "
            ]
          },
          "metadata": {},
          "execution_count": 98
        }
      ]
    },
    {
      "cell_type": "code",
      "source": [
        "df = test_df.iloc[:, 2:]"
      ],
      "metadata": {
        "id": "fnlAHqcxK8sp"
      },
      "execution_count": null,
      "outputs": []
    },
    {
      "cell_type": "code",
      "source": [
        "test_df['class'] = Kmean.predict(df)"
      ],
      "metadata": {
        "id": "Ye3Mo3CuKV3f"
      },
      "execution_count": null,
      "outputs": []
    },
    {
      "cell_type": "code",
      "source": [
        "test_df.head()"
      ],
      "metadata": {
        "colab": {
          "base_uri": "https://localhost:8080/",
          "height": 206
        },
        "id": "ZY28dOtoKcVH",
        "outputId": "a4c92209-9643-4ca6-90b6-6b79d4aa0c4a"
      },
      "execution_count": null,
      "outputs": [
        {
          "output_type": "execute_result",
          "data": {
            "text/plain": [
              "         ID                 Date         1         2         3         4  \\\n",
              "0  20211203  2021-12-03 08:56:13  0.173659  0.001658  0.063130  0.654376   \n",
              "1  20211203  2021-12-03 08:56:14  0.198067  0.001685  0.062289  0.646822   \n",
              "2  20211203  2021-12-03 08:56:15  0.195565  0.001756  0.065871  0.651701   \n",
              "3  20211203  2021-12-03 08:56:16  0.228768  0.001877  0.067001  0.648844   \n",
              "4  20211203  2021-12-03 08:56:17  0.193885  0.001713  0.064120  0.649567   \n",
              "\n",
              "          5         6         7         8  class  \n",
              "0  0.907993  0.007730  0.001650  0.990961      1  \n",
              "1  0.912724  0.007610  0.001622  0.990849      1  \n",
              "2  0.913653  0.007435  0.001656  0.991099      1  \n",
              "3  0.921188  0.007074  0.001635  0.991188      1  \n",
              "4  0.912471  0.007554  0.001643  0.990962      1  "
            ],
            "text/html": [
              "\n",
              "  <div id=\"df-a9319a4e-a249-4b55-89ea-04ffb6b67681\">\n",
              "    <div class=\"colab-df-container\">\n",
              "      <div>\n",
              "<style scoped>\n",
              "    .dataframe tbody tr th:only-of-type {\n",
              "        vertical-align: middle;\n",
              "    }\n",
              "\n",
              "    .dataframe tbody tr th {\n",
              "        vertical-align: top;\n",
              "    }\n",
              "\n",
              "    .dataframe thead th {\n",
              "        text-align: right;\n",
              "    }\n",
              "</style>\n",
              "<table border=\"1\" class=\"dataframe\">\n",
              "  <thead>\n",
              "    <tr style=\"text-align: right;\">\n",
              "      <th></th>\n",
              "      <th>ID</th>\n",
              "      <th>Date</th>\n",
              "      <th>1</th>\n",
              "      <th>2</th>\n",
              "      <th>3</th>\n",
              "      <th>4</th>\n",
              "      <th>5</th>\n",
              "      <th>6</th>\n",
              "      <th>7</th>\n",
              "      <th>8</th>\n",
              "      <th>class</th>\n",
              "    </tr>\n",
              "  </thead>\n",
              "  <tbody>\n",
              "    <tr>\n",
              "      <th>0</th>\n",
              "      <td>20211203</td>\n",
              "      <td>2021-12-03 08:56:13</td>\n",
              "      <td>0.173659</td>\n",
              "      <td>0.001658</td>\n",
              "      <td>0.063130</td>\n",
              "      <td>0.654376</td>\n",
              "      <td>0.907993</td>\n",
              "      <td>0.007730</td>\n",
              "      <td>0.001650</td>\n",
              "      <td>0.990961</td>\n",
              "      <td>1</td>\n",
              "    </tr>\n",
              "    <tr>\n",
              "      <th>1</th>\n",
              "      <td>20211203</td>\n",
              "      <td>2021-12-03 08:56:14</td>\n",
              "      <td>0.198067</td>\n",
              "      <td>0.001685</td>\n",
              "      <td>0.062289</td>\n",
              "      <td>0.646822</td>\n",
              "      <td>0.912724</td>\n",
              "      <td>0.007610</td>\n",
              "      <td>0.001622</td>\n",
              "      <td>0.990849</td>\n",
              "      <td>1</td>\n",
              "    </tr>\n",
              "    <tr>\n",
              "      <th>2</th>\n",
              "      <td>20211203</td>\n",
              "      <td>2021-12-03 08:56:15</td>\n",
              "      <td>0.195565</td>\n",
              "      <td>0.001756</td>\n",
              "      <td>0.065871</td>\n",
              "      <td>0.651701</td>\n",
              "      <td>0.913653</td>\n",
              "      <td>0.007435</td>\n",
              "      <td>0.001656</td>\n",
              "      <td>0.991099</td>\n",
              "      <td>1</td>\n",
              "    </tr>\n",
              "    <tr>\n",
              "      <th>3</th>\n",
              "      <td>20211203</td>\n",
              "      <td>2021-12-03 08:56:16</td>\n",
              "      <td>0.228768</td>\n",
              "      <td>0.001877</td>\n",
              "      <td>0.067001</td>\n",
              "      <td>0.648844</td>\n",
              "      <td>0.921188</td>\n",
              "      <td>0.007074</td>\n",
              "      <td>0.001635</td>\n",
              "      <td>0.991188</td>\n",
              "      <td>1</td>\n",
              "    </tr>\n",
              "    <tr>\n",
              "      <th>4</th>\n",
              "      <td>20211203</td>\n",
              "      <td>2021-12-03 08:56:17</td>\n",
              "      <td>0.193885</td>\n",
              "      <td>0.001713</td>\n",
              "      <td>0.064120</td>\n",
              "      <td>0.649567</td>\n",
              "      <td>0.912471</td>\n",
              "      <td>0.007554</td>\n",
              "      <td>0.001643</td>\n",
              "      <td>0.990962</td>\n",
              "      <td>1</td>\n",
              "    </tr>\n",
              "  </tbody>\n",
              "</table>\n",
              "</div>\n",
              "      <button class=\"colab-df-convert\" onclick=\"convertToInteractive('df-a9319a4e-a249-4b55-89ea-04ffb6b67681')\"\n",
              "              title=\"Convert this dataframe to an interactive table.\"\n",
              "              style=\"display:none;\">\n",
              "        \n",
              "  <svg xmlns=\"http://www.w3.org/2000/svg\" height=\"24px\"viewBox=\"0 0 24 24\"\n",
              "       width=\"24px\">\n",
              "    <path d=\"M0 0h24v24H0V0z\" fill=\"none\"/>\n",
              "    <path d=\"M18.56 5.44l.94 2.06.94-2.06 2.06-.94-2.06-.94-.94-2.06-.94 2.06-2.06.94zm-11 1L8.5 8.5l.94-2.06 2.06-.94-2.06-.94L8.5 2.5l-.94 2.06-2.06.94zm10 10l.94 2.06.94-2.06 2.06-.94-2.06-.94-.94-2.06-.94 2.06-2.06.94z\"/><path d=\"M17.41 7.96l-1.37-1.37c-.4-.4-.92-.59-1.43-.59-.52 0-1.04.2-1.43.59L10.3 9.45l-7.72 7.72c-.78.78-.78 2.05 0 2.83L4 21.41c.39.39.9.59 1.41.59.51 0 1.02-.2 1.41-.59l7.78-7.78 2.81-2.81c.8-.78.8-2.07 0-2.86zM5.41 20L4 18.59l7.72-7.72 1.47 1.35L5.41 20z\"/>\n",
              "  </svg>\n",
              "      </button>\n",
              "      \n",
              "  <style>\n",
              "    .colab-df-container {\n",
              "      display:flex;\n",
              "      flex-wrap:wrap;\n",
              "      gap: 12px;\n",
              "    }\n",
              "\n",
              "    .colab-df-convert {\n",
              "      background-color: #E8F0FE;\n",
              "      border: none;\n",
              "      border-radius: 50%;\n",
              "      cursor: pointer;\n",
              "      display: none;\n",
              "      fill: #1967D2;\n",
              "      height: 32px;\n",
              "      padding: 0 0 0 0;\n",
              "      width: 32px;\n",
              "    }\n",
              "\n",
              "    .colab-df-convert:hover {\n",
              "      background-color: #E2EBFA;\n",
              "      box-shadow: 0px 1px 2px rgba(60, 64, 67, 0.3), 0px 1px 3px 1px rgba(60, 64, 67, 0.15);\n",
              "      fill: #174EA6;\n",
              "    }\n",
              "\n",
              "    [theme=dark] .colab-df-convert {\n",
              "      background-color: #3B4455;\n",
              "      fill: #D2E3FC;\n",
              "    }\n",
              "\n",
              "    [theme=dark] .colab-df-convert:hover {\n",
              "      background-color: #434B5C;\n",
              "      box-shadow: 0px 1px 3px 1px rgba(0, 0, 0, 0.15);\n",
              "      filter: drop-shadow(0px 1px 2px rgba(0, 0, 0, 0.3));\n",
              "      fill: #FFFFFF;\n",
              "    }\n",
              "  </style>\n",
              "\n",
              "      <script>\n",
              "        const buttonEl =\n",
              "          document.querySelector('#df-a9319a4e-a249-4b55-89ea-04ffb6b67681 button.colab-df-convert');\n",
              "        buttonEl.style.display =\n",
              "          google.colab.kernel.accessAllowed ? 'block' : 'none';\n",
              "\n",
              "        async function convertToInteractive(key) {\n",
              "          const element = document.querySelector('#df-a9319a4e-a249-4b55-89ea-04ffb6b67681');\n",
              "          const dataTable =\n",
              "            await google.colab.kernel.invokeFunction('convertToInteractive',\n",
              "                                                     [key], {});\n",
              "          if (!dataTable) return;\n",
              "\n",
              "          const docLinkHtml = 'Like what you see? Visit the ' +\n",
              "            '<a target=\"_blank\" href=https://colab.research.google.com/notebooks/data_table.ipynb>data table notebook</a>'\n",
              "            + ' to learn more about interactive tables.';\n",
              "          element.innerHTML = '';\n",
              "          dataTable['output_type'] = 'display_data';\n",
              "          await google.colab.output.renderOutput(dataTable, element);\n",
              "          const docLink = document.createElement('div');\n",
              "          docLink.innerHTML = docLinkHtml;\n",
              "          element.appendChild(docLink);\n",
              "        }\n",
              "      </script>\n",
              "    </div>\n",
              "  </div>\n",
              "  "
            ]
          },
          "metadata": {},
          "execution_count": 101
        }
      ]
    },
    {
      "cell_type": "code",
      "source": [
        "path = '/content/gdrive/MyDrive/temp/drive-download-20220407T064609Z-001' # 위도, 경도 데이터\n",
        "test_df['LAT'] = 0\n",
        "test_df['LON'] = 0\n",
        "\n",
        "LAT_dict = {}\n",
        "LON_dict = {}\n",
        "\n",
        "csv_list = []\n",
        "for name in tqdm(sorted(os.listdir('/content/gdrive/MyDrive/temp/drive-download-20220407T064609Z-001'))):\n",
        "    csv_df = pd.read_csv(os.path.join(path, name), header = None)\n",
        "    csv_df.columns = column_lists\n",
        "    id = name[:-4]\n",
        "\n",
        "    LAT = csv_df.groupby(by='DATE')['LAT'].mean()\n",
        "    LAT_dict[id] = LAT\n",
        "\n",
        "    LON = csv_df.groupby(by='DATE')['LON'].mean()\n",
        "    LON_dict[id] = LON\n"
      ],
      "metadata": {
        "colab": {
          "base_uri": "https://localhost:8080/"
        },
        "id": "Y4ZcmeBd7xY6",
        "outputId": "d25864e9-19c5-4572-9292-d0b55c7c84ab"
      },
      "execution_count": null,
      "outputs": [
        {
          "output_type": "stream",
          "name": "stderr",
          "text": [
            "100%|██████████| 3/3 [00:15<00:00,  5.10s/it]\n"
          ]
        }
      ]
    },
    {
      "cell_type": "code",
      "source": [
        "g_list = {}\n",
        "for id, g in tqdm(test_df.groupby(by='ID')):\n",
        "    for date in list(g.Date):\n",
        "        g.loc[g.Date == date, 'LAT'] = LAT_dict[id][date]\n",
        "        g.loc[g.Date == date, 'LON'] = LON_dict[id][date]\n",
        "    g_list[id] = g"
      ],
      "metadata": {
        "colab": {
          "base_uri": "https://localhost:8080/"
        },
        "id": "8EenzAhDuqtz",
        "outputId": "2b37c902-cb97-4175-8184-ccb731eb7aaa"
      },
      "execution_count": null,
      "outputs": [
        {
          "output_type": "stream",
          "name": "stderr",
          "text": [
            "100%|██████████| 3/3 [06:55<00:00, 138.35s/it]\n"
          ]
        }
      ]
    },
    {
      "cell_type": "code",
      "source": [
        "name_list = []\n",
        "for name in tqdm(sorted(os.listdir('/content/gdrive/MyDrive/temp/drive-download-20220407T064609Z-001'))):\n",
        "    name_list.append(name[:-4])"
      ],
      "metadata": {
        "colab": {
          "base_uri": "https://localhost:8080/"
        },
        "id": "y7NUIUuP-Fjx",
        "outputId": "ec5b6bde-ae0b-4d75-a9f0-bc3b72c518aa"
      },
      "execution_count": null,
      "outputs": [
        {
          "output_type": "stream",
          "name": "stderr",
          "text": [
            "100%|██████████| 3/3 [00:00<00:00, 30393.51it/s]\n"
          ]
        }
      ]
    },
    {
      "cell_type": "code",
      "source": [
        "!mkdir ./test"
      ],
      "metadata": {
        "id": "qmAEh2Ru9FgS"
      },
      "execution_count": null,
      "outputs": []
    },
    {
      "cell_type": "code",
      "source": [
        "for name in name_list:\n",
        "    g_list[name].to_csv(f'./test/{name}.csv')"
      ],
      "metadata": {
        "id": "CryX2H-mN9ce"
      },
      "execution_count": null,
      "outputs": []
    },
    {
      "cell_type": "code",
      "source": [
        "for name in name_list:\n",
        "    g_list[name].to_csv(f'/content/gdrive/MyDrive/temp/별따러가자/test{name}.csv')"
      ],
      "metadata": {
        "id": "UfaYHWBH1ipn"
      },
      "execution_count": null,
      "outputs": []
    },
    {
      "cell_type": "code",
      "source": [
        "min(g_list['1DBEBE62'].LAT), max(g_list['1DBEBE62'].LAT)"
      ],
      "metadata": {
        "colab": {
          "base_uri": "https://localhost:8080/"
        },
        "id": "j-6bE7qb8hNh",
        "outputId": "7d0cee9c-ebe1-4ba0-97f6-b28a2128b567"
      },
      "execution_count": null,
      "outputs": [
        {
          "output_type": "execute_result",
          "data": {
            "text/plain": [
              "(37.366947, 37.454249520000005)"
            ]
          },
          "metadata": {},
          "execution_count": 118
        }
      ]
    },
    {
      "cell_type": "code",
      "source": [
        "min(g_list['1DBEBE62'].LON), max(g_list['1DBEBE62'].LON)"
      ],
      "metadata": {
        "colab": {
          "base_uri": "https://localhost:8080/"
        },
        "id": "Q8S0U9IXmXwN",
        "outputId": "28745b2e-8ec8-436d-ea3b-3d1953219acd"
      },
      "execution_count": null,
      "outputs": [
        {
          "output_type": "execute_result",
          "data": {
            "text/plain": [
              "(126.627014, 126.676857)"
            ]
          },
          "metadata": {},
          "execution_count": 119
        }
      ]
    },
    {
      "cell_type": "code",
      "source": [
        "!pip install folium"
      ],
      "metadata": {
        "id": "x3s7KIPvmi_h",
        "colab": {
          "base_uri": "https://localhost:8080/"
        },
        "outputId": "d126ce55-5048-4dfa-f76e-36f5b5fe0f4a"
      },
      "execution_count": null,
      "outputs": [
        {
          "output_type": "stream",
          "name": "stdout",
          "text": [
            "Requirement already satisfied: folium in /usr/local/lib/python3.7/dist-packages (0.8.3)\n",
            "Requirement already satisfied: jinja2 in /usr/local/lib/python3.7/dist-packages (from folium) (2.11.3)\n",
            "Requirement already satisfied: numpy in /usr/local/lib/python3.7/dist-packages (from folium) (1.21.6)\n",
            "Requirement already satisfied: requests in /usr/local/lib/python3.7/dist-packages (from folium) (2.23.0)\n",
            "Requirement already satisfied: branca>=0.3.0 in /usr/local/lib/python3.7/dist-packages (from folium) (0.4.2)\n",
            "Requirement already satisfied: six in /usr/local/lib/python3.7/dist-packages (from folium) (1.15.0)\n",
            "Requirement already satisfied: MarkupSafe>=0.23 in /usr/local/lib/python3.7/dist-packages (from jinja2->folium) (2.0.1)\n",
            "Requirement already satisfied: urllib3!=1.25.0,!=1.25.1,<1.26,>=1.21.1 in /usr/local/lib/python3.7/dist-packages (from requests->folium) (1.24.3)\n",
            "Requirement already satisfied: certifi>=2017.4.17 in /usr/local/lib/python3.7/dist-packages (from requests->folium) (2021.10.8)\n",
            "Requirement already satisfied: chardet<4,>=3.0.2 in /usr/local/lib/python3.7/dist-packages (from requests->folium) (3.0.4)\n",
            "Requirement already satisfied: idna<3,>=2.5 in /usr/local/lib/python3.7/dist-packages (from requests->folium) (2.10)\n"
          ]
        }
      ]
    },
    {
      "cell_type": "code",
      "source": [
        "import folium"
      ],
      "metadata": {
        "id": "X5Yh2SyNtIkU"
      },
      "execution_count": null,
      "outputs": []
    },
    {
      "cell_type": "code",
      "source": [
        "max_lat = 37.454249520000005\n",
        "min_lat = 37.366947\n",
        "max_lon = 126.676857\n",
        "min_lon = 126.627014"
      ],
      "metadata": {
        "id": "wnJ6Bw-htNs0"
      },
      "execution_count": null,
      "outputs": []
    },
    {
      "cell_type": "code",
      "source": [
        "center = [(max_lat+min_lat)/2, (max_lon+min_lon)/2]"
      ],
      "metadata": {
        "id": "gOgpH_h7u4xO"
      },
      "execution_count": null,
      "outputs": []
    },
    {
      "cell_type": "code",
      "source": [
        "m = folium.Map(\n",
        "    location = center,\n",
        "    zoom_start=14,\n",
        "    width=1000,\n",
        "    height=1000\n",
        ")"
      ],
      "metadata": {
        "id": "av2PL9JPtiO5"
      },
      "execution_count": null,
      "outputs": []
    },
    {
      "cell_type": "code",
      "source": [
        "m"
      ],
      "metadata": {
        "colab": {
          "base_uri": "https://localhost:8080/",
          "height": 1000
        },
        "id": "oxjCkhiquKQn",
        "outputId": "891b3056-c28b-4033-de4e-025a1e850758"
      },
      "execution_count": null,
      "outputs": [
        {
          "output_type": "execute_result",
          "data": {
            "text/plain": [
              "<folium.folium.Map at 0x7f4478169fd0>"
            ],
            "text/html": [
              "<div style=\"width:100%;\"><div style=\"position:relative;width:100%;height:0;padding-bottom:60%;\"><span style=\"color:#565656\">Make this Notebook Trusted to load map: File -> Trust Notebook</span><iframe src=\"about:blank\" style=\"position:absolute;width:100%;height:100%;left:0;top:0;border:none !important;\" data-html=%3C%21DOCTYPE%20html%3E%0A%3Chead%3E%20%20%20%20%0A%20%20%20%20%3Cmeta%20http-equiv%3D%22content-type%22%20content%3D%22text/html%3B%20charset%3DUTF-8%22%20/%3E%0A%20%20%20%20%3Cscript%3EL_PREFER_CANVAS%3Dfalse%3B%20L_NO_TOUCH%3Dfalse%3B%20L_DISABLE_3D%3Dfalse%3B%3C/script%3E%0A%20%20%20%20%3Cscript%20src%3D%22https%3A//cdn.jsdelivr.net/npm/leaflet%401.4.0/dist/leaflet.js%22%3E%3C/script%3E%0A%20%20%20%20%3Cscript%20src%3D%22https%3A//code.jquery.com/jquery-1.12.4.min.js%22%3E%3C/script%3E%0A%20%20%20%20%3Cscript%20src%3D%22https%3A//maxcdn.bootstrapcdn.com/bootstrap/3.2.0/js/bootstrap.min.js%22%3E%3C/script%3E%0A%20%20%20%20%3Cscript%20src%3D%22https%3A//cdnjs.cloudflare.com/ajax/libs/Leaflet.awesome-markers/2.0.2/leaflet.awesome-markers.js%22%3E%3C/script%3E%0A%20%20%20%20%3Clink%20rel%3D%22stylesheet%22%20href%3D%22https%3A//cdn.jsdelivr.net/npm/leaflet%401.4.0/dist/leaflet.css%22/%3E%0A%20%20%20%20%3Clink%20rel%3D%22stylesheet%22%20href%3D%22https%3A//maxcdn.bootstrapcdn.com/bootstrap/3.2.0/css/bootstrap.min.css%22/%3E%0A%20%20%20%20%3Clink%20rel%3D%22stylesheet%22%20href%3D%22https%3A//maxcdn.bootstrapcdn.com/bootstrap/3.2.0/css/bootstrap-theme.min.css%22/%3E%0A%20%20%20%20%3Clink%20rel%3D%22stylesheet%22%20href%3D%22https%3A//maxcdn.bootstrapcdn.com/font-awesome/4.6.3/css/font-awesome.min.css%22/%3E%0A%20%20%20%20%3Clink%20rel%3D%22stylesheet%22%20href%3D%22https%3A//cdnjs.cloudflare.com/ajax/libs/Leaflet.awesome-markers/2.0.2/leaflet.awesome-markers.css%22/%3E%0A%20%20%20%20%3Clink%20rel%3D%22stylesheet%22%20href%3D%22https%3A//rawcdn.githack.com/python-visualization/folium/master/folium/templates/leaflet.awesome.rotate.css%22/%3E%0A%20%20%20%20%3Cstyle%3Ehtml%2C%20body%20%7Bwidth%3A%20100%25%3Bheight%3A%20100%25%3Bmargin%3A%200%3Bpadding%3A%200%3B%7D%3C/style%3E%0A%20%20%20%20%3Cstyle%3E%23map%20%7Bposition%3Aabsolute%3Btop%3A0%3Bbottom%3A0%3Bright%3A0%3Bleft%3A0%3B%7D%3C/style%3E%0A%20%20%20%20%0A%20%20%20%20%3Cmeta%20name%3D%22viewport%22%20content%3D%22width%3Ddevice-width%2C%0A%20%20%20%20%20%20%20%20initial-scale%3D1.0%2C%20maximum-scale%3D1.0%2C%20user-scalable%3Dno%22%20/%3E%0A%20%20%20%20%3Cstyle%3E%23map_95768a74e1434821adf22ac4a00ee79d%20%7B%0A%20%20%20%20%20%20%20%20position%3A%20relative%3B%0A%20%20%20%20%20%20%20%20width%3A%201000.0px%3B%0A%20%20%20%20%20%20%20%20height%3A%201000.0px%3B%0A%20%20%20%20%20%20%20%20left%3A%200.0%25%3B%0A%20%20%20%20%20%20%20%20top%3A%200.0%25%3B%0A%20%20%20%20%20%20%20%20%7D%0A%20%20%20%20%3C/style%3E%0A%3C/head%3E%0A%3Cbody%3E%20%20%20%20%0A%20%20%20%20%0A%20%20%20%20%3Cdiv%20class%3D%22folium-map%22%20id%3D%22map_95768a74e1434821adf22ac4a00ee79d%22%20%3E%3C/div%3E%0A%3C/body%3E%0A%3Cscript%3E%20%20%20%20%0A%20%20%20%20%0A%20%20%20%20%0A%20%20%20%20%20%20%20%20var%20bounds%20%3D%20null%3B%0A%20%20%20%20%0A%0A%20%20%20%20var%20map_95768a74e1434821adf22ac4a00ee79d%20%3D%20L.map%28%0A%20%20%20%20%20%20%20%20%27map_95768a74e1434821adf22ac4a00ee79d%27%2C%20%7B%0A%20%20%20%20%20%20%20%20center%3A%20%5B37.41059826%2C%20126.65193550000001%5D%2C%0A%20%20%20%20%20%20%20%20zoom%3A%2014%2C%0A%20%20%20%20%20%20%20%20maxBounds%3A%20bounds%2C%0A%20%20%20%20%20%20%20%20layers%3A%20%5B%5D%2C%0A%20%20%20%20%20%20%20%20worldCopyJump%3A%20false%2C%0A%20%20%20%20%20%20%20%20crs%3A%20L.CRS.EPSG3857%2C%0A%20%20%20%20%20%20%20%20zoomControl%3A%20true%2C%0A%20%20%20%20%20%20%20%20%7D%29%3B%0A%0A%0A%20%20%20%20%0A%20%20%20%20var%20tile_layer_6338b6c09dfa4da6a825985d32b3098d%20%3D%20L.tileLayer%28%0A%20%20%20%20%20%20%20%20%27https%3A//%7Bs%7D.tile.openstreetmap.org/%7Bz%7D/%7Bx%7D/%7By%7D.png%27%2C%0A%20%20%20%20%20%20%20%20%7B%0A%20%20%20%20%20%20%20%20%22attribution%22%3A%20null%2C%0A%20%20%20%20%20%20%20%20%22detectRetina%22%3A%20false%2C%0A%20%20%20%20%20%20%20%20%22maxNativeZoom%22%3A%2018%2C%0A%20%20%20%20%20%20%20%20%22maxZoom%22%3A%2018%2C%0A%20%20%20%20%20%20%20%20%22minZoom%22%3A%200%2C%0A%20%20%20%20%20%20%20%20%22noWrap%22%3A%20false%2C%0A%20%20%20%20%20%20%20%20%22opacity%22%3A%201%2C%0A%20%20%20%20%20%20%20%20%22subdomains%22%3A%20%22abc%22%2C%0A%20%20%20%20%20%20%20%20%22tms%22%3A%20false%0A%7D%29.addTo%28map_95768a74e1434821adf22ac4a00ee79d%29%3B%0A%3C/script%3E onload=\"this.contentDocument.open();this.contentDocument.write(    decodeURIComponent(this.getAttribute('data-html')));this.contentDocument.close();\" allowfullscreen webkitallowfullscreen mozallowfullscreen></iframe></div></div>"
            ]
          },
          "metadata": {},
          "execution_count": 125
        }
      ]
    },
    {
      "cell_type": "code",
      "source": [
        "g_list['1DBEBE62']"
      ],
      "metadata": {
        "colab": {
          "base_uri": "https://localhost:8080/",
          "height": 423
        },
        "id": "0OhfxirFxhtz",
        "outputId": "b43de419-f831-45a0-92a0-85770b0a1e59"
      },
      "execution_count": null,
      "outputs": [
        {
          "output_type": "execute_result",
          "data": {
            "text/plain": [
              "             ID                 Date         1         2         3         4  \\\n",
              "14600  1DBEBE62  2021-11-16 18:55:24  0.980274  0.984269  0.977107  0.085418   \n",
              "14601  1DBEBE62  2021-11-16 18:55:25  0.980031  0.984387  0.977056  0.084263   \n",
              "14602  1DBEBE62  2021-11-16 18:55:26  0.979815  0.984735  0.977456  0.086450   \n",
              "14603  1DBEBE62  2021-11-16 18:55:27  0.979687  0.984523  0.978466  0.090411   \n",
              "14604  1DBEBE62  2021-11-16 18:55:28  0.980172  0.984663  0.977005  0.084656   \n",
              "...         ...                  ...       ...       ...       ...       ...   \n",
              "29794  1DBEBE62  2021-11-16 23:59:55  0.017556  0.523628  0.983876  0.975356   \n",
              "29795  1DBEBE62  2021-11-16 23:59:56  0.017548  0.520721  0.983862  0.975326   \n",
              "29796  1DBEBE62  2021-11-16 23:59:57  0.017648  0.519395  0.983812  0.975323   \n",
              "29797  1DBEBE62  2021-11-16 23:59:58  0.017442  0.517266  0.983789  0.975267   \n",
              "29798  1DBEBE62  2021-11-16 23:59:59  0.017876  0.512503  0.983769  0.975289   \n",
              "\n",
              "              5         6         7         8  class        LAT         LON  \n",
              "14600  0.985836  0.124548  0.690170  0.993115      3  37.393314  126.647369  \n",
              "14601  0.985840  0.130803  0.698667  0.992893      3  37.393727  126.647642  \n",
              "14602  0.985734  0.138368  0.724028  0.992443      3  37.393798  126.647682  \n",
              "14603  0.985761  0.120086  0.701929  0.992996      3  37.393806  126.647689  \n",
              "14604  0.985810  0.137189  0.715536  0.992634      3  37.393810  126.647683  \n",
              "...         ...       ...       ...       ...    ...        ...         ...  \n",
              "29794  0.753715  0.023369  0.250209  0.976526      6  37.454247  126.648956  \n",
              "29795  0.755176  0.023408  0.248654  0.976775      6  37.454247  126.648956  \n",
              "29796  0.756596  0.023268  0.247496  0.976986      6  37.454247  126.648956  \n",
              "29797  0.755111  0.023496  0.248032  0.976980      6  37.454247  126.648956  \n",
              "29798  0.762709  0.023155  0.242438  0.977811      6  37.454250  126.648956  \n",
              "\n",
              "[15199 rows x 13 columns]"
            ],
            "text/html": [
              "\n",
              "  <div id=\"df-40deb37d-0b11-43b0-a91d-5811b04ded65\">\n",
              "    <div class=\"colab-df-container\">\n",
              "      <div>\n",
              "<style scoped>\n",
              "    .dataframe tbody tr th:only-of-type {\n",
              "        vertical-align: middle;\n",
              "    }\n",
              "\n",
              "    .dataframe tbody tr th {\n",
              "        vertical-align: top;\n",
              "    }\n",
              "\n",
              "    .dataframe thead th {\n",
              "        text-align: right;\n",
              "    }\n",
              "</style>\n",
              "<table border=\"1\" class=\"dataframe\">\n",
              "  <thead>\n",
              "    <tr style=\"text-align: right;\">\n",
              "      <th></th>\n",
              "      <th>ID</th>\n",
              "      <th>Date</th>\n",
              "      <th>1</th>\n",
              "      <th>2</th>\n",
              "      <th>3</th>\n",
              "      <th>4</th>\n",
              "      <th>5</th>\n",
              "      <th>6</th>\n",
              "      <th>7</th>\n",
              "      <th>8</th>\n",
              "      <th>class</th>\n",
              "      <th>LAT</th>\n",
              "      <th>LON</th>\n",
              "    </tr>\n",
              "  </thead>\n",
              "  <tbody>\n",
              "    <tr>\n",
              "      <th>14600</th>\n",
              "      <td>1DBEBE62</td>\n",
              "      <td>2021-11-16 18:55:24</td>\n",
              "      <td>0.980274</td>\n",
              "      <td>0.984269</td>\n",
              "      <td>0.977107</td>\n",
              "      <td>0.085418</td>\n",
              "      <td>0.985836</td>\n",
              "      <td>0.124548</td>\n",
              "      <td>0.690170</td>\n",
              "      <td>0.993115</td>\n",
              "      <td>3</td>\n",
              "      <td>37.393314</td>\n",
              "      <td>126.647369</td>\n",
              "    </tr>\n",
              "    <tr>\n",
              "      <th>14601</th>\n",
              "      <td>1DBEBE62</td>\n",
              "      <td>2021-11-16 18:55:25</td>\n",
              "      <td>0.980031</td>\n",
              "      <td>0.984387</td>\n",
              "      <td>0.977056</td>\n",
              "      <td>0.084263</td>\n",
              "      <td>0.985840</td>\n",
              "      <td>0.130803</td>\n",
              "      <td>0.698667</td>\n",
              "      <td>0.992893</td>\n",
              "      <td>3</td>\n",
              "      <td>37.393727</td>\n",
              "      <td>126.647642</td>\n",
              "    </tr>\n",
              "    <tr>\n",
              "      <th>14602</th>\n",
              "      <td>1DBEBE62</td>\n",
              "      <td>2021-11-16 18:55:26</td>\n",
              "      <td>0.979815</td>\n",
              "      <td>0.984735</td>\n",
              "      <td>0.977456</td>\n",
              "      <td>0.086450</td>\n",
              "      <td>0.985734</td>\n",
              "      <td>0.138368</td>\n",
              "      <td>0.724028</td>\n",
              "      <td>0.992443</td>\n",
              "      <td>3</td>\n",
              "      <td>37.393798</td>\n",
              "      <td>126.647682</td>\n",
              "    </tr>\n",
              "    <tr>\n",
              "      <th>14603</th>\n",
              "      <td>1DBEBE62</td>\n",
              "      <td>2021-11-16 18:55:27</td>\n",
              "      <td>0.979687</td>\n",
              "      <td>0.984523</td>\n",
              "      <td>0.978466</td>\n",
              "      <td>0.090411</td>\n",
              "      <td>0.985761</td>\n",
              "      <td>0.120086</td>\n",
              "      <td>0.701929</td>\n",
              "      <td>0.992996</td>\n",
              "      <td>3</td>\n",
              "      <td>37.393806</td>\n",
              "      <td>126.647689</td>\n",
              "    </tr>\n",
              "    <tr>\n",
              "      <th>14604</th>\n",
              "      <td>1DBEBE62</td>\n",
              "      <td>2021-11-16 18:55:28</td>\n",
              "      <td>0.980172</td>\n",
              "      <td>0.984663</td>\n",
              "      <td>0.977005</td>\n",
              "      <td>0.084656</td>\n",
              "      <td>0.985810</td>\n",
              "      <td>0.137189</td>\n",
              "      <td>0.715536</td>\n",
              "      <td>0.992634</td>\n",
              "      <td>3</td>\n",
              "      <td>37.393810</td>\n",
              "      <td>126.647683</td>\n",
              "    </tr>\n",
              "    <tr>\n",
              "      <th>...</th>\n",
              "      <td>...</td>\n",
              "      <td>...</td>\n",
              "      <td>...</td>\n",
              "      <td>...</td>\n",
              "      <td>...</td>\n",
              "      <td>...</td>\n",
              "      <td>...</td>\n",
              "      <td>...</td>\n",
              "      <td>...</td>\n",
              "      <td>...</td>\n",
              "      <td>...</td>\n",
              "      <td>...</td>\n",
              "      <td>...</td>\n",
              "    </tr>\n",
              "    <tr>\n",
              "      <th>29794</th>\n",
              "      <td>1DBEBE62</td>\n",
              "      <td>2021-11-16 23:59:55</td>\n",
              "      <td>0.017556</td>\n",
              "      <td>0.523628</td>\n",
              "      <td>0.983876</td>\n",
              "      <td>0.975356</td>\n",
              "      <td>0.753715</td>\n",
              "      <td>0.023369</td>\n",
              "      <td>0.250209</td>\n",
              "      <td>0.976526</td>\n",
              "      <td>6</td>\n",
              "      <td>37.454247</td>\n",
              "      <td>126.648956</td>\n",
              "    </tr>\n",
              "    <tr>\n",
              "      <th>29795</th>\n",
              "      <td>1DBEBE62</td>\n",
              "      <td>2021-11-16 23:59:56</td>\n",
              "      <td>0.017548</td>\n",
              "      <td>0.520721</td>\n",
              "      <td>0.983862</td>\n",
              "      <td>0.975326</td>\n",
              "      <td>0.755176</td>\n",
              "      <td>0.023408</td>\n",
              "      <td>0.248654</td>\n",
              "      <td>0.976775</td>\n",
              "      <td>6</td>\n",
              "      <td>37.454247</td>\n",
              "      <td>126.648956</td>\n",
              "    </tr>\n",
              "    <tr>\n",
              "      <th>29796</th>\n",
              "      <td>1DBEBE62</td>\n",
              "      <td>2021-11-16 23:59:57</td>\n",
              "      <td>0.017648</td>\n",
              "      <td>0.519395</td>\n",
              "      <td>0.983812</td>\n",
              "      <td>0.975323</td>\n",
              "      <td>0.756596</td>\n",
              "      <td>0.023268</td>\n",
              "      <td>0.247496</td>\n",
              "      <td>0.976986</td>\n",
              "      <td>6</td>\n",
              "      <td>37.454247</td>\n",
              "      <td>126.648956</td>\n",
              "    </tr>\n",
              "    <tr>\n",
              "      <th>29797</th>\n",
              "      <td>1DBEBE62</td>\n",
              "      <td>2021-11-16 23:59:58</td>\n",
              "      <td>0.017442</td>\n",
              "      <td>0.517266</td>\n",
              "      <td>0.983789</td>\n",
              "      <td>0.975267</td>\n",
              "      <td>0.755111</td>\n",
              "      <td>0.023496</td>\n",
              "      <td>0.248032</td>\n",
              "      <td>0.976980</td>\n",
              "      <td>6</td>\n",
              "      <td>37.454247</td>\n",
              "      <td>126.648956</td>\n",
              "    </tr>\n",
              "    <tr>\n",
              "      <th>29798</th>\n",
              "      <td>1DBEBE62</td>\n",
              "      <td>2021-11-16 23:59:59</td>\n",
              "      <td>0.017876</td>\n",
              "      <td>0.512503</td>\n",
              "      <td>0.983769</td>\n",
              "      <td>0.975289</td>\n",
              "      <td>0.762709</td>\n",
              "      <td>0.023155</td>\n",
              "      <td>0.242438</td>\n",
              "      <td>0.977811</td>\n",
              "      <td>6</td>\n",
              "      <td>37.454250</td>\n",
              "      <td>126.648956</td>\n",
              "    </tr>\n",
              "  </tbody>\n",
              "</table>\n",
              "<p>15199 rows × 13 columns</p>\n",
              "</div>\n",
              "      <button class=\"colab-df-convert\" onclick=\"convertToInteractive('df-40deb37d-0b11-43b0-a91d-5811b04ded65')\"\n",
              "              title=\"Convert this dataframe to an interactive table.\"\n",
              "              style=\"display:none;\">\n",
              "        \n",
              "  <svg xmlns=\"http://www.w3.org/2000/svg\" height=\"24px\"viewBox=\"0 0 24 24\"\n",
              "       width=\"24px\">\n",
              "    <path d=\"M0 0h24v24H0V0z\" fill=\"none\"/>\n",
              "    <path d=\"M18.56 5.44l.94 2.06.94-2.06 2.06-.94-2.06-.94-.94-2.06-.94 2.06-2.06.94zm-11 1L8.5 8.5l.94-2.06 2.06-.94-2.06-.94L8.5 2.5l-.94 2.06-2.06.94zm10 10l.94 2.06.94-2.06 2.06-.94-2.06-.94-.94-2.06-.94 2.06-2.06.94z\"/><path d=\"M17.41 7.96l-1.37-1.37c-.4-.4-.92-.59-1.43-.59-.52 0-1.04.2-1.43.59L10.3 9.45l-7.72 7.72c-.78.78-.78 2.05 0 2.83L4 21.41c.39.39.9.59 1.41.59.51 0 1.02-.2 1.41-.59l7.78-7.78 2.81-2.81c.8-.78.8-2.07 0-2.86zM5.41 20L4 18.59l7.72-7.72 1.47 1.35L5.41 20z\"/>\n",
              "  </svg>\n",
              "      </button>\n",
              "      \n",
              "  <style>\n",
              "    .colab-df-container {\n",
              "      display:flex;\n",
              "      flex-wrap:wrap;\n",
              "      gap: 12px;\n",
              "    }\n",
              "\n",
              "    .colab-df-convert {\n",
              "      background-color: #E8F0FE;\n",
              "      border: none;\n",
              "      border-radius: 50%;\n",
              "      cursor: pointer;\n",
              "      display: none;\n",
              "      fill: #1967D2;\n",
              "      height: 32px;\n",
              "      padding: 0 0 0 0;\n",
              "      width: 32px;\n",
              "    }\n",
              "\n",
              "    .colab-df-convert:hover {\n",
              "      background-color: #E2EBFA;\n",
              "      box-shadow: 0px 1px 2px rgba(60, 64, 67, 0.3), 0px 1px 3px 1px rgba(60, 64, 67, 0.15);\n",
              "      fill: #174EA6;\n",
              "    }\n",
              "\n",
              "    [theme=dark] .colab-df-convert {\n",
              "      background-color: #3B4455;\n",
              "      fill: #D2E3FC;\n",
              "    }\n",
              "\n",
              "    [theme=dark] .colab-df-convert:hover {\n",
              "      background-color: #434B5C;\n",
              "      box-shadow: 0px 1px 3px 1px rgba(0, 0, 0, 0.15);\n",
              "      filter: drop-shadow(0px 1px 2px rgba(0, 0, 0, 0.3));\n",
              "      fill: #FFFFFF;\n",
              "    }\n",
              "  </style>\n",
              "\n",
              "      <script>\n",
              "        const buttonEl =\n",
              "          document.querySelector('#df-40deb37d-0b11-43b0-a91d-5811b04ded65 button.colab-df-convert');\n",
              "        buttonEl.style.display =\n",
              "          google.colab.kernel.accessAllowed ? 'block' : 'none';\n",
              "\n",
              "        async function convertToInteractive(key) {\n",
              "          const element = document.querySelector('#df-40deb37d-0b11-43b0-a91d-5811b04ded65');\n",
              "          const dataTable =\n",
              "            await google.colab.kernel.invokeFunction('convertToInteractive',\n",
              "                                                     [key], {});\n",
              "          if (!dataTable) return;\n",
              "\n",
              "          const docLinkHtml = 'Like what you see? Visit the ' +\n",
              "            '<a target=\"_blank\" href=https://colab.research.google.com/notebooks/data_table.ipynb>data table notebook</a>'\n",
              "            + ' to learn more about interactive tables.';\n",
              "          element.innerHTML = '';\n",
              "          dataTable['output_type'] = 'display_data';\n",
              "          await google.colab.output.renderOutput(dataTable, element);\n",
              "          const docLink = document.createElement('div');\n",
              "          docLink.innerHTML = docLinkHtml;\n",
              "          element.appendChild(docLink);\n",
              "        }\n",
              "      </script>\n",
              "    </div>\n",
              "  </div>\n",
              "  "
            ]
          },
          "metadata": {},
          "execution_count": 126
        }
      ]
    },
    {
      "cell_type": "code",
      "source": [
        "lines = g_list['1DBEBE62'][['LAT','LON']].values[:].tolist()"
      ],
      "metadata": {
        "id": "FOqfQvVGyh5i"
      },
      "execution_count": null,
      "outputs": []
    },
    {
      "cell_type": "code",
      "source": [
        "list_colors = [\n",
        "    \"#00FF00\",\n",
        "    \"#12FF00\",\n",
        "    \"#24FF00\",\n",
        "    \"#35FF00\",\n",
        "    \"#47FF00\",\n",
        "    \"#58FF00\",\n",
        "    \"#6AFF00\",\n",
        "    \"#7CFF00\",\n",
        "    \"#8DFF00\",\n",
        "    \"#9FFF00\",\n",
        "    \"#B0FF00\",\n",
        "    \"#C2FF00\",\n",
        "    \"#D4FF00\",\n",
        "    \"#E5FF00\",\n",
        "    \"#F7FF00\",\n",
        "    \"#FFF600\",\n",
        "    \"#FFE400\",\n",
        "    \"#FFD300\",\n",
        "    \"#FFC100\",\n",
        "    \"#FFAF00\",\n",
        "    \"#FF9E00\",\n",
        "    \"#FF8C00\",\n",
        "    \"#FF7B00\",\n",
        "    \"#FF6900\",\n",
        "    \"#FF5700\",\n",
        "    \"#FF4600\",\n",
        "    \"#FF3400\",\n",
        "    \"#FF2300\",\n",
        "    \"#FF1100\",\n",
        "    \"#FF0000\",\n",
        "]"
      ],
      "metadata": {
        "id": "1a51i5FQzrGG"
      },
      "execution_count": null,
      "outputs": []
    },
    {
      "cell_type": "code",
      "source": [
        "color_list={0:}"
      ],
      "metadata": {
        "id": "lm9R4kjOzerU",
        "colab": {
          "base_uri": "https://localhost:8080/",
          "height": 137
        },
        "outputId": "bef1e662-5492-4609-c24f-2eb8b3e4b57d"
      },
      "execution_count": null,
      "outputs": [
        {
          "output_type": "error",
          "ename": "SyntaxError",
          "evalue": "ignored",
          "traceback": [
            "\u001b[0;36m  File \u001b[0;32m\"<ipython-input-129-6dbf5bed7d69>\"\u001b[0;36m, line \u001b[0;32m1\u001b[0m\n\u001b[0;31m    color_list={0:}\u001b[0m\n\u001b[0m                  ^\u001b[0m\n\u001b[0;31mSyntaxError\u001b[0m\u001b[0;31m:\u001b[0m invalid syntax\n"
          ]
        }
      ]
    },
    {
      "cell_type": "code",
      "source": [
        "folium.PolyLine(locations = lines, no_clip=True).add_to(m)"
      ],
      "metadata": {
        "id": "j1MUu5NEuK4h"
      },
      "execution_count": null,
      "outputs": []
    },
    {
      "cell_type": "code",
      "source": [
        "m"
      ],
      "metadata": {
        "id": "l3fIHhdAxoZQ"
      },
      "execution_count": null,
      "outputs": []
    },
    {
      "cell_type": "markdown",
      "source": [
        "# 테스트"
      ],
      "metadata": {
        "id": "DyAqlMA7BWGH"
      }
    },
    {
      "cell_type": "code",
      "source": [
        "mydict.keys()"
      ],
      "metadata": {
        "id": "lAhO6llwFtF7"
      },
      "execution_count": null,
      "outputs": []
    },
    {
      "cell_type": "code",
      "source": [
        "!mkdir testset"
      ],
      "metadata": {
        "id": "hYIMnG8tHCaE"
      },
      "execution_count": null,
      "outputs": []
    },
    {
      "cell_type": "code",
      "source": [
        "!cp /content/gdrive/MyDrive/temp/drive-download-20220407T064609Z-001/* -d /content/testset"
      ],
      "metadata": {
        "id": "HiUzyYicQlnB"
      },
      "execution_count": null,
      "outputs": []
    },
    {
      "cell_type": "code",
      "source": [
        "test_keys = ['20211203', '20211204', '20211205']"
      ],
      "metadata": {
        "id": "01eZ1qSkUYT_"
      },
      "execution_count": null,
      "outputs": []
    },
    {
      "cell_type": "code",
      "source": [
        "test_df1 = mydict['20211203']\n",
        "test_df1.columns = ['Date','1','2','3','4','5','6','7','8']\n",
        "test_df1"
      ],
      "metadata": {
        "id": "-N_PJSFaFuVl"
      },
      "execution_count": null,
      "outputs": []
    },
    {
      "cell_type": "code",
      "source": [
        "mydict['D788034C']"
      ],
      "metadata": {
        "id": "X9ROcwoKI8C2"
      },
      "execution_count": null,
      "outputs": []
    },
    {
      "cell_type": "code",
      "source": [
        "test_list = []"
      ],
      "metadata": {
        "id": "5xClmXaXJvN3"
      },
      "execution_count": null,
      "outputs": []
    },
    {
      "cell_type": "code",
      "source": [
        "for name in test_keys:\n",
        "    test_df = mydict[name]\n",
        "    test_df.columns = ['Date','1','2','3','4','5','6','7','8']\n",
        "    test_df['class'] = Kmean.predict(test_df1.iloc[:,1:])\n",
        "    test_list.append(test_df)"
      ],
      "metadata": {
        "id": "gPZrMTP0XhLc"
      },
      "execution_count": null,
      "outputs": []
    },
    {
      "cell_type": "code",
      "source": [
        "test_df1['class'] =  Kmean.predict(test_df1.iloc[:,1:])"
      ],
      "metadata": {
        "id": "MYtk6CsPIJz1"
      },
      "execution_count": null,
      "outputs": []
    },
    {
      "cell_type": "code",
      "source": [
        "column_lists = [\"DATE\",\"ID\",\"ACCEL_X\",\"ACCEL_Y\",\"ACCEL_Z\",\"GYRO_X\",\"GYRO_Y\",\"GYRO_Z\",\"PITCH\",\"ROLL\",\"LAT\",\"LON\",\"VELOCITY\",\"ALT\",\"EVENT0\",\"EVENT1\",\"EVENT2\",\"EVENT3\"]"
      ],
      "metadata": {
        "id": "thregIQMUQuo"
      },
      "execution_count": null,
      "outputs": []
    },
    {
      "cell_type": "code",
      "source": [
        "path = '/content/testset'\n",
        "test_df1['LAT'] = 0\n",
        "test_df1['LON'] = 0\n",
        "\n",
        "LAT_dict = {}\n",
        "LON_dict = {}\n",
        "\n",
        "csv_list = []\n",
        "for name in tqdm(sorted(os.listdir('./testset'))):\n",
        "    csv_df = pd.read_csv(os.path.join(path, name), header = None) # 경도, 위도 있는 데이터\n",
        "    csv_df.columns = column_lists\n",
        "    id = name[:-4]\n",
        "\n",
        "    LAT = csv_df.groupby(by='DATE')['LAT'].mean()\n",
        "    LAT_dict[id] = LAT\n",
        "\n",
        "    LON = csv_df.groupby(by='DATE')['LON'].mean()\n",
        "    LON_dict[id] = LON"
      ],
      "metadata": {
        "id": "gFGiJFAnH6sr"
      },
      "execution_count": null,
      "outputs": []
    },
    {
      "cell_type": "code",
      "source": [
        "path = '/content/dataset'\n",
        "train_df['LAT'] = 0\n",
        "train_df['LON'] = 0\n",
        "\n",
        "LAT_dict = {}\n",
        "LON_dict = {}\n",
        "\n",
        "csv_list = []\n",
        "for name in tqdm(sorted(os.listdir('./dataset'))):\n",
        "    csv_df = pd.read_csv(os.path.join(path, name), index_col=0) # 경도, 위도 있는 데이터\n",
        "    id = name[:-4]\n",
        "\n",
        "    LAT = csv_df.groupby(by='DATE')['LAT'].mean()\n",
        "    LAT_dict[id] = LAT\n",
        "\n",
        "    LON = csv_df.groupby(by='DATE')['LON'].mean()\n",
        "    LON_dict[id] = LON\n"
      ],
      "metadata": {
        "id": "xODWzlhyHfd4"
      },
      "execution_count": null,
      "outputs": []
    },
    {
      "cell_type": "code",
      "source": [
        "g_list = {}\n",
        "for id, g in tqdm(train_df.groupby(by='ID')):\n",
        "    for date in list(g.Date):\n",
        "        g.loc[g.Date == date, 'LAT'] = LAT_dict[id][date]\n",
        "        g.loc[g.Date == date, 'LON'] = LON_dict[id][date]\n",
        "    g_list[id] = g"
      ],
      "metadata": {
        "id": "PJifhyVbHfd5"
      },
      "execution_count": null,
      "outputs": []
    },
    {
      "cell_type": "code",
      "source": [
        "name_list = []\n",
        "for name in tqdm(sorted(os.listdir('./dataset'))):\n",
        "    name_list.append(name[:-4])"
      ],
      "metadata": {
        "id": "ABgtUlt6Hfd5"
      },
      "execution_count": null,
      "outputs": []
    }
  ]
}